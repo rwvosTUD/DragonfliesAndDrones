{
 "cells": [
  {
   "cell_type": "markdown",
   "id": "236037bb-72b3-464a-9df9-eb37a2a2ffdf",
   "metadata": {},
   "source": [
    "# <center>  AE Thesis MSc. C&S - Dragonfly & Control - RWVOS\n",
    "## <center> PEG1 - Ray RLlib - Version 5\n",
    "### Author:  Reinier Vos, 4663160\n",
    "### Date: 26/09/2024\n",
    "\n",
    "This notebook forms the main script to run PEG1 experimental Ray RLlib setup of AE MSc. thesis research. PEG1 is the first in the series of experiments related to simulation of pursuit evasion games focused on during this thesis. Code scripts/notebooks denoted by exmperiment code 'PEG1\\_'. In addition, refer to the latex report on this experiment PEG<'version'>\\_RWVOS4663160_<'date'>.PDF.\n",
    "\n",
    "\n",
    "#### RELATED SCRIPTS:\n",
    "- PEG1_env.py; contains custom environments for experiment (setup) according to Ray RLLib functionality. This script is called as module.\n",
    "- PEG1_models.py; contains custom models for experiment (setup) according to Ray RLLib & Pytorch functionality. This script is called as module.\n",
    "\n",
    "#### RELATIONSHIP TO PREVIOUS VERSIONS:\n",
    "**PEG<'versions'>**:\n",
    "- **PEG1**: the first main version, with no priors. Implementation combined with learning of Ray RLlib.\n",
    "\n",
    "**PEG1_v<'versions'>**:\n",
    "- **Version 1 (& derivatives)**: considers SARL (single pursuer, dummy evader) setting using PPO & custom models. Agents operate in 2d with 1 DOF; only control rotational rate (i.e. 1DOF) based on ideal (deterministic) observation/input set. They operate under constant (relative) velocity and system is numerically integrated. Static environment with fixed relative velocity parameter & random initialization of positions and evader heading. Objective focusses on pursuer with terminal reward for interception and dense rewards related to distance (for details see scripts).\n",
    "- **Version 2 (& derivatives)**: considers MARL (single pursuer & single evader) setting using PPO & custom models. Agents operate in 2d with 1 DOF; only control rotational rate (i.e. 1DOF) based on ideal (deterministic) observation/input set. They operate under constant (relative) velocity and system is numerically integrated. Static environment with fixed relative velocity parameter & random initialization of positions and evader heading. Objective focusses on pursuer and evader with terminal reward for interception/esc and dense rewards related to distance (for details see scripts).\n",
    "- **Version 3 (& derivatives)**: considers MARL (single pursuer & single evader) setting using PPO & custom models. Agents operate in 2d-1/2DOF, 3d-2/3/4DOF; see files for dynamic system definition. Observation delay and non-ideal control (tf & limits) dynamics available. Numerical integration using RK45. Static environment with fixed relative velocity parameter & random initialization of positions and evader heading. Blindsighting dynamics incorporated. Custom models includes benchmarks (PN), dummy models, FNN and RNN system types. Dense reward functions based on distance, gamma and/or time as well as terminal rewards for interception and escaped (also truncation for missed). Curriculum learning, behavioural cloning, auxiliary learning and self-imitation learning available. Main difference with later versions is that inference is done in own code instead of using ray rllib native functions. \n",
    "- **Version 4 (& derivatives)**: considers MARL (single pursuer & single evader) setting using PPO & custom models. Agents operate in 2d-1/2DOF, 3d-2/3/4DOF; see files for dynamic system definition. Observation delay and non-ideal control (tf & limits) dynamics available. Numerical integration using RK45. Static environment with fixed relative velocity parameter & random initialization of positions and evader heading. Blindsighting dynamics incorporated. Custom models includes benchmarks (PN), dummy models, FNN and RNN system types. Dense reward functions based on distance, gamma and/or time as well as terminal rewards for interception and escaped (also truncation for missed). Curriculum learning, behavioural cloning, auxiliary learning and self-imitation learning available. Key point of this version is the hard push to use anything and all ray rllib native (functions/classes) compared to previous versions in order to avoid misunderstandings/improper data conversions between pipeline subsections.\n",
    "- **Version 5 (& derivatives)**: considers MARL (single pursuer & single evader) setting using PPO & custom models. Agents operate in 2d-1/2DOF, 3d-2/3/4DOF; see files for dynamic system definition. Observation delay and non-ideal control (tf & limits) dynamics available. Numerical integration using RK45. Static environment with fixed relative velocity parameter & random initialization of positions and evader heading. Blindsighting dynamics incorporated. Custom models includes benchmarks (PN), dummy models, FNN and RNN system types. Dense reward functions based on distance, gamma and/or time as well as terminal rewards for interception and escaped (also truncation for missed). Curriculum learning, behavioural cloning, auxiliary learning and self-imitation learning available. TODO EXPAND DESCRIPTION f"
   ]
  },
  {
   "cell_type": "raw",
   "id": "fde70389-7768-4d72-ae40-17aa76ee81b9",
   "metadata": {},
   "source": [
    "## RESOLVE RAY RLLIB USER NAMESPACE ERROR\n",
    "pip install \"ray[rllib]\"\n",
    "\t• https://docs.ray.io/en/latest/rllib/index.html\n",
    "\t• FIX space in folder name (user name) isssue; https://discuss.ray.io/t/ray-unable-to-find-worker-py-due-to-spaces-in-filepath-windows/9591/11\n",
    "'Reinier Vos' parser error has to be resolved in \"C:\\Users\\Reinier Vos\\anaconda3\\envs\\pl210cd121\\Lib\\site-packages\\ray\\_private\\runtime_env\\context.py\"; find the replace '\\_' line"
   ]
  },
  {
   "cell_type": "markdown",
   "id": "ccbff237-c175-4d5a-aedf-fc323a827cd7",
   "metadata": {},
   "source": [
    "### P0 - Initialize libraries\n",
    "#### P0.1: Package imports"
   ]
  },
  {
   "cell_type": "code",
   "execution_count": null,
   "id": "47533d34-9a4f-4960-9147-b0d4832392ce",
   "metadata": {},
   "outputs": [],
   "source": [
    "import gymnasium as gym\n",
    "import os\n",
    "import importlib\n",
    "import inspect\n",
    "import warnings\n",
    "##\n",
    "import ray\n",
    "from ray import air, tune\n",
    "from ray.rllib.algorithms.ppo import PPOConfig\n",
    "from ray.tune.registry import register_env\n",
    "\n",
    "##\n",
    "import torch\n",
    "\n",
    "##\n",
    "import glob\n",
    "import matplotlib.pyplot as plt\n",
    "import pandas as pd\n",
    "import numpy as np\n",
    "from tqdm import tqdm\n",
    "from datetime import datetime\n",
    "\n",
    "warnings.filterwarnings(\"ignore\", module=\"scipy.spatial.transform\")"
   ]
  },
  {
   "cell_type": "code",
   "execution_count": null,
   "id": "74719c1c-b1c7-4835-ab84-331b9f404d45",
   "metadata": {},
   "outputs": [],
   "source": [
    "if torch.cuda.is_available():\n",
    "    print(\"Number of GPUs:\", torch.cuda.device_count())\n",
    "    print(\"Current GPU:\", torch.cuda.current_device())\n",
    "    print(\"GPU Name:\", torch.cuda.get_device_name(torch.cuda.current_device()))"
   ]
  },
  {
   "attachments": {
    "bd18d212-1ea5-4c4f-be93-00bb49c88950.png": {
     "image/png": "[encoded data removed]"
    },
    "e3e2cccd-50c5-4c2d-a514-a9c8938fcfde.png": {
     "image/png": "[encoded data removed]"
    },
    "f9937c88-aba2-42fc-96d6-8c51f60fa959.png": {
     "image/png": "[encoded data removed]"
    }
   },
   "cell_type": "markdown",
   "id": "2251dbd0-23e9-4de3-bccf-3aa00f09faf3",
   "metadata": {},
   "source": [
    "#### P0.2: Initialize ray\n",
    "<br>Links:\n",
    "- (RAY documentation)\n",
    "      - [Solve Ray RLlib space dir error](https://discuss.ray.io/t/ray-unable-to-find-worker-py-due-to-spaces-in-filepath-windows/9591/11![image.png](attachment:bd18d212-1ea5-4c4f-be93-00bb49c88950.png)![image.png](attachment:f9937c88-aba2-42fc-96d6-8c51f60fa959.png)![image.png](attachment:e3e2cccd-50c5-4c2d-a514-a9c8938fcfde.png))"
   ]
  },
  {
   "cell_type": "code",
   "execution_count": null,
   "id": "ed81987c-8f38-4625-b15b-e49926614972",
   "metadata": {},
   "outputs": [],
   "source": [
    "ray.shutdown()\n",
    "ray.init(ignore_reinit_error=True, \n",
    "         num_cpus = 5+3, \n",
    "         num_gpus = 1,##\n",
    "         include_dashboard=True) #storage=\"C:///Users/Reinier Vos/Documents/PEG1/runs\")\n",
    "# https://discuss.ray.io/t/can-rllib-use-gpu-accelerator/4281"
   ]
  },
  {
   "cell_type": "code",
   "execution_count": null,
   "id": "519d7b18-6a38-45ce-b2f7-f9afdd8df3ee",
   "metadata": {},
   "outputs": [],
   "source": [
    "ray.available_resources() #ray.cluster_resources()"
   ]
  },
  {
   "cell_type": "markdown",
   "id": "2d86aefc-3e7f-43a0-b88a-22ad91b587eb",
   "metadata": {},
   "source": [
    "### P1: Configure experiment\n",
    "#### P1.1: Configure environment\n",
    "<br>Links:\n",
    "- f\n",
    "- Some examples: [SA-Ruslan](https://ruslanmv.com/blog/How-to-create-a-custom-Reinforcement-Learning-Environment-in-Gym-and-Ray), [MA-learning ray](https://maxpumperla.com/learning_ray/ch_04_rllib/) [TrajectoryTracing](https://github.com/mg64ve/TrajectoryTracking/blob/main/rllib/TrajectoryTracking.ipynb)\n",
    "\n",
    "Environment specifics:\n",
    "- [Partial observability](https://github.com/ray-project/ray/blob/master/rllib/examples/multi_agent_different_spaces_for_agents.py): Seperate observation spaces agents, note the private arguments!\n",
    "- [Indepedent learning agents](https://github.com/ray-project/ray/blob/master/rllib/examples/multi_agent_independent_learning.py): i.e. (multiple SA algos)\n",
    "- Curriculum learning environment example code [LINK](https://maxpumperla.com/learning_ray/ch_04_rllib/)\n",
    "    - see ideas in other section of this notebook!"
   ]
  },
  {
   "cell_type": "code",
   "execution_count": null,
   "id": "64a037f7-6754-4071-bc24-4d43d1ed641d",
   "metadata": {},
   "outputs": [],
   "source": [
    "import PEG1_env as PEGenv\n",
    "importlib.reload(PEGenv)"
   ]
  },
  {
   "attachments": {},
   "cell_type": "markdown",
   "id": "4be44ccb-59f3-4b0a-8868-e5918dc528e5",
   "metadata": {
    "jupyter": {
     "source_hidden": true
    }
   },
   "source": [
    "#### P1.2: Configure Model & Callbacks\n",
    "Notes\n",
    "- Custom model requires *forward* and *value function* implementation: The former function is called in forward pass and computes both *action_logits* and *value*, but shares only action logits (note Ray handles action transforming to required space). The latter function returns the cached value function. \n",
    "- (Ray warning) Custom ModelV2 should accept all custom options as **kwargs, instead of expecting them in config['custom_model_config'] i.e. in a nested dict!\n",
    "- In ray native examples (e.g. [LINK](https://github.com/ray-project/ray/blob/master/rllib/examples/models/rnn_model.py)) you can see that value is only computed through value function to speed up inference after training is over!\n",
    "- I checked if forward_rnn works like expected and yes it seems it caches previous observations up to seq_max_len\n",
    "    - Trajectory APi blogpost [LINK](https://medium.com/distributed-computing-with-ray/attention-nets-and-more-with-rllibs-trajectory-view-api-d326339a6e65)\n",
    "- **NOTE**: for in depth notes on specific models types (e.g. recurrent or simple forward) as well as comments and best practices see documentation at PEG1_models_<'version'>.py\n",
    "\n",
    "Links:\n",
    "- Register models;[LINK](https://github.com/ray-project/ray/blob/master/rllib/examples/multi_agent_cartpole.py)\n",
    "- centralized & decentralized [LINK](https://github.com/ray-project/ray/blob/master/rllib/examples/centralized_critic.py)\n",
    "- sharing [LINK](https://github.com/ray-project/ray/blob/master/rllib/examples/multi_agent_parameter_sharing.py), also see register model link\n",
    "- General best practices, example code for models and/or multiagents & notes on scaling (e.g. at [LINK](https://bair.berkeley.edu/blog/2018/12/12/rllib/))\n",
    "- RNN model example [LINK](https://github.com/ray-project/ray/blob/master/rllib/examples/models/rnn_model.py)\n",
    "- Appending previous actions to input/observation set can be built in without appending to observation space explicitly in env [LINK](https://github.com/ray-project/ray/blob/master/rllib/models/torch/recurrent_net.py)\n",
    "\n",
    "Callbacks related;\n",
    "- Callbacks source code, every type [LINK](https://docs.ray.io/en/latest/_modules/ray/rllib/algorithms/callbacks.html)\n",
    "- github (pole angle) example with multiple definitions [LINK](https://github.com/ray-project/ray/blob/master/rllib/examples/custom_metrics_and_callbacks.py)\n",
    "\n",
    "TODO\n",
    "- potentially ray rllibs rnn_tokenizer for attention might be the key  to ensure consistent T dimension [LINK](- https://github.com/ray-project/ray/blob/master/rllib/examples/custom_recurrent_rnn_tokenizer.)py\n",
    "- is_training boolean for models is spotted for batch normalization [LINK](https://docs.ray.io/en/latest/rllib/rllib-models.html)"
   ]
  },
  {
   "cell_type": "code",
   "execution_count": null,
   "id": "fdac57be-cc4b-4bea-a8f6-ad5d676bf943",
   "metadata": {},
   "outputs": [],
   "source": [
    "import PEG1_models as PEGmodels\n",
    "importlib.reload(PEGmodels)\n",
    "#PEGmodels.CustomTorch_DummyNullModel(None, None, None, None, None)"
   ]
  },
  {
   "cell_type": "markdown",
   "id": "99bb971a-6118-4ecd-9e5b-d478d4dd3e23",
   "metadata": {},
   "source": [
    "#### P1.2.*: Hyperparameters optimization\n",
    "LINKS\n",
    "- Hyperopt tuner config [LINK](https://docs.ray.io/en/latest/tune/getting-started.html#evaluating-your-model-after-tuning) and [LINK](https://docs.ray.io/en/latest/tune/index.html)"
   ]
  },
  {
   "attachments": {
    "cdebd5dc-30cb-4afb-aad5-f8ef07323319.png": {
     "image/png": "[encoded data removed]"
    }
   },
   "cell_type": "markdown",
   "id": "323ba230-0801-4af7-8f43-3cc6a4ac9ed8",
   "metadata": {},
   "source": [
    "#### P1.3: Configure RL algorithm\n",
    "\n",
    "Links:\n",
    "- [RAY documentation for algorithms](https://docs.ray.io/en/latest/rllib/rllib-algorithms.html#shared-critic-methods)\n",
    "- Multiple trainers: [LINK](https://github.com/ray-project/ray/blob/master/rllib/examples/multi_agent_two_trainers.py)\n",
    "- General best practices, example code for models and/or multiagents & notes on scaling (e.g. at [LINK](https://bair.berkeley.edu/blog/2018/12/12/rllib/)\n",
    "- Alternative PPO: distributed PPO (DDPPO) and Asychronous PPO (APPO) [LINK](https://github.com/ray-project/ray/tree/master/rllib/algorithms/ppo)\n",
    "\n",
    "\n",
    "PPO ALGORITHM (Angle only intercept w RL- Gaudet2019):\n",
    "<br><img src=\"attachment:cdebd5dc-30cb-4afb-aad5-f8ef07323319.png\" width=\"800\" height=\"500\">\r\n",
    "\n",
    "TO CONSIDE\n",
    "Value functions;\n",
    "- I do not know if CL with reward at different scales is good for learning the value function, to me it seems as if this would have to constantly adjust its scale while the inherent task (i.e. interception) remains constant. I think that this problem might be emphasized if the critic has no estimate of distanc  to stablize training we might therefore need to give the distance measure to the value function, but not the policy; to make sense of this differenc.\n",
    "     - Generally I do NOT think this would be bad in general (giving critic more info on global state). Otherwise we have to revise the scale.\n",
    "-  Consider value function scale, excitation (i.e. when do I get reward) and reward sparsity. Generally I do not think its too bad if the value functions dynamics change as we improve learning  (with e.g. CL), but it should not become troubling, such that every iteration a different scale and structure for rewards/value estimates has to be learnt!\n",
    "      - So we need to make it gradual, e.g. dense rewards can dissapear between phases; but only in case they do not cause a sudden shock in estimates!\n",
    "\n",
    "PPO and replay buffer, rewards & misc:\n",
    "- PPO is on-policy and do not have replay buffer (these are logically related), therefore between training phases/iterations the enironment can change quite a bit as the data will always be sampled from zero samples in every stage. In addition, curriculum learning with different reward scales should not be a problem. This is because samples from the previous sampling stage (with a different reward scale) will not be mixed with sampling in the current stage and therefore will not be used in the PPO algorithm.\n",
    "- Does PPO clip rewards above a certain scale? No it clips the new policy from deviating too much from the previous one see documenation above, there is no comment on clipping the reward here. in fact the reward is related to the advantage variable which is not clipped at all in the algorithm\n",
    "\n",
    "    \n",
    "Ray Rllib value function traces (Kl, var explained, vf_loss, entropy)\n",
    "- stackoverflow comments [LINK](https://stackoverflow.com/questions/60667933/understanding-tensorboard-plots-for-ppo-in-rllib)\n",
    "- Custom policy losses; [LINK](https://github.com/ray-project/ray/issues/7855) and [LINK](https://github.com/ray-project/ray/issues/8016)\n",
    "- F\n",
    "\n",
    "\n",
    "Custom policies:\n",
    "- Old ray documentation? very complete though [LINK](https://docs.ray.io/en/latest/rllib/rllib-concepts.html)f"
   ]
  },
  {
   "cell_type": "markdown",
   "id": "f44cb50c-c76c-4596-b878-0f4bdfa960ae",
   "metadata": {},
   "source": [
    "#### P1.4: Configure Evaluation functions\n",
    "- incorporate links from code below here"
   ]
  },
  {
   "cell_type": "code",
   "execution_count": null,
   "id": "46ae2c24-4bed-4573-87da-05993cfd0ff3",
   "metadata": {},
   "outputs": [],
   "source": [
    "import PEG1_analysis as PEGanalysis"
   ]
  },
  {
   "cell_type": "raw",
   "id": "8b1e17ec-9726-4238-a050-ef38a74ce40a",
   "metadata": {},
   "source": [
    "from ray.rllib.evaluation.metrics import collect_episodes, summarize_episodes\n",
    "\n",
    "def custom_eval_function(algorithm, eval_workers):\n",
    "    \"\"\"Example of a custom evaluation function.\n",
    "    SOURCE (A); https://github.com/ray-project/ray/blob/master/rllib/examples/custom_eval.py\n",
    "        SOURCE (B); algo.evaluate() https://github.com/ray-project/ray/blob/master/rllib/algorithms/algorithm.py#L908\n",
    "        SOURCE (C); https://github.com/ray-project/ray/blob/master/rllib/evaluation/metrics.py#L107\n",
    "            .collect_episodes() & .summarize_metrics()\n",
    "    Args:\n",
    "        algorithm: Algorithm class to evaluate.\n",
    "        eval_workers: Evaluation WorkerSet.\n",
    "\n",
    "    Returns:\n",
    "        metrics: Evaluation metrics dict.\n",
    "\n",
    "    README: note that a lot of eval config settings are ignored, e.g. \n",
    "    number of episodes eval is governed here by the amount of times\n",
    "    we call .sample() foreach worker. It does not seem to care that\n",
    "    the main config setup defined e.g. eval episodes == 10. \n",
    "\n",
    "    -> COMMENT: this is weird because we dont have access to any configuration\n",
    "        variables related to evaluation (i.e. note no argument passes in here)!\n",
    "        -> unless we make this a class and initialize the function\n",
    "        with some settings\n",
    "    \n",
    "    TODO\n",
    "    - check if explore = False?\n",
    "    \"\"\"\n",
    "    '''\n",
    "    # Set different env settings for each worker. Here we use the worker's\n",
    "    # `worker_index` property.\n",
    "    eval_workers.foreach_worker(\n",
    "        func=lambda w: w.foreach_env(\n",
    "            lambda env: env.set_corridor_length(4 if w.worker_index == 1 else 7)\n",
    "    '''\n",
    "    ## Setting environments\n",
    "    # THE FOLLOWING HAS TO BE DONE APPARENTLY, THERE MUST BE A CALL TO SETUP/RESET THE ENVIRONMENTS\n",
    "    eval_workers.foreach_worker(\n",
    "        func=lambda w: w.foreach_env(\n",
    "            lambda env: env.reset(),\n",
    "        )\n",
    "    )\n",
    "\n",
    "    ## Sampling workers\n",
    "    # it is important you realize that the number of eval episodes/timesteps is defined here,\n",
    "    # it seems that any configuration settings (defined in main setup) are ignored\n",
    "    # see code B for details\n",
    "    '''\n",
    "    # some custom logic on howmany times to run (i.e. range(eval_episodes))\n",
    "    for i in range(5):\n",
    "    print(\"Custom evaluation round\", i)\n",
    "    # Calling .sample() runs exactly one episode per worker due to how the\n",
    "    # eval workers are configured.\n",
    "    eval_workers.foreach_worker(func=lambda w: w.sample(), local_worker=False)\n",
    "    '''\n",
    "    eval_workers.foreach_worker(func=lambda w: w.sample(), \n",
    "                                #local_worker=False, # dont know if this solved the problem? might be buggy in colab if False\n",
    "                               )\n",
    "    \n",
    "    ## Gathering results\n",
    "    # Collect the accumulated episodes on the workers, and then summarize the\n",
    "    # SOURCE CODE (next funcs) see C above.\n",
    "    # episode stats into a metrics dict.\n",
    "    episodes = collect_episodes(workers=eval_workers, timeout_seconds=99999)\n",
    "    # You can compute metrics from the episodes manually, or use the\n",
    "    # convenient `summarize_episodes()` utility:\n",
    "    metrics = summarize_episodes(episodes, \n",
    "                                keep_custom_metrics = False, # whether to aggregate customs as well, not foo afterwards\n",
    "                                )\n",
    "    # note that custom metrics registered are already part of this metrics list!, see code C\n",
    "    \n",
    "    ## custom metrics\n",
    "    # You can also put custom values in the metrics dict.\n",
    "    metrics[\"foo\"] = 1\n",
    "    return metrics\n",
    "\n",
    "'''\n",
    "TOOD\n",
    "- IF ENVIRONMENT HAS MODE_INFERENCE; then try to get the state_space\n",
    "    - store it in a class which returns a number such that you hack it\n",
    "- run only a single environment? maybe dont hardcode this here\n",
    "\n",
    "'''"
   ]
  },
  {
   "cell_type": "raw",
   "id": "2135ff6a-d4b3-4c6f-8a32-49a765bc797e",
   "metadata": {},
   "source": [
    "## add this to PPOConfig()\n",
    ".evaluation(\n",
    "            enable_async_evaluation=args.async_eval,\n",
    "            evaluation_num_workers=2,\n",
    "            # Enable evaluation, once per training iteration.\n",
    "            evaluation_interval=1,\n",
    "            # Run 10 episodes each time evaluation runs (OR \"auto\" if parallel to\n",
    "            # training).\n",
    "            evaluation_duration=\"auto\" if args.evaluation_parallel_to_training else 10,\n",
    "            # Evaluate parallelly to training.\n",
    "            evaluation_parallel_to_training=args.evaluation_parallel_to_training,\n",
    "            evaluation_config=PPOConfig.overrides(\n",
    "                env_config={\n",
    "                    # Evaluate using LONGER corridor than trained on.\n",
    "                    \"corridor_length\": 5,\n",
    "                },\n",
    "            ),\n",
    "            custom_evaluation_function=eval_fn,\n",
    "            custom_async_evaluation_function=async_eval_fn,\n",
    "        )"
   ]
  },
  {
   "attachments": {
    "98ede535-23b2-41d9-b47a-f6364f1ffe3c.png": {
     "image/png": "[encoded data removed]"
    }
   },
   "cell_type": "markdown",
   "id": "6f1f1bd4-96c0-4245-ae19-749be394cc41",
   "metadata": {},
   "source": [
    "#### P1.5: Learning related\n",
    "\n",
    "##### Reward function, task difficulty & curriculum learning and estimation stability\n",
    "CONSIDERATIONS \n",
    "\n",
    "Reward function:\n",
    "- if you only control rotation; then having to adjust your rotation to get into correct position (i.e. turning) might provide a negative reward if reward is only focused on distance\n",
    "- ensure reward is always tied to action, i.e. no reward now for previous actions that brought you in a good position (so 'residualize' reward by previous state)\n",
    "- too much negative reward might not be beneficial\n",
    "    - this might not be completely true as PPO focuses on clipping positive rewards to force a harder push away from bad behaviour\n",
    "- think of the scale of different rewards use i.e. if you want dense reward (during game) rather than sparse (game end) then this reward should not overshadow reward of quick termination; otherwise a strategy might be too almost catch but never terminate game\n",
    "- Think of the reward content and format, can your agent explicitly relate the reward to its action (i.e. can it 'see it')\n",
    "  - **TODO** isnt a cartesian distance reward for a rotational control task then not a weird thing? essentially your not just asking for a strategy, but for it to learn transformation of frames as well? (which might be the harder task...)\n",
    "- in order to make the (number of) rewards timestep invariant it might be interesting to scale the reward by the current timestep (this idea comes from 'game of drones') \n",
    "- Reward idea is related to finite MC and reactionary reward for potential detection\n",
    "![image.png](attachment:98ede535-23b2-41d9-b47a-f6364f1ffe3c.png)\n",
    "\n",
    "Reward function - Game theory specific notes\n",
    "- **Theory**: If you want zero sum then total reward of the game at any time == 0, this can easily be checked in tensorboard.\n",
    "    - Practical: this implies that agents have mirrored rewards i.e. reward & -reward\n",
    "    - **General consideration**: this makes dense rewards pretty hard! if you only keep terminal rewards then mirrored ones are fine and complex behaviour can emerge, yet if you use continuous dense rewards this implies youre essentially learning to controllers to do the exact opposite\n",
    "          - **IDEA** maybe discrete rewards can be dense yet not too continuous! e.g. (1) related to detection (2) update based on distance\n",
    "          - f\n",
    "\n",
    "task difficulty:\n",
    "- provide enough time for interception but also not too much time\n",
    "- interception should be too easy (wrt to intereception/initial distance & and evader heading)\n",
    "- interception should not be too hard e.g. too far away and evader moving completely away from pursuer from the start\n",
    "\n",
    "curriculum learning (see link at env section for custom curriculum learning)\n",
    "- gradually increase e_v_rel (velocity parameter); i.e. start with stationary and gradually move quicker\n",
    "- gradually change the potential initial heading angles of pursuer and/or evader; i.e. evader might have unlimited heading range (currently not the case ><) and pursuer might not be alligned with initial evader position?\n",
    "- Gradually decrease capture radius \n",
    "- Gradually increase time-delay? or gain settings of the dynamic system i.e. first ideal then nonideal\n",
    "- **self-play** is the ultimate form of curriculum learning, maybe we can do this for the pursuer and evader seperately first i.e. they train against themselves first;\n",
    "maybe having a mirrored controller i.e. f() = act & = -act is enough to have 'evasion' version of the pursuer's model?\n",
    "- **imitation learning (combo)**: \"a UAV PEG based on DDPG and imitation learning - fu2022\" shows DDPG with initial replay buffer stacked by PN law which improves training speed (especially in initial stage). Would be interesting to use it as well, yet PPO does not use replay buffer; you can do one of 2 things:\n",
    "     - (A) skip environment sampling for first iter and initialize the memory with an expert strategy, then let PPO work like normal in subsequent iterations \n",
    "     - (B) initialize some kind of path through your NN network (maybe via residual connection OR additional term  on output) which implies PN (through direct connection between LoS rate and action). Potentially you could cutoff this connection at latter stage by manually setting coef == 0.\n",
    "- Ray RLLIB curriculum learning [LINK](https://docs.ray.io/en/latest/rllib/rllib-advanced-api.html#curriculum-learning), also [LINK](https://github.com/ray-project/ray/blob/master/rllib/examples/curriculum_learning.py)\n",
    "- For on-polic aglorithms such as PPO, curriculum learning with different reward scales should not be a problem. This is because samples from the previous sampling stage (with a different reward scale) will not be mixed with sampling in the current stage and therefore will not be used in the PPO algorithm.\n",
    "\n",
    "Co-evolution: setup, stability, and other considerations\n",
    "- red queen might require history of strategies\n",
    "- checking what strategy is performed might be able to be tracked by designing metrics related to\n",
    "    - objectives gamma (CATD) and Lambda (PP/DP)\n",
    "    - distances\n",
    "    - time to intercept\n",
    "    - arc curvature?\n",
    "- f\n",
    "\n",
    "Auxilary tasks\n",
    "- additional custom supervised loss function [LINK](https://docs.ray.io/en/latest/rllib/rllib-offline.html), see 'Supervised Losses' and 'Input API'\n",
    "    - also see [LINK]()\n",
    "- complete example for custom loss and metrics [LINK](https://github.com/ray-project/ray/blob/master/rllib/examples/custom_model_loss_and_metrics.py)\n",
    "    - you need to add a custom_loss function to the model, see [LINK](https://github.com/ray-project/ray/blob/master/rllib/examples/models/custom_loss_model.py) TODO; determine what is contained in the loss_inputs argument of this function (we need obs and model outputs) REVISION; I dont think this is needed if we cache the correct inputs during original forward pass (see models for example)\n",
    " - Tutorial and literature sources on auxilarly task in RL in general, borealis AI [LINK](https://www.borealisai.com/research-blogs/tutorial-4-auxiliary-tasks-deep-reinforcement-learning/)\n",
    "\n",
    "TODO\n",
    "- F"
   ]
  },
  {
   "cell_type": "markdown",
   "id": "79b4efe5-c838-45e5-a81a-73631e355109",
   "metadata": {},
   "source": [
    "#### P1.6: Imitation learning & pretrained model initialization/restoration\n",
    "NOTES\n",
    "- f\n",
    "\n",
    "LINKS;\n",
    "- Restoring pretrained model from checkpoint [LINK](https://discuss.ray.io/t/how-to-use-my-pretrained-model-as-policy-and-value-netwok/11040/5)\n",
    "- pretraining from offline data with behaviour cloning [LINK](https://discuss.ray.io/t/how-to-use-my-pretrained-model-as-policy-and-value-netwok/11040/2) -> redirects to MAIN github example [LINK](https://github.com/ray-project/ray/blob/master/rllib/examples/learner/train_w_bc_finetune_w_ppo.py)\n",
    "- Restoring specific agents example [LINK](https://github.com/ray-project/ray/blob/master/rllib/examples/restore_1_of_n_agents_from_checkpoint.py)\n",
    "- Behaviour cloning superclass [LINK](https://github.com/ray-project/ray/blob/master/rllib/algorithms/bc/bc.py)\n",
    "    - pretraining with BC, old forum post [LINK](https://discuss.ray.io/t/how-to-pretrain-a-model-with-behavior-cloning/278)\n",
    "- Offline data training [LINK](https://docs.ray.io/en/latest/rllib/rllib-offline.html)\n",
    "- f\n",
    "\n",
    "TODO\n",
    "- f"
   ]
  },
  {
   "cell_type": "raw",
   "id": "06191fb4-1347-4f0c-97c9-1f429d8d8cf4",
   "metadata": {},
   "source": [
    "## RESTORING AGENT SPECIFIC POLICIES\n",
    "# get policy\n",
    "restored_policy_0 = Policy.from_checkpoint(policy_0_checkpoint)\n",
    "restored_policy_0_weights = restored_policy_0.get_weights()\n",
    "\n",
    "# define callback\n",
    "class RestoreWeightsCallback(DefaultCallbacks):\n",
    "    '''\n",
    "    \n",
    "    SOURCE: https://github.com/ray-project/ray/blob/master/rllib/examples/restore_1_of_n_agents_from_checkpoint.py\n",
    "    '''\n",
    "    BC_AIDS = \n",
    "    CHECKPOINT_DIR = \n",
    "\n",
    "    def on_algorithm_init(self, *, algorithm: \"Algorithm\", **kwargs) -> None:\n",
    "\n",
    "        policy = Policy.from_checkpoint(CHECKPOINT_DIR) # restoring policy is quickest, does not have to initiate entire algorithm ecosystem\n",
    "        #policy['p0'].get_weights() # dict with keys and values from model.named_parameters(), note that matrices are in numpy float32\n",
    "        for aid in BC_aids:\n",
    "            algorithm.set_weights({aid: policy[aid].get_weights()})\n",
    "        return\n",
    "\n",
    "# add callback to ppoconfig\n",
    "config.callbacks(RestoreWeightsCallback) # add this to ppoconfig.func list of calls"
   ]
  },
  {
   "cell_type": "markdown",
   "id": "d185fdc8-83e2-45d7-9f1a-c04f926d8678",
   "metadata": {},
   "source": [
    "### P2: Experiment implementation\n",
    "LINKS\n",
    "- Multiple trainers: [LINK](https://github.com/ray-project/ray/blob/master/rllib/examples/multi_agent_two_trainers.py)\n",
    "- General best practices, example code for models and/or multiagents & notes on scaling (e.g. at [LINK](https://bair.berkeley.edu/blog/2018/12/12/rllib/)) \n",
    "\n",
    "TODO\n",
    "- F \n",
    "\n",
    "ALTERNAITVE OPTIONS;\n",
    "- rollouts(num_envs_per_worker=2, num_rollout_workers=1)\n",
    "- (below policy mapping fn) to only train: policies_to_train=[\"main0\"],\n",
    "- agent specific exploration behaviour [LINK](https://docs.ray.io/en/latest/rllib/rllib-training.html#specifying-multi-agent-options), see code snippet below\n",
    "  - currently defined in policy spec exploration category see [LINK](https://docs.ray.io/en/latest/rllib/package_ref/doc/ray.rllib.algorithms.algorithm_config.AlgorithmConfig.exploration.html#ray-rllib-algorithms-algorithm-config-algorithmconfig-exploration)"
   ]
  },
  {
   "cell_type": "code",
   "execution_count": null,
   "id": "750ecbf0-dd42-4424-911b-8b4d532a28f7",
   "metadata": {},
   "outputs": [],
   "source": [
    "import PEG1_models as PEGmodels\n",
    "importlib.reload(PEGmodels)"
   ]
  },
  {
   "cell_type": "code",
   "execution_count": null,
   "id": "f7c84200-ea1b-4051-925e-a19bdace23d6",
   "metadata": {},
   "outputs": [],
   "source": [
    "import PEG1_utils as PEGutils\n",
    "importlib.reload(PEGutils)"
   ]
  },
  {
   "cell_type": "raw",
   "id": "438d89bb-9dba-42fc-8148-cad18674a1e0",
   "metadata": {},
   "source": [
    "PEGutils.PolicyUtils.register_models_from_PolicySpecs(PEGmodelsModule, AlgoConfig)\n",
    "PEGutils.PolicyUtils.set_PolicySpecs(PolicySpecs: dict, AlgoConfig = None, extra_label = '')"
   ]
  },
  {
   "cell_type": "code",
   "execution_count": null,
   "id": "47c65732-00ca-4b32-86da-a8f8c48481d1",
   "metadata": {},
   "outputs": [],
   "source": [
    "select_env = \"PEG1_env\"\n",
    "\n",
    "RNN_TIMESTEPS = 1#5\n",
    "SELFSPIEL =  False #['p0',0.8] #'p0' # also focused on p0 policy!\n",
    "HoF, HoF_TRAIN = True, False # HoF and HoF in training\n",
    "USE_CRITIC = True\n",
    "\n",
    "EVAL_EPISODES = 50\n",
    "GAMMAS = {'p0':1., \n",
    "          'e0':0.99, #1.\n",
    "         }\n",
    "ENTROPY = {'p0':0.001, \n",
    "          'e0':0.001,\n",
    "          }\n",
    "\n",
    "CL_dict = {\n",
    "    #'intercept_distance_cl':True, \n",
    "    #'CL_start_dis_reward':True,\n",
    "    #'trunc_early':True,# only works if CL_start_dis_reward is on\n",
    "    #'a_control_cl':True,\n",
    "} \n",
    "BS_dict = {\n",
    "    'do_bs':True, # KEEP ON!\n",
    "    'bs_cl_active':4,#3,\n",
    "    'bs_gamma_thres':0.9,\n",
    "}\n",
    "NOISE_dict = {'do_noise':True,\n",
    "}\n",
    "extra_dict = {'USE_CRITIC':USE_CRITIC,'HoF':[HoF,HoF_TRAIN],'SELFSPIEL':SELFSPIEL,\n",
    "              'EVAL_EPISODES':EVAL_EPISODES, 'GAMMAS': GAMMAS,'ENTROPY':ENTROPY,\n",
    "    } # note that none of these are used in env\n",
    "\n",
    "ENV_CONFIG = {\n",
    "              'p_T':RNN_TIMESTEPS,\n",
    "              'e_T':1,\n",
    "              #'e_n': 1, # >= 1! always, even if dummy\n",
    "               'SA':{'Dimension':3, # 2d or 3d of state space\n",
    "                      'DOF':4, # [1,2,4] degrees of freedom of action space\n",
    "                      ## additional\n",
    "                      #'A_gain':{ # if empty dict, A_gain will not be active\n",
    "                      #          #'p0':[0.]*2, \n",
    "                      #          #'e0':[0.]*2,\n",
    "                      #         },\n",
    "                     ##\n",
    "                     #'a_control_3D3DOF':True,\n",
    "                     ##\n",
    "                     #'dummy_evader_3D4DOF': True, # for pretraining set to false\n",
    "                     #'dummy_point_3D4DOF':True,  # switches on dummy_evader_3D4DOF functionality\n",
    "                      #'v_rel_control':False,\n",
    "                      #'a_control_noG':True, \n",
    "                     \n",
    "                      'SELFSPIEL':SELFSPIEL,\n",
    "                      #'rate_limit': 8.5*np.pi,# 8.5*np.pi,  # 0.85\n",
    "                      #'rate_limit': 3.,  # 0.85\n",
    "                      },\n",
    "              'CL':CL_dict, 'BS':BS_dict,'NOISE':NOISE_dict,'extra':extra_dict,\n",
    "              #'specs':{'p0':{'Tdelay':10},'e0':{}}, # agent specifications\n",
    "              'specs':{'p0':{'Tdelay':3, 'tau':0.03,'rate_limit':10.*np.pi, #8.5*np.pi,\n",
    "                            },\n",
    "                       'e0':{'Tdelay':0, 'tau':0.01, 'a_pos':False, 'rate_limit': 20.*np.pi,\n",
    "                            }, # INSECT MODEL \n",
    "                       #'e0':{'Tdelay':0, 'tau':0.01, 'a_pos':True, 'rate_limit': 10.*np.pi,\n",
    "                       #      'drag_C':[0.5]*3 + [0]*6, 'a_T_range':[0.5*9.81]*2,\n",
    "                       #     }, # DRONE MODEL\n",
    "                      },\n",
    "              #'specs':{'p0':{},'e0':{'a_pos':False}},\n",
    "              ##\n",
    "              'CL_level':3, # 0 \n",
    "              't_delta':0.01,##0.025,\n",
    "              't_limit': 1.25, #1.1,#3.1, #0.6, # 7.5, def\n",
    "              #'t_limit': 0.51,\n",
    "              #'t_limit': 1.01,\n",
    "\n",
    "              # TO RESEMBLE CL =2 with intercept_CL but at CL = 3 wrt to range & int_dis\n",
    "              'intercept_distance':0.05, \n",
    "              'r0_e_range': [0.25,0.251],\n",
    "    \n",
    "              #'intercept_distance':0.15, \n",
    "              #'r0_e_range': [1.00,1.01],\n",
    "    \n",
    "              #'r0_e_range': [0.25,0.5], # [0.5,1.0] def\n",
    "              #'r0_e_range': [1., 1.5], # [0.5,1.0] def\n",
    "              #'r0_e_range': [3,5], # [0.5,1.0] def\n",
    "              #'r0_e_range': [1.5, 2.5], # [0.5,1.0] def\n",
    "              }\n",
    "register_env(select_env, lambda config: PEGenv.PursuitEvasionEnv(config))\n",
    "setup_env = PEGenv.PursuitEvasionEnv(ENV_CONFIG)  # env meant for setup, to infer settings from\n",
    "setup_obs, setup_info = setup_env.reset()\n",
    "\n",
    "##\n",
    "from ray.rllib.models import ModelCatalog\n",
    "#ModelCatalog.register_custom_action_dist(\"customActionDist_P\", PEGmodels.TorchDiagGaussian_gain)\n",
    "#ModelCatalog.register_custom_action_dist(\"customActionDist_E\", PEGmodels.TorchDiagGaussian_gain)\n",
    "\n",
    "##\n",
    "if USE_CRITIC:\n",
    "    critic_dict = dict.fromkeys(['use_critic','use_gae'], True)\n",
    "else:\n",
    "    critic_dict = {} #dict.fromkeys(['use_critic','use_gae'], False)\n",
    "    \n",
    "print(f'Critic dict:\\n{critic_dict}')\n",
    "##\n",
    "ppo_policySpecs = {'p0':{'model':PEGmodels.CustomTorchRNNTuneModel,  #CustomTorchLTCModel, CustomTorchLSTMModel CustomTorchFNNTuneModel CustomTorchRNNTuneModel\n",
    "                         'model_config':{}, # 'identifier' key to force model registration\n",
    "                         #'model_action_dist':'customActionDist_P', \n",
    "                         'explore':True, # note that eval has forced exploitation (= no explore)\n",
    "                         'extra':{\n",
    "                             #'use_critic': False,'use_gae':False, # keep both same!\n",
    "                             **critic_dict.copy(),\n",
    "                             'gamma':GAMMAS['p0'], #0.99,\n",
    "                             'entropy_coeff':ENTROPY['p0'],\n",
    "                         }, # extra settings e.g. gamma\n",
    "                         ## spaces definition: for initial setup we require spaces\n",
    "                         'observation_space': setup_env.observation_space['p0'],\n",
    "                         'action_space': setup_env.action_space['p0'],\n",
    "                        },\n",
    "                 'e0':{'model':PEGmodels.CustomTorchRNNTuneModel_EVADER,  #CustomTorchLTCModel, CustomTorchLSTMModel  CustomTorchRNNTuneModel CustomTorch_DummyNullModel\n",
    "                       # CustomTorchRNNTuneModel_EVADER\n",
    "                         'model_config':{}, # 'identifier' key to force model registration\n",
    "                         #'model_action_dist':'customActionDist_E', \n",
    "                         'explore':True, # note that eval has forced exploitation (= no explore)\n",
    "                         'extra':{\n",
    "                             #'use_critic': False,'use_gae':False, # keep both same!\n",
    "                             **critic_dict.copy(),\n",
    "                             'gamma':GAMMAS['e0'],\n",
    "                             'entropy_coeff':ENTROPY['e0'],\n",
    "                         }, # extra settings e.g. gamma\n",
    "                         ## spaces definition: for initial setup we require spaces\n",
    "                         'observation_space': setup_env.observation_space['e0'],\n",
    "                         'action_space': setup_env.action_space['e0'],\n",
    "                        },\n",
    "                     }\n",
    "\n",
    "##\n",
    "policies_to_train = ['p0',\n",
    "                     'e0',\n",
    "                    ]\n",
    "\n",
    "PEGutils.PolicyMapper.setup_functionality(selfspiel = SELFSPIEL, HoF = HoF, HoF_TRAIN = HoF_TRAIN)\n",
    "HoF_prob = 1.\n",
    "if SELFSPIEL:\n",
    "    if isinstance(SELFSPIEL, list):\n",
    "        policies_to_train = [x for x in policies_to_train if x == SELFSPIEL[0]]\n",
    "    else:\n",
    "        policies_to_train.remove('e0')\n",
    "\n",
    "for pol_id in policies_to_train:\n",
    "    if ppo_policySpecs[pol_id]['model'] == PEGmodels.CustomTorch_DummyNullModel:\n",
    "        policies_to_train.remove(pol_id)\n",
    "\n",
    "if PEGutils.PolicyMapper.functionality['HoF']:\n",
    "    HoF_prob = PEGutils.PolicyMapper.HoF_STATS[1]\n",
    "    ppo_policySpecs = PEGutils.PolicyMapper.prepare_HoF(ppo_policySpecs, \n",
    "                                                        override_dict = {'explore':True, # True False\n",
    "                                                                        },\n",
    "                                                       )\n",
    "    # notice that policies to train is never appended with HoF versions\n",
    "\n",
    "##\n",
    "config_resourses_rollout = {\n",
    "                    ## resources\n",
    "                    'num_gpus':1,\n",
    "                    #'num_cpus_per_worker':1,\n",
    "                    #'num_gpus_per_worker':0,\n",
    "                    #\n",
    "                    #'num_learner_workers':1,\n",
    "                    #'num_cpus_per_learner_worker':0,\n",
    "                    #'num_gpus_per_learner_worker':1, # fractional allowed?\n",
    "\n",
    "                    #'placement_strategy':'PACK',\n",
    "                    ## rollout\n",
    "                    'num_rollout_workers':int(4+3*0), # num cpus, be aware that one gpu also requires one (so +1) cpu?\n",
    "                    'num_envs_per_worker':int(10*1+0), # forward call of model takes (num_envs_per_worker, T,F) batches\n",
    "                    #NOTES ON THIS: https://stackoverflow.com/questions/60515722/what-does-num-envs-per-worker-in-rllib-do\n",
    "                    # AND https://discuss.ray.io/t/total-workers-number-of-gpus-1/9292\n",
    "                    # Scaling guide; https://docs.ray.io/en/latest/rllib/rllib-training.html#rllib-scaling-guide\n",
    "                    # FORUM POSTS https://discuss.ray.io/t/how-many-workers-best-way-to-determine-number-of-workers/8805\n",
    "                 }\n",
    "'''\n",
    "RESOURCES DEFAULT SETTINGS\n",
    " 'num_gpus': 1,\n",
    " 'num_cpus_per_worker': 1,\n",
    " 'num_gpus_per_worker': 0,\n",
    " '_fake_gpus': False,\n",
    " 'num_learner_workers': 0, # <- EXPECTED\n",
    " 'num_gpus_per_learner_worker': 0,\n",
    " 'num_cpus_per_learner_worker': 1, # <- BUT WHAT DOES THIS MEAN THEN? I.E. WHAT IS A LEARNER\n",
    "'''\n",
    "EVAL_CONFIG = {# weirdly enough, none of the following work A,B,C; the policy explore setting set in .multi_agent is leading\n",
    "                    #A'policies':{aid: configure_policy(aid, setup_env, explore = True) for aid in policies.keys()}, # override the policy\n",
    "                    #B'explore': True, # B & C wouldnt even be agent specific\n",
    "                    #C'exploration': True,\n",
    "                #IMPORTANT NOTE: Policy gradient algorithms are able to find the optimal\n",
    "                #policy, even if this is a stochastic one. Setting \"explore=False\" here\n",
    "                #will result in the evaluation workers not using this optimal policy! \n",
    "                # WHY? because the optimal policy might be stochastic and not deterministic i.e. sometimes is best to do random!\n",
    "                'env_config': {**(ENV_CONFIG.copy()), \n",
    "                               #'CL_level':5,\n",
    "                              }, # THIS MIGHT HAVE TO OVERRIDE THE CL LEVEL; UPDATE THIS IS COMPLETELY IGNORED...\n",
    "                # WE DO CL THROUGH THE CALLBACK\n",
    "    \n",
    "                #'policy_mapping_fn':PEGutils.PolicyMapper.policy_mapping_fn, # THIS WILL NOT WORK, ANOTHER KEYWORD IS NEEDED?\n",
    "                # TO BE ABSOLUTELY CLEAR, the map as defined for the training, will also be used in evaluation \n",
    "}\n",
    "\n",
    "\n",
    "ppo_config = (\n",
    "        PPOConfig()\n",
    "        .environment(select_env,\n",
    "                    env_config= ENV_CONFIG,\n",
    "                    ## set manually to enforce\n",
    "                    normalize_actions = True, # default True\n",
    "                    clip_actions = False, # default False\n",
    "                    )\n",
    "        .framework(\"torch\")  # specify the deep learning framework\n",
    "        .training(#NOTE DO NOT DEFINE POLICY SPECIFICS (e.g. explore, entropy_coef) HERE DO THAT IN POLICYSPEC (UNLESS ITS FOR BOTH)\n",
    "                    ## default model; https://github.com/ray-project/ray/blob/master/rllib/algorithms/ppo/ppo.py\n",
    "                    #model={'custom_model':'CustomTorchFNNModel'}, # uncomment for consistent common custom model\n",
    "                    #model={\"fcnet_hiddens\": [4]*2} # default FNN model\n",
    "                    \n",
    "                    ## algorithm related (https://docs.ray.io/en/latest/_modules/ray/rllib/algorithms/ppo/ppo.html)\n",
    "                    use_critic = critic_dict.get('use_critic', False), use_gae = critic_dict.get('use_gae', False), # def True (both), keep both same!\n",
    "            \n",
    "                    ## hyperparameters\n",
    "                    lr = 0.0003, #5e-04,#5e-05 def ppo  | 2.5e-05\n",
    "                    gamma = 0.995,#0.999 # 0.99 default\n",
    "                    ## estimation related \n",
    "                    train_batch_size = 3750*2*4,#*8, # 4000 controls number of steps sampled per iter!\n",
    "                    # following from https://docs.ray.io/en/latest/_modules/ray/rllib/algorithms/ppo/ppo.html\n",
    "                    #mini_batch_size_per_learner =\n",
    "                    sgd_minibatch_size = 256*4,#*8,#4096, # 512 128 default\n",
    "                    num_sgd_iter = 30*1,# 30 default, but this implies train_batch_size/sgd_minibatch_size steps\n",
    "                    entropy_coeff = 0.001, # 0. default (0,0.01) range\n",
    "                    grad_clip = 0.5, # stable baselines def\n",
    "\n",
    "                    ## https://discuss.ray.io/t/ppo-gives-infinity-value-for-kl-and-total-loss/3658/4\n",
    "                    use_kl_loss = False,\n",
    "                    #kl_coeff = 0.0,\n",
    "                    #kl_target = 0.01,\n",
    "        ) \n",
    "        .resources(num_gpus=config_resourses_rollout['num_gpus'], # https://docs.ray.io/en/latest/_modules/ray/rllib/algorithms/algorithm_config.html#AlgorithmConfig.resources\n",
    "                   #num_cpus_per_worker=config_resourses_rollout['num_cpus_per_worker'],\n",
    "                   #num_gpus_per_worker=config_resourses_rollout['num_gpus_per_worker'],\n",
    "\n",
    "                   #num_learner_workers=config_resourses_rollout['num_learner_workers'],\n",
    "                   #num_cpus_per_learner_worker=config_resourses_rollout['num_cpus_per_learner_worker'],\n",
    "                   #num_gpus_per_learner_worker=config_resourses_rollout['num_gpus_per_learner_worker'],\n",
    "\n",
    "                   #placement_strategy=config_resourses_rollout['placement_strategy'],\n",
    "                  )\n",
    "        .rollouts(\n",
    "                  num_rollout_workers=config_resourses_rollout['num_rollout_workers'],\n",
    "                  num_envs_per_worker=config_resourses_rollout['num_envs_per_worker'],\n",
    "         ) \n",
    "        .evaluation(\n",
    "             evaluation_duration = EVAL_EPISODES + HoF*int(EVAL_EPISODES/HoF_prob-EVAL_EPISODES),\n",
    "             evaluation_duration_unit = \"episodes\",\n",
    "            \n",
    "             evaluation_num_workers = 3, # if you dont set this then (I think) the cpu & gpu of driver are used = 2 num_rollout_workers\n",
    "            \n",
    "             evaluation_interval =  1,#20, # every n'th iteration evaluate, uses % n\n",
    "             #custom_evaluation_function=custom_eval_function,  # WORKING, with func above\n",
    "             #\"evaluation_parallel_to_training\": True, #default: False,\n",
    "             #\"in_evaluation\": False, #Q Not sure, set this to True?\n",
    "            \n",
    "             evaluation_config = EVAL_CONFIG, \n",
    "        )\n",
    "        .multi_agent(\n",
    "            policies=PEGutils.PolicyUtils.set_PolicySpecs(ppo_policySpecs), # this is set in the next function\n",
    "            policy_mapping_fn=PEGutils.PolicyMapper.policy_mapping_fn,\n",
    "            policies_to_train=policies_to_train, # e0\n",
    "        )\n",
    ")\n",
    "#''' \n",
    "#assert not ppo_config.use_critic, 'Only use this in case use_critic & use_gae = False!'\n",
    "ppo_config.rollouts(\n",
    "                    batch_mode = \"complete_episodes\",\n",
    "                   )\n",
    "warnings.warn('CHANGED BATCH MODE!')\n",
    "#''' \n",
    "## register models\n",
    "PEGutils.PolicyUtils.register_models_from_PolicySpecs(PEGmodels, ppo_config)\n",
    "\n",
    "'''\n",
    "NOTE THAT\n",
    ".multi_agent() is a method of providing Rl_module such as\n",
    "    .rl_module(\n",
    "        rl_module_spec=MultiAgentRLModuleSpec(\n",
    "            module_specs={\n",
    "                \"p0\": SingleAgentRLModuleSpec(),\n",
    "                \"e0\": SingleAgentRLModuleSpec(module_class=RandomRLModule),\n",
    "            }\n",
    "        ),\n",
    "# https://github.com/ray-project/ray/blob/master/rllib/examples/multi_agent_custom_policy.py\n",
    "'''\n",
    "\n",
    "'''\n",
    "README; CONCLUSION ON EVALUATE!!!!!!!!!!!!!\n",
    "EVALUATE function of an algorithm (not policy) does not seem to cache the required amount\n",
    "of observations for proper inference of a RNN model.  As observed through\n",
    "printing of RNN model's inputs during .evaluate() call.\n",
    "'''\n",
    "print('\\n=== CONFIG SETTINGS ===')\n",
    "print(f'policies: {list(ppo_config.policies.keys())}')\n",
    "print(f'policies_to_train: {ppo_config.policies_to_train}')\n",
    "print(f'Rollout/Resources settings: {config_resourses_rollout}')\n",
    "print(f'Environment config (main):\\n   {ENV_CONFIG}')\n",
    "print(f'Environment config (eval):\\n   {EVAL_CONFIG}')"
   ]
  },
  {
   "cell_type": "code",
   "execution_count": null,
   "id": "7b49d553-cb7d-4f55-a35d-17491cae62b3",
   "metadata": {
    "scrolled": true
   },
   "outputs": [],
   "source": [
    "ppo_config.policies['p0'].config, ppo_config.policies['e0'].config"
   ]
  },
  {
   "cell_type": "code",
   "execution_count": null,
   "id": "ee96f1be-6bd7-4643-a969-f344bb95c3c6",
   "metadata": {
    "scrolled": true
   },
   "outputs": [],
   "source": [
    "setup_env.agent_specs"
   ]
  },
  {
   "cell_type": "raw",
   "id": "92671f5e-d85b-42f5-81b8-6b8b920193b8",
   "metadata": {},
   "source": [
    "algo.config.placement_strategy "
   ]
  },
  {
   "cell_type": "markdown",
   "id": "c375116c-a673-446e-a8e6-6bd6c9aacec5",
   "metadata": {},
   "source": [
    "#### P1.LAST: Curriculum learning"
   ]
  },
  {
   "cell_type": "code",
   "execution_count": null,
   "id": "d0177fec-d9e8-4a84-b95f-0020fee45e45",
   "metadata": {},
   "outputs": [],
   "source": [
    "## setup (extra) custom metrics dict\n",
    "custom_metrics_dict = {'game':{'Gamma':'Mean', 'Gamma_uV':'Mean', \n",
    "                               'dur':'Max', \n",
    "                               'dis':'Mean','disDelta':'Mean','disDeltaPos':'Mean', 'disNearMiss':'Mean', \n",
    "                               'INToutcome':'Max', 'Vratio':'Mean',\n",
    "                              },\n",
    "                       'agent_id':setup_env.agent_id, \n",
    "                       'agent':{'BS_bool':'Mean', \n",
    "                                 'BS_lag':'Max',\n",
    "                                 'BS_active':'Mean',\n",
    "                                 #'a_total':'Mean',\n",
    "                                 'Gamma_pp':'Mean',\n",
    "                                \n",
    "                                 'thrust_pp':'Mean',\n",
    "                                 'stable_Vdownward':'Mean',\n",
    "                                 'stable_Zdownward':'Mean',\n",
    "                                 'Vnorm':'Mean',\n",
    "                                \n",
    "                                 'disDelta':'Mean',\n",
    "                                 'disDeltaPos':'Mean',\n",
    "                                \n",
    "                                 'Rtime':'Mean',\n",
    "                                 'Rint':'Max',\n",
    "                                 'Rdis':'Mean',\n",
    "                                 'RdisT':'Mean',\n",
    "                          }\n",
    "                      }\n",
    "## append/remove keys based on config\n",
    "info_aid = setup_info[setup_env.agent_id[0]]\n",
    "\n",
    "for k1 in ['game','agent']:\n",
    "    set_add = set(info_aid[k1]) - set(custom_metrics_dict[k1])\n",
    "    set_remove = set(custom_metrics_dict[k1]) - set(info_aid[k1])\n",
    "    \n",
    "    list(map(custom_metrics_dict[k1].pop, set_remove)) # remove all elements not required\n",
    "    custom_metrics_dict[k1].update(custom_metrics_dict[k1].fromkeys(set_add, 'Mean')) # add mean stat for elements not included\n",
    "\n",
    "print(f'(Utilized) Custom metrics dict:\\n   {custom_metrics_dict}')\n",
    "\n",
    "##\n",
    "importlib.reload(PEGutils) # TODO move\n",
    "\n",
    "PEGutils.CustomCallback.setup_metrics(custom_metrics_dict)\n",
    "\n",
    "restore_from_bc = True # True False\n",
    "if restore_from_bc:\n",
    "    #checkpoint_BC = r\"C:\\Users\\Reinier Vos\\Documents\\PEG1\\runs3D4DOFV53nDenseR\\Plstm32d6t3g2_EdummyLine_Noise\\PPO_PEG1_env_3feae_00000_0_2024-07-03_18-21-06\\checkpoint_000010\" # pre-train - 5pi, 6delay, 0.03 tau lstm32\n",
    "    #checkpoint_BC = r\"C:\\Users\\Reinier Vos\\Documents\\PEG1\\runs3D4DOFV53n\\PPO_2024-07-03_19-28-43\\PPO_PEG1_env_b216b_00000_0_2024-07-03_19-28-43\\checkpoint_000005\" \n",
    "    #checkpoint_BC = r\"C:\\Users\\Reinier Vos\\Documents\\PEG1\\runs3D4DOFV53nDenseR\\PPO_2024-07-09_11-54-27\\PPO_PEG1_env_3a988_00000_0_2024-07-09_11-54-27\\checkpoint_000007\" # pre-train - 10pi, 0delay, 0.03 tau lstm128\n",
    "\n",
    "    #checkpoint_BC = r\"C:\\Users\\Reinier Vos\\Documents\\PEG1\\runsREPORTn1\\Plstm64d3t3g2_EdummyLine_Noise\\PPO_PEG1_env_cbd18_00000_0_2024-07-10_12-40-16\\checkpoint_000018\"\n",
    "    checkpoint_BC = r\"C:\\Users\\Reinier Vos\\Documents\\PEG1\\runsREPORTn1\\Plstm64d3t3g2r10N_EdummyLine_INT15\\PPO_PEG1_env_8482c_00000_0_2024-07-10_21-56-37\\checkpoint_000006\"\n",
    "    # both lstm128, noise - 0 delays - 10pi & 20pi rates (2g,5g)\n",
    "    #'''\n",
    "    #restore_aids = ['p0','e0']\n",
    "    restore_aids = ['p0']\n",
    "    policy_restore_dict = dict.fromkeys(restore_aids,checkpoint_BC) # same checkpoint for both agents\n",
    "    '''\n",
    "    policy_restore_dict = {'p0':'path1',\n",
    "                           'e0':'path2',\n",
    "                          }\n",
    "    #'''\n",
    "    PEGutils.CustomCallback.setup_restore_config(policy_restore_dict = policy_restore_dict)\n",
    "    \n",
    "##\n",
    "curriculum = False # True False (bool) or list with [base,bias,factor]\n",
    "\n",
    "#curriculum = [4,4,2, 5] # [base, bias, factor, patience] \n",
    "#curriculum = [3,3,1.5, 10] # [base, bias, factor, patience] \n",
    "\n",
    "#curriculum = [3,3,1.5, 5]\n",
    "#curriculum = [1, 0, 0, 5] # [base, bias, factor, patience] \n",
    "#curriculum = [6,4,2, 10]\n",
    "#curriculum = [8,4,2, 10]\n",
    "\n",
    "#curriculum = [6.66, 1., 0.5, 5]\n",
    "# TODO curriculum config\n",
    "\n",
    "##\n",
    "\n",
    "##\n",
    "PEGutils.CustomCallback.setup_functionality(restore =  restore_from_bc,  \n",
    "                                            episode =  True,\n",
    "                                            curriculum = curriculum,\n",
    "                                            HoF = HoF,\n",
    "                                            evaluate = True, \n",
    "                                           ) # this sets CLASS functionality \n",
    "PEGutils.CustomCallback.set_CLlevel_eval(3)\n",
    "\n",
    "ppo_config.callbacks(PEGutils.CustomCallback) \n"
   ]
  },
  {
   "cell_type": "code",
   "execution_count": null,
   "id": "809605b2-1955-4308-b422-59d894d651b4",
   "metadata": {},
   "outputs": [],
   "source": [
    "PEGutils.CustomCallback.functionality, '=', ppo_config.callbacks_class.functionality"
   ]
  },
  {
   "cell_type": "code",
   "execution_count": null,
   "id": "6c205c6c-fc7b-4c3f-8bc3-0e4366892cb0",
   "metadata": {},
   "outputs": [],
   "source": [
    "importlib.reload(PEGutils) # this seems necessary to ensure changed functionality holds up when calling ray.tune()"
   ]
  },
  {
   "cell_type": "code",
   "execution_count": null,
   "id": "542655b1-f543-44da-b707-63c97e2df558",
   "metadata": {},
   "outputs": [],
   "source": [
    "ppo_config.callbacks_class()"
   ]
  },
  {
   "cell_type": "raw",
   "id": "9f911d00-b118-463c-853d-0016154c6476",
   "metadata": {},
   "source": [
    "raise"
   ]
  },
  {
   "cell_type": "markdown",
   "id": "aba6c9c5-17d2-45a7-b791-a2f20c87db15",
   "metadata": {
    "jp-MarkdownHeadingCollapsed": true
   },
   "source": [
    "### P2: Behavioural cloning\n",
    "\n",
    "\n",
    "= Behavioural cloning = \n",
    "<br>The following considers cloning of exper behaviour (imitation learning)\n",
    "to pre-train policies and speed up convergence. Note that since value output\n",
    "is not called the branch is not trained. We leave this for normal training phase.\n",
    "\n",
    "The following design steps have been incorporate:\n",
    "1) Initialize an algorithm rather than a network to get all policies such \n",
    "    that configuration settings are inferred from environment settings (e.g. output number)\n",
    "    - also, because future might require independent pre-training of specific\n",
    "    policies, the use of algorithm is preferred as it initializes all policies\n",
    "2) Save the algorithm & not the policy. Once again this should keep everything \n",
    "    ordered and structured\n",
    "    - note that when using algo.get_policy() not a copy is returned but the actual\n",
    "    model such that training it externally updates the weights held within the algo\n",
    "3) When restoring policy weights it is best to load policy from checkpoint not algo\n",
    "    because algo restoration takes longer and we only require the get_weights method.\n",
    "    which is accessible through policy[aid].get_weights()\n",
    "\n",
    "README wrt EXPLORATION\n",
    "Generally we want to keep exploration high, while centering the policy around\n",
    "the expert initially. Therefore its best \n",
    "\n",
    "specifics;\n",
    "- weight decay reduced exploration; will push parameters to zero not used by the expert,\n",
    "    which might be useful anyway\n",
    "- avoid spurious regression by masking inputs?\n",
    "- only learn the mean and not the std?\n",
    "\n",
    "TODO\n",
    "- RNN pretraining; it might be fine just to pretrain RNN with (N,1,F) inputs\n",
    "    as we're only interesting in imitating to some extend and guidance laws are not\n",
    "    recurrent generally.\n",
    "    - this will require the use of .forward/.forward_rnn method & state initialization\n",
    "- RAY DATASET SETUP; (use parquet or json!)\n",
    "    - https://docs.ray.io/en/latest/data/api/doc/ray.data.Dataset.html\n",
    "- DISCOVER WHAT AFFECTS EXPLORATION AND WHAT DOESNT\n",
    "\n",
    "\n",
    "#### P2.1: Setup"
   ]
  },
  {
   "cell_type": "code",
   "execution_count": null,
   "id": "b4f640a0-c8c3-4278-8556-6cbf04604ace",
   "metadata": {},
   "outputs": [],
   "source": [
    "DO_BC = False # True False\n",
    "if DO_BC:\n",
    "    algo_config = ppo_config.copy(copy_frozen = False) # config_ppo\n",
    "\n",
    "    '''\n",
    "    a_dim = 4\n",
    "    action_space = gym.spaces.Box(low=np.array([-np.inf]*a_dim),  # reverse top\n",
    "                                    high=np.array([np.inf]*a_dim), \n",
    "                                    shape=(a_dim,), \n",
    "                                    dtype=np.float64)\n",
    "    #'''\n",
    "    '''\n",
    "    policySpec_experts = {'p0':{'model':PEGmodels.BenchmarkTorch_StaticGainPN, # BenchmarkTorch_StaticGainPN CustomTorch_DummyNullModel\n",
    "                             'model_config':{'gain':3., 'SA':{'Dimension':3,'DOF':4}},  # 'identifier' key to force model registration\n",
    "                             'explore':False, # note that eval has forced exploitation (= no explore)\n",
    "                             'extra':{\n",
    "                                 #'normalize_actions':False\n",
    "                                 }, # extra settings e.g. gamma\n",
    "                             #'action_space': action_space,\n",
    "                            },\n",
    "                          'e0':{'model':PEGmodels.CustomTorch_DummyNullModel, # BenchmarkTorch_StaticGainPN CustomTorch_DummyNullModel\n",
    "                             'model_config':{}, # 'identifier' key to force model registration\n",
    "                             'explore':False, # note that eval has forced exploitation (= no explore)\n",
    "                             'extra':{}, # extra settings e.g. gamma\n",
    "                            },\n",
    "                         }\n",
    "    '''\n",
    "    policySpec_experts = {'p0':{'model':PEGmodels.BenchmarkTorch_StaticGainPNnError, # BenchmarkTorch_StaticGainPN CustomTorch_DummyNullModel\n",
    "                             'model_config':{'gain_los':-1., 'gain_dlos':1., 'SA':{'Dimension':3,'DOF':4}},  # 'identifier' key to force model registration\n",
    "                             'explore':False, # note that eval has forced exploitation (= no explore)\n",
    "                             'extra':{\n",
    "                                         #'normalize_actions':False\n",
    "                                     }, # extra settings e.g. gamma\n",
    "                             #'action_space': action_space,\n",
    "                            },\n",
    "                          'e0':{'model':PEGmodels.CustomTorch_DummyNullModel, # BenchmarkTorch_StaticGainPN CustomTorch_DummyNullModel\n",
    "                             'model_config':{}, # 'identifier' key to force model registration\n",
    "                             'explore':False, # note that eval has forced exploitation (= no explore)\n",
    "                             'extra':{}, # extra settings e.g. gamma\n",
    "                            },\n",
    "                         }\n",
    "\n",
    "    #'''\n",
    "    \n",
    "    ## == INSIDE FUNCTION ==\n",
    "    \n",
    "    ## copy configs\n",
    "    algoConfig_experts = algo_config.copy(copy_frozen = False) # future config with expert policies\n",
    "    algoConfig_BC = algo_config.copy(copy_frozen = False) # copy of intended training focus\n",
    "    algoConfig_all = [algoConfig_experts, algoConfig_BC]\n",
    "    ## adjust algorithm configs\n",
    "    # general adjustment sstrip resources and \n",
    "    for algoConfig in algoConfig_all:\n",
    "        algoConfig.rollouts(\n",
    "                      num_rollout_workers=0, \n",
    "                      num_envs_per_worker=10,\n",
    "                 )\\\n",
    "                 .evaluation(\n",
    "                     evaluation_duration = 100,\n",
    "                 )\n",
    "    # algorithm-specific adjustments\n",
    "    algoConfig_experts.resources(num_gpus = 0) # only CPUs for data sampling\n",
    "    algoConfig_BC.resources(num_gpus = 1) # BC needs the GPU for training\n",
    "    \n",
    "    ## override expert policies\n",
    "    # override with expert policies\n",
    "    print('\\nexperts')\n",
    "    PEGutils.PolicyUtils.set_PolicySpecs(policySpec_experts, AlgoConfig = algoConfig_experts, extra_label = 'EXP')\n",
    "    PEGutils.PolicyUtils.register_models_from_PolicySpecs(PEGmodels, algoConfig_experts)\n",
    "    \n",
    "    # NOTE overriding of BC configs should NOT be done since those are the ones in main AlgoConfig (defined above) \n",
    "DO_BC"
   ]
  },
  {
   "cell_type": "raw",
   "id": "062d9fc7-ef85-4dc1-a530-90afde43a341",
   "metadata": {},
   "source": [
    "## override BC configs anyway\n",
    "policySpec_BC = {'p0':{'model':PEGmodels.CustomTorchLTCModel,\n",
    "                         'model_config':{}, # 'identifier' key to force model registration\n",
    "                         'explore':True, # note that eval has forced exploitation (= no explore)\n",
    "                         'extra':{}, # extra settings e.g. gamma\n",
    "                        },\n",
    "                 'e0':{'model':PEGmodels.CustomTorchLTCModel,\n",
    "                         'model_config':{}, # 'identifier' key to force model registration\n",
    "                         'explore':True, # note that eval has forced exploitation (= no explore)\n",
    "                         'extra':{}, # extra settings e.g. gamma\n",
    "                        },\n",
    "                     }\n",
    "\n",
    "print('\\nBC')\n",
    "PEGutils.PolicyUtils.set_PolicySpecs(policySpec_BC, AlgoConfig = algoConfig_BC)\n",
    "PEGutils.PolicyUtils.register_models_from_PolicySpecs(PEGmodels, algoConfig_BC)"
   ]
  },
  {
   "cell_type": "markdown",
   "id": "0f008c16-1738-4b9c-8853-ee8c6d1ddae4",
   "metadata": {},
   "source": [
    "#### P2.2: Sampling"
   ]
  },
  {
   "cell_type": "code",
   "execution_count": null,
   "id": "7c94bde0-f1b2-48e6-b3d2-32bcf59478df",
   "metadata": {
    "scrolled": true
   },
   "outputs": [],
   "source": [
    "BC_SAMPLE_EXPERTS = False # True False\n",
    "\n",
    "if BC_SAMPLE_EXPERTS:\n",
    "\n",
    "    ## connect algo to sampling directory\n",
    "    sampling_directory = r\"C:\\Users\\Reinier Vos\\Documents\\PEG1\\BC\\data\\PNnError_3D4DOFvelo\"\n",
    "    assert os.path.isdir(sampling_directory), 'offline directory does not exist!' # check if directory exists\n",
    "    algoConfig_experts.offline_data(output = sampling_directory)\n",
    "\n",
    "    \n",
    "    ## setup evaluation \n",
    "    CL_LEVEL = 3 # we keep to zero as we only want BC for initial training \n",
    "    algo_experts = algoConfig_experts.build()\n",
    "    algo_experts.callbacks.set_setting_eval(True) # switches on eval setting in callback to store all results\n",
    "    algo_experts.callbacks.set_explore_eval(False) # sets exploration setting for all policies\n",
    "    algo_experts.callbacks.set_CLlevel_eval(CL_LEVEL)\n",
    "\n",
    "BC_SAMPLE_EXPERTS"
   ]
  },
  {
   "cell_type": "code",
   "execution_count": null,
   "id": "d308b484-f7b9-4344-badd-0802339a0a0e",
   "metadata": {
    "scrolled": true
   },
   "outputs": [],
   "source": [
    "## sampling\n",
    "if BC_SAMPLE_EXPERTS:\n",
    "    print(f'Eval run for N_envs/envs_parallel = {algo_experts.config[\"evaluation_duration\"]}/{algo_experts.config[\"num_envs_per_worker\"]}')\n",
    "    eval_out_EXP = algo_experts.evaluate()   \n",
    "\n",
    "    ## unpack\n",
    "    eval_metrics = eval_out_EXP['evaluation']\n",
    "    eval_histories = eval_out_EXP['env_histories']\n",
    "    \n",
    "    ##\n",
    "    seeds = []\n",
    "    for his in eval_histories:\n",
    "        seed = his[5]['env']['seed_unique']\n",
    "        seeds.append(seed)\n",
    "    seeds = np.array(seeds)\n",
    "    if len(seeds) != len(set(seeds)): warnings.warn('Duplicate seeds encountered')  \n",
    "BC_SAMPLE_EXPERTS"
   ]
  },
  {
   "cell_type": "raw",
   "id": "9fba83cb-de1d-4f2a-9419-f50d6266dc7f",
   "metadata": {
    "scrolled": true
   },
   "source": [
    "seeds = []\n",
    "for his in eval_histories:\n",
    "    seed = his[5]['env']\n",
    "    seeds.append(seed)\n",
    "pd.DataFrame(seeds)"
   ]
  },
  {
   "cell_type": "code",
   "execution_count": null,
   "id": "af42331c-d693-4423-9c97-afc6b253f04b",
   "metadata": {
    "scrolled": true
   },
   "outputs": [],
   "source": [
    "## visualize & analyze\n",
    "if BC_SAMPLE_EXPERTS:\n",
    "    #selected_histories = eval_histories\n",
    "    selected_histories = PEGanalysis.Analysis.filter_histories(eval_histories, condition = 'all')\n",
    "    #filtered_histories = PEGanalysis.Analysis.filter_histories(selected_histories, condition = 'all')\n",
    "    \n",
    "    fig_TRAJ, runs_outcome_TRAJ = PEGanalysis.Analysis.visualize_trajectories_runs(selected_histories, condition = 'all',\n",
    "                                                                          show_los = 0,\n",
    "                                                                          #title = ,\n",
    "                                                                          # runNames = ,\n",
    "                                                                          )\n",
    "    fig_TRAJ.show(renderer = 'browser')\n",
    "BC_SAMPLE_EXPERTS"
   ]
  },
  {
   "cell_type": "code",
   "execution_count": null,
   "id": "1546c279-d489-4321-b686-058f5c473e5b",
   "metadata": {},
   "outputs": [],
   "source": [
    "if BC_SAMPLE_EXPERTS:\n",
    "    algo_experts.stop()\n",
    "BC_SAMPLE_EXPERTS"
   ]
  },
  {
   "cell_type": "markdown",
   "id": "2335007e-97dc-4d2e-9d26-e88d98da6872",
   "metadata": {},
   "source": [
    "#### P2.3A: BC custom implementation\n",
    "\n",
    "##### read/gather data"
   ]
  },
  {
   "cell_type": "code",
   "execution_count": null,
   "id": "18f650b5-b2d2-4d79-9722-67872ec2b5f3",
   "metadata": {},
   "outputs": [],
   "source": [
    "TRAIN_BC = False # True False\n",
    "if TRAIN_BC:\n",
    "    import PEG1_utils as PEGutils\n",
    "    importlib.reload(PEGutils)\n",
    "    \n",
    "    fileDir = r\"C:\\Users\\Reinier Vos\\Documents\\PEG1\\BC\\data\\PNnError_3D4DOFvelo\" # PNnError_3D4DOFvelo\n",
    "    \n",
    "    sb, sb_utils = PEGutils.SampleBatchUtils.SB_readNformat_json_files(fileDir)\n",
    "    samplebatch_lst, samplebatch_all, samplebatch_p0term, samplebatch_e0term = sb # seperate SB per env objects\n",
    "TRAIN_BC"
   ]
  },
  {
   "cell_type": "markdown",
   "id": "ea311c33-eb5c-4cd8-9956-840d15494876",
   "metadata": {},
   "source": [
    "##### run BC setup"
   ]
  },
  {
   "cell_type": "code",
   "execution_count": null,
   "id": "fd4a4f6f-c0ea-4852-b10e-5e0242e47def",
   "metadata": {},
   "outputs": [],
   "source": [
    "##### \n",
    "'''\n",
    "STEPS;\n",
    "- define BC agents & BC config (only simul training or single training is possible not parallel; then you just need to run more often)\n",
    "- setup optimziers, policy_space_transform_funcs, prep models (see below e.g. train)\n",
    "- train: for e in epoch: for i in iter: for aid in agents: \n",
    "\n",
    "- plot results (dynamic subplot)\n",
    "- eval reward and rerunable cell if not content (i.e. continued training)\n",
    "\n",
    "- save only the BC agents! i think algo.save has an kwarg for this\n",
    "\n",
    "TODO\n",
    "- define dataloader, which takes in initializer also the aids and when next() returns dict with {aid:(x,w,y)}\n",
    "    - give option to sample on value (not reward) more often i.e. the weight? TODO\n",
    "    - takes in env histories; with conditioner string and can setup datasets for all agents based on this e.g. for p0 only outcome I and for e0 ALL  \n",
    "        - nice because we dont need to condition before! it does so internally\n",
    "    - take in histories or load histories from file\n",
    "    \n",
    "'''\n",
    "#BC_agents = dict.fromkeys(['p0','e0'],None) # dict with aid: datasave path or None, then will try to use providing data\n",
    "\n",
    "if TRAIN_BC:\n",
    "    BC_config = {'batch_size':4096,\n",
    "                 'learning_rate': 0.01,\n",
    "                 'weight_decay':0., # keep at 0, this might screw up exploration if you reduce all other info to zero\n",
    "                 'num_epochs': 100, # NOT TOO MUCH OTHERWISE IT WONT EXPLORE ANYMORE, \n",
    "                 # TODO WOULD BE NICE IF WE CAN ONLY OPTIMIZE THE MEAN! NOT THE VARIANCE\n",
    "                 'checkpoint_dir':'TESTTEST', # 3D3DOF_PPideal_FNN44_3AL_MuStd 3D2DOF_PPideal_FNNrun_AL2 3D2DOF_PPideal_RNNrun 3D2DOF_gainLSTMal0v9bs4_run2\n",
    "                 'agents':['p0',\n",
    "                          # 'e0',\n",
    "                          ], #BC_agents\n",
    "                 #'dataload_path':'3D2DOF_pPN3eDummy_al2v9bs4', # 3D2DOF_PPideal 3D2DOF_PPideal_AL2 3D3DOF_PPideal_AL3\n",
    "                }\n",
    "\n",
    "TRAIN_BC"
   ]
  },
  {
   "cell_type": "code",
   "execution_count": null,
   "id": "6804fe1c-bd32-4f18-ba6f-75088023ae06",
   "metadata": {},
   "outputs": [],
   "source": [
    "if TRAIN_BC:\n",
    "    # build this algo with the adjusted PPO (not BC/MARWIL) DICT!\n",
    "    CL_LEVEL = 0 # we keep to zero as we only want BC for initial training \n",
    "    algo_BC = algoConfig_BC.build()\n",
    "    algo_BC.callbacks.set_setting_eval(True) # switches on eval setting in callback to store all results\n",
    "    algo_BC.callbacks.set_explore_eval(False) # sets exploration setting for all policies\n",
    "    algo_BC.callbacks.set_CLlevel_eval(CL_LEVEL)\n",
    "TRAIN_BC"
   ]
  },
  {
   "cell_type": "code",
   "execution_count": null,
   "id": "dc35046a-719b-42db-b818-ef004556b295",
   "metadata": {},
   "outputs": [],
   "source": [
    "if TRAIN_BC:\n",
    "    ## prep training\n",
    "    BC_utils = {}\n",
    "    # select data;\n",
    "    samplebatch_selected = samplebatch_all # samplebatch_all, samplebatch_p0term, samplebatch_e0term\n",
    "    \n",
    "    ##\n",
    "    for aid in BC_config['agents']:\n",
    "        # note that algo_BC.get_policy(aid) returns the actual policy (& model) instance not a copy\n",
    "        algo_BC.get_policy(aid).model.train() # switch to training mode\n",
    "        algo_BC.get_policy(aid).model.cuda() # setup to cuda\n",
    "        BC_utils[aid] = {'optimizer':torch.optim.Adam(algo_BC.get_policy(aid).model.parameters(), \n",
    "                             lr=BC_config['learning_rate'], weight_decay = BC_config['weight_decay']),\n",
    "                     'dataloader':PEGmodels.BCdataset(samplebatch_selected[aid].get('obs'), # x\n",
    "                              samplebatch_selected[aid].get('actions'), # y\n",
    "                              tensors = False).setup_dataloader(batch_size = BC_config['batch_size'], shuffle = True),\n",
    "                     'losses':[],\n",
    "                     ## data normalizer for moving into clipped/transformed action subspace upon which the model operates\n",
    "                     #'data_normalizer': lambda x: torch.as_tensor(space_utils.normalize_action(x.numpy(), \n",
    "                     #            algo_BC.get_policy(aid).action_space_struct), dtype = torch.float64).cuda()':\n",
    "                    }\n",
    "    \n",
    "TRAIN_BC"
   ]
  },
  {
   "cell_type": "code",
   "execution_count": null,
   "id": "0b6c1082-0d00-4d95-a9d7-a942e62d8711",
   "metadata": {
    "scrolled": true
   },
   "outputs": [],
   "source": [
    "if TRAIN_BC:\n",
    "    for aid in BC_config['agents']:\n",
    "        for epoch in tqdm(range(BC_config['num_epochs'])):\n",
    "            loss_running = 0.\n",
    "            for i, batch in enumerate(BC_utils[aid]['dataloader']): \n",
    "                x,y = batch\n",
    "                inputs = {'obs':x.cuda().float()}\n",
    "                expert_action = y.cuda()\n",
    "                #expert_action = data_normalizer(y)  # RAY rlib already has normalized saved data\n",
    "                actions, state = algo_BC.get_policy(aid).model.forward(inputs,[],[],\n",
    "                                      add_time_dim = True #algo_BC.get_policy(aid).model.RNN_type, # TODO avoid another policy call\n",
    "                                      ) \n",
    "                action_mu, action_logstd = torch.chunk(actions, chunks = 2, dim = 1) \n",
    "                '''\n",
    "                action_dist = torch.distributions.normal.Normal(action_mu, torch.exp(action_logstd))\n",
    "                loss = -torch.mean(action_dist.log_prob(expert_action)) # no *rewards here as we want to clone 1to1 i guess?\n",
    "                '''\n",
    "                loss = (expert_action-action_mu).pow(2.).mean(dim = 0).sum() # MSE for mean only\n",
    "                #'''\n",
    "                ##\n",
    "                BC_utils[aid]['optimizer'].zero_grad()\n",
    "                loss.backward() \n",
    "                BC_utils[aid]['optimizer'].step()\n",
    "                loss_running += loss.detach().item()\n",
    "                \n",
    "            BC_utils[aid]['losses'].append(loss_running/(i+1))\n",
    "    \n",
    "    import matplotlib.pyplot as plt\n",
    "    warnings.warn('NOTE THAT PREVIOUS CALL ARE APPENDED TO PLOT')\n",
    "    fig, axes = plt.subplots(1,len(BC_config['agents']), figsize = (16,8))\n",
    "    axes = [axes] if len(BC_config['agents']) == 1 else axes \n",
    "    for i, aid in  enumerate(BC_config['agents']):\n",
    "        axes[i].plot(BC_utils[aid]['losses'])\n",
    "        axes[i].grid(True)\n",
    "        axes[i].set_title(f'loss {aid}')\n",
    "TRAIN_BC"
   ]
  },
  {
   "cell_type": "code",
   "execution_count": null,
   "id": "30af445a-ccf4-4bb8-a3ca-629f8763d531",
   "metadata": {},
   "outputs": [],
   "source": [
    "EVAL_BC = False # False True\n",
    "if TRAIN_BC:\n",
    "    ## EVALUATE\n",
    "    if EVAL_BC:\n",
    "        print(f'Eval run for N_envs/envs_parallel = {algo_BC.config[\"evaluation_duration\"]}/{algo_BC.config[\"num_envs_per_worker\"]}')\n",
    "        eval_out_BC = algo_BC.evaluate()   \n",
    "        \n",
    "        ## unpack\n",
    "        eval_metrics = eval_out_BC['evaluation']\n",
    "        eval_histories = eval_out_BC['env_histories']\n",
    "        \n",
    "        ##\n",
    "        seeds = []\n",
    "        for his in eval_histories:\n",
    "            seed = his[5]['env']['seed_unique']\n",
    "            seeds.append(seed)\n",
    "        seeds = np.array(seeds)\n",
    "        if len(seeds) != len(set(seeds)): warnings.warn('Duplicate seeds encountered')  \n",
    "        #eval_out_BC['evaluation']\n",
    "TRAIN_BC, EVAL_BC"
   ]
  },
  {
   "cell_type": "code",
   "execution_count": null,
   "id": "efd9de77-ebbd-4ef8-8403-c87fe20e0311",
   "metadata": {},
   "outputs": [],
   "source": [
    "if TRAIN_BC:\n",
    "    ## visualize & analyze\n",
    "    if EVAL_BC:\n",
    "        #selected_histories = eval_histories\n",
    "        selected_histories = PEGanalysis.Analysis.filter_histories(eval_histories, condition = 'all')\n",
    "        #filtered_histories = PEGanalysis.Analysis.filter_histories(selected_histories, condition = 'all')\n",
    "        \n",
    "        fig_TRAJ, runs_outcome_TRAJ = PEGanalysis.Analysis.visualize_trajectories_runs(selected_histories, condition = 'all',\n",
    "                                                                              show_los = 0,\n",
    "                                                                              #title = ,\n",
    "                                                                              # runNames = ,\n",
    "                                                                              THIN = 5,\n",
    "                                                                              )\n",
    "        fig_TRAJ.show(renderer = 'browser')\n",
    "TRAIN_BC, EVAL_BC"
   ]
  },
  {
   "cell_type": "code",
   "execution_count": null,
   "id": "d5a6cce4-6ebf-4174-8188-47b6417b1113",
   "metadata": {},
   "outputs": [],
   "source": [
    "if TRAIN_BC:\n",
    "    ## save checkpoint\n",
    "    # IF YOU WANT TO CHANGE THE CHECKPOINT NAME, RERUN SOME CELLS BACK!\n",
    "    \n",
    "    ##\n",
    "    algo_BC.BC_CONFIG = BC_config # I DONT THINK THIS ATTIRBUTE WILL BE SAVED! (algo(config) is not pickled)\n",
    "    checkpoint_dir = BC_config['checkpoint_dir']\n",
    "    #ppo.get_weights() # weights have been updated, you can check\n",
    "    save_result = algo_BC.save('BC/runs/'+checkpoint_dir) # cwd+checkpoint_dir \n",
    "    save_checkpoint = save_result.checkpoint.path\n",
    "    save_checkpoint = os.path.join(os.getcwd(),save_checkpoint).replace('/','\\\\')\n",
    "    print(f\"Checkpoint has been created at: {save_checkpoint}\")\n",
    "    \n",
    "    warnings.warn(f'BE AWARE THAT THE SAVED BC ALGO IS OF PPO TYPE: {isinstance(algoConfig_BC, PPOConfig)}')\n",
    "TRAIN_BC"
   ]
  },
  {
   "cell_type": "markdown",
   "id": "dc59646f-24a6-4c65-afd3-a7c815f5a9b2",
   "metadata": {
    "jp-MarkdownHeadingCollapsed": true
   },
   "source": [
    "#### P2.3B: BC ray native implementation"
   ]
  },
  {
   "cell_type": "raw",
   "id": "9c2dc1d4-58a5-46cd-ad79-94f6d60867f5",
   "metadata": {},
   "source": [
    "#### SETUP BC CONFIG -> TO FUNCTION\n",
    "\n",
    "from ray.rllib.algorithms.callbacks import DefaultCallbacks\n",
    "from ray.rllib.algorithms.bc import BCConfig\n",
    "\n",
    "## set offline data for training\n",
    "filepath = r\"C:\\Users\\Reinier Vos\\Documents\\PEG1\\TESTBC\\output-2024-04-13_21-49-28_worker-0_0.json\"\n",
    "algoConfig_BC.offline_data(input_ = filepath, actions_in_input_normalized = True)\n",
    "\n",
    "## override callback\n",
    "'''\n",
    "Callback_reduced = DefaultCallbacks.copy()\n",
    "Callback_reduced.on_train_result = algoConfig_BC.on_train_result # I think this is the only non-env related one? but it wont work without the accociated step & start\n",
    "#'''\n",
    "algoConfig_BC.callbacks(DefaultCallbacks) # TODO improve, callbacks related to env (e.g. CL) do not work for BC, so maybe we only keep on_train_result & eval related\n",
    "\n",
    "# BCConfig (inherits from MARWIL) https://docs.ray.io/en/latest/_modules/ray/rllib/algorithms/bc/bc.html#BCConfig\n",
    "# MARWIL; https://docs.ray.io/en/latest/_modules/ray/rllib/algorithms/marwil/marwil.html\n",
    "## find unique keys for ppo & remove for new BCconfig\n",
    "remove_keys = set(algoConfig_BC.to_dict()) - set(BCConfig().to_dict())\n",
    "algoConfig_BC = algoConfig_BC.to_dict() \n",
    "list(map(algoConfig_BC.__delitem__, filter(algoConfig_BC.__contains__,remove_keys)))\n",
    "\n",
    "## initialize BCconfig\n",
    "#\n",
    "#BCConfig.overrides(**algoConfig_BC) # check new keys, this is buggy; certain attributes which are in default one raise error\n",
    "algoConfig_BC = BCConfig.from_dict(algoConfig_BC) # pass PPO config to BC\n",
    "algoConfig_BC.training(\n",
    "        beta = 0., # BCconfig already overrides this with zero = imitation learning\n",
    "        #bc_logstd_coeff: Optional[float] = NotProvided,\n",
    "        #moving_average_sqd_adv_norm_update_rate: Optional[float] = NotProvided,\n",
    "        #moving_average_sqd_adv_norm_start: Optional[float] = NotProvided,\n",
    "        vf_coeff = 0. # def 1.| 0. implies value func is not trained\n",
    "        #grad_clip: Optional[float] = NotProvided,\n",
    "    )\n",
    "#'''\n",
    "\n",
    "'''\n",
    "MARWILConfig\n",
    "SOURCE: https://docs.ray.io/en/latest/_modules/ray/rllib/algorithms/marwil/marwil.html\n",
    "\n",
    "Args:\n",
    "    beta: Scaling  of advantages in exponential terms. When beta is 0.0,\n",
    "        MARWIL is reduced to behavior cloning (imitation learning);\n",
    "        see bc.py algorithm in this same directory. (default marwill = 1.)\n",
    "    bc_logstd_coeff: A coefficient to encourage higher action distribution\n",
    "        entropy for exploration. (default marwill = 1.)\n",
    "    moving_average_sqd_adv_norm_start: Starting value for the\n",
    "        squared moving average advantage norm (c^2). (default marwill = 100.)\n",
    "    -> ALSO: moving_average_sqd_adv_norm_update_rate (default marwill = 1e-8)\n",
    "    vf_coeff: Balancing value estimation loss and policy optimization loss.\n",
    "        moving_average_sqd_adv_norm_update_rate: Update rate for the\n",
    "        squared moving average advantage norm (c^2). (default marwill = 1.)\n",
    "    grad_clip: If specified, clip the global norm of gradients by this amount. (default marwill = None)\n",
    "\n",
    "    \n",
    "'''\n",
    "## update policies config with BC specific params\n",
    "# MARWILL POLICY; https://github.com/ray-project/ray/blob/master/rllib/algorithms/marwil/marwil_torch_policy.py\n",
    "for aid in algoConfig_BC.policies.keys():\n",
    "    algoConfig_BC.policies[aid][-1].update({'beta':0.0,\n",
    "                                          'bc_logstd_coeff':1.,\n",
    "                                          'vf_coeff':0.,\n",
    "                                           'moving_average_sqd_adv_norm_update_rate':1e-8,\n",
    "                                          'moving_average_sqd_adv_norm_start':100.,\n",
    "                                          }) # TODO INFER THESE FROM DEFINED SETTINGS"
   ]
  },
  {
   "cell_type": "raw",
   "id": "df6aca92-1184-434c-b7ce-2c613a94bab1",
   "metadata": {},
   "source": [
    "## RUN BC, \n",
    "algoConfig_BC_dict = algoConfig_BC.to_dict()\n",
    "results = tune.Tuner(\n",
    "        \"BC\", # BC or MARWIL\n",
    "        run_config=air.RunConfig(\n",
    "            stop=stop,\n",
    "            local_dir = r'C:/Users/Reinier Vos/Documents/PEG1/runs', # TODO BC/runs or runs/BC folder\n",
    "            #name=\"TEST1ppo\",\n",
    "            checkpoint_config=air.CheckpointConfig(\n",
    "                #checkpoint_frequency=1, \n",
    "                checkpoint_at_end=True\n",
    "            ),\n",
    "            verbose=1,\n",
    "        ),\n",
    "        param_space=algoConfig_BC_dict,\n",
    ").fit()\n",
    "\n",
    "print(f'BE AWARE THAT THE SAVED BC ALGO IS OF PPO TYPE: {isinstance(algoConfig_BC, PPOConfig)}') # if false, its not PPO\n",
    "# here is it a BC/MARWILL CONFIG dict"
   ]
  },
  {
   "cell_type": "code",
   "execution_count": null,
   "id": "ea04278e-d5a7-4fb9-a50e-0a48ff085a40",
   "metadata": {},
   "outputs": [],
   "source": []
  },
  {
   "cell_type": "markdown",
   "id": "e71fb475-f915-4a48-9ce7-eb259c4c55fd",
   "metadata": {},
   "source": [
    "## ==== Experiment output ===="
   ]
  },
  {
   "cell_type": "code",
   "execution_count": null,
   "id": "3c3231e0-2263-4e6f-831b-93db590fb912",
   "metadata": {},
   "outputs": [],
   "source": [
    "raise"
   ]
  },
  {
   "cell_type": "code",
   "execution_count": null,
   "id": "ec8c1b99-9f11-419c-b385-3bca919a18f0",
   "metadata": {},
   "outputs": [],
   "source": [
    "if setup_env.SELFSPIEL:\n",
    "    print(setup_env.SELFSPIEL)\n",
    "    warnings.warn('NOTE THAT SELF SPIEL IS TRUE!')"
   ]
  },
  {
   "cell_type": "code",
   "execution_count": null,
   "id": "ff56d52e-f42b-48e3-9700-182b085db402",
   "metadata": {},
   "outputs": [],
   "source": [
    "if not USE_CRITIC:\n",
    "    warnings.warn('Critics are off')"
   ]
  },
  {
   "cell_type": "code",
   "execution_count": null,
   "id": "5d1653a8-1e7b-4258-af45-a9a75096e46a",
   "metadata": {},
   "outputs": [],
   "source": [
    "if HoF:\n",
    "    warnings.warn('Hall of Fame is on!')"
   ]
  },
  {
   "cell_type": "code",
   "execution_count": null,
   "id": "b3558975-d7ac-4de3-812f-bb52b9d10c4c",
   "metadata": {
    "editable": true,
    "slideshow": {
     "slide_type": ""
    },
    "tags": []
   },
   "outputs": [],
   "source": [
    "print('\\n=== CONFIG SETTINGS ===')\n",
    "\n",
    "print(f'PPO settings: lr = {ppo_config.lr} | num_sgd_iter = {ppo_config.num_sgd_iter} | gamma = {ppo_config.gamma} | entropy_coeff = {ppo_config.entropy_coeff} | grad_clip = {ppo_config.grad_clip}')\n",
    "print(f'PPO model-related: use_critic = {ppo_config.use_critic} |')\n",
    "print(f'\\n===')\n",
    "print(f'policies: {list(ppo_config.policies.keys())}')\n",
    "print(f'policies_to_train: {ppo_config.policies_to_train}')\n",
    "print(f'Rollout/Resources settings: {config_resourses_rollout}')\n",
    "print(f'Environment config (main):\\n   {ENV_CONFIG}')\n",
    "print(f'Environment config (eval):\\n   {EVAL_CONFIG}')\n",
    "print(f'Critic dict: {USE_CRITIC}\\n   {critic_dict}')"
   ]
  },
  {
   "cell_type": "code",
   "execution_count": null,
   "id": "ce46b224-b624-42b8-9435-f37fb7bce4f6",
   "metadata": {},
   "outputs": [],
   "source": [
    "#PEGutils.PolicyMapper.functionality\n",
    "HoF, ppo_config.callbacks_class.HoF_STATS, PEGutils.PolicyMapper.functionality, PEGutils.PolicyMapper.HoF_STATS"
   ]
  },
  {
   "cell_type": "code",
   "execution_count": null,
   "id": "044d91ca-a732-424e-ac86-da972f4ff2a8",
   "metadata": {},
   "outputs": [],
   "source": [
    "ppo_config.callbacks_class.functionality, ppo_config.callbacks_class.HoF_STATS, ppo_config.callbacks_class.CURRICULUM_STATS, ppo_config.callbacks_class.CLlevel_eval"
   ]
  },
  {
   "cell_type": "code",
   "execution_count": null,
   "id": "d79a753a-614b-4333-9a17-9d8bcf8a8859",
   "metadata": {
    "scrolled": true
   },
   "outputs": [],
   "source": [
    "setup_env.info_statics"
   ]
  },
  {
   "cell_type": "code",
   "execution_count": null,
   "id": "ca67b209-a7fc-4d05-ab1e-c242b27f5104",
   "metadata": {
    "scrolled": true
   },
   "outputs": [],
   "source": [
    "setup_env.agent_specs"
   ]
  },
  {
   "cell_type": "raw",
   "id": "99d3b080-d61a-4406-96c6-45fa3164872c",
   "metadata": {},
   "source": [
    "TENSORBOARD TRACK\n",
    "- TRACES; policy_reward_mean episode_len_mean ; trace seperate plots for both\n",
    "- HISTS; policy_p0_reward policy_e0_reward\n",
    "- MODEL LOSSES: model/ -> policy_loss or auxiliary loss\n",
    "- CL: CL_level\n",
    "- Vf, KL: learner_stats vf_loss, policy_loss\n",
    "- action: a_total\n",
    "- misc; gamma, BS_lagMax_mean, BS_boolMean_mean, \n",
    "tune/hist_stats\n",
    "\n",
    "tensorboard --logdir C:/Users/Reinier Vos/Documents/PEG1/runs\n",
    "tensorboard --logdir runs\n",
    "    \n",
    "            === DASHBOARD SETUP (Fight stage) ===\n",
    "policy_reward_mean (eval) | policy_reward_mean (train)\n",
    "                  vf_loss | policy_loss\n",
    "                CL_level  | episode_len_mean (eval)\n",
    "p0_BS_boolMean_mean (eval)| e0 _BS_boolMean_mean (eval)\n",
    "      game_GammaMean_mean | p0_Gamma_ppMean_mean\n",
    "                ANY policy_p0_reward\n",
    "\n",
    "            === DASHBOARD SETUP (initial learning stage) ===\n",
    "policy_reward_mean/p0 (train) | policy_reward_mean/e0 (train)\n",
    "                 vf_loss (p0) | vf_loss (e0)\n",
    "             policy_loss (p0) | policy_loss (e0)\n",
    "                    CL_level  | episode_len_mean (train)\n",
    "p0_stable_VdownwardMean_mean  | e0 _stable_VdownwardMean_mean \n",
    "            ANY policy_p0_reward, policy_e0_reward  _Gamma_ppMean_mean\n",
    "\n",
    "game_INToutcomeMax_mean, \n",
    "game_VratioMean_mean, _VnormMean_mean\n",
    "_gamma_ppMean_mean\n",
    "_disDeltaSum_Mean, _disDeltaPosMean_Mean\n",
    "#_RintSum_mean, _RtimeSum_mean, _RdisSum_mean, _RdisTSum_mean\n",
    "_RintMax_mean, _RtimeMean_mean, _RdisMean_mean, _RdisTMean_mean\n",
    "\n",
    "policy_reward_ policy_reward_mean policy_reward_min policy_reward_max \n",
    "episode_len_mean \n",
    "p0_stable_VdownwardMean_mean\n",
    "hist_stats/episode_lengths"
   ]
  },
  {
   "cell_type": "code",
   "execution_count": null,
   "id": "9f60f7bb-20d0-47b6-bedc-e7c6cd6b2340",
   "metadata": {},
   "outputs": [],
   "source": [
    "msg = \"check new config settings: (1) gamma=1 (2) envs_per_worker (3) CHECK number of learner workers\"\n",
    "#raise Exception(msg)\n",
    "warnings.warn(msg)\n"
   ]
  },
  {
   "cell_type": "code",
   "execution_count": null,
   "id": "dc815c9f-a395-4116-843f-cda492f1d6a5",
   "metadata": {
    "editable": true,
    "scrolled": true,
    "slideshow": {
     "slide_type": ""
    },
    "tags": []
   },
   "outputs": [],
   "source": [
    "ppo_config_dict = {**ppo_config.to_dict(),\n",
    "              #'create_env_on_driver': True, # def False; if True, evaluation_interval can be left off KEEP FALSE BUGGY\n",
    "              #\"disable_env_checking\": True,   \n",
    "} # ONLY NOW IS THE CONFIG CHANGED TO A DICT, NOT EARLIER!\n",
    "\n",
    "\n",
    "'''\n",
    "TUNER \n",
    "LINK: https://docs.ray.io/en/latest/tune/api/doc/ray.tune.Tuner.html\n",
    "\n",
    "note on passing config vs (built) algo instance:\n",
    "if algorithm has build/initialized already, then we cannot use the \n",
    "tuning because it is meant for 'tuning' specific hyperparameters and\n",
    "therefore has to be provided with a algo_config such that in can build\n",
    "an algo for every hyperparamter run.\n",
    "'''\n",
    "stop = {\n",
    "        #\"episode_reward_mean\": ,\n",
    "        #\"timesteps_total\": ,\n",
    "        \"training_iteration\":10000, # 20 is 15 min\n",
    "\n",
    "        #'checkpoint_freq':1,  # every n'th iteration is saved\n",
    "        #'checkpoint_at_end':True, \n",
    "}\n",
    "\n",
    "runFolderName = 'runsREPORTn1'\n",
    "\n",
    "results = tune.Tuner(\n",
    "        \"PPO\",\n",
    "        #tune_config = tune.TuneConfig(reuse_actors = True), \n",
    "        run_config=air.RunConfig(\n",
    "            stop=stop,\n",
    "            local_dir = r'C:/Users/Reinier Vos/Documents/PEG1/' + runFolderName,\n",
    "            #name=\"TEST1ppo\",\n",
    "            checkpoint_config=air.CheckpointConfig(\n",
    "                checkpoint_frequency=1,  # every n'th iteration is saved\n",
    "                checkpoint_at_end=True,\n",
    "            ),\n",
    "            verbose=1,\n",
    "        ),\n",
    "        param_space=ppo_config,\n",
    ").fit()\n"
   ]
  },
  {
   "cell_type": "raw",
   "id": "8d08d39c-d344-40e9-a28f-503b15e3153f",
   "metadata": {
    "editable": true,
    "slideshow": {
     "slide_type": ""
    },
    "tags": []
   },
   "source": [
    "PPOConfig.overrides(lr = 0.01)\n",
    "ppo_config.entropy_coeff"
   ]
  },
  {
   "cell_type": "code",
   "execution_count": null,
   "id": "a2847038-e195-4936-8272-0156af69c278",
   "metadata": {},
   "outputs": [],
   "source": [
    "ray.shutdown()\n",
    "raise"
   ]
  },
  {
   "cell_type": "raw",
   "id": "4ebe89ff-005d-405a-a7d4-6d23485ac4a0",
   "metadata": {},
   "source": [
    "import torch.distributions\n",
    "\n",
    "a, b = torch.ones(10,1)*3, torch.ones(10,1)*-50\n",
    "A\n",
    "dist = torch.distributions.normal.Normal(a, torch.exp(b))\n",
    "c = dist.sample()\n",
    "d = torch.ones(10,1)*3\n",
    "l = dist.log_prob(d)\n",
    "l.shape, c.shape, l"
   ]
  },
  {
   "cell_type": "raw",
   "id": "5e089b40-1720-482f-bb3b-05149f899a2e",
   "metadata": {
    "scrolled": true
   },
   "source": [
    "algo = ppo_config.build()"
   ]
  },
  {
   "cell_type": "raw",
   "id": "902167ec-c300-408c-b70f-682bdc76d28e",
   "metadata": {},
   "source": [
    "algo.save('runs/TESTTESTTEST')\n",
    "algo.stop()"
   ]
  },
  {
   "cell_type": "markdown",
   "id": "b0013e81-0f98-45ff-a3b8-824dffd37128",
   "metadata": {},
   "source": [
    "## ================================================================"
   ]
  },
  {
   "cell_type": "markdown",
   "id": "6bcc2364-f6ee-41bd-bfea-8f40b895912e",
   "metadata": {},
   "source": [
    "### P3: Algorithm restoration\n",
    "<br>Links:\n",
    "- Tensorboard access: tensorboard --logdir C:/Users/Reinier Vos/Documents/PEG1/runs\n",
    "- Policy/agent extraction examples: ([MA-learning ray](https://maxpumperla.com/learning_ray/ch_04_rllib/))\n",
    "- rendering of env [Ray course](https://www.google.com/search?q=display+gym+environment&oq=display+gym+environment&gs_lcrp=EgZjaHJvbWUyBggAEEUYOTIGCAEQRRhA0gEIMjg4M2owajGoAgCwAgA&sourceid=chrome&ie=UTF-8#fpstate=ive&vld=cid:80161f47,vid:XFqGBnXzAoE,st:0)\n",
    "\n",
    "**README:** note that models and environments have to be registered (under sme name) before restoration and that any updates made between saving and restoration will be implemented. Hence, if big changes are made wrt to e.g. dimensions restoration may fail!\n",
    "\n",
    "BE AWARE: be aware that reloading model script means restoring model might be difficult in case intermediary changes have occured. Currently its unclear if ray produces an error on failed restoration or if it just leaves you with a randomly initialized model.\n",
    "\n",
    "TODO\n",
    "- f\n",
    "\n",
    "#### P3.1: Algorithm state retrieval from checkpoint"
   ]
  },
  {
   "cell_type": "raw",
   "id": "858895bd-ba83-4f34-888b-fa1580521dad",
   "metadata": {},
   "source": [
    "import PEG1_models as PEGmodels\n",
    "import PEG1_env as PEGenv\n",
    "import PEG1_utils as PEGutils"
   ]
  },
  {
   "cell_type": "code",
   "execution_count": null,
   "id": "4c271dfc-f0d5-458c-bc9f-6cd6d0769df5",
   "metadata": {
    "scrolled": true
   },
   "outputs": [],
   "source": [
    "#checkpoint_folder = r\"C:\\Users\\Reinier Vos\\Documents\\PEG1\\runsREPORTn1\\PPO_2024-08-05_12-03-51\\PPO_PEG1_env_03f06_00000_0_2024-08-05_12-03-51\"\n",
    "checkpoint_folder = r\"C:\\Users\\Reinier Vos\\Documents\\PEG1\\runsREPORTn1\\hof_Plstm64d3t3g2r10N_Elstm64d0t1g1r10N_DRONES\\PPO_PEG1_env_5d2e7_00000_0_2024-07-21_20-45-13\"\n",
    "\n",
    "cols = [#'custom_metrics/CL_level',\n",
    "        #'policy_reward_mean/p0',\n",
    "        'evaluation/custom_metrics/p0Ve0_game_INToutcomeMax_mean',\n",
    "       ]\n",
    "CL_ch = pd.read_csv(checkpoint_folder + '\\progress.csv', usecols=cols)\n",
    "CL_ch = CL_ch.loc[:,cols]\n",
    "#%%\n",
    "y = CL_ch.to_numpy()#[9::10,:]\n",
    "#CL_y, P0rew_y, INT_y = y[:,0], y[:,1], y[:,2]\n",
    "INT_y = y[:,0]\n",
    "x = np.arange(len(INT_y))\n",
    "\n",
    "fig, axes = plt.subplots(1,2, figsize = (16,8))\n",
    "'''\n",
    "axes[0].scatter(x, CL_y, label = 'CL', \n",
    "           #linestyle = '--', \n",
    "           marker = 'o',\n",
    "          )\n",
    "'''\n",
    "'''\n",
    "ax.scatter(x, P0rew_y, label = 'P0rew', \n",
    "           #linestyle = '--', \n",
    "           marker = 'o',\n",
    "          )\n",
    "'''\n",
    "axes[1].scatter(x, INT_y, label = 'P0rew', \n",
    "           #linestyle = '--', \n",
    "           marker = 'o',\n",
    "          )\n",
    "#'''\n",
    "for i, txt in enumerate(x):\n",
    "    #axes[0].annotate(txt, (x[i], CL_y[i]))\n",
    "    axes[1].annotate(txt, (x[i], INT_y[i]))\n",
    "\n",
    "for ax in axes:\n",
    "    ax.legend()\n",
    "    ax.grid(True)\n",
    "\n",
    "'''\n",
    "axes[1].set_xlim([380,430])\n",
    "axes[1].set_ylim([0.8,1])\n",
    "#'''"
   ]
  },
  {
   "cell_type": "code",
   "execution_count": null,
   "id": "a8c8dbe2-365a-4d78-9c25-4f5035abffb7",
   "metadata": {},
   "outputs": [],
   "source": [
    "ch_num = 275\n",
    "checkpoint_number_name = '0'*(6-len(str(ch_num))) + str(ch_num)\n",
    "checkpoint_path = checkpoint_folder + f'\\checkpoint_{checkpoint_number_name}'\n",
    "checkpoint_path"
   ]
  },
  {
   "cell_type": "code",
   "execution_count": null,
   "id": "1001c688-e70d-40d8-bff9-6c910a0287ba",
   "metadata": {},
   "outputs": [],
   "source": [
    "INT_y[ch_num]"
   ]
  },
  {
   "cell_type": "code",
   "execution_count": null,
   "id": "c3dcc33a-fa7b-4f04-a517-b4b049b65a89",
   "metadata": {},
   "outputs": [],
   "source": [
    "SETUP_RES_FOLDER = True\n",
    "if SETUP_RES_FOLDER:\n",
    "    save_path = checkpoint_path + '\\\\results'\n",
    "    os.mkdir(save_path)\n",
    "    save_path = f'{save_path}\\\\'\n",
    "    \n",
    "    #save_label = 'Plstm32d6t3g2_Elstm32d3t1g1_NoiseBs95Hof5'\n",
    "    save_label = 'CL3_noExplore'\n",
    "    print(save_path, save_label)"
   ]
  },
  {
   "cell_type": "code",
   "execution_count": null,
   "id": "5e20b169-ac04-4aa9-8ae8-ded621543b61",
   "metadata": {},
   "outputs": [],
   "source": []
  },
  {
   "cell_type": "code",
   "execution_count": null,
   "id": "dcc2d0af-bddc-4b9a-b7fc-f8e998b43ccd",
   "metadata": {},
   "outputs": [],
   "source": [
    "'''\n",
    "ALTERNATIVE WAY (HACK) TO SETUP ALGO (instead of algo.from_checkpoint(...), WHILE ADJUSTING CONFIG\n",
    " LOAD IN STATE DICT, ADJUST AND THEN SETUP ALGORITHM\n",
    "- https://github.com/ray-project/ray/issues/36761\n",
    "'''\n",
    "importlib.reload(PEGmodels)\n",
    "\n",
    "#checkpoint_path = r\"C:\\Users\\Reinier Vos\\Documents\\PEG1\\BC\\runs\\TESTv41\"\n",
    "#checkpoint_path = r\"C:\\Users\\Reinier Vos\\Documents\\PEG1\\runs\\3D2DOF_LTC32_BS_rTimeOnlyTriangle_P2\\PPO_PEG1_env_v4_c0b08_00000_0_2024-04-09_09-57-03\\checkpoint_000000\"\n",
    "#checkpoint_path = r\"C:\\Users\\Reinier Vos\\Documents\\PEG1\\runs\\3D2DOF_LTC32_BS_rTimeOnlyTriangle_P2_NEWv42\"\n",
    "#checkpoint_path = r\"C:/Users/Reinier Vos/Documents/PEG1/runs/PPO_2024-04-19_13-48-34/PPO_PEG1_env_c08b5_00000_0_2024-04-19_13-48-34/checkpoint_000000\"\n",
    "#checkpoint_path = r\"C:\\Users\\Reinier Vos\\Documents\\PEG1\\runs\\PPO_2024-04-24_14-33-35\\PPO_PEG1_env_dea54_00000_0_2024-04-24_14-33-35\\checkpoint_000002\"\n",
    "#checkpoint_path = r\"C:\\Users\\Reinier Vos\\Documents\\PEG1\\runs\\PPO_2024-04-25_12-52-54\\PPO_PEG1_env_f83fc_00000_0_2024-04-25_12-52-54\\checkpoint_000004\"\n",
    "\n",
    "#checkpoint_path = r\"C:\\Users\\Reinier Vos\\Documents\\PEG1\\runs\\PPO_2024-05-27_11-04-17\\PPO_PEG1_env_18dc5_00000_0_2024-05-27_11-04-17\\checkpoint_000000\" # example of drones falling\n",
    "#checkpoint_path= r\"C:\\Users\\Reinier Vos\\Documents\\PEG1\\runsTUNE\\PPO_2024-05-30_20-17-04\\PPO_PEG1_env_d13bc_00000_0_2024-05-30_20-17-04\\checkpoint_000001\"\n",
    "\n",
    "#checkpoint_path = r\"C:\\Users\\Reinier Vos\\Documents\\PEG1\\runs3D4DOFV53\\PPO_2024-06-24_22-33-41\\PPO_PEG1_env_0bb2d_00000_0_2024-06-24_22-33-42\\checkpoint_000055\"\n",
    "#checkpoint_path = r\"C:\\Users\\Reinier Vos\\Documents\\PEG1\\runs3D4DOFV53\\PPO_2024-06-22_08-27-48\\PPO_PEG1_env_8bb9b_00000_0_2024-06-22_08-27-49\\checkpoint_000018\"\n",
    "#checkpoint_path = r\"C:\\Users\\Reinier Vos\\Documents\\PEG1\\runs3D4DOFV53n\\PPO_2024-07-05_12-56-38\\PPO_PEG1_env_41589_00000_0_2024-07-05_12-56-39\\checkpoint_000014\"\n",
    "\n",
    "\n",
    "#checkpoint_path = r\"C:\\Users\\Reinier Vos\\Documents\\PEG1\\runsREPORTn1\\Plstm64d3t3g2r10N_EdummyLine_INT5\\PPO_PEG1_env_cbd18_00000_0_2024-07-10_12-40-16\\checkpoint_000018\"\n",
    "\n",
    "\n",
    "from ray.rllib.algorithms.algorithm import Algorithm\n",
    "from ray.rllib.utils.checkpoints import get_checkpoint_info\n",
    "checkpoint_info = get_checkpoint_info(checkpoint_path)\n",
    "checkpoint_info"
   ]
  },
  {
   "cell_type": "raw",
   "id": "f75a1228-1afc-4f5d-a5cf-c3632bbc5dc0",
   "metadata": {},
   "source": [
    "from ray.rllib.policy.policy import Policy\n",
    "Policy.from_checkpoint(checkpoint_path)"
   ]
  },
  {
   "cell_type": "code",
   "execution_count": null,
   "id": "6bfd619c-5dbd-41ba-9e36-a1dad6014e5b",
   "metadata": {},
   "outputs": [],
   "source": [
    "## override policy mapping func in case of self-spiel\n",
    "POLICYMAP_OVERRIDE = True # True False\n",
    "policy_mapping_fn_override = None\n",
    "if POLICYMAP_OVERRIDE:\n",
    "    #importlib.reload(PEGutils)\n",
    "    '''\n",
    "    PEGutils.PolicyMapper.setup_functionality(selfspiel = False, HoF = False, HoF)\n",
    "    \n",
    "    policy_mapping_fn_override =  PEGutils.PolicyMapper.policy_mapping_fn\n",
    "    ''' \n",
    "    def PolMap(aid, *args, **kwargs):\n",
    "        return aid\n",
    "    policy_mapping_fn_override = PolMap\n",
    "    #''' \n",
    "    \n",
    "POLICYMAP_OVERRIDE"
   ]
  },
  {
   "cell_type": "code",
   "execution_count": null,
   "id": "f4bece51-d953-4d52-9555-3f2afdd8dbbf",
   "metadata": {},
   "outputs": [],
   "source": [
    "algo_state = Algorithm._checkpoint_info_to_algorithm_state(\n",
    "    checkpoint_info=checkpoint_info,\n",
    "    policy_ids=None, #['p0','e0'],\n",
    "    policy_mapping_fn=policy_mapping_fn_override, # overrides worker, but not eval policy_map\n",
    "    policies_to_train=None, #['p0','e0'],\n",
    ") # these none's are fine, ray rllib infers them from elsewhere\n",
    "if POLICYMAP_OVERRIDE:\n",
    "    algo_state['eval_policy_mapping_fn'] = policy_mapping_fn_override # override eval config as well!\n",
    "    #algo_state['eval_policy_mapping_fn']('test')\n",
    "POLICYMAP_OVERRIDE"
   ]
  },
  {
   "cell_type": "code",
   "execution_count": null,
   "id": "6d81e785-b61e-4262-b81e-28410a5a063c",
   "metadata": {},
   "outputs": [],
   "source": [
    "algo_state['config'].evaluation_duration"
   ]
  },
  {
   "cell_type": "raw",
   "id": "609087df-40e2-46cf-9f6b-c5f056302c53",
   "metadata": {},
   "source": [
    "algo_state['worker']['policy_mapping_fn']('test')"
   ]
  },
  {
   "cell_type": "markdown",
   "id": "5257fa8e-b808-4b9d-ba99-c6fd4ce8b606",
   "metadata": {},
   "source": [
    "#### P3.2: Algorithm state adjustment \n",
    "stripping of resources, adjusting eval setting etc"
   ]
  },
  {
   "cell_type": "code",
   "execution_count": null,
   "id": "ff6ab252-2d83-44ba-8525-7c46db357bbb",
   "metadata": {
    "scrolled": true
   },
   "outputs": [],
   "source": [
    "'''\n",
    "TODO MAKE THIS A FUNCTION, WITH A CONFIG WHICH IS PASSED; \n",
    "STEPS\n",
    "- get checkpoint info and print\n",
    "- adjust the state based on specifics and required adjustments\n",
    "    - reduce resources to local only\n",
    "    - remove callback funcs on_algo_init\n",
    "    -\n",
    "    -\n",
    "    -\n",
    "- REPLACE A POLICY\n",
    "- register models and env\n",
    "- create the algo\n",
    "- call the callback specific functions we already made? maybe these are no longer needed? \n",
    "    - in worst case it ensures e.g. non-exploration behaviour & nicely instructs env on saving results\n",
    "\n",
    "TODO;\n",
    "- ensure continued training is no longer possible\n",
    "- TODO maybe the best is to do the following;\n",
    "    - config= state['config'].to_dict()\n",
    "    - algoConfig.from_dict(config)\n",
    "    - then override like e.g. algoConfig.resources()\n",
    "\n",
    "CONFIG ATTRIBUTES AT:\n",
    "https://docs.ray.io/en/latest/_modules/ray/rllib/algorithms/algorithm_config.html#AlgorithmConfig.resources\n",
    "'''\n",
    "## non-inference related (required do not change\n",
    "#'''\n",
    "importlib.reload(PEGutils)\n",
    "algo_state['config'].callbacks_class = PEGutils.CustomCallback # for old versions we might have to override the callback class type\n",
    "PEGutils.CustomCallback.setup_metrics(custom_metrics_dict) # add metrics list\n",
    "#'''\n",
    "algo_state['config'].callbacks_class.setup_functionality(restore = False, HoF = False, curriculum= False,\n",
    "                                                         episode = True, evaluate = True) # switch off policy/model restoration callback\n",
    "# note that algo_state does not contain a callback instance, only the class object\n",
    "# the algo (not algo_state) will contain the callback under algo.callbacks\n",
    "\n",
    "# inference setup\n",
    "#algo_state['config'].in_evaluation = True # does not work, also I dont know what it does\n",
    "algo_state['config'].explore = False\n",
    "\n",
    "# resources\n",
    "''' \n",
    "!!!!!!!!      !!!!!!!!     !!!!!!!!\n",
    "TODO SINCE ITS AN ALGO, WHY DONT WE USE THE SPECIFIC FUNCTIONALITY E.G. algo_state['config'].resources()\n",
    "- it would be nice since we would know for sure that we have right attribute syntax/spelling\n",
    "\n",
    "-> it might override all settings though and we only want to adjust specifics e.g. gpu (CHECK THIS)\n",
    "- it would be extremely nice through for e.g.  stripping of resources as we can just call the function with some dict \n",
    "    i.e. algo_state['config'].resources(**strip_resoures_dict) where strip_resoures_dict = {num_gpus: 0,...}\n",
    "'''  \n",
    "algo_state['config'].num_gpus = 1 # to speed up inference use a gpu\n",
    "algo_state['config'].num_rollout_workers = 0 # for training, so keep to zero\n",
    "algo_state['config'].num_envs_per_worker = 10 # 10 speedup inference by (num_envs_per_worker,T,F) batches\n",
    "\n",
    "\n",
    "## customizeable\n",
    "\n",
    "## reward related\n",
    "if algo_state[\"config\"].gamma!=1: warnings.warn(f'Gamma != 1 encountered (={algo_state[\"config\"].gamma}), replacing') \n",
    "\n",
    "warnings.warn('\\n\\n ATTENTION WE APPARENTLY CANNOT OVERRIDE GAMMA! \\\n",
    "maybe this is because we have to use .training() and cannot directly \\\n",
    "state but resetting is completely ignored\\n\\n')\n",
    "\n",
    "algo_state['config'].gamma = 1.\n",
    "\n",
    "## eval\n",
    "algo_state['config'].evaluation_duration = 100\n",
    "#algo_state['config'].evaluation_config = {}  # dont adjust if not needed\n",
    "algo_state['config'].evaluation_num_workers  = 0 # def 0\n",
    "\n",
    "##\n",
    "#output_dir = r\"C:\\Users\\Reinier Vos\\Documents\\PEG1\\data\\env_sampling\"\n",
    "#checkpoint_path = r\"C:\\Users\\Reinier Vos\\Documents\\PEG1\\results\\phase324_30042024\\p0convVSe0conv\"\n",
    "output_dir = checkpoint_path + '\\eval_SBsample'\n",
    "'''\n",
    "algo_state['config'].offline_data(output = output_dir)\n",
    "#'''\n",
    "\n",
    "#'''\n",
    "# override policy map\n",
    "#PEGutils.PolicyMapper.setup_functionality(selfspiel = False)\n",
    "#algo_state['config'].evaluation_config['eval_policy_mapping_fn'] = PEGutils.PolicyMapper.policy_mapping_fn\n",
    "#algo_state['config'].evaluation_config['policy_mapping_fn'] = PEGutils.PolicyMapper.policy_mapping_fn\n",
    "# NEITHER OF THESE WORK\n",
    "#'''\n",
    "\n",
    "'''\n",
    "time_limit = 10.1\n",
    "algo_state['config'].evaluation_config['env_config']['t_limit'] = time_limit\n",
    "algo_state['config'].env_config['t_limit'] = time_limit\n",
    "#''' \n",
    "##\n",
    "ENV_CONFIG = algo_state['config'].env_config\n",
    "ENV_EVAL_CONFIG = algo_state['config'].evaluation_config['env_config']\n",
    "output_dir, ENV_CONFIG, ENV_EVAL_CONFIG"
   ]
  },
  {
   "cell_type": "raw",
   "id": "68da5e77-85b6-4a3c-af50-506f030e6ff3",
   "metadata": {
    "scrolled": true
   },
   "source": [
    "algo_state['config'].env_config['SA']['dummy_evader_3D4DOF'] = True\n",
    "algo_state['config'].evaluation_config['env_config']['SA']['dummy_evader_3D4DOF'] = algo_state['config'].env_config['SA']['dummy_evader_3D4DOF']\n",
    "algo_state['config'].env_config['SA']['dummy_evader_3D4DOF']"
   ]
  },
  {
   "cell_type": "raw",
   "id": "4f59772c-bf08-4263-8fce-4cc34f5e854a",
   "metadata": {
    "scrolled": true
   },
   "source": [
    "algo_state['config'].env_config['SA']['SELFSPIEL'] = False\n",
    "algo_state['config'].evaluation_config['env_config']['SA']['SELFSPIEL'] = algo_state['config'].env_config['SA']['SELFSPIEL']\n",
    "algo_state['config'].env_config['SA']['SELFSPIEL']"
   ]
  },
  {
   "cell_type": "raw",
   "id": "8783e3cf-0e9a-404b-b0db-e9b3cfa87649",
   "metadata": {
    "scrolled": true
   },
   "source": [
    "algo_state['config'].env_config['SA']['v_rel_control'] = False\n",
    "algo_state['config'].evaluation_config['env_config']['SA']['v_rel_control'] = algo_state['config'].env_config['SA']['v_rel_control']\n",
    "algo_state['config'].env_config['SA']['v_rel_control']"
   ]
  },
  {
   "cell_type": "code",
   "execution_count": null,
   "id": "9084cc9c-44cb-4c0e-ba0f-299dfcaa75a4",
   "metadata": {
    "scrolled": true
   },
   "outputs": [],
   "source": [
    "algo_state['config'].evaluation_config"
   ]
  },
  {
   "cell_type": "raw",
   "id": "8dfd48f8-728d-4457-94a1-d8227044c13c",
   "metadata": {},
   "source": [
    "output_dir = checkpoint_path + '\\\\eval_SBsample'\n",
    "os.mkdir(output_dir)"
   ]
  },
  {
   "cell_type": "raw",
   "id": "0904cbfa-c121-411d-889a-92563909a737",
   "metadata": {},
   "source": [
    "output_dir = checkpoint_path + '\\\\results'\n",
    "os.mkdir(output_dir)"
   ]
  },
  {
   "cell_type": "markdown",
   "id": "096998a5-166c-4982-be6f-b1f2adfb1785",
   "metadata": {},
   "source": [
    "#### P3.3: Algorithm's policy overriding/replacement (if desired)"
   ]
  },
  {
   "cell_type": "code",
   "execution_count": null,
   "id": "58b9e241-6ba9-4189-86fb-b36e9154e2d6",
   "metadata": {
    "scrolled": true
   },
   "outputs": [],
   "source": [
    "DO_REPLACE = False\n",
    "if DO_REPLACE:\n",
    "    warnings.warn('REPLACING/OVERRIDING OLD POLICIES')\n",
    "\n",
    "    APPENDIX = {'BenchmarkTorch_StaticGainPN_p0':{'model':PEGmodels.BenchmarkTorch_StaticGainPN,\n",
    "                             'model_config':{'gain':3., 'SA':{'Dimension':3,'DOF':2}},  # 'identifier' key to force model registration\n",
    "                             'explore':False, # note that eval has forced exploitation (= no explore)\n",
    "                             'extra':{}, # extra settings e.g. gamma\n",
    "                            },\n",
    "                'BenchmarkTorch_StaticGainPN_e0':{'model':PEGmodels.BenchmarkTorch_StaticGainPN,\n",
    "                             'model_config':{'gain':-3., 'SA':{'Dimension':3,'DOF':2}},  # 'identifier' key to force model registration\n",
    "                             'explore':False, # note that eval has forced exploitation (= no explore)\n",
    "                             'extra': {},#{'gamma':1}, # extra settings e.g. gamma\n",
    "                            },\n",
    "                 'CustomTorch_DummyNullModel':{'model':PEGmodels.CustomTorch_DummyNullModel,\n",
    "                     'model_config':{}, # 'identifier' key to force model registration\n",
    "                     'explore':False, # note that eval has forced exploitation (= no explore)\n",
    "                     'extra':{}, # extra settings e.g. gamma\n",
    "                    },\n",
    "                 'CustomTorchFNNTuneModel':{'model':PEGmodels.CustomTorchFNNTuneModel,\n",
    "                     'model_config':{}, # 'identifier' key to force model registration\n",
    "                     'explore':True, # note that eval has forced exploitation (= no explore)\n",
    "                     'extra':{}, # extra settings e.g. gamma\n",
    "                    },\n",
    "                 }\n",
    "\n",
    "    policySpec_replace = {# switch off agents in case you do not want to replace them\n",
    "                      #'p0':APPENDIX['BenchmarkTorch_StaticGainPN_p0'],\n",
    "                      'e0':APPENDIX['CustomTorch_DummyNullModel'],\n",
    "                      #'e0':APPENDIX['CustomTorchFNNTuneModel'],\n",
    "                     }\n",
    "    \n",
    "    policySpecs_tbcleared = PEGutils.PolicyUtils.set_PolicySpecs(policySpec_replace, AlgoConfig = algo_state['config'])\n",
    "    #PEGutils.PolicyUtils.register_models_from_PolicySpecs(PEGmodels, algo_state['config']) # register models # registration done next cell\n",
    "    PEGutils.PolicyUtils.clear_policy_states(PEGmodels, algo_state['worker']['policy_states'], policySpecs_tbcleared)\n",
    "DO_REPLACE"
   ]
  },
  {
   "cell_type": "raw",
   "id": "7abc1b0b-c060-4843-99a4-cbb2606a7647",
   "metadata": {},
   "source": [
    "checkpoint_restore = r\"C:\\Users\\Reinier Vos\\Documents\\PEG1\\runs\\PPO_2024-05-28_14-09-32\\PPO_PEG1_env_2430b_00000_0_2024-05-28_14-09-32\\checkpoint_000002\" #\n",
    "#'''\n",
    "restore_aids = ['p0','e0']\n",
    "#restore_aids = ['p0']\n",
    "policy_restore_dict = dict.fromkeys(restore_aids,checkpoint_restore) # same checkpoint for both agents\n",
    "'''\n",
    "policy_restore_dict = {'p0':'path1',\n",
    "                       'e0':'path2',\n",
    "                      }\n",
    "#'''\n",
    "PEGutils.CustomCallback.setup_restore_config(policy_restore_dict = policy_restore_dict)"
   ]
  },
  {
   "cell_type": "raw",
   "id": "d96757a3-d9c5-4fe8-9251-e01fed10fb47",
   "metadata": {},
   "source": [
    "## forced model registration\n",
    "model_identifier = \"\"\n",
    "model_object = PEGmodels.\n",
    "ModelCatalog.register_custom_model(model_identifier, model_object)"
   ]
  },
  {
   "cell_type": "raw",
   "id": "7086878c-9f97-4b8f-9b67-c37fd86ea02d",
   "metadata": {},
   "source": [
    "algo_state['config'].policies , algo_state['config'].callbacks_class"
   ]
  },
  {
   "cell_type": "markdown",
   "id": "6a1d0c96-e6b3-480c-b2f4-b9ff848aed3b",
   "metadata": {},
   "source": [
    "#### P3.4: Algorithm restoration (building/initialization)\n",
    "\n",
    "Note on using (A)'Algorithm.from_state' vs (B) 'Algorithm.from_checkpoint'. Option A has the ability to adjust the config before algo initialization, such that we can e.g. strip resources we do not require. Option B restores the algorithm in exactly the manner in which is was saved, which means training could immediately continue. However, this also means a lot of resources/workers are initialized which might not be used in this section of the notebook."
   ]
  },
  {
   "cell_type": "raw",
   "id": "212f3136-d7a1-47f8-bf7f-7c5f08ddf979",
   "metadata": {},
   "source": [
    "algo_state['config'].clip_actions = True\n",
    "for aid in ['p0','e0']:\n",
    "    algo_state['config'].policies[aid][-1]['clip_actions'] = True\n",
    "algo_state['config'].policies"
   ]
  },
  {
   "cell_type": "code",
   "execution_count": null,
   "id": "b6e17b4f-66dd-4a18-a8aa-f5f3c019c722",
   "metadata": {},
   "outputs": [],
   "source": [
    "print('\\n=== CONFIG SETTINGS ===')\n",
    "\n",
    "ppo_config = algo_state['config']\n",
    "print(f'PPO settings: lr = {ppo_config.lr} | gamma = {ppo_config.gamma}')\n",
    "print(f'\\n===')\n",
    "print(f'policies: {list(ppo_config.policies.keys())}')\n",
    "print(f'policies_to_train: {ppo_config.policies_to_train}')\n",
    "#print(f'Rollout/Resources settings: {config_resourses_rollout}')\n",
    "print(f'Environment config (main):\\n   {ppo_config.env_config}')\n",
    "print(f'Environment config (eval):\\n   {ppo_config.evaluation_config}')"
   ]
  },
  {
   "cell_type": "raw",
   "id": "404e5049-dd0c-4669-8416-2bc71b178bc9",
   "metadata": {},
   "source": [
    "ppo_config.evaluation_config['env_config']['CL_level'] = 0"
   ]
  },
  {
   "cell_type": "code",
   "execution_count": null,
   "id": "85e7e1f0-4585-400b-a299-9844c69e953d",
   "metadata": {
    "scrolled": true
   },
   "outputs": [],
   "source": [
    "select_env = \"PEG1_env\" # adjust env registered name in checkpoint through; algo_state['config']['env'] = 'PEG1_env'\n",
    "importlib.reload(PEGenv)\n",
    "register_env(select_env, lambda config: PEGenv.PursuitEvasionEnv(config)) # apparently registering env is required for ray to load in policy\n",
    "\n",
    "## REGISTER MODELS\n",
    "PEGutils.PolicyUtils.register_models_from_PolicySpecs(PEGmodels, algo_state['config']) # register models\n",
    "\n",
    "algo = Algorithm.from_state(algo_state) # This `algo` has been stripped of resources\n",
    "# Algorithm.from_checkpoint(checkpoint_path) # not used, see note at start of notebook section\n",
    "\n",
    "type(algo.get_policy('p0').model), type(algo.get_policy('e0').model)"
   ]
  },
  {
   "cell_type": "code",
   "execution_count": null,
   "id": "f887d0f6-29b2-4f82-9087-201d928c4e1f",
   "metadata": {},
   "outputs": [],
   "source": [
    "algo.get_policy('p0').model.view_requirements"
   ]
  },
  {
   "cell_type": "code",
   "execution_count": null,
   "id": "8d232b88-66b0-42b5-838f-8b8dd272b305",
   "metadata": {},
   "outputs": [],
   "source": [
    "algo.config.policy_mapping_fn('test')"
   ]
  },
  {
   "cell_type": "code",
   "execution_count": null,
   "id": "87b5bcc7-5126-4baf-919e-32f4dc30153c",
   "metadata": {},
   "outputs": [],
   "source": [
    "pol_lst = []\n",
    "for n in range(50):\n",
    "    pol_lst.append(algo.config.policy_mapping_fn('e0'))\n",
    "uniques = np.unique(pol_lst)\n",
    "assert len(uniques) == 1, 'Other policy ids encountered encountered:\\n{uniques}'"
   ]
  },
  {
   "cell_type": "code",
   "execution_count": null,
   "id": "655ebda2-cea2-4390-9002-ac9b72ed9187",
   "metadata": {
    "scrolled": true
   },
   "outputs": [],
   "source": [
    "pol = algo.get_policy('e0')\n",
    "pol.dist_class"
   ]
  },
  {
   "cell_type": "code",
   "execution_count": null,
   "id": "7911a5c3-1aaf-41e3-87dc-8c6a3364294c",
   "metadata": {
    "scrolled": true
   },
   "outputs": [],
   "source": [
    "pol.model"
   ]
  },
  {
   "cell_type": "raw",
   "id": "994b7af3-1a6d-4785-8a89-4d70dfb3b4ff",
   "metadata": {},
   "source": [
    "algo.stop()"
   ]
  },
  {
   "cell_type": "raw",
   "id": "b5b01f0c-bc36-4c07-a6a8-089ed5685d1b",
   "metadata": {
    "scrolled": true
   },
   "source": [
    "algo.config.__dict__ #.custom_action_dist"
   ]
  },
  {
   "cell_type": "markdown",
   "id": "f85c4543-75fc-4f2b-8b45-832a37decf72",
   "metadata": {},
   "source": [
    "##### OVERRIDE POLICIES WITH EXTRA ACTION OUT FUNCTION"
   ]
  },
  {
   "cell_type": "code",
   "execution_count": null,
   "id": "be1acf83-f020-4fd6-a39b-2819901381b5",
   "metadata": {
    "scrolled": true
   },
   "outputs": [],
   "source": [
    "EXTRA_ACT = False\n",
    "if EXTRA_ACT:\n",
    "    importlib.reload(PEGutils)\n",
    "    agent_ids = ['p0',\n",
    "                'e0',\n",
    "                ]\n",
    "    PEGutils.PolicyUtils.override_policies_extra_action_out(algo, agent_ids = agent_ids)\n",
    "    \n",
    "    pol = algo.get_policy('p0')\n",
    "    #pol, type(pol), pol.extra_action_out(1,1,1,1)\n",
    "EXTRA_ACT"
   ]
  },
  {
   "cell_type": "raw",
   "id": "ede1f321-aaad-416d-b819-2dbf75254753",
   "metadata": {},
   "source": [
    "''' \n",
    "pol = algo.get_policy('p0')\n",
    "model = pol.model\n",
    "''' \n",
    "model = torch.nn.Module\n",
    "#''' \n",
    "num_trainable_params = sum(p.numel() for p in model.parameters() if p.requires_grad)\n",
    "num_trainable_params"
   ]
  },
  {
   "cell_type": "raw",
   "id": "6593c1a6-453a-4c3a-9030-06077c330458",
   "metadata": {
    "scrolled": true
   },
   "source": [
    "algo.config.policies"
   ]
  },
  {
   "cell_type": "raw",
   "id": "18c911b7-f14a-43e4-9bf7-10cdc6f510e3",
   "metadata": {},
   "source": [
    "algo.save(r\"C:\\Users\\Reinier Vos\\Documents\\PEG1\\runs\\3D2DOF_LTC32_BS_rTimeOnlyTriangle_P2_NEWv42\")"
   ]
  },
  {
   "cell_type": "raw",
   "id": "15ab4021-51bf-48b6-b3a8-fa48783a1408",
   "metadata": {},
   "source": [
    "algo.stop()"
   ]
  },
  {
   "cell_type": "raw",
   "id": "c0798eb0-3cc8-4976-96b6-8fa8bc62566b",
   "metadata": {},
   "source": [
    "policy = algo.get_policy('p0')\n",
    "policy.model.gain_matrix"
   ]
  },
  {
   "cell_type": "raw",
   "id": "d0a30383-5fbb-494c-8888-8fd66b6b4399",
   "metadata": {},
   "source": [
    "policy = algo.get_policy('e0')\n",
    "policy.model"
   ]
  },
  {
   "cell_type": "markdown",
   "id": "02edb86d-1b5b-4c81-9a1a-f434ddc28dae",
   "metadata": {},
   "source": [
    "### P4: Algorithm evaluation and analysis\n",
    "\n",
    "F\n",
    "FF\n",
    "\n",
    "#### P4.1: Evaluation Preparation\n",
    "\n",
    "NOTE on adjusting the callback; access the callback CLASS through 'algo.config[callbacks]' and access the callback INSTANCE through 'algo.callbacks'. It is important to recognize that with regard to callbacks I do NOT believe the config is used anymore, so any changes should be made to the instance!"
   ]
  },
  {
   "cell_type": "code",
   "execution_count": null,
   "id": "70aa6524-f252-440e-9670-b12a24c09894",
   "metadata": {},
   "outputs": [],
   "source": [
    "import PEG1_analysis as PEGanalysis"
   ]
  },
  {
   "cell_type": "raw",
   "id": "d0429633-4ea0-4783-8187-fb9eca8742cb",
   "metadata": {},
   "source": [
    "importlib.reload(PEGenv)"
   ]
  },
  {
   "cell_type": "code",
   "execution_count": null,
   "id": "8fa42a31-8f83-4aa2-a917-7d08e1589f7f",
   "metadata": {},
   "outputs": [],
   "source": [
    "setup_env = PEGenv.PursuitEvasionEnv(ENV_CONFIG)\n",
    "_, setup_info = setup_env.reset(setting_eval = True)"
   ]
  },
  {
   "cell_type": "code",
   "execution_count": null,
   "id": "4e3077d9-9828-4599-8cf7-141f2b1e88b4",
   "metadata": {
    "scrolled": true
   },
   "outputs": [],
   "source": [
    "setup_env.agent_specs"
   ]
  },
  {
   "cell_type": "raw",
   "id": "83aec9f6-1b1b-4376-87ca-0f16f745d783",
   "metadata": {},
   "source": [
    "algo.config['callbacks'] # callback class\n",
    "algo.callbacks # callback instance"
   ]
  },
  {
   "cell_type": "raw",
   "id": "8d48dfe0-1907-4a91-8b3f-4eb2d83269c8",
   "metadata": {},
   "source": [
    "## adjusting custom metrics (tb tracked), note that this adjust the callback class not instance\n",
    "custom_metrics_dict_new = {}\n",
    "algo.config['callbacks'].setup_metrics(custom_metrics_dict_new) # uncomment to update metrics dict"
   ]
  },
  {
   "cell_type": "code",
   "execution_count": null,
   "id": "8e3bb601-0c6f-4c38-a35d-ef01f57cf6b5",
   "metadata": {
    "scrolled": true
   },
   "outputs": [],
   "source": [
    "algo.config.env_config, algo.callbacks.custom_metrics_dict, algo.callbacks.setting_eval"
   ]
  },
  {
   "cell_type": "code",
   "execution_count": null,
   "id": "e39dbd42-84d8-4d78-a052-b1951de1f109",
   "metadata": {},
   "outputs": [],
   "source": [
    "#algo.config.env_config.update({'setting_eval':True})  # I dont think this will matter\n",
    "CL_LEVEL = 3\n",
    "#explore_eval_setting = dict.fromkeys(setup_env.agent_id, False) # True False\n",
    "explore_eval_setting = {'p0':False,'e0':False} # \n",
    "explore_eval_setting = {**explore_eval_setting, **dict.fromkeys([f'e0HoF{x}' for x in range(5)], False)}\n",
    "#explore_eval_setting = {'p0':False, 'e0': False}\n",
    "\n",
    "if any(list(explore_eval_setting.values())):\n",
    "    warnings.warn('ATTENTION: At least one agent has explore = True during eval!')\n",
    "\n",
    "algo.callbacks.set_setting_eval(True) # switches on eval setting in callback to store all results\n",
    "algo.callbacks.set_explore_eval(explore_eval_setting) # sets exploration setting for all policies (bool) or agent specific (DICT)\n",
    "algo.callbacks.set_CLlevel_eval(CL_LEVEL) # sets CL level during evaluation setting for all policies\n",
    "CL_LEVEL, explore_eval_setting"
   ]
  },
  {
   "cell_type": "code",
   "execution_count": null,
   "id": "f115b6cb-ad21-4891-a312-0c1207d41789",
   "metadata": {},
   "outputs": [],
   "source": [
    "algo.callbacks.functionality"
   ]
  },
  {
   "cell_type": "markdown",
   "id": "2d9a3ad6-69f6-49ac-9627-1488d6b7afd7",
   "metadata": {},
   "source": [
    "#### P4.2: Evaluation (online)"
   ]
  },
  {
   "cell_type": "code",
   "execution_count": null,
   "id": "2bd65917-b3a0-4605-bef1-9f58ce4a14c1",
   "metadata": {},
   "outputs": [],
   "source": [
    "algo.config.evaluation_duration, algo.config.evaluation_duration_unit, algo.config.num_envs_per_worker"
   ]
  },
  {
   "cell_type": "markdown",
   "id": "875812b9-fd08-425c-a12e-2625b8f830b5",
   "metadata": {},
   "source": [
    "##### P4.2A: Single eval call"
   ]
  },
  {
   "cell_type": "raw",
   "id": "f90adf14-0766-4661-bd87-b6f8fc888f84",
   "metadata": {},
   "source": [
    "\n",
    "class EvalDuration:\n",
    "    '''\n",
    "    THIS IS COMPLETELY IGNORED IN CASE YOU HAVE NO REMOTE WORKERS (i.e. only local = main gpu+cpu bundle)\n",
    "    SEE: https://docs.ray.io/en/latest/_modules/ray/rllib/algorithms/algorithm.html#Algorithm.evaluate\n",
    "    -> without remote workers we have (which does not use duration_fn):\n",
    "        elif self.evaluation_workers.num_remote_workers() == 0:\n",
    "\n",
    "    '''\n",
    "    def __init__(self, episodes_total):\n",
    "        self.episodes_total = episodes_total\n",
    "        return \n",
    "        \n",
    "    def __call__(self, episodes_done):\n",
    "        assert False, episodes_done\n",
    "        episodes_left = max(self.episodes_total-episodes_done,0)\n",
    "        return episodes_left\n",
    "\n",
    "eval_duration_func = EvalDuration(4)\n",
    "eval_out = algo.evaluate(eval_duration_func)"
   ]
  },
  {
   "cell_type": "code",
   "execution_count": null,
   "id": "219c6239-ffda-4b4d-8303-1d889693bd4e",
   "metadata": {
    "scrolled": true
   },
   "outputs": [],
   "source": [
    "# NOTE THAT ALGO CONTINUES WITH SEED FROM PREVIOUS CALL, ITS NOT RESET!\n",
    "print(f'Eval run for N_envs/envs_parallel = {algo.config[\"evaluation_duration\"]}/{algo.config[\"num_envs_per_worker\"]}')\n",
    "eval_out = algo.evaluate() # note that duration functions provided is completely ignored if you only have local workers!\n",
    "\n",
    "# TODO ADD POLICY (i.e. modeltype?) INFORMATION TO ENV?\n",
    "# TODO INCREASE EVAL WORKERS IN CONFIG INITIAL (BUT KNOW THAT I DONT KNOW WHAT CHANGES IN THOSE CASES)\n",
    "'''\n",
    "IF YOU WANT MORE EVAL EPISODES, THEN JUST CALL THIS EPISODE MULTIPLE TIMES\n",
    "\n",
    "NOTE WRT TO seed; the seed identifier is not reset between calls, because\n",
    "    \n",
    "    e.g. first call seeds [0,1,2], then second call seeds has [3,4,5] \n",
    "\n",
    "TODO; reseeding/resetting of seed can be done through on_episode_created callback and an env function\n",
    "'''\n",
    "## unpack\n",
    "eval_metrics = eval_out['evaluation']\n",
    "eval_histories = eval_out['env_histories']\n",
    "\n",
    "##\n",
    "seeds = []\n",
    "for his in eval_histories:\n",
    "    seed = his[5]['env']['seed_unique']\n",
    "    seeds.append(seed)\n",
    "seeds = np.array(seeds)\n",
    "if len(seeds) != len(set(seeds)): warnings.warn('Duplicate seeds encountered')  \n",
    "##\n",
    "CL_LEVEL, len(eval_histories), algo.callbacks.setting_eval, seeds"
   ]
  },
  {
   "cell_type": "code",
   "execution_count": null,
   "id": "e0d7ea0f-45a0-4488-acbc-28759719a62b",
   "metadata": {},
   "outputs": [],
   "source": [
    "if setup_env.SELFSPIEL:\n",
    "    warnings.warn('selfspiel still active')"
   ]
  },
  {
   "cell_type": "code",
   "execution_count": null,
   "id": "e7dacc36-6525-4132-9f60-d6f940e39c75",
   "metadata": {
    "scrolled": true
   },
   "outputs": [],
   "source": [
    "eval_metrics"
   ]
  },
  {
   "cell_type": "raw",
   "id": "16a5eb2a-c576-447b-a411-3444d3fa1db2",
   "metadata": {},
   "source": [
    "raise"
   ]
  },
  {
   "cell_type": "markdown",
   "id": "20c68301-12e1-4410-9190-7d6301628f0c",
   "metadata": {},
   "source": [
    "##### P4.2B: Multiple eval calls"
   ]
  },
  {
   "cell_type": "raw",
   "id": "47f18212-e208-4f20-b64c-35408ada09ef",
   "metadata": {},
   "source": [
    "## AUTOMATED MUTLIPLE EVAL CALL\n",
    "num_eval_episodes = 400 # please choose a multiple of algo.config.evaluation_duration\n",
    "\n",
    "N_calls = int(np.ceil(num_eval_episodes/algo.config.evaluation_duration))\n",
    "\n",
    "eval_metrics, eval_histories = [],  [] # todo call these '_packed' for tracktability\n",
    "\n",
    "for call in range(N_calls):\n",
    "    eval_out_c = algo.evaluate()\n",
    "    ##\n",
    "    eval_metrics.append(eval_out_c['evaluation'])\n",
    "    eval_histories.append(eval_out_c['env_histories'])\n",
    "\n",
    "## unpack results\n",
    "# todo use _packed for the next ones?\n",
    "eval_metrics = [j for i in eval_metrics for j in i] \n",
    "eval_histories = [j for i in eval_histories for j in i] \n",
    "\n",
    "## post-processing check (seed uniqueness)\n",
    "seeds = []\n",
    "for his in eval_histories:\n",
    "    seed = his[5]['env']['seed_unique']\n",
    "    seeds.append(seed)\n",
    "\n",
    "    mismatch = len(seeds) - len(set(seeds)) # total length - set length = unique mismatch\n",
    "    ## check uniqueness\n",
    "    assert mismatch == 0, 'Duplicate seeds encounterd N ={mismatch},\\n{np.array(seeds)}'\n"
   ]
  },
  {
   "cell_type": "raw",
   "id": "8b3ce855-6374-412a-a1d3-8c3cd56dc4c4",
   "metadata": {},
   "source": [
    "algo.stop()"
   ]
  },
  {
   "cell_type": "markdown",
   "id": "c94c03e9-8c9b-41a4-a969-e9fcf58c0604",
   "metadata": {},
   "source": [
    "##### P4.2C: Quick analysis"
   ]
  },
  {
   "cell_type": "code",
   "execution_count": null,
   "id": "c7812c40-b153-484c-b1be-da92b9bcb4a7",
   "metadata": {
    "scrolled": true
   },
   "outputs": [],
   "source": [
    "miscs = {}\n",
    "for run, his in enumerate(eval_histories):\n",
    "    #miscs[f'R{run}'] = his[5]['env']\n",
    "    miscs[f'R{run}'] = his[5]['agent']['e0'] # dont give final level here i.e. ensure dict is passed\n",
    "\n",
    "miscs_df = pd.DataFrame(miscs).T\n",
    "#miscs_df.sort_values('v_rel', inplace = True, ascending = True)\n",
    "miscs_df"
   ]
  },
  {
   "cell_type": "markdown",
   "id": "8916b24c-581f-415d-801c-4b95441b144d",
   "metadata": {},
   "source": [
    "#### P4.3: Storing results\n",
    "##### P4.3A: Save & load histories"
   ]
  },
  {
   "cell_type": "code",
   "execution_count": null,
   "id": "68dbf9d1-c390-457f-b312-5bdb5ff44067",
   "metadata": {},
   "outputs": [],
   "source": [
    "checkpoint_path"
   ]
  },
  {
   "cell_type": "raw",
   "id": "7d712055-9745-4b3b-a4e7-0077429e2089",
   "metadata": {},
   "source": [
    "checkpoint_path = r\"C:\\Users\\Reinier Vos\\Documents\\PEG1\\results\\phase328_03062024\" # eval_out_PIKdata_d0106t1812ch26_FNNvsFNN"
   ]
  },
  {
   "cell_type": "code",
   "execution_count": null,
   "id": "30d3f887-ab07-448e-93c9-f7fe06fbc494",
   "metadata": {
    "scrolled": true
   },
   "outputs": [],
   "source": [
    "eval_out"
   ]
  },
  {
   "cell_type": "code",
   "execution_count": null,
   "id": "cec69b5b-8cb9-42ad-9d32-af3b0276cf27",
   "metadata": {},
   "outputs": [],
   "source": [
    "## save entire eval out object\n",
    "import pickle\n",
    "SAVE_EVAL_OUT = True # True False\n",
    "if SAVE_EVAL_OUT:\n",
    "    #fileName = \"phase321_08042024/3D4DOF_tables_LTC32_BS_rTimeOnlyTriangle\"\n",
    "    #fileNameOut = f'results/{fileName}_eval_out.dat'\n",
    "    #fileNameOut =  r\"C:\\Users\\Reinier Vos\\Documents\\PEG1\\runs\\PPO_LTC9in_p0gaine0conv_BSlag_240i\\PPO_PEG1_env_f83fc_00000_0_2024-04-25_12-52-54\\checkpoint_000004\\results\"\\\n",
    "    #eval_out = offline_out\n",
    "    \n",
    "    #fileNameOut = checkpoint_path + ''\n",
    "    #fileNameOut += '\\\\results'\n",
    "    #fileNameOut += '\\eval_out_PIKdata.dat'\n",
    "    #print(fileNameOut)\n",
    "    \n",
    "    saveName = save_path + save_label\n",
    "    fileNameOut = f'{saveName}_online_out_PIK.dat'\n",
    "    with open(fileNameOut, \"wb\") as f:\n",
    "        pickle.dump(eval_out, f)\n",
    "SAVE_EVAL_OUT"
   ]
  },
  {
   "cell_type": "raw",
   "id": "9491a27f-94a6-4ae4-9137-baf78547ee25",
   "metadata": {},
   "source": [
    "## LOAD PICKLE DATA\n",
    "import pickle\n",
    "#fileNameIn = r\"C:\\Users\\Reinier Vos\\Documents\\PEG1\\results\\phase324_30042024\\p0convVSe0conv\\results\\eval_out_PIKdata.dat\" # offline_out_PIKdata_longN100 eval_out_PIKdata\n",
    "#checkpoint_path = r\"C:\\Users\\Reinier Vos\\Documents\\PEG1\\results\\phase324_30042024\\p0gainVSe0conv\\results\"\n",
    "fileNameIn = r\"C:\\Users\\Reinier Vos\\Documents\\PEG1\\runsREPORTn1\\hof_Plstm64d3t3g2r10N_Elstm64d0t1g5r20N\\PPO_PEG1_env_3d207_00000_0_2024-07-20_11-41-28\\checkpoint_000171\\results\\CL3_noExplore_online_out_PIK.dat\"\n",
    "##\n",
    "save_path = 'ERROR?'\n",
    "#save_path = r\"C:\\Users\\Reinier Vos\\Documents\\PEG1\\runsREPORTn1\\hof_Plstm64d3t3g2r10N_Elstm64d0t1g5r20N\\PPO_PEG1_env_3d207_00000_0_2024-07-20_11-41-28\\checkpoint_000171\\results\"\n",
    "#save_path = f'{save_path}\\\\'\n",
    "#save_label = 'CL3_noExplore'\n",
    "\n",
    "with open(fileNameIn, 'rb') as f:\n",
    "    eval_out = pickle.load(f)\n",
    "eval_metrics = eval_out['evaluation']\n",
    "eval_histories = eval_out['env_histories']"
   ]
  },
  {
   "cell_type": "raw",
   "id": "dc8b0803-9bd1-4e4f-9b9b-ce560fca0ba2",
   "metadata": {},
   "source": [
    "ray.shutdown()"
   ]
  },
  {
   "cell_type": "markdown",
   "id": "4a281e36-f3c1-4ba1-acc6-1f6f7cbfc21c",
   "metadata": {},
   "source": [
    "##### P4.3B: Merge evaluation results with samplebatches"
   ]
  },
  {
   "cell_type": "code",
   "execution_count": null,
   "id": "8d39785c-cdfc-4b5a-a219-d52c6679a19f",
   "metadata": {},
   "outputs": [],
   "source": [
    "MERGE_SB = False # True False\n",
    "if MERGE_SB:\n",
    "    importlib.reload(PEGutils)\n",
    "\n",
    "    ## LOADING OF SAMPLE BATCH DATA\n",
    "    #fileDir = r\"C:\\Users\\Reinier Vos\\Documents\\PEG1\\data\\env_sampling\"\n",
    "    #fileDir = r\"C:\\Users\\Reinier Vos\\Documents\\PEG1\\runs\\PPO_Acfc16Vlstm16_in9_p0gaine0conv_BSlag_240i\\PPO_PEG1_env_f83fc_00000_0_2024-04-25_12-52-54\\checkpoint_000011\\eval_SBsample\"\n",
    "    fileDir = checkpoint_path + '\\eval_SBsample'\n",
    "    \n",
    "    sb, sb_utils = PEGutils.SampleBatchUtils.SB_readNformat_json_files(fileDir)\n",
    "    sb_lst = sb[0] # seperate SB per env objects\n",
    "\n",
    "    ## MERGING OF SAMPLE BATCH WITH HISTORIES\n",
    "    '''\n",
    "    sb_seeds = PEGutils.SampleBatchUtils.SB_extract_seeds_SampleBatches(sb_lst)\n",
    "    his_seeds = PEGutils.SampleBatchUtils.SB_extract_seeds_histories(eval_histories)\n",
    "    h2sb_idx_mapping = PEGutils.SampleBatchUtils.SB_setup_his2sb_idx_mapping(sb_seeds = sb_seeds, his_seeds = his_seeds)\n",
    "    \n",
    "    len(sb_seeds), len(his_seeds), np.array(set(sb_seeds)), np.array(set(his_seeds)), h2sb_idx_mapping\n",
    "    #''' \n",
    "    eval_histories_appended = PEGutils.SampleBatchUtils.SB_append_sb2hisTuples(histories = eval_histories, sb_lst = sb_lst)\n",
    "    selected_histories = eval_histories_appended\n",
    "MERGE_SB"
   ]
  },
  {
   "cell_type": "markdown",
   "id": "d129d799-fb45-468d-aa89-63a1479384c4",
   "metadata": {},
   "source": [
    "#### P4.4: Visualize histories\n",
    "##### P4.4A: Filter histories"
   ]
  },
  {
   "cell_type": "code",
   "execution_count": null,
   "id": "603d85c4-bd67-45c4-b9e3-0c0e78cf03ca",
   "metadata": {},
   "outputs": [],
   "source": [
    "importlib.reload(PEGanalysis)"
   ]
  },
  {
   "cell_type": "code",
   "execution_count": null,
   "id": "a0b5fc3b-2bdb-4f04-a50b-0d4d6fac52e0",
   "metadata": {},
   "outputs": [],
   "source": [
    "#selected_histories = eval_histories\n",
    "selected_histories = PEGanalysis.Analysis.filter_histories(eval_histories, condition = 'all')\n",
    "#filtered_histories = PEGanalysis.Analysis.filter_histories(selected_histories, condition = 'all')\n",
    "\n",
    "MARKER = '_ONLINE'"
   ]
  },
  {
   "cell_type": "markdown",
   "id": "f2e6e343-1db1-416b-b454-e23e391869b2",
   "metadata": {},
   "source": [
    "##### P4.4B: Visualize histories' trajectories"
   ]
  },
  {
   "cell_type": "code",
   "execution_count": null,
   "id": "2372b7be-e4c4-4ecd-b6c5-2bec3bcf51d4",
   "metadata": {},
   "outputs": [],
   "source": [
    "selected_histories = offline_out['env_histories']"
   ]
  },
  {
   "cell_type": "code",
   "execution_count": null,
   "id": "e7f13d36-a4e9-4cf7-91d8-97bb5693b455",
   "metadata": {
    "scrolled": true
   },
   "outputs": [],
   "source": [
    "importlib.reload(PEGanalysis)\n",
    "THIN = 5\n",
    "CONDITION = 'all'\n",
    "fig_TRAJ, runs_outcome_TRAJ = PEGanalysis.Analysis.visualize_trajectories_runs(selected_histories, condition = CONDITION,\n",
    "                                                                      show_los = 10,\n",
    "                                                                      #title = ,\n",
    "                                                                      # runNames = ,\n",
    "                                                                      velocity_cones = True, # True False\n",
    "                                                                      #attitude_cones = True, # True False\n",
    "                                                                      #acceleration_cones = True, # True False\n",
    "                                                                      thin = THIN,\n",
    "                                                                      )\n",
    "fig_TRAJ.show(renderer = 'browser')"
   ]
  },
  {
   "cell_type": "code",
   "execution_count": null,
   "id": "f9ddd3d2-7e03-47a7-bbfe-128bfe11bbdc",
   "metadata": {},
   "outputs": [],
   "source": [
    "import plotly\n",
    "# TODO CREATE FOLDER AND SAME ALL THESE RESULT FILES IN THIS FOLDER, PLUS THE MODEL NAME, MAYBE SAVE IT IN THE CHECKPOINT DIR!\n",
    "SAVE_RESULTS = True # True False\n",
    "if SAVE_RESULTS:\n",
    "    #fileName = 'phase321_08042024/3D2DOF_OpogoniaN83_LTC32_BS_rTimeOnlyTriangle'\n",
    "    #plotly.offline.plot(fig_TRAJ, filename=f'results/{fileName}_TRAJ.html')\n",
    "    #checkpoint_path = r\"C:\\Users\\Reinier Vos\\Documents\\PEG1\\results\\phase328_03062024\"\n",
    "    \n",
    "    #fileName = checkpoint_path + ''\n",
    "    #fileNameOut += '\\\\results'\n",
    "    #fileName += '\\d0622t0827ch18_LSTM32vsDummy_offline'\n",
    "    #print(fileName)\n",
    "    \n",
    "    saveName = save_path + save_label  \n",
    "    #saveName += 'NOISE'\n",
    "    saveName += MARKER\n",
    "    plotly.offline.plot(fig_TRAJ, filename=f'{saveName}_{CONDITION}_TRAJ.html')\n",
    "SAVE_RESULTS"
   ]
  },
  {
   "cell_type": "code",
   "execution_count": null,
   "id": "b2b1e4c4-895e-4e97-beb1-157745cd86ba",
   "metadata": {},
   "outputs": [],
   "source": [
    "MARKER = '_OFFLINE'"
   ]
  },
  {
   "cell_type": "code",
   "execution_count": null,
   "id": "5da5c369-af6e-4164-b3c3-99a43cfbd73f",
   "metadata": {},
   "outputs": [],
   "source": [
    "raise"
   ]
  },
  {
   "cell_type": "markdown",
   "id": "2ec16d2d-08be-4ce6-9c56-4053823515ba",
   "metadata": {
    "jp-MarkdownHeadingCollapsed": true
   },
   "source": [
    "##### REMOVE - EXTRA DEBUG CODE"
   ]
  },
  {
   "cell_type": "code",
   "execution_count": null,
   "id": "17842dd6-09fc-4e1e-b15c-074400b4c619",
   "metadata": {},
   "outputs": [],
   "source": [
    "idx = 0\n",
    "aid = 'e0'\n",
    "aidx = 0 if aid == 'p0' else 1\n",
    "\n",
    "r_sum = []\n",
    "for his in selected_histories:\n",
    "    s,o,r,a,i, statics = his\n",
    "    r_sum_i = np.sum(r['p0'][:,3]) \n",
    "    r_sum.append(r_sum_i)\n",
    "\n",
    "\n",
    "\n",
    "r_df = pd.DataFrame(r_sum, columns = ['R']).describe()\n",
    "r_df"
   ]
  },
  {
   "cell_type": "code",
   "execution_count": null,
   "id": "a3a9ee97-7f82-4497-8b22-3c74cf752479",
   "metadata": {},
   "outputs": [],
   "source": [
    "idx = 0\n",
    "aid = 'p0'\n",
    "aidx = 0 if aid == 'p0' else 1\n",
    "s,o,r,a,i, statics = selected_histories[idx]\n",
    "\n",
    "\n",
    "r_plot = r[aid][:,3]\n",
    "print(np.sum(r_plot))\n",
    "plt.plot(r_plot)"
   ]
  },
  {
   "cell_type": "code",
   "execution_count": null,
   "id": "63ceba19-fee0-478a-9597-7db8731fecc2",
   "metadata": {},
   "outputs": [],
   "source": [
    "idx = 0\n",
    "aid = 'p0'\n",
    "aidx = 0 if aid == 'p0' else 1\n",
    "s,o,r,a,i, statics = selected_histories[idx]\n",
    "\n",
    "i[aid][:10,:]"
   ]
  },
  {
   "cell_type": "code",
   "execution_count": null,
   "id": "034d1b03-4dcc-4876-b805-f72e2622e626",
   "metadata": {},
   "outputs": [],
   "source": [
    "#r_total = 5*r[aid][:,1]+ 10*r[aid][:,2] + 10*r[aid][:,3]\n",
    "r_total = 5*i[aid][:,-5]+ 10*i[aid][:,-4] + 10*i[aid][:,-3]\n",
    "r_total_true = r[aid][:,0]\n",
    "\n",
    "plt.plot(r_total)\n",
    "plt.plot(r_total_true)\n",
    "plt.legend(['p','t'])"
   ]
  },
  {
   "cell_type": "code",
   "execution_count": null,
   "id": "f5ff835f-39fa-454d-b35a-ae2237ebe094",
   "metadata": {},
   "outputs": [],
   "source": [
    "idx = 0\n",
    "aid = 'e0'\n",
    "aidx = 0 if aid == 'p0' else 1\n",
    "s,o,r,a,i, statics = selected_histories[idx]\n",
    "\n",
    "'''\n",
    "fig, axes = plt.subplots(4,1, figsize = (24,8))\n",
    "for i in range(3):\n",
    "    axes[i].plot(a[aid][:,i], linestyle = 'dashed', color = 'red')\n",
    "    axes[i].plot(s[:,aidx,2,i], color = 'red')\n",
    "    \n",
    "a_norm = np.linalg.norm(s[:,aidx,2,:], axis = -1)\n",
    "axes[-1].plot(a_norm, color = 'blue')\n",
    "'''"
   ]
  },
  {
   "cell_type": "raw",
   "id": "1d0a8745-6105-4434-a59a-0c8046546733",
   "metadata": {},
   "source": [
    "for his in selected_histories:\n",
    "    s,o,r,a,i, statics = his\n",
    "\n",
    "    dis = pd.DataFrame(np.linalg.norm(s[:,1,0,:3]-s[:,0,0,:3], axis = -1), columns = ['d'])\n",
    "    plt.plot(dis)\n",
    "    dis.describe()\n",
    "\n"
   ]
  },
  {
   "cell_type": "code",
   "execution_count": null,
   "id": "4dcad727-bdca-4695-8fe6-0ae9f69a6223",
   "metadata": {
    "scrolled": true
   },
   "outputs": [],
   "source": [
    "i['p0'][:3,:]"
   ]
  },
  {
   "cell_type": "code",
   "execution_count": null,
   "id": "a3308a0e-8956-4f55-a4de-7eb7380e8689",
   "metadata": {
    "scrolled": true
   },
   "outputs": [],
   "source": [
    "len(r['p0'])"
   ]
  },
  {
   "cell_type": "code",
   "execution_count": null,
   "id": "eb1890c4-8266-4a47-a95e-4c0311af2f9e",
   "metadata": {},
   "outputs": [],
   "source": [
    "rew = r['p0'][1:-1] + 10/453\n",
    "\n",
    "rew = (rew*453/5)\n",
    "\n",
    "plt.figure()\n",
    "plt.plot(rew)\n",
    "#plt.ylim([-1,1])\n",
    "\n",
    "plt.figure()\n",
    "plt.plot(rew, marker = 'o')\n",
    "\n",
    "np.sum(rew)"
   ]
  },
  {
   "cell_type": "code",
   "execution_count": null,
   "id": "66843275-d6ea-432a-856e-9af454db2c38",
   "metadata": {},
   "outputs": [],
   "source": [
    "dis_t = np.linalg.norm(s[1:,1,0,:3]-s[1:,0,0,:3], axis = -1)\n",
    "dis_tprevP = np.linalg.norm(s[1:,1,0,:3]-s[:-1,0,0,:3], axis = -1)\n",
    "dis_tprevE = np.linalg.norm(s[:-1,1,0,:3]-s[1:,0,0,:3], axis = -1)\n",
    "\n",
    "def func1(d):\n",
    "    d_clip = np.maximum(d-0.07,0.)\n",
    "\n",
    "    disT_Flogd, disT_Fd = 2., 2.\n",
    "    d = np.log((d_clip**disT_Flogd+1e-4)) + d_clip**disT_Fd\n",
    "    return d \n",
    "\n",
    "r_t = func1(dis_t)\n",
    "r_tprevP = func1(dis_tprevP)\n",
    "r_tprevE = func1(dis_tprevE)\n",
    "\n",
    "r_diffP = -1*(r_t-r_tprevP)\n",
    "r_diffE = (r_t-r_tprevE)\n",
    "\n",
    "plt.figure()\n",
    "plt.plot(dis_t, marker = 'o')\n",
    "plt.ylim([0., 0.1])\n",
    "\n",
    "plt.figure()\n",
    "plt.plot(r_t)\n",
    "plt.plot(r_tprevP)\n",
    "plt.plot(r_tprevE)\n",
    "\n",
    "plt.figure()\n",
    "plt.plot(r_diffP)\n",
    "plt.plot(r_diffE)\n",
    "\n",
    "np.sum(r_diffP), np.sum(r_diffE)"
   ]
  },
  {
   "cell_type": "code",
   "execution_count": null,
   "id": "b0ebd96a-3862-4b56-9579-17428a3f7c2f",
   "metadata": {},
   "outputs": [],
   "source": [
    "dis = pd.DataFrame(np.linalg.norm(s[:,1,0,:3]-s[:,0,0,:3], axis = -1), columns = ['d'])\n",
    "dis_np = dis.to_numpy()\n",
    "dis_int = 0.07\n",
    "dis_level = dis_int*3\n",
    "\n",
    "dis_demeaned = np.maximum(dis_np-dis_int,0.)\n",
    "\n",
    "factor = 2\n",
    "r = np.log((np.maximum(dis_demeaned,0.)+1e-4))\n",
    "r_new = np.log((dis_demeaned**factor+1e-4)) \n",
    "r_new2 = np.log((dis_demeaned**factor+1e-4)) + dis_demeaned\n",
    "r_new3 = [np.nan]# -1/((dis_demeaned**factor+1e-4)) + dis_demeaned\n",
    "#r2 = np.log10((dis_np-dis_int+1e-4))\n",
    "\n",
    "r_argmin = np.argmin(dis_np)\n",
    "\n",
    "r_new2_diff = np.diff(r_new2, axis = 0)\n",
    "r_new3_diff = np.diff(r_new3, axis = 0)\n",
    "print(np.sum(r_new2_diff))\n",
    "print(np.sum(r_new3_diff))\n",
    "\n",
    "#r = np.log((1+dis_np-dis_level))\n",
    "r_cs = np.cumsum(r)/np.arange(1,1+len(r))#np.cumprod(((dis_np)))\n",
    "r_new_cs = np.cumsum(r_new)/np.arange(1,1+len(r_new))\n",
    "r_new2_cs = np.cumsum(r_new2)/np.arange(1,1+len(r_new2))\n",
    "r_new3_cs = np.cumsum(r_new3)/np.arange(1,1+len(r_new3))\n",
    "\n",
    "r2_cs = np.cumsum(r)/len(r)\n",
    "print(r_cs[-1], r2_cs[-1], r_new_cs[-1], r_new2_cs[-1])\n",
    "##\n",
    "''' \n",
    "plt.plot(dis)\n",
    "plt.axhline(dis_level, color = 'red', linestyle = 'dashed')\n",
    "plt.plot(r, color = 'red')\n",
    "plt.plot(r2, color = 'green')\n",
    "#plt.ylim([0,10])\n",
    "\n",
    "plt.grid(True)\n",
    "'''\n",
    "assert np.sum(np.isnan(r)) == 0\n",
    "##\n",
    "figsize = (12,6)\n",
    "plt.figure(figsize = figsize)\n",
    "plt.plot(dis)\n",
    "plt.plot(r, color = 'red')\n",
    "plt.plot(r_cs, color = 'green')\n",
    "plt.plot(r2_cs, color = 'purple')\n",
    "\n",
    "plt.plot(r_new, color = 'orange', linestyle = 'dashed')\n",
    "plt.plot(r_new_cs, color = 'orange', linestyle = 'dashed')\n",
    "\n",
    "plt.plot(r_new2, color = 'pink', linestyle = 'dashed')\n",
    "plt.plot(r_new2_cs, color = 'pink', linestyle = 'dashed')\n",
    "\n",
    "plt.plot(r_new3, color = 'green', linestyle = 'dashed')\n",
    "plt.plot(r_new3_cs, color = 'green', linestyle = 'dashed')\n",
    "\n",
    "plt.axvline(r_argmin, color = 'red', linestyle = 'dashed')\n",
    "\n",
    "plt.grid(True)\n",
    "\n",
    "plt.figure(figsize = figsize)\n",
    "plt.plot(dis_demeaned)\n",
    "plt.ylim(0.,0.15)\n",
    "plt.grid(True)\n",
    "\n",
    "plt.figure(figsize = figsize)\n",
    "plt.plot(r_new2_diff, marker = 'o')\n",
    "plt.plot(r_new3_diff, marker = 'o', color = 'green')\n",
    "#plt.ylim(0.,0.15)\n",
    "plt.grid(True)\n",
    "plt.axvline(r_argmin, color = 'red', linestyle = 'dashed')\n",
    "\n",
    "\n",
    "dis.describe()"
   ]
  },
  {
   "cell_type": "code",
   "execution_count": null,
   "id": "5dd24ba3-6671-4ec9-a00d-5f8e36572481",
   "metadata": {},
   "outputs": [],
   "source": [
    "np.log(0)"
   ]
  },
  {
   "cell_type": "code",
   "execution_count": null,
   "id": "2068dcdc-711d-4b33-9acf-9e85c96de0d3",
   "metadata": {},
   "outputs": [],
   "source": []
  },
  {
   "cell_type": "code",
   "execution_count": null,
   "id": "45bae16a-935b-4001-a288-f08138a7180c",
   "metadata": {
    "scrolled": true
   },
   "outputs": [],
   "source": [
    "fig, axes = plt.subplots(4,1, figsize = (24,8))\n",
    "for sss in range(3):\n",
    "    axes[sss].plot(s[:, aidx, 1,sss])\n",
    "    axes[sss].grid(True)\n",
    "    axes[sss].set_ylim([-1,1])\n",
    "\n",
    "    axes[3].plot(s[:, aidx, 1,sss]*(-1 if sss != 0 else 1.))\n",
    "    axes[3].grid(True)\n",
    "    axes[3].set_ylim([-1,1])\n",
    "\n",
    "corrcoef = np.corrcoef(s[:, aidx, 1,:3].T)\n",
    "corrcoef "
   ]
  },
  {
   "cell_type": "code",
   "execution_count": null,
   "id": "168b5409-4dcd-403c-a119-be30d4ee5709",
   "metadata": {
    "scrolled": true
   },
   "outputs": [],
   "source": [
    "v_norm = pd.DataFrame(np.linalg.norm(s[:,aidx,1,:3], axis = -1), columns = ['v'])\n",
    "plt.plot(v_norm)\n",
    "v_norm.describe()"
   ]
  },
  {
   "cell_type": "code",
   "execution_count": null,
   "id": "f2c4e296-4868-4a6c-83b0-1c91068e1321",
   "metadata": {},
   "outputs": [],
   "source": [
    "dis = pd.DataFrame(np.linalg.norm(s[1:,aidx,0,:3]-s[:-1,aidx,0,:3], axis = -1), columns = ['d'])\n",
    "plt.plot(dis)\n",
    "dis.describe()"
   ]
  },
  {
   "cell_type": "code",
   "execution_count": null,
   "id": "a4d1ad62-cc30-4921-b65a-ce4596e52d08",
   "metadata": {},
   "outputs": [],
   "source": [
    "setup_env.DUMMY_EVADER_3D4DOF"
   ]
  },
  {
   "cell_type": "code",
   "execution_count": null,
   "id": "724b9540-cdc1-40b5-bb90-321744c1d5b7",
   "metadata": {
    "scrolled": true
   },
   "outputs": [],
   "source": [
    "## REMOVE EVENTUALLY\n",
    "idx = 2\n",
    "aid = 'p0'\n",
    "aidx = 0 if aid == 'p0' else 1\n",
    "s,o,r,a,i, statics = selected_histories[idx]\n",
    "v_norm = np.linalg.norm(s[:,aidx,1,:3], axis = -1)\n",
    "v_Downward = i[aid][:,1]\n",
    "\n",
    "plt.figure()\n",
    "plt.plot(a[aid][:,:])\n",
    "plt.legend(['a','phi','theta','psi'])\n",
    "\n",
    "plt.figure()\n",
    "plt.plot(s[:,aidx,0,3:])\n",
    "plt.legend(['phi','theta','psi'])\n",
    "\n",
    "plt.figure()\n",
    "plt.plot(o[aid][:,[0,2,4]])\n",
    "plt.legend(['phi','theta','psi'])\n",
    "\n",
    "plt.figure()\n",
    "plt.plot(o[aid][:,[1,3,5,7]])\n",
    "plt.legend(['dphi','dtheta','dpsi'])\n",
    "\n",
    "#'''\n",
    "plt.figure()\n",
    "plt.plot(v_norm)\n",
    "\n",
    "plt.figure()\n",
    "plt.plot(v_Downward)\n",
    "#'''\n"
   ]
  },
  {
   "cell_type": "code",
   "execution_count": null,
   "id": "392bccde-13f2-42b9-a128-5302839863ad",
   "metadata": {
    "scrolled": true
   },
   "outputs": [],
   "source": [
    "idx = 2\n",
    "aid = 'p0'\n",
    "aidx = 0 if aid == 'p0' else 1\n",
    "s,o,r,a,i, statics = selected_histories[idx]\n",
    "v_norm = np.linalg.norm(s[:,aidx,1,:3], axis = -1)\n",
    "v_Downward = i[aid][:,1]\n",
    "\n",
    "plt.figure()\n",
    "plt.plot(a[aid][:,:])\n",
    "plt.legend(['a','p','q','r'])\n",
    "'''\n",
    "plt.figure()\n",
    "plt.plot(s[:,aidx,0,3:])\n",
    "plt.legend(['phi','theta','psi'])\n",
    "'''\n",
    "II = 9\n",
    "plt.figure()\n",
    "plt.plot(o[aid][:,list(range(II,II+3))])\n",
    "plt.legend(['a','b','c'])"
   ]
  },
  {
   "cell_type": "code",
   "execution_count": null,
   "id": "223f7859-e654-425e-bf03-33e670687b7a",
   "metadata": {
    "scrolled": true
   },
   "outputs": [],
   "source": [
    "i"
   ]
  },
  {
   "cell_type": "code",
   "execution_count": null,
   "id": "ed71efdd-040f-4af4-a7fb-df26021bb32d",
   "metadata": {},
   "outputs": [],
   "source": [
    "a = np.linalg.norm(s[-1,1,0,:3] - s[-1,0,0,:3])\n",
    "a"
   ]
  },
  {
   "cell_type": "code",
   "execution_count": null,
   "id": "4c8c506f-a859-46d2-a60e-7e7864f4640a",
   "metadata": {
    "scrolled": true
   },
   "outputs": [],
   "source": [
    "## plot \n",
    "for his in selected_histories:\n",
    "    s = his[0]\n",
    "    angles = pd.DataFrame(np.diff(s[:,0,0,3:], axis = 0), columns = ['phi','theta','psi'])\n",
    "    angles_describ = angles.describe()\n",
    "    #print(angles_describ.loc['max',:].T)\n",
    "\n",
    "    plt.figure()\n",
    "    plt.plot(angles.to_numpy())\n",
    "    plt.plot(s[:,0,0,3:], \n",
    "             linestyle = 'dashed',\n",
    "            )\n",
    "    plt.legend(['dphi','dtheta','dpsi',\n",
    "               'phi','theta','psi',\n",
    "               ])\n",
    "#angles"
   ]
  },
  {
   "cell_type": "code",
   "execution_count": null,
   "id": "ba733229-f9dd-48e4-9d3a-1093e9d3429b",
   "metadata": {},
   "outputs": [],
   "source": [
    "checkpoint_path = r\"C:\\Users\\Reinier Vos\\Documents\\PEG1\\results\\phase3DUN_24062024\""
   ]
  },
  {
   "cell_type": "code",
   "execution_count": null,
   "id": "68c70fce-b5dc-4a89-8861-4b5647730cca",
   "metadata": {},
   "outputs": [],
   "source": [
    "s[:10,1,0,3:]"
   ]
  },
  {
   "cell_type": "markdown",
   "id": "1887721a-1f4b-4c8c-9dd0-2964eb95be66",
   "metadata": {
    "jp-MarkdownHeadingCollapsed": true
   },
   "source": [
    "##### REMOVE - EXTRA DEBUG CODE - REFERENCE FRAMES"
   ]
  },
  {
   "cell_type": "code",
   "execution_count": null,
   "id": "279d0536-69bf-490f-a98e-e46772141121",
   "metadata": {},
   "outputs": [],
   "source": [
    "s,o,r,a,i,statics = eval_histories[0]\n",
    "d_vec = s[:,1,0,:3]-s[:,0,0,:3]\n",
    "d = np.linalg.norm(d_vec, axis = 1)\n",
    "plt.plot(d)"
   ]
  },
  {
   "cell_type": "code",
   "execution_count": null,
   "id": "ab0c1f18-480c-465e-bcde-b14ff05d2592",
   "metadata": {},
   "outputs": [],
   "source": [
    "plt.plot(s[:,0,0,[0]], s[:,0,0,[2]])\n",
    "plt.plot(s[:,1,0,[0]], s[:,1,0,[2]])"
   ]
  },
  {
   "cell_type": "code",
   "execution_count": null,
   "id": "0e6485f2-0fef-422c-ba47-3dc747e6efbf",
   "metadata": {},
   "outputs": [],
   "source": [
    "from scipy.spatial.transform import Rotation as R\n",
    "\n",
    "angles = s[:,0,0,3:].copy()\n",
    "\n",
    "RotMat_IB = R.from_euler('xyz', \n",
    "              angles[:,:],\n",
    "              degrees = False)\n",
    "thrust_orientation = [0.,0.,1.]\n",
    "#cones = RotMat_BI.apply(np.repeat([thrust_orientation],len(angles), axis = 0))\n",
    "cones = RotMat_IB.apply(d_vec)\n",
    "\n",
    "plt.figure()\n",
    "plt.plot(cones)\n",
    "plt.legend(['x','y','z'])\n",
    "plt.plot(d, color = 'red', linestyle = 'dashed')\n",
    "\n",
    "plt.grid()"
   ]
  },
  {
   "cell_type": "code",
   "execution_count": null,
   "id": "f12348ac-bafe-4730-a4b8-15d1ddbfe524",
   "metadata": {},
   "outputs": [],
   "source": [
    "a_vec = RotMat_IB.apply(s[:,0,2,:3])\n",
    "#'''\n",
    "T_vec = np.zeros((len(s),3)) \n",
    "T_vec[:,-1] = s[:,0,2,3]/(2*9.81)\n",
    "a_vec1 = RotMat_IB.inv().apply(T_vec)\n",
    "#'''\n",
    "plt.plot(a_vec1)\n",
    "plt.plot(d, color = 'red', linestyle = 'dashed')\n",
    "plt.plot(d_vec, color = 'black', linestyle = 'dashed')\n",
    "plt.grid()\n",
    "\n",
    "s[0,0,2,3], s[0,1,0,:3]"
   ]
  },
  {
   "cell_type": "code",
   "execution_count": null,
   "id": "6d3aec13-50b7-427d-9aa0-9eec4213ff53",
   "metadata": {},
   "outputs": [],
   "source": [
    "obs = o['p0'].copy()\n",
    "plt.figure()\n",
    "plt.plot(obs[:,[0,2,4]])\n",
    "plt.plot(d, color = 'red', linestyle = 'dashed')\n",
    "\n",
    "plt.grid()\n"
   ]
  },
  {
   "cell_type": "code",
   "execution_count": null,
   "id": "f294f5ae-93ae-4f6a-bd7f-9c1909f0d9f7",
   "metadata": {},
   "outputs": [],
   "source": [
    "s[0,1,0,:3]"
   ]
  },
  {
   "cell_type": "code",
   "execution_count": null,
   "id": "f193079a-653c-4a78-a210-abba5244f736",
   "metadata": {},
   "outputs": [],
   "source": [
    "plt.plot(s[:,0,1,:3]/np.linalg.norm(s[:,0,1,:3], axis = 1, keepdims = True))\n",
    "plt.plot(d_vec/np.linalg.norm(d_vec, axis = 1, keepdims = True), linestyle = 'dashed')"
   ]
  },
  {
   "cell_type": "code",
   "execution_count": null,
   "id": "c5063bf8-5388-4573-8d09-d186b0d7ab12",
   "metadata": {},
   "outputs": [],
   "source": []
  },
  {
   "cell_type": "markdown",
   "id": "65a62ede-ff21-4df2-a58a-929e89663e72",
   "metadata": {},
   "source": [
    "##### P4.4C: Animate history trajectory (single)"
   ]
  },
  {
   "cell_type": "code",
   "execution_count": null,
   "id": "aadbc0d3-28a1-4f8a-82f8-455332ea6cb2",
   "metadata": {},
   "outputs": [],
   "source": [
    "#title = 'OpogoniaN83 non-reac (e) vs LTC32-drone (p)'\n",
    "run_idx = 11\n",
    "runName_slider = f'R{run_idx}'\n",
    "history_slider = selected_histories[run_idx]\n",
    "\n",
    "importlib.reload(PEGanalysis)\n",
    "fig_SLIDER = PEGanalysis.Analysis.visualize_trajectoryWslider_single_run(history_slider,\n",
    "                                                              #show_los = 0, # not supported!\n",
    "                                                              #title = ,\n",
    "                                                              runName = runName_slider,\n",
    "                                                              thin = THIN,\n",
    "                                                              #thin = 0,\n",
    "                                                              )\n",
    "fig_SLIDER.show(renderer = 'browser')\n"
   ]
  },
  {
   "cell_type": "code",
   "execution_count": null,
   "id": "790c1235-ac76-4b1b-89c5-a87e82775102",
   "metadata": {},
   "outputs": [],
   "source": [
    "import plotly\n",
    "# TODO CREATE FOLDER AND SAME ALL THESE RESULT FILES IN THIS FOLDER, PLUS THE MODEL NAME, MAYBE SAVE IT IN THE CHECKPOINT DIR!\n",
    "SAVE_RESULTS = False # True False\n",
    "if SAVE_RESULTS: # inferred\n",
    "    #fileName = 'phase321_08042024/3D2DOF_LTC32_BS_rTimeOnlyTriangle'\n",
    "    #plotly.offline.plot(fig_SLIDER, filename=f'results/{fileName}_TRAJslider.html')\n",
    "\n",
    "    #fileName = checkpoint_path + '\\\\results\\PPO_LTC9in_p0gaine0conv_BSlag_240i_Ch11'\n",
    "    saveName = save_path + save_label + runName_slider\n",
    "    plotly.offline.plot(fig_SLIDER, filename=f'{saveName}_TRAJslider.html')\n",
    "SAVE_RESULTS"
   ]
  },
  {
   "cell_type": "markdown",
   "id": "9bd75447-09a8-4872-9736-aa1c3edaacbd",
   "metadata": {},
   "source": [
    "##### P4.4D: Visualize histories progression (scores e.g. gamma & reward)\n",
    "TODO\n",
    "- traces for e.g. gamma over time with mean gamma trace (like mischiati) same for gamma_pp\n",
    "- traces for reward\n",
    "- traces for actions\n",
    "- scatterplots/distribution plots of statistics?\n",
    "- combine history results and the eval metrics into nice table with automated caption?\n",
    "- in eval results also save the task level, initialization settings to get ranges of that, also e.g. noise\n"
   ]
  },
  {
   "cell_type": "code",
   "execution_count": null,
   "id": "7526c276-dacc-4576-bb7a-fda3cb9a13b6",
   "metadata": {
    "scrolled": true
   },
   "outputs": [],
   "source": [
    "importlib.reload(PEGanalysis)\n",
    "CONDITION = 'I'\n",
    "#CONDITION = 'all'\n",
    "fig_PROG, runs_outcome = PEGanalysis.Analysis.visualize_progression_runs(selected_histories, condition = CONDITION,#'I',\n",
    "                                                                      #show_los = 0,\n",
    "                                                                      #title = , selected_histories\n",
    "                                                                      # runNames = ,\n",
    "                                                                     agg = True,\n",
    "                                                                     thin = THIN,\n",
    "                                                                      )\n",
    "fig_PROG.show(renderer = 'browser')\n",
    "\n"
   ]
  },
  {
   "cell_type": "code",
   "execution_count": null,
   "id": "34f96b51-f934-43e9-a727-44b6e977dc1b",
   "metadata": {},
   "outputs": [],
   "source": [
    "import plotly\n",
    "\n",
    "# TODO CREATE FOLDER AND SAME ALL THESE RESULT FILES IN THIS FOLDER, PLUS THE MODEL NAME, MAYBE SAVE IT IN THE CHECKPOINT DIR!\n",
    "SAVE_RESULTS = True # True False\n",
    "if SAVE_RESULTS:\n",
    "    #fileName = 'phase321_08042024/3D2DOF_LTC32_BS_rTimeOnlyTriangle'\n",
    "    #plotly.offline.plot(fig_PROG, filename=f'results/{fileName}_PROG.html')\n",
    "    \n",
    "    #fileName = checkpoint_path + ''\n",
    "    #fileNameOut += '\\\\results'\n",
    "    #fileName += '\\d0622t0827ch18_LSTM32vsDummy_offline_INT'\n",
    "    saveName = save_path + save_label  \n",
    "    #saveName += 'NOISE'\n",
    "    saveName += MARKER\n",
    "    print(saveName)\n",
    "    \n",
    "    plotly.offline.plot(fig_PROG, filename=f'{saveName}_{CONDITION}_PROG.html')\n",
    "SAVE_RESULTS"
   ]
  },
  {
   "cell_type": "raw",
   "id": "6ba40ace-2db5-4fe7-a4b4-6704642262e7",
   "metadata": {},
   "source": [
    "fileName = checkpoint_path + ''\n",
    "#fileNameOut += '\\\\results'\n",
    "fileName += '\\d0106t1812ch26_FNNvsFNN'\n",
    "print(fileName)"
   ]
  },
  {
   "cell_type": "markdown",
   "id": "5798f516-022f-4328-8adc-6ce49357146a",
   "metadata": {},
   "source": [
    "##### P4.4E: Visualize Control effort"
   ]
  },
  {
   "cell_type": "code",
   "execution_count": null,
   "id": "695bda59-e74f-4c6d-a679-8b295cb35150",
   "metadata": {
    "scrolled": true
   },
   "outputs": [],
   "source": [
    "importlib.reload(PEGanalysis)\n",
    "CONDITION = 'all'\n",
    "fig_CONTROL, runs_outcome = PEGanalysis.Analysis.visualize_controls_runs(selected_histories, condition = CONDITION,\n",
    "                                                                      #show_los = 0,\n",
    "                                                                      #title = ,\n",
    "                                                                      # runNames = ,\n",
    "                                                                      agg = True,\n",
    "                                                                      thin = THIN,\n",
    "                                                                      )\n",
    "fig_CONTROL.show(renderer = 'browser')"
   ]
  },
  {
   "cell_type": "code",
   "execution_count": null,
   "id": "ef02d7c1-030d-4353-bca8-90d9018a834a",
   "metadata": {},
   "outputs": [],
   "source": [
    "import plotly\n",
    "# TODO CREATE FOLDER AND SAME ALL THESE RESULT FILES IN THIS FOLDER, PLUS THE MODEL NAME, MAYBE SAVE IT IN THE CHECKPOINT DIR!\n",
    "SAVE_RESULTS = False # True False\n",
    "if SAVE_RESULTS: # inferred\n",
    "    #fileName = 'phase321_08042024/3D2DOF_LTC32_BS_rTimeOnlyTriangle'\n",
    "    #plotly.offline.plot(fig_SLIDER, filename=f'results/{fileName}_TRAJslider.html')\n",
    "\n",
    "    #fileName = checkpoint_path + '\\\\results\\PPO_LTC9in_p0gaine0conv_BSlag_240i_Ch11'\n",
    "\n",
    "    saveName = save_path + save_label\n",
    "    plotly.offline.plot(fig_CONTROL, filename=f'{saveName}_{CONDITION}_CONTROL.html')\n",
    "SAVE_RESULTS"
   ]
  },
  {
   "cell_type": "code",
   "execution_count": null,
   "id": "96a7c011-77ab-4b03-b864-257b7aadda92",
   "metadata": {},
   "outputs": [],
   "source": []
  },
  {
   "cell_type": "code",
   "execution_count": null,
   "id": "c506e27d-331d-49f6-a1ec-b10dcdce2548",
   "metadata": {},
   "outputs": [],
   "source": []
  },
  {
   "cell_type": "markdown",
   "id": "5a68fed8-3da2-4489-ac6a-5148c08f118e",
   "metadata": {},
   "source": [
    "#### P4.5: Condense histories (tables)\n",
    "##### P4.5A: Setup tables\n",
    "\n",
    "TODO\n",
    "- f\n",
    "- f"
   ]
  },
  {
   "cell_type": "code",
   "execution_count": null,
   "id": "a9a4280a-bb65-41a5-bf99-d0f2549d8b3c",
   "metadata": {},
   "outputs": [],
   "source": [
    "statics['start']"
   ]
  },
  {
   "cell_type": "code",
   "execution_count": null,
   "id": "86f7bd54-c74d-45ac-909a-49889252a823",
   "metadata": {
    "scrolled": true
   },
   "outputs": [],
   "source": [
    "importlib.reload(PEGanalysis)\n",
    "\n",
    "quantiles = np.array([0., 0.5, 1.])\n",
    "\n",
    "\n",
    "#dict((d1[k], v) for (k, v) in d.items()) # code to replace d.keys with a dictionary mapping named d1 \n",
    "\n",
    "sorai_names = {#'s':S_NAMES, # no required\n",
    "               #'o':[], # TODO infer\n",
    "               #'r':[], # TODO\n",
    "               #'a':[], # inferred\n",
    "               'i':setup_info['p0'], # provide an example dict\n",
    "               } # ensure that keys with agents also reflect so with  with \n",
    "    \n",
    "\n",
    "\n",
    "tables_FULL, runs_outcome = PEGanalysis.Analysis.tables_extract_runs(selected_histories, condition = 'all',\n",
    "                                                                    quantiles = quantiles,\n",
    "                                                                    sorai_names = sorai_names,\n",
    "                                                                    # runNames = ,\n",
    "                                                                      )"
   ]
  },
  {
   "cell_type": "code",
   "execution_count": null,
   "id": "eca157fd-6db5-40b8-ac47-7ebb29da3bd3",
   "metadata": {},
   "outputs": [],
   "source": [
    "## get specific table\n",
    "name = 'agent'  # ['start','end','agent', 's','o','r','a','i']\n",
    "aid =  'p0' # [p0,e0,game]\n",
    "\n",
    "table_show = PEGanalysis.Analysis.tables_get_table(tables_FULL, name, aid)\n",
    "table_show"
   ]
  },
  {
   "cell_type": "raw",
   "id": "7d72fe14-1f41-406d-92bc-ecba39a5ca7a",
   "metadata": {
    "jupyter": {
     "source_hidden": true
    },
    "scrolled": true
   },
   "source": [
    "import copy\n",
    "quantiles = np.array([0., 0.5, 1.])\n",
    "\n",
    "\n",
    "s_names = ['|x|','|dx|','|ddx|'] + [v+k for v in ['','d','dd'] for k in ['x', 'y', 'z', 'phi', 'theta','psi']]\n",
    "info_cols = setup_info['p0']\n",
    "\n",
    "#ini_df = {}\n",
    "\n",
    "##\n",
    "s, o, r, a , i , statics = selected_histories[0]\n",
    "\n",
    "#\n",
    "start_df, outcome_df = {}, {}\n",
    "agent_df = {aid:[] for aid in o.keys()}\n",
    "\n",
    "# agent ids only\n",
    "o_df = {aid:[] for aid in o.keys()}\n",
    "a_df = {aid:[] for aid in a.keys()}\n",
    "\n",
    "# agent ids & game (in that order!)\n",
    "r_df = {aid:[] for aid in r.keys()}\n",
    "i_df = {aid:[] for aid in i.keys()}\n",
    "s_df = copy.deepcopy(i_df) # reuse info for state, game agent to be appended\n",
    "\n",
    "\n",
    "for run, history in enumerate(selected_histories):\n",
    "    runName = f'R{run}'\n",
    "    s, o, r, a , i , statics = history \n",
    "    outcome_label = [k for k, v in statics['end'].items() if v][0] \n",
    "    ##\n",
    "    start_df[runName] = statics['start'].copy()\n",
    "    outcome_df[runName] = statics['end'].copy()\n",
    "    ##\n",
    "    s_game = s[:,[1],:,:] - s[:,[0],:,:] # i.e. s_diff = s_e-s_p\n",
    "    s_full = np.concatenate((s, s_game), axis = 1) # out (T,aids=2+1,D=3,s=6); game is another agent at index = -1\n",
    "    s_full_norm = np.linalg.norm(s_full[...,:3], axis = -1, keepdims = False) # out (T,3,3,); x_, dx_, ddx_norm; \n",
    "    # NOTE that this dx & ddx is not necessarily v & a; we dont estimat them using (e.g. forward, backward) differences\n",
    "    #s_full = np.concatenate((s_full, np.linalg.norm(s_full[...,:3], axis = -1, keepdims = True)), axis = -1) # out (T,aids=3,D=3,s=6+1); norm only for xyz\n",
    "\n",
    "    s_full = np.concatenate((s_full_norm, s_full.reshape((-1, 3,3*6))), axis = -1) # out (T,3,3+(6*3))\n",
    "    \n",
    "    ##\n",
    "    for c, aid in enumerate(i.keys()):\n",
    "        ##\n",
    "        s_df[aid].append(np.quantile(s_full[:,c,:], quantiles, axis = 0).T.flatten())\n",
    "        r_df[aid].append(np.append(np.quantile(r[aid][:-1], quantiles, axis = 0).T.flatten(),[np.sum(r[aid][:-1]), np.sum(r[aid])]))\n",
    "        i_df[aid].append(np.quantile(i[aid], quantiles, axis = 0).T.flatten())\n",
    "\n",
    "        if aid != 'game':\n",
    "            ## TODO infer this elsewhere (maybe from obs & action spaces?)\n",
    "            DOF = a[aid].shape[-1]\n",
    "            o_dim = o[aid].shape[-1]\n",
    "\n",
    "            agent_df[aid].append(statics['agent'][aid].copy())\n",
    "            \n",
    "            o_df[aid].append(np.quantile(o[aid], quantiles, axis = 0).T.flatten())\n",
    "            a_df[aid].append(np.quantile(a[aid], quantiles, axis = 0).T.flatten())\n",
    "\n",
    "obs_names = list(range(1,o_dim+1))\n",
    "action_names = list(range(1,DOF+1))\n",
    "\n",
    "quantiles_names = [f'q{int(q*100)}' for q in quantiles] # generic\n",
    "quantiles_names_r = [f'{q}PreT' for q in quantiles_names]+['sumPreT','sum'] # reward specific\n",
    "\n",
    "start_df = pd.DataFrame(data = start_df).T\n",
    "outcome_df = pd.DataFrame(data = outcome_df).T\n",
    "outcome_df.replace({False: 0., True: 1.}, inplace=True)\n",
    "for c, aid in enumerate(i.keys()):\n",
    "    s_df[aid] = pd.DataFrame(s_df[aid], columns = [f'{y}-{x}' for y in s_names for x in quantiles_names])\n",
    "    s_df[aid].index = start_df.index\n",
    "    \n",
    "    r_df[aid] = pd.DataFrame(r_df[aid], columns = [f'Rew-{x}' for x in quantiles_names_r]) # todo do something similar to info_cols ALSO remove 'Rew' \n",
    "    r_df[aid].index = start_df.index\n",
    "    \n",
    "    i_df[aid] = pd.DataFrame(i_df[aid], columns = [f'{y}-{x}' for y in info_cols[('game' if (aid == 'game') else 'agent')]  for x in quantiles_names])\n",
    "    i_df[aid].index = start_df.index\n",
    "\n",
    "    if aid != 'game':\n",
    "        agent_df[aid] = pd.DataFrame(agent_df[aid]) # todo give obs names\n",
    "        agent_df[aid].index = start_df.index\n",
    "        \n",
    "        o_df[aid] = pd.DataFrame(o_df[aid], columns = [f'OBS{y}-{x}' for y in obs_names for x in quantiles_names]) # todo give obs names\n",
    "        o_df[aid].index = start_df.index\n",
    "        \n",
    "        a_df[aid] = pd.DataFrame(a_df[aid], columns = [f'DOF{y}-{x}' for y in action_names for x in quantiles_names])\n",
    "        a_df[aid].index = start_df.index\n",
    "\n",
    "##\n",
    "# collect\n",
    "df_all = [start_df, outcome_df, agent_df, s_df, o_df, r_df, a_df, i_df]\n",
    "\n",
    "# create access maps\n",
    "## TODO MOVE THESE TO CLASS VARIABLES!\n",
    "df_all_NameIdxMap = {k: v for k,v in zip(['start','end','agent', 's','o','r','a','i'], range(8))} # name:idx mapping\n",
    "df_all_IdxNameMap = {v:k for k,v in df_all_idxMap.items()} # inverse map\n",
    "\n",
    "#outcome_df"
   ]
  },
  {
   "cell_type": "code",
   "execution_count": null,
   "id": "a227ef10-fc3d-4657-8509-420bc44f1155",
   "metadata": {},
   "outputs": [],
   "source": [
    "import pickle\n",
    "SAVE_RESULTS = False # True False\n",
    "if SAVE_RESULTS:\n",
    "    #fileName = \"phase321_08042024/3D2DOF_tables_LTC32_BS_rTimeOnlyTriangle\"\n",
    "    fileNameOut = f'results/{fileName}_PIKdata.dat'\n",
    "    with open(fileNameOut, \"wb\") as f:\n",
    "        pickle.dump(tables_FULL, f)\n",
    "    '''\n",
    "    with open(fileNameOut, \"rb\") as f:\n",
    "        df_all = pickle.load(f)\n",
    "    '''\n",
    "SAVE_RESULTS"
   ]
  },
  {
   "cell_type": "markdown",
   "id": "d56c2ad5-6bf6-4120-9aa6-dd85cbc9222f",
   "metadata": {},
   "source": [
    "##### P4.5B: Summarizing tables"
   ]
  },
  {
   "cell_type": "code",
   "execution_count": null,
   "id": "3d1e02be-b668-4e50-838c-a98c6141985a",
   "metadata": {},
   "outputs": [],
   "source": [
    "tables_DESCRIBE = PEGanalysis.Analysis.tables_describe_across_runs(tables_FULL)"
   ]
  },
  {
   "cell_type": "code",
   "execution_count": null,
   "id": "ab730412-e025-4990-aaa5-40147eed96b3",
   "metadata": {},
   "outputs": [],
   "source": [
    "## get specific table\n",
    "name = 'agent'  # ['start','end','agent', 's','o','r','a','i']\n",
    "aid =  'p0' # [p0,e0,game]\n",
    "\n",
    "table_show = PEGanalysis.Analysis.tables_get_table(tables_DESCRIBE, name, aid)\n",
    "table_show"
   ]
  },
  {
   "cell_type": "code",
   "execution_count": null,
   "id": "55d282ea-7d9f-4219-8f59-4d3b64d51e03",
   "metadata": {},
   "outputs": [],
   "source": [
    "a = table_show.to_latex()\n",
    "a"
   ]
  },
  {
   "cell_type": "raw",
   "id": "44ae1753-59cb-46e2-9621-8d97df25426c",
   "metadata": {
    "jupyter": {
     "source_hidden": true
    },
    "scrolled": true
   },
   "source": [
    "def summarize_df(data_all: list):\n",
    "    warnings.warn('Note that non-numeric types are lost in aggregation! (e.g. TF dicts)')\n",
    "    summary_df = []\n",
    "    for data in data_all:\n",
    "        if isinstance(data, pd.DataFrame):\n",
    "            summary_d = data.describe().round(3)\n",
    "        elif isinstance(data, dict):\n",
    "            summary_d = {}\n",
    "            for k,v in data.items():\n",
    "                summary_d[k] = v.describe().round(3)\n",
    "        else:\n",
    "            raise Exception('unknown dtype')    \n",
    "        summary_df.append(summary_d)\n",
    "    return summary_df\n",
    "\n",
    "df_all_summary = summarize_df(df_all)\n",
    "\n",
    "name = 'agent'  # ['start','end','agent', 's','o','r','a','i']\n",
    "aid =  'p0' # [p0,e0,game]\n",
    "\n",
    "try:\n",
    "    df_show = df_all_summary[df_all_NameIdxMap[name]][aid]\n",
    "except KeyError:\n",
    "    # in to deep! no agent specifcs exists\n",
    "    df_show = df_all_summary[df_all_NameIdxMap[name]]\n",
    "\n",
    "df_show"
   ]
  },
  {
   "cell_type": "code",
   "execution_count": null,
   "id": "044f2542-313e-44b9-a95b-35b9b5eedbfa",
   "metadata": {},
   "outputs": [],
   "source": [
    "start_df"
   ]
  },
  {
   "cell_type": "code",
   "execution_count": null,
   "id": "713f2a55-8a87-4676-8359-8bbc9b71d598",
   "metadata": {},
   "outputs": [],
   "source": [
    "df_all_summary[2]"
   ]
  },
  {
   "cell_type": "code",
   "execution_count": null,
   "id": "178b5a09-3bb5-44db-be59-4a769ec5f3f8",
   "metadata": {},
   "outputs": [],
   "source": [
    "r_df['e0']"
   ]
  },
  {
   "cell_type": "code",
   "execution_count": null,
   "id": "340ac94a-155d-4a15-bc70-97b41abb178f",
   "metadata": {},
   "outputs": [],
   "source": []
  },
  {
   "cell_type": "raw",
   "id": "e6ebd9fa-17df-4a84-9d4d-688d30e103b2",
   "metadata": {},
   "source": [
    "time, distance, gamma, gamma_pp, BS_lag, BS_bool, reward,"
   ]
  },
  {
   "cell_type": "code",
   "execution_count": null,
   "id": "83e3e6fc-a605-49df-9d19-6b065a33a45c",
   "metadata": {},
   "outputs": [],
   "source": []
  },
  {
   "cell_type": "code",
   "execution_count": null,
   "id": "1c4914c8-de0c-462c-b4ce-707b544919de",
   "metadata": {},
   "outputs": [],
   "source": []
  },
  {
   "cell_type": "markdown",
   "id": "66eb3e6c-b429-4174-b09c-1315183e9c3d",
   "metadata": {},
   "source": [
    "#### P4.6: Evaluation (offline)"
   ]
  },
  {
   "cell_type": "code",
   "execution_count": null,
   "id": "be621b17-a260-4bb4-adfa-8f752122b9b6",
   "metadata": {
    "scrolled": true
   },
   "outputs": [],
   "source": [
    "## get filtered paths\n",
    "fileName_csv = 'OpogoniaSelected_n750_09042024'\n",
    "csv_paths_selected_df = pd.read_csv(f'data/{fileName_csv}.csv')\n",
    "csv_paths_selected = csv_paths_selected_df['path'].to_numpy()\n",
    "\n",
    "## select\n",
    "'''\n",
    "csv_paths_selection = [83]\n",
    "csv_paths_selected = csv_paths_selected[csv_paths_selection]\n",
    "csv_paths_selected_df = csv_paths_selected_df.iloc[csv_paths_selection,:] \n",
    "#'''\n",
    "\n",
    "#'''\n",
    "N_select = 100\n",
    "csv_paths_selection = csv_paths_selected_df['N'].nlargest(N_select).index.tolist()\n",
    "csv_paths_selected = csv_paths_selected[csv_paths_selection]\n",
    "csv_paths_selected_df = csv_paths_selected_df.iloc[csv_paths_selection,:] \n",
    "#'''\n",
    "print(f'{len(csv_paths_selected)}\\n')\n",
    "csv_paths_selected_df"
   ]
  },
  {
   "cell_type": "code",
   "execution_count": null,
   "id": "16217388-95fe-430b-bb0a-321aa07c5e89",
   "metadata": {
    "scrolled": true
   },
   "outputs": [],
   "source": [
    "plt.plot(np.arange(len(csv_paths_selected)), csv_paths_selected_df['N'].to_numpy())"
   ]
  },
  {
   "cell_type": "code",
   "execution_count": null,
   "id": "bce2cb81-54f0-451b-802f-42f9f465ff19",
   "metadata": {
    "scrolled": true
   },
   "outputs": [],
   "source": [
    "csv_paths_selected"
   ]
  },
  {
   "cell_type": "raw",
   "id": "a78beb76-d5ed-4c9b-8c73-c377fa83bd81",
   "metadata": {},
   "source": [
    "## inspect data\n",
    "data_idx = pd.read_csv(csv_paths_selected[],  \n",
    "                     delimiter = ';',\n",
    "                     )"
   ]
  },
  {
   "cell_type": "raw",
   "id": "d7568c06-62a6-4104-ba7b-9013f960e4ea",
   "metadata": {},
   "source": [
    "## specific path/file to run\n",
    "path = r\"C:\\Users\\Reinier Vos\\Documents\\PEG1\\data\\PATS\\pats_drone_hunts_cleaned\\pats311-20231208_200550-log_flight1\\pats311-20231208_200550-log_flight1_CLEANED.csv\"\n",
    "csv_paths_selected = np.array([path])\n",
    "print(f'\\nONLY RUNNING SPECIFIC PATH {path}\\n')"
   ]
  },
  {
   "cell_type": "code",
   "execution_count": null,
   "id": "2c3128a5-9d36-42e0-9b4f-e11f9b32b076",
   "metadata": {},
   "outputs": [],
   "source": [
    "import PEG1_env as PEGenv\n",
    "importlib.reload(PEGenv)\n",
    "import copy\n",
    "'''\n",
    "env_offline_config = {\n",
    "            'SA':{'Dimension':3, # 2d or 3d of state space\n",
    "                  'DOF':3, # [1,2,4] degrees of freedom of action space\n",
    "                  ## additional\n",
    "                  'a_control_3D3DOF':True,\n",
    "                  },\n",
    "            'BS': {'do_bs':True, # KEEP ON!\n",
    "                    'bs_cl_active':4,#3,\n",
    "                    'bs_gamma_thres':0.9},\n",
    "            'NOISE': {'do_noise':True},\n",
    "            'specs':{'p0':{'Tdelay':3, 'tau':0.03,'rate_limit':10.*np.pi, #8.5*np.pi,\n",
    "                            },\n",
    "                    }\n",
    "             }\n",
    "'''\n",
    "env_offline_config = copy.deepcopy(ENV_CONFIG)\n",
    "#''' \n",
    "#env_offline_config['specs'].update({'p0':{'v_rel_max':1.}})\n",
    "\n",
    "env = PEGenv.PursuitEvasionEnv(env_offline_config)\n",
    "\n",
    "env.set_task(0) # time limit is defined by offline data\n",
    "env.DO_NOISE = True\n",
    "env.intercept_distance = 0.05\n",
    "RAISE_Z_COORDINATE = True\n",
    "SET_R0_DISTANCE = 1. \n",
    "\n",
    "''' \n",
    "env.agent_specs['p0']['a_g'] = 0.\n",
    "#'''\n",
    "EXPLORE_SETTING = False\n",
    "if EXPLORE_SETTING:\n",
    "    warnings.warn('ATTENTION: explore = True during eval!')\n",
    "if env.DO_NOISE:\n",
    "    warnings.warn('ATTENTION: noise = True during eval!')\n",
    "'''\n",
    "# for opogonia N83 we have:\n",
    "env.agent_specs['p0']['v_rel'] = 0.3 #0.3 \n",
    "env.ADD_NOISE = False\n",
    "env.intercept_distance = 0.08\n",
    "#'''\n",
    "'''\n",
    "# FOR PATS CLEANED DATA; \n",
    "env.agent_specs['p0']['v_rel'] = 0.085\n",
    "env.ADD_NOISE = False\n",
    "env.intercept_distance = 0.05\n",
    "#''' \n",
    "\n",
    "'''\n",
    "# NOTE ALSO RELATED TO PATS CLEANED DATA\n",
    "# file; pats311-20231208_200550-log_flight1_CLEANED \n",
    "# LTC32 with 3D2DOF, filename; 3D2DOF_LTC32_BS_rTimeOnlyTriangle_P2_NEWv42  \n",
    "MC finite intercept; v= 0.08 | int = 0.05 | timestep = nan -> action /= 11  (first_valid_idx =0) | no noise\n",
    "intercept (first_valid_idx =61); v= 0.085 | int = 0.05 | timestep = nan -> action /= 8 | no noise\n",
    "-> increase height of z-coordinate with +0.02 for better plot\n",
    "# ALSO UNCOMMENTS TODO-STAR LINES & HAVE NO FREQUENCY\n",
    "'''\n",
    "FIRST = True\n",
    "env.intercept_distance"
   ]
  },
  {
   "cell_type": "raw",
   "id": "935b0910-7cfa-44a8-9a0a-3389c6ec418b",
   "metadata": {
    "scrolled": true
   },
   "source": [
    "env.agent_specs"
   ]
  },
  {
   "cell_type": "code",
   "execution_count": null,
   "id": "34b2ddff-df6c-4a8a-b4fa-afad4b78e221",
   "metadata": {},
   "outputs": [],
   "source": [
    "BENCHMARK = False # True False\n",
    "if BENCHMARK:\n",
    "    import PEG1_benchmarks as PEGbench\n",
    "    importlib.reload(PEGbench)\n",
    "\n",
    "    #save_path = r\"C:\\Users\\Reinier Vos\\Documents\\PEG1\\runsREPORTn1\\hof_BENCHMARK_PID\"\n",
    "    #save_label = '\\\\CL3_noExplore_pqrP5I01D1_Th1_gmax1'\n",
    "BENCHMARK"
   ]
  },
  {
   "cell_type": "code",
   "execution_count": null,
   "id": "b433c8ec-7cc7-4aa0-894c-7c08b02409dd",
   "metadata": {
    "scrolled": true
   },
   "outputs": [],
   "source": [
    "from tqdm import tqdm\n",
    "from ray.rllib.evaluation.episode_v2 import EpisodeV2\n",
    "if not FIRST:\n",
    "    raise Exception('Call previous cell first')\n",
    "FIRST = False\n",
    "\n",
    "TIMESTEP = 1#3#9 # FOR ~0.1 timestep instead of 0.01\n",
    "SEED_OFFLINE = 8147\n",
    "\n",
    "colnames_extract = ['elapsed',\n",
    "                    'sposX_insect', 'sposY_insect', 'sposZ_insect', \n",
    "                    'svelX_insect', 'svelY_insect', 'svelZ_insect', \n",
    "                    'saccX_insect', 'saccY_insect', 'saccZ_insect']\n",
    "\n",
    "timesteps_rnn = None\n",
    "try: \n",
    "    timesteps_rnn = algo.get_policy('p0').model.lstm_timesteps\n",
    "except:\n",
    "    pass\n",
    "\n",
    "PolMap = lambda aid, eps, worker: aid\n",
    "callback = algo.config.callbacks_class()\n",
    "\n",
    "for idx, path in enumerate(tqdm(csv_paths_selected)):\n",
    "    # use range for TQDM rather than enumerate\n",
    "\n",
    "    \n",
    "    data_idx = pd.read_csv(path, \n",
    "                     usecols = colnames_extract, \n",
    "                     delimiter = ';',\n",
    "                     ).to_numpy()\n",
    "    #'''\n",
    "    ## AJDUTING FREQUENCY # TODO-STAR\n",
    "    #NOTICE THE TIMESTEP!! ::TIMESTEP = change of frequency\n",
    "    data_idx = data_idx[::TIMESTEP,:]\n",
    "    \n",
    "    #''' \n",
    "    #data_idx = data_idx[61:,:] # TODO-STAR\n",
    "    \n",
    "    ## unpack data\n",
    "    data_T = data_idx[:,[0]] # elapsed time \n",
    "    #print(f'max: {np.max(data_T)} min:{np.min(data_T)} avg_delta: {(np.max(data_T)-np.min(data_T))/len(data_T)}')\n",
    "    data_e0 = data_idx[:,1:].reshape((-1,3,3))\n",
    "\n",
    "    assert np.sum(np.isnan(data_e0)) == 0 \n",
    "    ## provide offline data\n",
    "    env.override_agentE_state('e0',data_e0, raise_z_coordinate = RAISE_Z_COORDINATE, set_r0 = SET_R0_DISTANCE)\n",
    "\n",
    "    if BENCHMARK:\n",
    "        target_state = env.state_space_offline[:,:,:3].copy() # (T,3,3)\n",
    "        #''' \n",
    "        state_space_both = PEGbench.simulate_PIDquaterror_benchmark_NEW(target_state, \n",
    "                                                           seed = SEED_OFFLINE + idx, \n",
    "                                                           noise = env.DO_NOISE,\n",
    "                                                           INT_DISTANCE = env.intercept_distance,\n",
    "                                                           DO_RESET = True,\n",
    "                                                          )\n",
    "        ''' \n",
    "        state_space_both = PEGbench.simulate_PIDaccerror_benchmark(target_state, \n",
    "                                                           seed = SEED_OFFLINE + idx, \n",
    "                                                           noise = env.DO_NOISE,\n",
    "                                                           INT_DISTANCE = env.intercept_distance,\n",
    "                                                          )\n",
    "        #'''\n",
    "        env.override_agentBOTH_state(state_space_both, force = True)\n",
    "        \n",
    "    ## simulate trajectories\n",
    "    done = False\n",
    "    obs, info = env.reset(setting_eval = True, seed = SEED_OFFLINE + idx)\n",
    "    episode = EpisodeV2(0,env.agent_id.copy(),PolMap) # note that this polmap is just a dummy feedthrough\n",
    "    callback.on_episode_start(episode = episode, worker = None, base_env = None,policies = None,env_index = None)\n",
    "    t = 0\n",
    "    while not done:\n",
    "        t += 1\n",
    "        '''\n",
    "        TODO call all callback functions (also before & after episode) \n",
    "        and replicate algo.train/.evaluate behaviour wrt to sampled metrics\n",
    "        '''\n",
    "        input_dict = env.get_next_input(torch_out = True, timesteps_rnn = timesteps_rnn) # dict with (T,F), even if not RNN models\n",
    "        \n",
    "        action_dict = {} # wipe every iter to ensure no past actions used\n",
    "        action_dict['p0'] = np.zeros(env.action_space['p0'].shape) # ignored if offline data is provided, but has to be provided\n",
    "        action_dict['e0'] = np.zeros(env.action_space['e0'].shape) # ignored due to offline data, but has to be provided\n",
    "        for aid in env.agent_id_stepped:\n",
    "            assert aid != 'e0', ''\n",
    "            ## compute actions \n",
    "            #input_dict = {'obs':inputs[aid][-1,:],'prev_n_obs':inputs[aid]}\n",
    "            #''' \n",
    "            action_dict[aid] = algo.compute_single_action(input_dict = input_dict[aid], policy_id = aid, \n",
    "                                                          explore = EXPLORE_SETTING, #full_fetch = True, # full fetch for value function as well!\n",
    "                                                         )\n",
    "            '''\n",
    "            action_dict[aid] = benchmark_interceptor(env.t_idx, env.state_space)\n",
    "            \n",
    "            #''' \n",
    "            #action_dict['p0'] /= 8 # TODO-STAR\n",
    "            #action_dict['p0'] = np.zeros(env.action_space['p0'].shape)\n",
    "        obs, rws, terms, truncs, infos  = env.step(action_dict)\n",
    "        #'''\n",
    "        for aid in env.agent_id:\n",
    "            episode.set_last_info(aid, infos[aid])\n",
    "        callback.on_episode_step(episode = episode,worker = None, base_env = None,policies = None,env_index = None)\n",
    "        #'''\n",
    "        done = (terms['__all__'] or truncs['__all__'])\n",
    "\n",
    "    ##\n",
    "    callback.on_episode_end(episode = episode, worker = None, base_env = None,policies = None,env_index = None) # episode now contains aggregate statistics in the custom_metrics attribute\n",
    "    episode.custom_metrics['episode_idx'] = idx  \n",
    "    episode.custom_metrics['episode_path'] = path  \n",
    "    episode_df_i = pd.DataFrame.from_dict(episode.custom_metrics, orient = 'index').T\n",
    "    if idx != 0:\n",
    "        episode_df = pd.concat((episode_df, episode_df_i), axis = 0)\n",
    "    else:\n",
    "        episode_df = episode_df_i.copy()\n",
    "## finalization\n",
    "episode_df.columns = [f'evaluation/custom_metrics/{x}_mean' for x in list(episode_df.columns)]"
   ]
  },
  {
   "cell_type": "code",
   "execution_count": null,
   "id": "84471c78-4a00-4680-86ef-b879a7c917b5",
   "metadata": {},
   "outputs": [],
   "source": [
    "episode_df.describe()"
   ]
  },
  {
   "cell_type": "raw",
   "id": "b90edbde-4139-4303-9911-82936f71ff07",
   "metadata": {},
   "source": [
    "#episode_df.columns = [x.replace('evaluation/','evaluation/custom_metrics/') for x in list(episode_df.columns)]\n",
    "episode_df.columns = [x + '_mean' for x in list(episode_df.columns)]\n",
    "episode_df.describe()\n",
    "episode_df.to_csv(f'{saveName}_offline_progress.csv', index = False)"
   ]
  },
  {
   "cell_type": "code",
   "execution_count": null,
   "id": "75cb61c5-488b-412d-9191-690b8ff7579d",
   "metadata": {},
   "outputs": [],
   "source": [
    "selected_histories = env.getNwipe_histories_all()\n",
    "MARKER = '_OFFLINE'\n",
    "offline_out = {'evaluation':{}, 'env_histories':selected_histories} # (eval_metrics, selected_histories)\n",
    "#print(f'N ={len(selected_histories)}')\n",
    "\n",
    "## quick outcome summary\n",
    "outcomes = pd.DataFrame({f'R{idx}': his[-1]['end'] for idx, his in enumerate(selected_histories)}).T\n",
    "outcomes_sum = outcomes.replace({False: 0., True: 1.}, inplace=False).describe().iloc[:2,:].round(2) # summary of outcomes\n",
    "print(outcomes.replace({False: '-'}, inplace=False).T) # quick overview of run specific outcome\n",
    "\n",
    "outcomes_sum"
   ]
  },
  {
   "cell_type": "raw",
   "id": "38d24ac0-132b-4dd4-9092-a7e9bb4cb297",
   "metadata": {},
   "source": [
    "save_path = r\"C:\\Users\\Reinier Vos\\Documents\\PEG1\\runsREPORTn1\\hof_BENCHMARK_PID\"\n",
    "save_label = '\\\\CL3_NOISE_noExplore_P06D3_T1aMimic_RESET'"
   ]
  },
  {
   "cell_type": "code",
   "execution_count": null,
   "id": "91d59255-7bef-4121-ac32-1e87883c9edc",
   "metadata": {
    "scrolled": true
   },
   "outputs": [],
   "source": [
    "## save entire eval out object\n",
    "import pickle\n",
    "SAVE_EVAL_OUT = True # True False\n",
    "if SAVE_EVAL_OUT:\n",
    "    #fileName = \"phase321_08042024/3D2DOF_tables_LTC32_BS_rTimeOnlyTriangle\"\n",
    "    #fileNameOut = f'results/{fileName}_eval_out.dat'\n",
    "    #fileNameOut =  r\"C:\\Users\\Reinier Vos\\Documents\\PEG1\\runs\\PPO_LTC9in_p0gaine0conv_BSlag_240i\\PPO_PEG1_env_f83fc_00000_0_2024-04-25_12-52-54\\checkpoint_000004\\results\"\\\n",
    "    #fileNameOut = checkpoint_path + '\\\\results' + '\\offline_out_PIKdata.dat'\n",
    " \n",
    "    #save_path = r\"C:\\Users\\Reinier Vos\\Documents\\PEG1\\runsREPORTn1\\hof_Plstm64d3t3g2r10N_Elstm64d0t1g5r20N\\PPO_PEG1_env_3d207_00000_0_2024-07-20_11-41-28\\checkpoint_000171\\results\"\n",
    "    #save_label = '\\\\CL3_noExplore'\n",
    "\n",
    "    saveName = save_path + save_label  \n",
    "    #saveName += 'NOISE'\n",
    "    saveName += MARKER\n",
    "    fileNameOut = f'{saveName}_out_PIK.dat'\n",
    "    with open(fileNameOut, \"wb\") as f:\n",
    "        pickle.dump(offline_out, f)\n",
    "\n",
    "    ##\n",
    "    episode_df.to_csv(f'{saveName}_progress.csv', index = False)\n",
    "\n",
    "SAVE_EVAL_OUT"
   ]
  },
  {
   "cell_type": "code",
   "execution_count": null,
   "id": "a4a6832e-ee03-496e-9d5e-516b641c908a",
   "metadata": {},
   "outputs": [],
   "source": [
    "raise"
   ]
  },
  {
   "cell_type": "code",
   "execution_count": null,
   "id": "65669255-4034-4139-be12-6898e9e66d20",
   "metadata": {},
   "outputs": [],
   "source": [
    "### QUICK PLOT\n",
    "PLOT_IDX = 0 \n",
    "s, o, r, a , i , statics = selected_histories[PLOT_IDX]\n",
    "\n",
    "#s = s[:50,:,:,:]\n",
    "SHOW_DRONE = False \n",
    "GO = False\n",
    "\n",
    "import PEG1_analysis as PEGanalysis\n",
    "importlib.reload(PEGanalysis)\n",
    "import plotly.graph_objects as pgo\n",
    "NB_SETTINGS ={\n",
    "    'color':{'p0':'blue',\n",
    "             'p0BS':'green',\n",
    "             'e0':'red',\n",
    "             'e0BS':'orange',\n",
    "            }}\n",
    "\n",
    "outcome_label = [k for k, v in statics['end'].items() if v][0] \n",
    "runName_Fig = f'R{PLOT_IDX}' + '-' + outcome_label\n",
    "\n",
    "SHOW_LOS = 10\n",
    "\n",
    "fig = pgo.Figure()\n",
    "BROWSERFIG = False\n",
    "SHOW_DRONE = False \n",
    "for aid_idx, aid in enumerate(['p0','e0']):\n",
    "    ## time trace\n",
    "    fig = PEGanalysis.Visualization.setup_3dplotly(fig, s[:,aid_idx,0,:3], aid,NB_SETTINGS['color'][aid], 'Trajectories', \n",
    "                                              legendgroup = runName_Fig, BrowserFig = BROWSERFIG)\n",
    "    ## initial position\n",
    "    fig = PEGanalysis.Visualization.setup_3dplotly(fig, s[[0],aid_idx,0,:3], aid+'ini',NB_SETTINGS['color'][aid], 'Trajectories', \n",
    "                                              marker_size = 5, showlegend = False,mode = 'markers', legendgroup = runName_Fig, BrowserFig = BROWSERFIG)\n",
    "    if setup_env.DO_BS and GO:\n",
    "        # ADD BLINDSIGHTING LABELS\n",
    "        i_bs_aid = i[aid][:,[-(2+4+1)]]\n",
    "        i_bs_aid[i_bs_aid == 0] = np.nan\n",
    "        s_bs_aid = s[:,aid_idx,0,:3]*i_bs_aid\n",
    "        fig = PEGanalysis.Visualization.setup_3dplotly(fig, s_bs_aid, aid+'BS',NB_SETTINGS['color'][aid+'BS'], 'Trajectories', marker_size = 5, \n",
    "                                                  showlegend = False,mode = 'markers', legendgroup = runName_Fig, BrowserFig = BROWSERFIG)\n",
    "\n",
    "if bool(SHOW_LOS):# and GO:\n",
    "    # ADD LINES OF SIGHT\n",
    "    for idx in range(0,len(s), SHOW_LOS):\n",
    "\n",
    "        LOS = s[idx,:,0,:3]\n",
    "        fig = PEGanalysis.Visualization.setup_3dplotly(fig, LOS, 'LOS','black', 'Trajectories', #marker_size = 5, \n",
    "                                                  showlegend = False,mode = 'lines', legendgroup = runName_Fig, BrowserFig = BROWSERFIG, width = 0.5)\n",
    "\n",
    "if SHOW_DRONE:\n",
    "    ## FIRST RUN PATS DRONE DATA CELLS BELOW!\n",
    "    assert len(s_drone.shape) == 2\n",
    "    ## add drone trace\n",
    "    fig = PEGanalysis.Visualization.setup_3dplotly(fig, s_drone, 'PATS-drone','green', 'Trajectories', #marker_size = 5, \n",
    "                                                  showlegend = True,mode = 'lines', legendgroup = runName_Fig, BrowserFig = BROWSERFIG)\n",
    "    ## add drone initial position\n",
    "    fig = PEGanalysis.Visualization.setup_3dplotly(fig, s_drone[[0],:], 'PATS-drone_ini','green', 'Trajectories', marker_size = 5, \n",
    "                                                  showlegend = False,mode = 'markers', legendgroup = runName_Fig, BrowserFig = BROWSERFIG)\n",
    "\n",
    "if not BROWSERFIG:\n",
    "    fig.show() # for broswerfig you should switch this off and run next cell"
   ]
  },
  {
   "cell_type": "code",
   "execution_count": null,
   "id": "1200f9c6-8233-4c34-bf62-ab91bb17e75b",
   "metadata": {},
   "outputs": [],
   "source": [
    "plt.figure()\n",
    "plt.plot(i['p0'][:,4])\n",
    "\n",
    "plt.figure()\n",
    "plt.plot(i['game'][:,3])"
   ]
  },
  {
   "cell_type": "code",
   "execution_count": null,
   "id": "2543a969-808f-41af-95ee-2ea2d697d8ea",
   "metadata": {},
   "outputs": [],
   "source": [
    "s[:10,0,0,:3]"
   ]
  },
  {
   "cell_type": "code",
   "execution_count": null,
   "id": "f48e86d7-0f07-4dda-a9ad-71c3ae36ccdf",
   "metadata": {},
   "outputs": [],
   "source": [
    "env.agent_specs['p0']"
   ]
  },
  {
   "cell_type": "code",
   "execution_count": null,
   "id": "dce3f3d0-9632-44c5-89dd-377b560b373e",
   "metadata": {},
   "outputs": [],
   "source": [
    "## browserfig; switch on boolean in previous cell\n",
    "if BROWSERFIG:\n",
    "    #title = 'Trajectory for LTC32 drone and PATS drone vs Opogonia'\n",
    "    title = 'Trajectory for PATS drone vs Opogonia'\n",
    "    fig.update_layout(legend = dict(yanchor=\"top\", y=0.95, xanchor=\"left\", x=0.05),\n",
    "                                  showlegend = True, title = dict(text=title, y = 0.9, x = 0.5))\n",
    "    \n",
    "    fig.show(renderer = 'browser')\n"
   ]
  },
  {
   "cell_type": "code",
   "execution_count": null,
   "id": "00c46731-b497-4e16-ab78-ee6638baf5ee",
   "metadata": {},
   "outputs": [],
   "source": [
    "import plotly\n",
    "# TODO CREATE FOLDER AND SAME ALL THESE RESULT FILES IN THIS FOLDER, PLUS THE MODEL NAME, MAYBE SAVE IT IN THE CHECKPOINT DIR!\n",
    "SAVE_RESULTS = False # True False\n",
    "fileName = r\"C:\\Users\\Reinier Vos\\Documents\\PEG1\\data\\PATS\\pats_drone_hunts_cleaned\\pats311-20231208_200550-log_flight1\\PATSdroneONLY_opogonia_pats311flight1\"\n",
    "if SAVE_RESULTS: # inferred\n",
    "    #fileName = 'phase321_08042024/3D2DOF_LTC32_BS_rTimeOnlyTriangle'\n",
    "    plotly.offline.plot(fig, filename=f'{fileName}_TRAJ.html')\n",
    "\n"
   ]
  },
  {
   "cell_type": "markdown",
   "id": "701a1844-01f9-4caf-bc7f-6d8c594060af",
   "metadata": {},
   "source": [
    "##### Velocity distribution plots\n"
   ]
  },
  {
   "cell_type": "code",
   "execution_count": null,
   "id": "25a5da6f-9d78-4885-8fb9-6bbf1155c0d6",
   "metadata": {},
   "outputs": [],
   "source": [
    "## Velocity distribution plot\n",
    "import plotly.figure_factory as ff\n",
    "\n",
    "s[:,0,1,:3]\n",
    "s_p_Vnorm = np.linalg.norm(s[:,0,1,:3], axis = 1)  # pursuer\n",
    "\n",
    "v_norm = np.linalg.norm(s[:,1,1,:3], axis = -1) # evader\n",
    "v_norm_stats = [np.median(v_norm), np.mean(v_norm)]\n",
    "\n",
    "#v_norm_PATS = np.linalg.norm(s_drone[:,:], axis = -1)[1:]\n",
    "dist_data = [v_norm, \n",
    "             #s_p_Vnorm,\n",
    "             #v_norm_PATS, # PATS\n",
    "            ]\n",
    "dist_names = ['|v|_e',\n",
    "             # '|v|_p',\n",
    "              #'|v|_PATS',  # PATS\n",
    "             ]\n",
    "colors = ['red',\n",
    "          #'blue'\n",
    "          #'green', # PATS\n",
    "         ]\n",
    "\n",
    "bin_size = .05\n",
    "fig1 = ff.create_distplot(dist_data, dist_names, \n",
    "                          bin_size=bin_size,\n",
    "                          #show_hist=False,\n",
    "                          colors = colors,\n",
    "                          histnorm= 'probability', # frequency (default?, counts), probability (forced [0,1]) & probability density (kernel, no bounds)\n",
    "                          )\n",
    "fig1.add_vline(x=env.agent_specs['p0']['v_rel'], line_color = 'blue', name = '|v|_p', showlegend = True)\n",
    "fig1.update_layout(title = dict(text = f'Empirical kernel for |v| & binsize = {bin_size}'), xaxis = dict(title = '|v| [m/s]'), yaxis = dict(title = 'PDF-hat [p]'))\n",
    "fig1.show()\n",
    "\n",
    "print(v_norm_stats)"
   ]
  },
  {
   "cell_type": "raw",
   "id": "c8c68c00-68c7-4620-95b2-35cbe909b669",
   "metadata": {},
   "source": [
    "import plotly.figure_factory as ff\n",
    "\n",
    "s[:,0,1,:3]\n",
    "s_p_Vnorm = np.linalg.norm(s[:,0,1,:3], axis = 1)  # pursuer\n",
    "\n",
    "np.random.seed(2)\n",
    "v_norm = np.random.uniform(0.75,1.25, 100)\n",
    "\n",
    "#v_norm_PATS = np.linalg.norm(s_drone[:,:], axis = -1)[1:]\n",
    "dist_data = [v_norm, \n",
    "             #s_p_Vnorm,\n",
    "             #v_norm_PATS, # PATS\n",
    "            ]\n",
    "\n",
    "dist_names = ['|v|_e',\n",
    "             # '|v|_p',\n",
    "              #'|v|_PATS',  # PATS\n",
    "             ]\n",
    "colors = ['red',\n",
    "          #'blue'\n",
    "          #'green', # PATS\n",
    "         ]\n",
    "\n",
    "bin_size = .05\n",
    "fig1 = ff.create_distplot(dist_data, dist_names, \n",
    "                          bin_size=bin_size,\n",
    "                          #show_hist=False,\n",
    "                          colors = colors,\n",
    "                          histnorm= 'probability', # frequency (default?, counts), probability (forced [0,1]) & probability density (kernel, no bounds)\n",
    "                          )\n",
    "fig1.add_vline(x=1.0, line_color = 'blue', name = '|v|_p', showlegend = True)\n",
    "fig1.update_layout(title = dict(text = f'Empirical kernel for |v| & binsize = {bin_size}'), xaxis = dict(title = '|v| [m/s]'), yaxis = dict(title = 'PDF-hat [p]'))\n",
    "fig1.show()\n",
    "\n",
    "print(v_norm_stats)"
   ]
  },
  {
   "cell_type": "markdown",
   "id": "e188ba80-7f02-4d65-8857-0c07db8eefb6",
   "metadata": {},
   "source": [
    "#### (EXTRA) PATS DRONE DATA addition\n",
    "first load the following cells, then reload the quickplot"
   ]
  },
  {
   "cell_type": "code",
   "execution_count": null,
   "id": "ccd78083-4aa3-4063-88a5-2201bcbe6489",
   "metadata": {},
   "outputs": [],
   "source": [
    "## PATS drone data\n",
    "path = r\"C:\\Users\\Reinier Vos\\Documents\\PEG1\\data\\PATS\\pats_drone_hunts_cleaned\\pats311-20231208_200550-log_flight1\\pats311-20231208_200550-log_flight1_CLEANED.csv\"\n",
    "\n",
    "cols_drone = ['sposX_drone','sposY_drone','sposZ_drone']\n",
    "#cols_drone = ['svelX_drone','svelY_drone','svelZ_drone']\n",
    "s_drone = pd.read_csv(path, \n",
    "                 usecols = cols_drone, \n",
    "                 delimiter = ';',\n",
    "                 ).to_numpy() # (T,3) only xyz\n",
    "## adjust frequency\n",
    "#s_drone = s_drone[::TIMESTEP,:] # TODO-STAR\n",
    "s_drone = s_drone[61:,:] # TODO-STAR"
   ]
  },
  {
   "cell_type": "code",
   "execution_count": null,
   "id": "924088ad-2fe5-4fb0-b3cc-5aadf142e926",
   "metadata": {},
   "outputs": [],
   "source": [
    "## PAD other data to same length as PATS drone data\n",
    "# unpack to adjust\n",
    "s, o, r, a , i , statics = selected_histories[0] # unpack to adjust\n",
    "\n",
    "### ADJUST-START\n",
    "t_limit_diff = len(data_e0) - len(s)\n",
    "#self.state_space = np.pad(self.state_space, [(0,t_limit_diff),*((0,0),)*3] )\n",
    "s = np.pad(s, [(0,t_limit_diff),*((0,0),)*3] , 'constant', constant_values=np.nan)\n",
    "for aid in ['p0', 'e0']:\n",
    "    i[aid] = np.pad(i[aid], [(0,t_limit_diff),(0,0)] , 'constant', constant_values=np.nan)\n",
    "\n",
    "# give all data\n",
    "s[:,1,:,:3] = data_e0 # override with complete evader data, not cutoff after interception\n",
    "## adjust height of eavder (z-coordinate) for better interception\n",
    "s[:,1] += 0.02 # = CHEATING\n",
    "\n",
    "### ADJUST-END\n",
    "\n",
    "selected_histories = [(s,o,r,a,i, statics)] # repack for compatibility with above cells\n"
   ]
  },
  {
   "cell_type": "markdown",
   "id": "117bad30-0338-4cf9-a97a-cec436fd9be0",
   "metadata": {},
   "source": [
    "#####  SETUP HISTORY FOR PATS DRONE"
   ]
  },
  {
   "cell_type": "code",
   "execution_count": null,
   "id": "c1d2c35d-b963-4410-9af0-1da46280c374",
   "metadata": {},
   "outputs": [],
   "source": [
    "## PART A; GET & PREPARE DATA\n",
    "cols = np.array(['elapsed', 'sposX_drone', 'sposY_drone', 'sposZ_drone',\n",
    "       'svelX_drone', 'svelY_drone', 'svelZ_drone', 'saccX_drone',\n",
    "       'saccY_drone', 'saccZ_drone', 'sposX_insect', 'sposY_insect',\n",
    "       'sposZ_insect', 'svelX_insect', 'svelY_insect', 'svelZ_insect',\n",
    "       'saccX_insect', 'saccY_insect', 'saccZ_insect'], dtype='<U12')\n",
    "data_pats = pd.read_csv(path, \n",
    "                 usecols = cols, \n",
    "                 delimiter = ';',\n",
    "                 #skiprows = list(range(1,62)), # NOTICE SKIPROWS!!!!!!\n",
    "                 )\n",
    "#first_valid_index = data_pats.first_valid_index()\n",
    "#data_pats = data_pats.iloc[first_valid_index:, :] # might not work\n",
    "data_pats.dropna(inplace = True) # use this if first_valid_index does not work...\n",
    "\n",
    "np.unique(np.diff(data_pats.index)) # check for timestep\n",
    "\n",
    "data_pats_np = data_pats.to_numpy()[:,1:].reshape((-1,2,3,3))\n"
   ]
  },
  {
   "cell_type": "code",
   "execution_count": null,
   "id": "a60a1c55-4517-44ef-ad58-dd58aca48276",
   "metadata": {},
   "outputs": [],
   "source": [
    "## PART B; push through environment and get history_container\n",
    "import PEG1_env as PEGenv\n",
    "importlib.reload(PEGenv)\n",
    "'''\n",
    "env_config = {\n",
    "            'SA':{'Dimension':3, # 2d or 3d of state space\n",
    "                          'DOF':2, # [1,2,4] degrees of freedom of action space\n",
    "                          ## additional\n",
    "                          },\n",
    "            'specs':{},\n",
    "             }\n",
    "'''\n",
    "env = PEGenv.PursuitEvasionEnv(ENV_CONFIG)\n",
    "\n",
    "env.set_task(0) # time limit is defined by offline data\n",
    "env.ADD_NOISE = False \n",
    "env.intercept_distance = 0.05 # ONLY OUTCOME RELATED VARIABLES ARE IMPORTANT\n",
    "\n",
    "## override with offline data\n",
    "env.override_agentBOTH_state(data_pats_np)\n",
    "\n",
    "## simulate trajectories\n",
    "done = False\n",
    "obs, info = env.reset(setting_eval = True)\n",
    "while not done:\n",
    "\n",
    "    action_dict = {} # wipe every iter to ensure no past actions used\n",
    "    action_dict['e0'] = np.zeros(env.action_space['e0'].shape) # ignored due to offline data, but has to be provided\n",
    "    action_dict['p0'] = np.zeros(env.action_space['p0'].shape) # ignored due to offline data, but has to be provided\n",
    "    \n",
    "    obs, rws, terms, truncs, infos  = env.step(action_dict)\n",
    "    done = (terms['__all__'] or truncs['__all__'])\n",
    "\n",
    "##\n",
    "selected_histories = env.getNwipe_histories_all()\n",
    "selected_histories_PATS = selected_histories.copy() # SAVE A COPY\n",
    "assert len(selected_histories[0][4]['p0']) == len(selected_histories[0][0]), 'TRACE THIS ERROR AND RESOLVE'\n",
    "#print(f'N ={len(selected_histories)}')\n",
    "\n",
    "## quick outcome summary\n",
    "outcomes = pd.DataFrame({f'R{idx}': his[-1]['end'] for idx, his in enumerate(selected_histories)}).T\n",
    "outcomes_sum = outcomes.replace({False: 0., True: 1.}, inplace=False).describe().iloc[:2,:].round(2) # summary of outcomes\n",
    "print(outcomes.replace({False: '-'}, inplace=False).T) # quick overview of run specific outcome\n",
    "\n",
    "outcomes_sum"
   ]
  },
  {
   "cell_type": "markdown",
   "id": "a98003d7-38a7-4982-84b4-e3685d9ec995",
   "metadata": {},
   "source": [
    "##### SLIDER WITH 3 DATA TRACES (= PURSUER, EVADER & PATS)\n",
    "\n",
    "be sure to run the original figure with visible = False & no LOS shown!"
   ]
  },
  {
   "cell_type": "code",
   "execution_count": null,
   "id": "1e3dae74-01d1-4bb2-8ce1-07d1a4ed73b3",
   "metadata": {},
   "outputs": [],
   "source": [
    "TITLE = 'Opogonia (~reactionary) (e) vs LTC32-drone (p) and PATS-drone (PATS)'\n",
    "\n",
    "fig = pgo.Figure()\n",
    "for t in range(1,len(s)):\n",
    "    for aid_idx, aid in enumerate(setup_env.agent_id):\n",
    "        fig = PEGanalysis.Visualization.setup_3dplotly(fig, s[:t,aid_idx, 0,:3], aid,NB_SETTINGS['color'][aid], \n",
    "                                                  TITLE, legendgroup = aid, BrowserFig = True, visible = False)\n",
    "        if setup_env.DO_BS:\n",
    "            i_bs_aid = i[aid][:t,[2]]\n",
    "            i_bs_aid[i_bs_aid == 0] = np.nan\n",
    "            s_bs_aid = s[:t,aid_idx, 0,:3]*i_bs_aid\n",
    "            name = aid+'BS'\n",
    "            fig = PEGanalysis.Visualization.setup_3dplotly(fig, s_bs_aid, name,NB_SETTINGS['color'][name], TITLE, marker_size = 5, showlegend = True,\n",
    "                                                      mode = 'markers', legendgroup = aid, BrowserFig = True, visible = False)\n",
    "\n",
    "    ## DRONE RELATED\n",
    "    fig = PEGanalysis.Visualization.setup_3dplotly(fig, s_drone[:t,:], 'PATS','green',\n",
    "                                               TITLE, legendgroup = 'PATS', BrowserFig = True, visible = False)\n",
    "    \n",
    "\n",
    "# Make the first traces visible\n",
    "for idx in ([0,1] + [2,3]*setup_env.DO_BS + [2+2*setup_env.DO_BS]): # trajectory traces aids*2, BC*2, drone trace*1\n",
    "    fig.data[idx].visible = True\n",
    "\n",
    "\n",
    "steps = []\n",
    "for idx in range(0, len(fig.data), 2+1 + 2*env.DO_BS): # stepsize is number of traces per timestep\n",
    "    step = dict(\n",
    "        method=\"update\",\n",
    "        args=[{\"visible\": [False] * len(fig.data)}],\n",
    "        label=str(round((idx // (2 +1 + 2*env.DO_BS))/(len(fig.data)/(2+1 + 2*env.DO_BS)),2)) # % of run\n",
    "        #label = str(idx // (2 + 2*env.DO_BS)) # step idx, not timestep!\n",
    "    )\n",
    "    for idx_x in ([0,1] + [2,3]*setup_env.DO_BS + [2+2*setup_env.DO_BS]):\n",
    "        step[\"args\"][0][\"visible\"][idx+idx_x] = True  # Toggle idx'th trace to \"visible\"\n",
    "    steps.append(step)\n",
    "\n",
    "sliders = [dict(\n",
    "    active=0,\n",
    "    currentvalue={\"prefix\": \"Time: \"},\n",
    "    pad={\"t\": 50},\n",
    "    steps=steps\n",
    ")]\n",
    "\n",
    "''' \n",
    "# add initial positions\n",
    "for aid_idx, aid in enumerate(setup_env.agent_id):\n",
    "    fig = PEGanalysis.Visualization.setup_3dplotly(fig, s[[0],aid_idx, 0,:3], aid+'ini',NB_SETTINGS['color'][aid], 'Trajectories',\n",
    "                                              marker_size = 5, showlegend = False,mode = 'markers',\n",
    "                                              legendgroup = aid, BrowserFig = True, visible = True)\n",
    "''' \n",
    "\n",
    "fig.update_layout(sliders=sliders, title = f'{TITLE} - {datetime.now().strftime(\"%m/%d/%Y, %H:%M:%S\")}')\n",
    "\n",
    "'''\n",
    "fig.update_scenes(xaxis=dict(range=[-2, 1.5]),  # replace xmin and xmax with your values\n",
    "                  yaxis=dict(range=[-2, 0]),  # replace ymin and ymax with your values\n",
    "                  zaxis=dict(range=[-3.5, 0.5]))  # replace zmin and zmax with your values\n",
    "#'''\n",
    "fig.show(renderer = 'browser')"
   ]
  },
  {
   "cell_type": "code",
   "execution_count": null,
   "id": "29cce1b7-e0ae-434c-bee6-9d7fd6aeb4f2",
   "metadata": {},
   "outputs": [],
   "source": [
    "import plotly\n",
    "# TODO CREATE FOLDER AND SAME ALL THESE RESULT FILES IN THIS FOLDER, PLUS THE MODEL NAME, MAYBE SAVE IT IN THE CHECKPOINT DIR!\n",
    "SAVE_RESULTS = False # True False\n",
    "fileName = r\"C:\\Users\\Reinier Vos\\Documents\\PEG1\\data\\PATS\\pats_drone_hunts_cleaned\\LTC32p2_PATSdrone_opogonia_pats311flight1\"\n",
    "if SAVE_RESULTS: # inferred\n",
    "    #fileName = 'phase321_08042024/3D2DOF_LTC32_BS_rTimeOnlyTriangle'\n",
    "    plotly.offline.plot(fig, filename=f'{fileName}_TRAJslider.html')\n"
   ]
  },
  {
   "cell_type": "code",
   "execution_count": null,
   "id": "8d0227be-7060-41d5-b246-701e6b027f60",
   "metadata": {},
   "outputs": [],
   "source": []
  },
  {
   "cell_type": "code",
   "execution_count": null,
   "id": "1a4d49fc-f1fd-4ccb-9515-4289596a43a7",
   "metadata": {},
   "outputs": [],
   "source": []
  },
  {
   "cell_type": "markdown",
   "id": "72870425-b4c8-4090-84e0-da104070bd08",
   "metadata": {},
   "source": [
    "#### P4.7: Evaluation (offline) - CONFRONTATIONS"
   ]
  },
  {
   "cell_type": "code",
   "execution_count": null,
   "id": "606e304e-7b75-4e9d-aa7c-7534c27eeafa",
   "metadata": {
    "scrolled": true
   },
   "outputs": [],
   "source": [
    "## get predefined paths\n",
    "PREDEFINE_EVADER = False # True False\n",
    "\n",
    "checkpoint_dict = {\n",
    "                'p0':checkpoint_path,\n",
    "                'e0':checkpoint_path,\n",
    "              }\n",
    "\n",
    "if PREDEFINE_EVADER:\n",
    "    MODES = ['LINEAR','CIRCULAR']\n",
    "    MODE = MODES[0]\n",
    "\n",
    "\n",
    "    MODE_LOAD_PATH = f\"EVADER_{MODE}_v1\"\n",
    "    MODE_LOAD_DIR = r\"C:\\Users\\Reinier Vos\\Documents\\PEG1\\data\\predefined_evader\"\n",
    "    MODE_load_path = f'{MODE_LOAD_DIR}\\{MODE_LOAD_PATH}.npz'\n",
    "\n",
    "    checkpoint_dict['e0'] = MODE_load_path\n",
    "    \n",
    "    data_MODE = np.load(MODE_load_path)[MODE] # (N,T,n_aids,3,6)\n",
    "    print(MODE_load_path)\n",
    "else:\n",
    "    MODE = False\n",
    "\n",
    "    runs_map = {'BASE': r\"C:\\Users\\Reinier Vos\\Documents\\PEG1\\runsREPORTn1\\hof_Plstm64d3t3g2r10N_Elstm64d0t1g5r20N\\PPO_PEG1_env_3d207_00000_0_2024-07-20_11-41-28\\checkpoint_000171\",\n",
    "                'MC':r\"C:\\Users\\Reinier Vos\\Documents\\PEG1\\runsREPORTn1\\hof_Plstm64d3t3g2r10N_Elstm64d0t1g5r20N_BS\\PPO_PEG1_env_313ec_00000_0_2024-07-20_23-36-58\\checkpoint_000287\",\n",
    "                'HoF':r\"C:\\Users\\Reinier Vos\\Documents\\PEG1\\runsREPORTn1\\hof_Plstm64d3t3g2r10N_Elstm64d0t1g5r20N_HoF\\PPO_PEG1_env_ee990_00000_0_2024-07-19_23-29-08\\checkpoint_000282\",\n",
    "                \n",
    "                #'PID':r\"C:\\Users\\Reinier Vos\\Documents\\PEG1\\runsREPORTn1\\hof_BENCHMARK_PID\\CL3_NOISE_noExplore_P06D3_T1aMimic_RESET_offline_progress.csv\",\n",
    "\n",
    "                #'BC':r\"C:\\Users\\Reinier Vos\\Documents\\PEG1\\runsREPORTn1\\Plstm64d3t3g2r10N_EdummyLine_INT5\\PPO_PEG1_env_cbd18_00000_0_2024-07-10_12-40-16\\checkpoint_000018\",\n",
    "                'BC':r\"C:\\Users\\Reinier Vos\\Documents\\PEG1\\runsREPORTn1\\hof_Plstm64d3t3g2r10N_Elstm64d0t1g1r10N_BC\\PPO_PEG1_env_03f06_00000_0_2024-08-05_12-03-51\\checkpoint_000039\", # NEW - 30%\n",
    "                #'BC':r\"C:\\Users\\Reinier Vos\\Documents\\PEG1\\runsREPORTn1\\hof_Plstm64d3t3g2r10N_Elstm64d0t1g1r10N_BC\\PPO_PEG1_env_03f06_00000_0_2024-08-05_12-03-51\\checkpoint_000426\", # NEW - LAST\n",
    "                \n",
    "                'DRONES':r\"C:\\Users\\Reinier Vos\\Documents\\PEG1\\runsREPORTn1\\hof_Plstm64d3t3g2r10N_Elstm64d0t1g1r10N_DRONES\\PPO_PEG1_env_5d2e7_00000_0_2024-07-21_20-45-13\\checkpoint_000275\",\n",
    "        \n",
    "                'ZEROSUM':r\"C:\\Users\\Reinier Vos\\Documents\\PEG1\\runsREPORTn1\\hof_Plstm64d3t3g2r10N_Elstm64d0t1g5r20N_ZEROSUM\\PPO_PEG1_env_9c04e_00000_0_2024-07-24_19-17-31\\checkpoint_000278\",\n",
    "\n",
    "                'GAMMA1':r\"C:\\Users\\Reinier Vos\\Documents\\PEG1\\runsREPORTn1\\hof_Plstm64d3t3g2r10N_Elstm64d0t1g5r20N_Gamma1\\PPO_PEG1_env_0ddfd_00000_0_2024-07-25_17-10-40\\checkpoint_000400\",   # CL3_noExploreNOISE_offline_progress     \n",
    "    }\n",
    "    runs_keys = list(runs_map.keys())\n",
    "    # CONFRONT-AAAAAAAA\n",
    "    p0_idx = 0\n",
    "    p0_id = runs_keys[p0_idx]\n",
    "    e0_idx = 4\n",
    "    e0_id = runs_keys[e0_idx]\n",
    "\n",
    "    save_path = r\"C:\\Users\\Reinier Vos\\Documents\\PEG1\\confrontREPORTn1\"\n",
    "    confront_label = f'p{p0_id}_e{e0_id}'\n",
    "    save_label = '\\\\CL3_noExploreNoise_' + confront_label\n",
    "\n",
    "    checkpoint_dict = {'p0':runs_map[p0_id],\n",
    "                       'e0':runs_map[e0_id],\n",
    "    }\n",
    "    \n",
    "    SETUP_CONFRONT_FOLDER = True\n",
    "    if SETUP_CONFRONT_FOLDER:\n",
    "        print('setup folder')\n",
    "        save_path = save_path + f'\\\\{confront_label}'\n",
    "        #save_path += '_NEWch39'\n",
    "        os.mkdir(save_path)\n",
    "        save_path = f'{save_path}\\\\'\n",
    "    \n",
    "    print(save_label)\n",
    "\n",
    "PREDEFINE_EVADER, MODE"
   ]
  },
  {
   "cell_type": "code",
   "execution_count": null,
   "id": "8bccc9f5-2193-49d8-9ed4-dd28bb52aa70",
   "metadata": {
    "scrolled": true
   },
   "outputs": [],
   "source": [
    "## LOAD IN ALGO CHECKPOINTS, strip resources, setup algo instances\n",
    "importlib.reload(PEGutils)\n",
    "\n",
    " \n",
    "algo_dict = {aid: {'path':checkpoint_dict[aid] if not (MODE and aid =='e0') else MODE_load_path,\n",
    "                   'algo':PEGutils.PolicyUtils.setup_with_strippedresources(checkpoint_dict[aid]) if not (MODE and aid =='e0') else MODE,\n",
    "                  } for aid in checkpoint_dict}"
   ]
  },
  {
   "cell_type": "code",
   "execution_count": null,
   "id": "502d8301-7eab-4bb2-b0cb-b4a9fb5a9120",
   "metadata": {},
   "outputs": [],
   "source": [
    "algo_dict"
   ]
  },
  {
   "cell_type": "code",
   "execution_count": null,
   "id": "9df0db13-d58d-4e96-9908-3e6443126a60",
   "metadata": {},
   "outputs": [],
   "source": [
    "import PEG1_env as PEGenv\n",
    "importlib.reload(PEGenv)\n",
    "import copy\n",
    "'''\n",
    "env_offline_config = {\n",
    "            'SA':{'Dimension':3, # 2d or 3d of state space\n",
    "                  'DOF':3, # [1,2,4] degrees of freedom of action space\n",
    "                  ## additional\n",
    "                  'a_control_3D3DOF':True,\n",
    "                  },\n",
    "            'BS': {'do_bs':True, # KEEP ON!\n",
    "                    'bs_cl_active':4,#3,\n",
    "                    'bs_gamma_thres':0.9},\n",
    "            'NOISE': {'do_noise':True},\n",
    "            'specs':{'p0':{'Tdelay':3, 'tau':0.03,'rate_limit':10.*np.pi, #8.5*np.pi,\n",
    "                            },\n",
    "                    }\n",
    "             }\n",
    "'''\n",
    "env_offline_config = copy.deepcopy(ENV_CONFIG)\n",
    "#''' \n",
    "#env_offline_config['specs'].update({'p0':{'v_rel_max':1.}})\n",
    "\n",
    "env = PEGenv.PursuitEvasionEnv(env_offline_config)\n",
    "\n",
    "env.set_task(3) # time limit is defined by offline data\n",
    "env.DO_NOISE = True\n",
    "env.intercept_distance = 0.05\n",
    "RAISE_Z_COORDINATE = True\n",
    "SET_R0_DISTANCE = 1.#1. \n",
    "\n",
    "''' \n",
    "env.agent_specs['p0']['a_g'] = 0.\n",
    "#'''\n",
    "EXPLORE_SETTING = False\n",
    "if EXPLORE_SETTING:\n",
    "    warnings.warn('ATTENTION: explore = True during eval!')\n",
    "if env.DO_NOISE:\n",
    "    warnings.warn('ATTENTION: noise = True during eval!')\n",
    "'''\n",
    "# for opogonia N83 we have:\n",
    "env.agent_specs['p0']['v_rel'] = 0.3 #0.3 \n",
    "env.ADD_NOISE = False\n",
    "env.intercept_distance = 0.08\n",
    "#'''\n",
    "'''\n",
    "# FOR PATS CLEANED DATA; \n",
    "env.agent_specs['p0']['v_rel'] = 0.085\n",
    "env.ADD_NOISE = False\n",
    "env.intercept_distance = 0.05\n",
    "#''' \n",
    "\n",
    "'''\n",
    "# NOTE ALSO RELATED TO PATS CLEANED DATA\n",
    "# file; pats311-20231208_200550-log_flight1_CLEANED \n",
    "# LTC32 with 3D2DOF, filename; 3D2DOF_LTC32_BS_rTimeOnlyTriangle_P2_NEWv42  \n",
    "MC finite intercept; v= 0.08 | int = 0.05 | timestep = nan -> action /= 11  (first_valid_idx =0) | no noise\n",
    "intercept (first_valid_idx =61); v= 0.085 | int = 0.05 | timestep = nan -> action /= 8 | no noise\n",
    "-> increase height of z-coordinate with +0.02 for better plot\n",
    "# ALSO UNCOMMENTS TODO-STAR LINES & HAVE NO FREQUENCY\n",
    "'''\n",
    "FIRST = True\n",
    "env.intercept_distance, env.t_limit"
   ]
  },
  {
   "cell_type": "raw",
   "id": "56d2592f-cf60-4e81-aae0-a044912a2f12",
   "metadata": {
    "scrolled": true
   },
   "source": [
    "env.agent_specs"
   ]
  },
  {
   "cell_type": "code",
   "execution_count": null,
   "id": "f41ab49e-2a83-4721-bf78-db7ea53dc9e2",
   "metadata": {},
   "outputs": [],
   "source": [
    "BENCHMARK = False\n",
    "if BENCHMARK:\n",
    "    import PEG1_benchmarks as PEGbench\n",
    "    importlib.reload(PEGbench)\n",
    "\n",
    "    #save_path = r\"C:\\Users\\Reinier Vos\\Documents\\PEG1\\runsREPORTn1\\hof_BENCHMARK_PID\"\n",
    "    #save_label = '\\\\CL3_noExplore_pqrP5I01D1_Th1_gmax1'\n",
    "BENCHMARK"
   ]
  },
  {
   "cell_type": "code",
   "execution_count": null,
   "id": "49118112-417b-4ffc-a754-e8592d4f757f",
   "metadata": {
    "scrolled": true
   },
   "outputs": [],
   "source": [
    "from tqdm import tqdm\n",
    "from ray.rllib.evaluation.episode_v2 import EpisodeV2\n",
    "if not FIRST:\n",
    "    raise Exception('Call previous cell first')\n",
    "FIRST = False\n",
    "\n",
    "\n",
    "SEED_OFFLINE = 8147\n",
    "\n",
    "timesteps_rnn = None\n",
    "try: \n",
    "    timesteps_rnn = algo.get_policy('p0').model.lstm_timesteps\n",
    "except:\n",
    "    pass\n",
    "\n",
    "PolMap = lambda aid, eps, worker: aid\n",
    "callback = algo.config.callbacks_class()\n",
    "\n",
    "N_runs = 100\n",
    "runNames = [None]*N_runs\n",
    "for idx, path in enumerate(tqdm(runNames)):\n",
    "    # use range for TQDM rather than enumerate\n",
    "\n",
    "    if PREDEFINE_EVADER:\n",
    "        data_idx = data_MODE[idx,:,1,:,:3] # (T,2,3)\n",
    "        data_e0 = data_idx.copy()\n",
    "        assert np.sum(np.isnan(data_e0)) == 0 \n",
    "        ## provide offline data\n",
    "        env.override_agentE_state('e0',data_e0, raise_z_coordinate = RAISE_Z_COORDINATE, set_r0 = SET_R0_DISTANCE)\n",
    "\n",
    "    if BENCHMARK:\n",
    "        target_state = env.state_space_offline[:,:,:3].copy() # (T,3,3)\n",
    "        #''' \n",
    "        state_space_both = PEGbench.simulate_PIDquaterror_benchmark_NEW(target_state, \n",
    "                                                           seed = SEED_OFFLINE + idx, \n",
    "                                                           noise = env.DO_NOISE,\n",
    "                                                           INT_DISTANCE = env.intercept_distance,\n",
    "                                                           DO_RESET = True\n",
    "                                                          )\n",
    "        ''' \n",
    "        state_space_both = PEGbench.simulate_PIDaccerror_benchmark(target_state, \n",
    "                                                           seed = SEED_OFFLINE + idx, \n",
    "                                                           noise = env.DO_NOISE,\n",
    "                                                           INT_DISTANCE = env.intercept_distance,\n",
    "                                                          )\n",
    "        #''' \n",
    "        env.override_agentBOTH_state(state_space_both, force = True)\n",
    "        \n",
    "    ## simulate trajectories\n",
    "    done = False\n",
    "    obs, info = env.reset(setting_eval = True, seed = SEED_OFFLINE + idx)\n",
    "    episode = EpisodeV2(0,env.agent_id.copy(),PolMap) # note that this polmap is just a dummy feedthrough\n",
    "    callback.on_episode_start(episode = episode, worker = None, base_env = None,policies = None,env_index = None)\n",
    "    t = 0\n",
    "    while not done:\n",
    "        t += 1\n",
    "        '''\n",
    "        TODO call all callback functions (also before & after episode) \n",
    "        and replicate algo.train/.evaluate behaviour wrt to sampled metrics\n",
    "        '''\n",
    "        input_dict = env.get_next_input(torch_out = True, timesteps_rnn = timesteps_rnn) # dict with (T,F), even if not RNN models\n",
    "        \n",
    "        action_dict = {} # wipe every iter to ensure no past actions used\n",
    "        action_dict['p0'] = np.zeros(env.action_space['p0'].shape) # ignored if offline data is provided, but has to be provided\n",
    "        action_dict['e0'] = np.zeros(env.action_space['e0'].shape) # ignored due to offline data, but has to be provided\n",
    "        for aid in env.agent_id_stepped:\n",
    "            ## compute actions \n",
    "            #input_dict = {'obs':inputs[aid][-1,:],'prev_n_obs':inputs[aid]}\n",
    "            #''' \n",
    "            action_dict[aid] = algo_dict[aid]['algo'].compute_single_action(input_dict = input_dict[aid], policy_id = aid, \n",
    "                                                          explore = EXPLORE_SETTING, #full_fetch = True, # full fetch for value function as well!\n",
    "                                                         )\n",
    "            '''\n",
    "            action_dict[aid] = benchmark_interceptor(env.t_idx, env.state_space)\n",
    "            \n",
    "            #''' \n",
    "            #action_dict['p0'] /= 8 # TODO-STAR\n",
    "            #action_dict['p0'] = np.zeros(env.action_space['p0'].shape)\n",
    "        obs, rws, terms, truncs, infos  = env.step(action_dict)\n",
    "        #'''\n",
    "        for aid in env.agent_id:\n",
    "            episode.set_last_info(aid, infos[aid])\n",
    "        callback.on_episode_step(episode = episode,worker = None, base_env = None,policies = None,env_index = None)\n",
    "        #'''\n",
    "        done = (terms['__all__'] or truncs['__all__'])\n",
    "\n",
    "    ##\n",
    "    callback.on_episode_end(episode = episode, worker = None, base_env = None,policies = None,env_index = None) # episode now contains aggregate statistics in the custom_metrics attribute\n",
    "    episode.custom_metrics['episode_idx'] = idx  \n",
    "    episode.custom_metrics['episode_path'] = path  \n",
    "    episode_df_i = pd.DataFrame.from_dict(episode.custom_metrics, orient = 'index').T\n",
    "    if idx != 0:\n",
    "        episode_df = pd.concat((episode_df, episode_df_i), axis = 0)\n",
    "    else:\n",
    "        episode_df = episode_df_i.copy()\n",
    "    #raise\n",
    "## finalization\n",
    "episode_df.columns = [f'evaluation/custom_metrics/{x}_mean' for x in list(episode_df.columns)]"
   ]
  },
  {
   "cell_type": "raw",
   "id": "4024fda3-4f5e-45d2-ac2f-63acd14857a7",
   "metadata": {
    "scrolled": true
   },
   "source": [
    "callback.functionality\n",
    "episode.user_data['e0']"
   ]
  },
  {
   "cell_type": "raw",
   "id": "8e904be7-c39a-4354-bb5b-9baccb048425",
   "metadata": {},
   "source": [
    "episode_df.describe()"
   ]
  },
  {
   "cell_type": "raw",
   "id": "8091bdab-18a8-447a-b002-36ea672d773f",
   "metadata": {},
   "source": [
    "#episode_df.columns = [x.replace('evaluation/','evaluation/custom_metrics/') for x in list(episode_df.columns)]\n",
    "episode_df.columns = [x + '_mean' for x in list(episode_df.columns)]\n",
    "episode_df.describe()\n",
    "episode_df.to_csv(f'{saveName}_offline_progress.csv', index = False)"
   ]
  },
  {
   "cell_type": "code",
   "execution_count": null,
   "id": "8c378bab-5693-4d06-ba3d-7b3a74fe5e47",
   "metadata": {},
   "outputs": [],
   "source": [
    "selected_histories = env.getNwipe_histories_all()\n",
    "MARKER = '_CONFRONT'\n",
    "confront_out = {'evaluation':{}, 'env_histories':selected_histories, 'checkpoint_dict':checkpoint_dict} # (eval_metrics, selected_histories)\n",
    "#print(f'N ={len(selected_histories)}')\n",
    "\n",
    "## quick outcome summary\n",
    "outcomes = pd.DataFrame({f'R{idx}': his[-1]['end'] for idx, his in enumerate(selected_histories)}).T\n",
    "outcomes_sum = outcomes.replace({False: 0., True: 1.}, inplace=False).describe().iloc[:2,:].round(2) # summary of outcomes\n",
    "print(outcomes.replace({False: '-'}, inplace=False).T) # quick overview of run specific outcome\n",
    "\n",
    "outcomes_sum"
   ]
  },
  {
   "cell_type": "code",
   "execution_count": null,
   "id": "a507421b-022a-4e80-b577-428243ff2d99",
   "metadata": {},
   "outputs": [],
   "source": [
    "## PLOTTING OF DISTANCES\n",
    "PLOT_DIS = False\n",
    "if PLOT_DIS:\n",
    "    fig, axes = plt.subplots(1,2, figsize = (16,8))\n",
    "    for run, his in enumerate(selected_histories):\n",
    "        s,o,r,a,i,statics = his\n",
    "        dis = np.linalg.norm(s[:,1,0,:3]-s[:,0,0,:3], axis = -1)\n",
    "        axes[0].plot(dis, label = f'R{run}')\n",
    "        axes[1].plot(dis, label = f'R{run}')\n",
    "    #axes[0].legend()\n",
    "    axes[0].set_ylim([0,5])\n",
    "    axes[0].grid(True)\n",
    "    #axes[1].legend()\n",
    "    axes[1].set_ylim([0,0.5])\n",
    "    axes[1].grid(True)"
   ]
  },
  {
   "cell_type": "code",
   "execution_count": null,
   "id": "6cc67994-dd3d-4ec1-8409-4b37589e381e",
   "metadata": {
    "scrolled": true
   },
   "outputs": [],
   "source": [
    "## save entire eval out object\n",
    "import pickle\n",
    "SAVE_EVAL_OUT = True # True False\n",
    "if SAVE_EVAL_OUT:\n",
    "    #fileName = \"phase321_08042024/3D2DOF_tables_LTC32_BS_rTimeOnlyTriangle\"\n",
    "    #fileNameOut = f'results/{fileName}_eval_out.dat'\n",
    "    #fileNameOut =  r\"C:\\Users\\Reinier Vos\\Documents\\PEG1\\runs\\PPO_LTC9in_p0gaine0conv_BSlag_240i\\PPO_PEG1_env_f83fc_00000_0_2024-04-25_12-52-54\\checkpoint_000004\\results\"\\\n",
    "    #fileNameOut = checkpoint_path + '\\\\results' + '\\offline_out_PIKdata.dat'\n",
    " \n",
    "    #save_path = r\"C:\\Users\\Reinier Vos\\Documents\\PEG1\\runsREPORTn1\\hof_Plstm64d3t3g2r10N_Elstm64d0t1g5r20N\\PPO_PEG1_env_3d207_00000_0_2024-07-20_11-41-28\\checkpoint_000171\\results\"\n",
    "    #save_label = '\\\\CL3_noExplore'\n",
    "\n",
    "    saveName = save_path + save_label  \n",
    "    #saveName += 'NOISE'\n",
    "    saveName += MARKER\n",
    "    fileNameOut = f'{saveName}_out_PIK.dat'\n",
    "    with open(fileNameOut, \"wb\") as f:\n",
    "        pickle.dump(confront_out, f)\n",
    "\n",
    "    ##\n",
    "    episode_df.to_csv(f'{saveName}_progress.csv', index = False)\n",
    "\n",
    "SAVE_EVAL_OUT"
   ]
  },
  {
   "cell_type": "code",
   "execution_count": null,
   "id": "ffc35dfb-e828-4194-a07a-08d7e3b14f60",
   "metadata": {
    "scrolled": true
   },
   "outputs": [],
   "source": [
    "importlib.reload(PEGanalysis)\n",
    "THIN = 5\n",
    "CONDITION = 'all'\n",
    "fig_TRAJ, runs_outcome_TRAJ = PEGanalysis.Analysis.visualize_trajectories_runs(selected_histories, condition = CONDITION,\n",
    "                                                                      show_los = 10,\n",
    "                                                                      #title = ,\n",
    "                                                                      # runNames = ,\n",
    "                                                                      velocity_cones = True, # True False\n",
    "                                                                      #attitude_cones = True, # True False\n",
    "                                                                      #acceleration_cones = True, # True False\n",
    "                                                                      thin = THIN,\n",
    "                                                                      )\n",
    "fig_TRAJ.show(renderer = 'browser')"
   ]
  },
  {
   "cell_type": "code",
   "execution_count": null,
   "id": "73f86a00-5faa-4b6f-a721-d6a6c6e39d37",
   "metadata": {},
   "outputs": [],
   "source": [
    "import plotly\n",
    "# TODO CREATE FOLDER AND SAME ALL THESE RESULT FILES IN THIS FOLDER, PLUS THE MODEL NAME, MAYBE SAVE IT IN THE CHECKPOINT DIR!\n",
    "SAVE_RESULTS = True # True False\n",
    "if SAVE_RESULTS:\n",
    "    #fileName = 'phase321_08042024/3D2DOF_OpogoniaN83_LTC32_BS_rTimeOnlyTriangle'\n",
    "    #plotly.offline.plot(fig_TRAJ, filename=f'results/{fileName}_TRAJ.html')\n",
    "    #checkpoint_path = r\"C:\\Users\\Reinier Vos\\Documents\\PEG1\\results\\phase328_03062024\"\n",
    "    \n",
    "    #fileName = checkpoint_path + ''\n",
    "    #fileNameOut += '\\\\results'\n",
    "    #fileName += '\\d0622t0827ch18_LSTM32vsDummy_offline'\n",
    "    #print(fileName)\n",
    "    \n",
    "    saveName = save_path + save_label  \n",
    "    #saveName += 'NOISE'\n",
    "    saveName += MARKER\n",
    "    plotly.offline.plot(fig_TRAJ, filename=f'{saveName}_{CONDITION}_TRAJ.html')\n",
    "SAVE_RESULTS"
   ]
  },
  {
   "cell_type": "code",
   "execution_count": null,
   "id": "a5f7fee5-8a57-4e01-b718-18107602e31c",
   "metadata": {},
   "outputs": [],
   "source": [
    "raise"
   ]
  },
  {
   "cell_type": "code",
   "execution_count": null,
   "id": "1700f2d0-4744-4173-bfad-df612f248d68",
   "metadata": {},
   "outputs": [],
   "source": [
    "### QUICK PLOT\n",
    "PLOT_IDX = 1\n",
    "s, o, r, a , i , statics = selected_histories[PLOT_IDX]\n",
    "\n",
    "#s = s[:50,:,:,:]\n",
    "SHOW_DRONE = False \n",
    "GO = False\n",
    "\n",
    "import PEG1_analysis as PEGanalysis\n",
    "importlib.reload(PEGanalysis)\n",
    "import plotly.graph_objects as pgo\n",
    "NB_SETTINGS ={\n",
    "    'color':{'p0':'blue',\n",
    "             'p0BS':'green',\n",
    "             'e0':'red',\n",
    "             'e0BS':'orange',\n",
    "            }}\n",
    "\n",
    "outcome_label = [k for k, v in statics['end'].items() if v][0] \n",
    "runName_Fig = f'R{PLOT_IDX}' + '-' + outcome_label\n",
    "\n",
    "SHOW_LOS = 10\n",
    "\n",
    "fig = pgo.Figure()\n",
    "BROWSERFIG = False\n",
    "SHOW_DRONE = False \n",
    "for aid_idx, aid in enumerate(['p0','e0']):\n",
    "    ## time trace\n",
    "    fig = PEGanalysis.Visualization.setup_3dplotly(fig, s[:,aid_idx,0,:3], aid,NB_SETTINGS['color'][aid], 'Trajectories', \n",
    "                                              legendgroup = runName_Fig, BrowserFig = BROWSERFIG)\n",
    "    ## initial position\n",
    "    fig = PEGanalysis.Visualization.setup_3dplotly(fig, s[[0],aid_idx,0,:3], aid+'ini',NB_SETTINGS['color'][aid], 'Trajectories', \n",
    "                                              marker_size = 5, showlegend = False,mode = 'markers', legendgroup = runName_Fig, BrowserFig = BROWSERFIG)\n",
    "    if setup_env.DO_BS and GO:\n",
    "        # ADD BLINDSIGHTING LABELS\n",
    "        i_bs_aid = i[aid][:,[-(2+4+1)]]\n",
    "        i_bs_aid[i_bs_aid == 0] = np.nan\n",
    "        s_bs_aid = s[:,aid_idx,0,:3]*i_bs_aid\n",
    "        fig = PEGanalysis.Visualization.setup_3dplotly(fig, s_bs_aid, aid+'BS',NB_SETTINGS['color'][aid+'BS'], 'Trajectories', marker_size = 5, \n",
    "                                                  showlegend = False,mode = 'markers', legendgroup = runName_Fig, BrowserFig = BROWSERFIG)\n",
    "\n",
    "if bool(SHOW_LOS):# and GO:\n",
    "    # ADD LINES OF SIGHT\n",
    "    for idx in range(0,len(s), SHOW_LOS):\n",
    "\n",
    "        LOS = s[idx,:,0,:3]\n",
    "        fig = PEGanalysis.Visualization.setup_3dplotly(fig, LOS, 'LOS','black', 'Trajectories', #marker_size = 5, \n",
    "                                                  showlegend = False,mode = 'lines', legendgroup = runName_Fig, BrowserFig = BROWSERFIG, width = 0.5)\n",
    "\n",
    "if SHOW_DRONE:\n",
    "    ## FIRST RUN PATS DRONE DATA CELLS BELOW!\n",
    "    assert len(s_drone.shape) == 2\n",
    "    ## add drone trace\n",
    "    fig = PEGanalysis.Visualization.setup_3dplotly(fig, s_drone, 'PATS-drone','green', 'Trajectories', #marker_size = 5, \n",
    "                                                  showlegend = True,mode = 'lines', legendgroup = runName_Fig, BrowserFig = BROWSERFIG)\n",
    "    ## add drone initial position\n",
    "    fig = PEGanalysis.Visualization.setup_3dplotly(fig, s_drone[[0],:], 'PATS-drone_ini','green', 'Trajectories', marker_size = 5, \n",
    "                                                  showlegend = False,mode = 'markers', legendgroup = runName_Fig, BrowserFig = BROWSERFIG)\n",
    "\n",
    "if not BROWSERFIG:\n",
    "    fig.show() # for broswerfig you should switch this off and run next cell"
   ]
  },
  {
   "cell_type": "code",
   "execution_count": null,
   "id": "1cfaac62-a598-4b63-ac79-93280141824d",
   "metadata": {},
   "outputs": [],
   "source": []
  },
  {
   "cell_type": "markdown",
   "id": "751b934d-01ca-41b5-90c9-63c94239a61d",
   "metadata": {},
   "source": [
    "# ======== REMOVE BELOW? ==============="
   ]
  },
  {
   "cell_type": "code",
   "execution_count": null,
   "id": "83c1b569-d3c9-4139-9abc-7167d7708312",
   "metadata": {},
   "outputs": [],
   "source": [
    "raise"
   ]
  },
  {
   "cell_type": "code",
   "execution_count": null,
   "id": "1f196e19-9805-42b6-bb0b-66d7834981ed",
   "metadata": {},
   "outputs": [],
   "source": [
    "import pandas as pd\n",
    "\n",
    "class ResultsFormatter:\n",
    "\n",
    "    def __init__(self runs_histories: list, runs_metrics: dict):\n",
    "        # RANDOM SETTING E.G. RANGES/LIMITS?\n",
    "\n",
    "        self.runs_histories = runs_histories\n",
    "        self.runs_metrics = runs_metrics\n",
    "        \n",
    "        self.runs_N = len(self.runs_histories)\n",
    "        return\n",
    "\n",
    "    def summarize_outcomes(self):\n",
    "\n",
    "        return\n",
    "    \n",
    "    def summarize_game(self, ):\n",
    "\n",
    "        return\n",
    "        \n",
    "    def summarize_agent(self,):\n",
    "\n",
    "        return \n",
    "        \n",
    "    def run_summary(self, runs_histories: List, runs_metrics: Dict):\n",
    "        '''\n",
    "        runs_histories: list of histories from runs\n",
    "        runs_metrics: dict of metrics as computed by ray rllib \n",
    "        '''\n",
    "        outcome_df = {} # outcomes\n",
    "        ray_stats_df = {} # ray internal stats\n",
    "        reward_df = {}\n",
    "        \n",
    "        summary_dct = {}\n",
    "        summary_cols = ['INT','ESC','MISS','TRUN','DUR|int',\n",
    "                        'D_min/D0|esc','R_preT',\n",
    "                        #'a_total'\n",
    "                       #'Gamma_mean',\n",
    "                       ]\n",
    "        for run, history in enumerate(runs_histories):\n",
    "            runName = f'R{run}'\n",
    "            s, o, r, a , i , statics = history\n",
    "\n",
    "            ##\n",
    "            outcome_df[runName] = statics['end'].copy()\n",
    "            reward_df[runName] = TODO\n",
    "            \n",
    "            ##\n",
    "            '''\n",
    "            INCLUSION IDEA - state/env\n",
    "            - timesteps 'blighsighted' i.e. howmany timesteps where you masked\n",
    "                due to gamma condition\n",
    "            \n",
    "            INCLUSION IDEA - Action\n",
    "            - action integral sum(abs(a)) a measure of control effort\n",
    "            - action variance as measure of control stability\n",
    "            - action amount in limits (counter?)\n",
    "    \n",
    "            INCLUSION IDEA - reward\n",
    "            - split reward up in components (easy is r[-1] & r[:-1] terminal and before)\n",
    "            - gamma progression, amount of timesteps blindsighted other\n",
    "            - TODO when env.setting_eval save reward in components i.e. (N,R) not (N,1)\n",
    "            '''\n",
    "            \n",
    "            r_preT = np.sum(r['p0'][:-1]) # if zero sum its fine\n",
    "            ## if loops for conditional stats\n",
    "            if truncated or escaped:\n",
    "                d = np.linalg.norm(s[:,1,0,:3]-s[:,0,0,:3], axis = -1) #(T,1)\n",
    "                d_min = np.min(d)/d[0] # scalar, /d0 as relative to initial position\n",
    "                duration = np.nan # only for intercepted runs duration is important\n",
    "            else:\n",
    "                # intercepted\n",
    "                d_min = np.nan # missing\n",
    "            \n",
    "            ## collect run statistics\n",
    "            summary_dct[rKey] = [intercepted, escaped, truncated, duration, d_min, r_preT]\n",
    "\n",
    "    ##\n",
    "    outcome_df = pd.DataFrame(data = outcome_df).T\n",
    "    #ray_stats_df = pd.DataFrame(data = ray_stats_df).T\n",
    "    \n",
    "    ## summarize statistics and return\n",
    "    summary_df = pd.DataFrame(data = summary_dct).T\n",
    "    summary_df.columns = summary_cols\n",
    "    summary_df.replace({False: 0., True: 1.}, inplace=True)\n",
    "    summary_df = summary_df.apply(pd.to_numeric, errors='coerce')\n",
    "    return summary_df"
   ]
  },
  {
   "cell_type": "code",
   "execution_count": null,
   "id": "97c1a160-9728-429f-a9d8-a5185e7bae1b",
   "metadata": {},
   "outputs": [],
   "source": [
    "import PEG1_env as PEGenv\n",
    "importlib.reload(PEGenv)\n",
    "import numpy as np\n",
    "\n",
    "import PEG1_analysis as PEGanalysis\n",
    "importlib.reload(PEGanalysis)\n",
    "import plotly.graph_objects as pgo\n",
    "\n",
    "NB_SETTINGS ={\n",
    "    'color':{'p':'blue',\n",
    "             'e':'red',\n",
    "            },\n",
    "             \n",
    "}\n",
    "runs_N = 100\n",
    "runs_dict = {}\n",
    "runs_escaped, runs_intercepted = [], []\n",
    "##\n",
    "'''\n",
    "print('ENVIRONMENT OVERRIDE!')\n",
    "ENV_CONFIG = {\n",
    "            't_limit':100, \n",
    "            \n",
    "            'SA':{'Dimension':3, # 2d or 3d of state space\n",
    "                          'DOF':2, # [1,2,4] degrees of freedom of action space\n",
    "                          ## additional\n",
    "                          \n",
    "                         'r0_e_range':[10, 15.],\n",
    "                          },\n",
    "            'escape_c': 100.,\n",
    "             }\n",
    "'''\n",
    "##\n",
    "def PN_3d(inputs, gains = [1.]*2):\n",
    "    (dLoS_dtheta, dLoS_dpsi) = inputs\n",
    "    theta_c = gains[0]*dLoS_dtheta\n",
    "    psi_c = gains[1]*dLoS_dpsi\n",
    "    action = [theta_c, psi_c] # # list out!\n",
    "    return action\n",
    "    \n",
    "fig = pgo.Figure()\n",
    "PLOT = True\n",
    "print('CHECK IF WE SET THE LEVEL AND/OR BELOW AT ***')\n",
    "for run in tqdm(range(runs_N)): # trials loop, TODO TQDM\n",
    "    ##\n",
    "    env = PEGenv.PursuitEvasionEnv(ENV_CONFIG)\n",
    "\n",
    "    if pretrained_policies['p0']['model'].RNN_type:\n",
    "        env.agent_dims['p0'][3] = pretrained_policies['p0']['model'].timesteps_total\n",
    "        if run < 2:\n",
    "            print('ATTENTION - RESET TIMESTEPS REQ')\n",
    "    \n",
    "    #***\n",
    "    env.set_task(3)\n",
    "    #env.reward_intercept_distance = 0.25\n",
    "    #***\n",
    "    obs, _ = env.reset(setting_eval = True)\n",
    "    \n",
    "    p_adim = env.action_space['p0'].shape[0]\n",
    "    e_adim = env.action_space['e0'].shape[0]\n",
    "    ## Single run loop\n",
    "    runName = f'R{run}'\n",
    "    i, i_max, done = 0, 10000, False\n",
    "    while not done:\n",
    "        i += 1\n",
    "        \n",
    "        action_dict = {}\n",
    "        inputs = env.get_next_input() # dict with (T,F), even if not RNN models\n",
    "        for aid in env.agent_id:\n",
    "            ## compute actions \n",
    "            ''' \n",
    "            if aid == 'p0':\n",
    "                action_dict[aid] = PN_3d(inputs[aid].numpy()[0,[3,5]])\n",
    "            else:\n",
    "                action_dict[aid] = pretrained_policies[aid]['model'].predict(inputs[aid])\n",
    "            ''' \n",
    "            action_dict[aid] = pretrained_policies[aid]['model'].predict(inputs[aid])\n",
    "        obs, rws, terms, truncs, infos  = env.step(action_dict)\n",
    "        done = ((terms['__all__'] or truncs['__all__']) or (i == i_max))\n",
    "    ## \n",
    "    #print(f'i = {i}/{i_max}\\nterms; {terms}\\ntruncs: {truncs}')\n",
    "    s, o, r, a , i , statics = env.get_histories()\n",
    "    intercepted, escaped, truncated = terms['p0'], terms['e0'], truncs['__all__']\n",
    "    duration = env.t/env.t_limit\n",
    "\n",
    "    ##\n",
    "    outcome_label = ('_I' if intercepted else '_E')\n",
    "    runName_Fig = runName+ outcome_label\n",
    "    if PLOT:\n",
    "        state_p = s[:,0,0,:3]\n",
    "        state_e = s[:,1,0,:3]\n",
    "        fig = PEGanalysis.Visualization.setup_3dplotly(fig, state_p, 'p',NB_SETTINGS['color']['p'], 'Trajectories', legendgroup = runName_Fig, BrowserFig = True)\n",
    "        fig = PEGanalysis.Visualization.setup_3dplotly(fig, state_p[[0],:], 'p0',NB_SETTINGS['color']['p'], 'Trajectories', marker_size = 5, mode = 'markers', legendgroup = runName_Fig, BrowserFig = True)\n",
    "        fig = PEGanalysis.Visualization.setup_3dplotly(fig, state_e, 'e',NB_SETTINGS['color']['e'], 'Trajectories', legendgroup = runName_Fig, BrowserFig = True)\n",
    "        fig = PEGanalysis.Visualization.setup_3dplotly(fig, state_e[[0],:], 'e0',NB_SETTINGS['color']['e'], 'Trajectories', marker_size = 5, mode = 'markers', legendgroup = runName_Fig, BrowserFig = True)\n",
    "    '''\n",
    "    TODO EITHER SEPERATE FIGURES FOR THE ESCAPE AND INTERCEPT CASES, OR BUT IT IN THE LEGENDGROUP NAME\n",
    "    '''\n",
    "    ## runs summary\n",
    "    if intercepted:\n",
    "        runs_intercepted.append(runName)\n",
    "    elif escaped:\n",
    "        runs_escaped.append(runName)\n",
    "    runs_dict[runName] = (s, o, r, a , i , statics, intercepted, escaped, truncated, duration)\n",
    "\n",
    "if PLOT:\n",
    "    fig.show(renderer = 'browser')\n",
    "\n",
    "print(f'Intercepted runs = {len(runs_intercepted)}/{runs_N} = {runs_intercepted}')\n",
    "print(f'Escaped runs = {len(runs_escaped)}/{runs_N} = {runs_escaped}')\n",
    "summary_df = run_summary(runs_dict)"
   ]
  },
  {
   "cell_type": "raw",
   "id": "d086d32f-c700-4e0d-bdd9-4fd31d239219",
   "metadata": {},
   "source": [
    "summary_df = run_summary(runs_dict)"
   ]
  },
  {
   "cell_type": "code",
   "execution_count": null,
   "id": "22c407fb-9282-46db-9290-e7431f001b84",
   "metadata": {},
   "outputs": [],
   "source": [
    "summary_df_describe = summary_df.describe()\n",
    "summary_df_describe.round(3)"
   ]
  },
  {
   "cell_type": "raw",
   "id": "b85cb533-1998-4698-91c1-e4cdfac6da39",
   "metadata": {},
   "source": [
    "import plotly\n",
    "fileName = 'phase319_22032024/3D2DOF_FNNtraces'\n",
    "plotly.offline.plot(fig, filename=f'results/{fileName}.html')"
   ]
  },
  {
   "cell_type": "code",
   "execution_count": null,
   "id": "ee487323-b2f5-40a1-8980-f27ee06bc47d",
   "metadata": {},
   "outputs": [],
   "source": []
  },
  {
   "cell_type": "code",
   "execution_count": null,
   "id": "d6803420-4cbb-4d7a-82bc-748522c6bb15",
   "metadata": {},
   "outputs": [],
   "source": []
  },
  {
   "cell_type": "markdown",
   "id": "81200bbb-c1f0-45a5-86f9-422c7878fadd",
   "metadata": {},
   "source": [
    "### ==== EVRYTHING AFTER THIS: TODO REVISE/REMOVE FOR VERSION 4 ====="
   ]
  },
  {
   "cell_type": "code",
   "execution_count": null,
   "id": "4dcd182a-e46a-409c-bf30-0fa235041b8a",
   "metadata": {},
   "outputs": [],
   "source": [
    "raise"
   ]
  },
  {
   "cell_type": "code",
   "execution_count": null,
   "id": "cb32754b-3529-4dde-a098-f5403cb5230c",
   "metadata": {},
   "outputs": [],
   "source": [
    "df2 = pd.DataFrame(np.concatenate((s[:,0,0,:3], np.linspace(0,1,len(s))[:, np.newaxis]), axis = 1), columns = ['x','y','z','time'])\n",
    "df1 = pd.DataFrame(np.concatenate((s[:,1,0,:3], np.linspace(0,1,len(s))[:, np.newaxis]), axis = 1), columns = ['x','y','z','time'])"
   ]
  },
  {
   "cell_type": "code",
   "execution_count": null,
   "id": "7feaefad-def9-4d3e-8a29-82105deb5787",
   "metadata": {},
   "outputs": [],
   "source": [
    "import plotly.graph_objs as go\n",
    "\n",
    "# Assuming df1 and df2 are your dataframes with columns 'time', 'x', 'y', 'z'\n",
    "# df1 = pd.DataFrame(...)\n",
    "# df2 = pd.DataFrame(...)\n",
    "\n",
    "# Create a figure\n",
    "fig = go.Figure()\n",
    "\n",
    "# Add all traces from df1 and df2\n",
    "for t in sorted(df1['time'].unique()):\n",
    "    fig.add_trace(\n",
    "        go.Scatter3d(\n",
    "            x=df1[df1['time'] <= t]['x'],\n",
    "            y=df1[df1['time'] <= t]['y'],\n",
    "            z=df1[df1['time'] <= t]['z'],\n",
    "            mode='lines',\n",
    "            name = 'e',\n",
    "            marker=dict(size=4, color='red'),\n",
    "            visible=False\n",
    "        )\n",
    "    )\n",
    "    fig.add_trace(\n",
    "        go.Scatter3d(\n",
    "            x=df2[df2['time'] <= t]['x'],\n",
    "            y=df2[df2['time'] <= t]['y'],\n",
    "            z=df2[df2['time'] <= t]['z'],\n",
    "            mode='lines',\n",
    "            name = 'p',\n",
    "            marker=dict(size=4, color='blue'),\n",
    "            visible=False\n",
    "        )\n",
    "    )\n",
    "    fig.add_trace(\n",
    "        go.Scatter3d(\n",
    "            x=df2[df2['time'] <= t]['x'],\n",
    "            y=df2[df2['time'] <= t]['y'],\n",
    "            z=df2[df2['time'] <= t]['z'],\n",
    "            mode='lines',\n",
    "            name = 'p',\n",
    "            marker=dict(size=4, color='blue'),\n",
    "            visible=False\n",
    "        )\n",
    "    )\n",
    "    \n",
    "\n",
    "# Make the first traces visible\n",
    "fig.data[0].visible = True\n",
    "fig.data[1].visible = True\n",
    "\n",
    "'''\n",
    "# Create frames for each unique time\n",
    "frames = [go.Frame(\n",
    "    data=[go.Scatter3d(\n",
    "        x=df1[df1['time'] <= t]['x'],\n",
    "        y=df1[df1['time'] <= t]['y'],\n",
    "        z=df1[df1['time'] <= t]['z'],\n",
    "        mode='lines',\n",
    "        marker=dict(size=4, color='red')\n",
    "    ),\n",
    "    go.Scatter3d(\n",
    "        x=df2[df2['time'] <= t]['x'],\n",
    "        y=df2[df2['time'] <= t]['y'],\n",
    "        z=df2[df2['time'] <= t]['z'],\n",
    "        mode='lines',\n",
    "        marker=dict(size=4, color='blue')\n",
    "    )]) for t in sorted(df1['time'].unique())]\n",
    "\n",
    "# Add frames to the figure\n",
    "fig.frames = frames\n",
    "\n",
    "# Create a slider\n",
    "sliders = [dict(steps=[dict(method='animate',\n",
    "                            args=[[f.name],\n",
    "                                  dict(mode='immediate',\n",
    "                                       frame=dict(duration=300, redraw=True),\n",
    "                                       transition=dict(duration=0))],\n",
    "                            label=f.name) for f in fig.frames],\n",
    "                 active=0)]\n",
    "\n",
    "# Update the layout\n",
    "fig.update_layout(updatemenus=[dict(type='buttons', showactive=False,\n",
    "                                    buttons=[dict(label='Play',\n",
    "                                                  method='animate',\n",
    "                                                  args=[None, \n",
    "                                                        dict(frame=dict(duration=300, redraw=True), \n",
    "                                                             fromcurrent=True, \n",
    "                                                             transition=dict(duration=0))])])],\n",
    "                  sliders=sliders)\n",
    "'''\n",
    "\n",
    "steps = []\n",
    "for i in range(0, len(fig.data), 2):  # assuming df1 and df2 have the same unique times\n",
    "    step = dict(\n",
    "        method=\"update\",\n",
    "        args=[{\"visible\": [False] * len(fig.data)}],\n",
    "        label=str(i // 2)\n",
    "    )\n",
    "    step[\"args\"][0][\"visible\"][i] = True  # Toggle i'th trace to \"visible\"\n",
    "    step[\"args\"][0][\"visible\"][i+1] = True  # Toggle i'th trace to \"visible\"\n",
    "    steps.append(step)\n",
    "\n",
    "sliders = [dict(\n",
    "    active=0,\n",
    "    currentvalue={\"prefix\": \"Time: \"},\n",
    "    pad={\"t\": 50},\n",
    "    steps=steps\n",
    ")]\n",
    "\n",
    "fig.update_layout(sliders=sliders, title = 'OpogoniaN83 (non-reactive) vs LTC32-drone')\n",
    "\n",
    "fig.update_scenes(xaxis=dict(range=[-2, 1.5]),  # replace xmin and xmax with your values\n",
    "                  yaxis=dict(range=[-2, 0]),  # replace ymin and ymax with your values\n",
    "                  zaxis=dict(range=[-3.5, 0.5]))  # replace zmin and zmax with your values\n",
    "\n",
    "fig.show(renderer = 'browser')\n"
   ]
  },
  {
   "cell_type": "raw",
   "id": "ef562c04-c42c-4e69-b6c9-5e33b6c8a7fd",
   "metadata": {},
   "source": [
    "import plotly\n",
    "fileName = 'phase321_08042024/3D2DOF_OpogoniaN83_LTC32_BS_rTimeOnlyTriangle_SLIDER'\n",
    "plotly.offline.plot(fig, filename=f'results/{fileName}.html')"
   ]
  },
  {
   "cell_type": "code",
   "execution_count": null,
   "id": "1aafddc6-e0f8-409a-b320-989856a42d9c",
   "metadata": {},
   "outputs": [],
   "source": []
  },
  {
   "cell_type": "code",
   "execution_count": null,
   "id": "1ee8511b-0abb-4386-bd5f-687c5a8d4abb",
   "metadata": {},
   "outputs": [],
   "source": []
  },
  {
   "cell_type": "code",
   "execution_count": null,
   "id": "66a9972d-cd3d-4ae6-ba1c-ec7dca96a610",
   "metadata": {},
   "outputs": [],
   "source": [
    "#policy_p.model \n",
    "import torch\n",
    "paramsP = policy_p.model.network_action[-1]._model[0].parameters()\n",
    "paramsP = next(paramsP).cpu().detach()#.numpy()     \n",
    "\n",
    "paramsE = policy_e.model.network_action[-1]._model[0].parameters()\n",
    "paramsE = next(paramsE).cpu().detach()#.numpy()     \n",
    "\n",
    "print('Final layers initialized at ~N(0,0.01)')\n",
    "paramsP, torch.std_mean(paramsP, dim=None), paramsE, torch.std_mean(paramsE, dim=None)"
   ]
  },
  {
   "cell_type": "raw",
   "id": "185254b9-bdb1-470e-9a96-fd973fe4444e",
   "metadata": {},
   "source": [
    "## RESTORE TRAINER AND GET BEST MODEL\n",
    "# this is WIP does not work yet, trainer does not seem to be stored/saved\n",
    "from ray.rllib.algorithms.ppo import PPOTrainer\n",
    "\n",
    "# Create your PPO agent\n",
    "ppo_agent = PPOTrainer(config=config_ppo)\n",
    "\n",
    "best_model_path = results.experiment_path # THIS IS FROM THE .FIT() CALL!\n",
    "restored_tuner = tune.Tuner.restore(best_model_path, trainable=ppo_agent)\n",
    "best_ppo_model = restored_tuner.get_best_model()\n",
    "\n",
    "# Now you can use `best_ppo_model` for inference or further analysis"
   ]
  },
  {
   "cell_type": "markdown",
   "id": "6073af3b-7136-4d1f-8666-88ae89c01d47",
   "metadata": {},
   "source": [
    "#### P3.2: Policy verification"
   ]
  },
  {
   "cell_type": "raw",
   "id": "a8486963-f74b-4a9b-a984-17fbb90ec886",
   "metadata": {},
   "source": [
    "#REMOVE!\n",
    "rnn = torch.nn.LSTM(10, 20, batch_first = True)\n",
    "input = torch.randn(3, 5, 10)\n",
    "h0 = torch.randn(1, 3, 20) # Always time mayor! (T,B,F)\n",
    "c0 = torch.randn(1, 3, 20)\n",
    "output, (hn, cn) = rnn(input, (h0, c0))\n",
    "output.shape, hn.shape, cn.shape"
   ]
  },
  {
   "cell_type": "markdown",
   "id": "8b433f74-d838-4433-81ea-3a162e529a12",
   "metadata": {},
   "source": [
    "verify policy and model output the same without scaling!"
   ]
  },
  {
   "cell_type": "code",
   "execution_count": null,
   "id": "2c98fe0a-0e7e-4337-8712-c467302df94b",
   "metadata": {},
   "outputs": [],
   "source": [
    "x = inputs['p0'].unsqueeze(dim = 0)\n",
    "x = x.cuda()\n",
    "input_dict = {'prev_n_obs':x, 'obs' : []}\n",
    "input_dict_algo = {'prev_n_obs':x.squeeze(dim = 0), 'obs' : []}\n",
    "#policy_p.compute_single_action([], input_dict = input_dict, explore = False)\n",
    "policy_p.model.cuda() # apparently system transfers inputs to gpu so model also has to be there\n",
    "policy_out = policy_p.compute_actions_from_input_dict(input_dict, explore = False)\n",
    "algo_out = algo.compute_single_action(input_dict = input_dict_algo, policy_id = 'p0', explore = False, clip_action = True, unsquash_action = True)\n",
    "model_out = policy_p.model.forward(input_dict, [], [])\n",
    "\n",
    "torch.allclose(torch.tensor(policy_out[0]).cuda(),model_out[0][:,:2])"
   ]
  },
  {
   "cell_type": "code",
   "execution_count": null,
   "id": "d9583c0f-7c6e-474e-97b1-904f0a2a406e",
   "metadata": {},
   "outputs": [],
   "source": [
    "algo_out, policy_out[0], model_out[0][:,:2], algo_out/policy_out[0]"
   ]
  },
  {
   "cell_type": "code",
   "execution_count": null,
   "id": "76417c93-f289-40b0-8c4a-592dfe027d60",
   "metadata": {},
   "outputs": [],
   "source": [
    "algo.config.normalize_actions, algo.config.clip_actions"
   ]
  },
  {
   "cell_type": "code",
   "execution_count": null,
   "id": "457e2e31-dcd4-4a68-aa03-360902fe5fcb",
   "metadata": {},
   "outputs": [],
   "source": [
    "from ray.rllib.utils.spaces import space_utils\n",
    "A = space_utils.unsquash_action(model_out[0][:,:2].cpu().detach().numpy()[0], policy_p.model.action_space)\n",
    "B = space_utils.unsquash_action(policy_out[0], policy_p.action_space_struct)\n",
    "A, np.allclose(A, algo_out), B, np.allclose(B, algo_out), "
   ]
  },
  {
   "cell_type": "code",
   "execution_count": null,
   "id": "00550579-725e-40ee-a3d0-7bac07557e66",
   "metadata": {},
   "outputs": [],
   "source": [
    "policy_p.action_space_struct"
   ]
  },
  {
   "cell_type": "raw",
   "id": "02d4c029-9f46-4dc9-9d67-c61b94cdc198",
   "metadata": {},
   "source": [
    "policy_p.model.__dict__"
   ]
  },
  {
   "cell_type": "markdown",
   "id": "b5f995dc-f776-4819-b272-dd01fd651d5d",
   "metadata": {},
   "source": [
    "===="
   ]
  },
  {
   "cell_type": "code",
   "execution_count": null,
   "id": "722353cc-0326-496e-9d1a-3eb7a1fb08d4",
   "metadata": {},
   "outputs": [],
   "source": [
    "import numpy as np\n",
    "from ray.rllib.models.torch.recurrent_net import RecurrentNetwork\n",
    "obs = PEGenv.PursuitEvasionEnv(ENV_CONFIG).reset()[0]\n",
    "\n",
    "assert not policy_p.model.training, 'Check eval status of model'\n",
    "if isinstance(policy_p.model, RecurrentNetwork): \n",
    "    '''\n",
    "    NOTE RNN models: following transformations occur,\n",
    "    (N=1 expected for compute_single_action())\n",
    "        - obs: (N,s) -> (N,1,s) # time minor\n",
    "        - rnn state: (N,h_dim) -> (1,N,h_dim) # always time major!\n",
    "            -> out: action (a,) & next rnn state [(h_dim,),(h_dim,)].\n",
    "    Idea is that RNN was properly trained wrt to time (i.e. never saw T> max_seq_length),\n",
    "    thus continuous re-use of state is possible. However, reusing the state continuously \n",
    "    (>max_seq_length) instead of resetting seems erroneous as now T -> inf theoretically?\n",
    "    '''\n",
    "    rnn_state0 = policy_p.model.get_initial_state()\n",
    "    #obs['p0'] = np.zeros((4,4)) # policy_p.model.lstm_timesteps ??????\n",
    "    action, rnn_state, _  = policy_p.compute_single_action(obs['p0'], rnn_state0, explore = False)\n",
    "    #actionA  = policy_p.compute_actions(obs['p0'], state0['p0'])\n",
    "    print(action, rnn_state) # out: (action, [h, c])\n",
    "else:\n",
    "    action = policy_p.compute_single_action(obs['p0'], explore = False)\n",
    "    print(action) # out: actions & much more e.g. value \n"
   ]
  },
  {
   "cell_type": "code",
   "execution_count": null,
   "id": "216aa55d-26bc-4c6b-9bf6-eb4a6ffcd317",
   "metadata": {},
   "outputs": [],
   "source": [
    "### ALGO & POLICY CONSISTENCY CHECK; STILL UNCLEAR WHY, BUT WE FOCUS ON POLICY\n",
    "#np.random.seed(8)\n",
    "a, b, c = None, None, None\n",
    "if isinstance(policy_p.model, RecurrentNetwork): \n",
    "    a = algo.get_policy(policy_id=\"p0\").compute_single_action(obs['p0'], rnn_state0, policy_id = 'p0', explore = False)\n",
    "    b = algo.compute_single_action(obs['p0'], rnn_state0, policy_id = 'p0', explore = False)\n",
    "    c = policy_p.compute_single_action(obs['p0'], rnn_state0, explore = False)\n",
    "    # A == C and neither != B, we opt for use of policy only!\n",
    "a, b, c "
   ]
  },
  {
   "cell_type": "code",
   "execution_count": null,
   "id": "96282e21-37e1-4ff6-aed4-3c746d4e511a",
   "metadata": {},
   "outputs": [],
   "source": [
    "from torchview import draw_graph\n",
    "\n",
    "model = policy_p.model\n",
    "print(model) #.base_model.summary()\n",
    "\n",
    "# LINK: https://pypi.org/project/torchview/\n",
    "'''\n",
    "#graphviz.set_jupyter_format('png')\n",
    "model_graph = draw_graph(model, \n",
    "                         input_size=(1, 4), \n",
    "                         device='meta',\n",
    "                        )\n",
    "model_graph.visual_graph\n",
    "'''"
   ]
  },
  {
   "cell_type": "markdown",
   "id": "a2484771-ec97-4171-9eec-37f00e2fa2fb",
   "metadata": {},
   "source": [
    "#### P3.3: Policy evaluation - single rollout"
   ]
  },
  {
   "cell_type": "raw",
   "id": "61324f18-87b7-412a-9885-b6f637e4341b",
   "metadata": {},
   "source": [
    "obs = env.reset()\n",
    "prev_observation = collections.deque([obs] * num_frames, maxlen=num_frames)\n",
    "prev_action = collections.deque([0] * num_frames, maxlen=num_frames)\n",
    "prev_reward = collections.deque([1.0] * num_frames, maxlen=num_frames)\n",
    "while not done:\n",
    "    action, state, logits = algo.compute_single_action(\n",
    "        input_dict={\n",
    "            \"obs\": obs,\n",
    "            \"prev_n_obs\": np.stack(prev_observation),\n",
    "            \"prev_n_actions\": np.stack(prev_action), \n",
    "            \"prev_n_rewards\": np.stack(prev_reward),\n",
    "        },\n",
    "        full_fetch=True,\n",
    "    )\n",
    "    obs, reward, done, info = env.step(action)\n",
    "    prev_observation.appendleft(obs)\n",
    "    prev_action.appendleft(action)\n",
    "    prev_reward.appendleft(reward)\n",
    "    episode_reward += reward"
   ]
  },
  {
   "cell_type": "code",
   "execution_count": null,
   "id": "6840a9eb-f090-4acd-bbb2-2044512128af",
   "metadata": {},
   "outputs": [],
   "source": [
    "from ray.rllib.models.torch.recurrent_net import RecurrentNetwork\n",
    "import copy \n",
    "import torch\n",
    "\n",
    "pretrained_policies = {}\n",
    "for aid in list(policy.keys()):\n",
    "    pretrained_policies[aid] = {}\n",
    "    policy_model_aid = policy[aid].model \n",
    "    policy_model_aid.to(torch.device('cpu')) # inplace operation, do before anything else!\n",
    "    # TODO best to do everything on CPU for inference, otherwise we switch so often?\n",
    "    policy_model_aid.eval() # inplace\n",
    "    pretrained_policies[aid]['model'] = policy_model_aid #.detach(), TODO copy/clone?\n",
    "    #pretrained_policies[aid]['rnn_type'] = isinstance(policy[aid].model, RecurrentNetwork) # NOT USED, .RNN_type is inferred\n",
    "pretrained_policies.keys(), # pretrained_policies"
   ]
  },
  {
   "cell_type": "raw",
   "id": "f947fa3a-c25d-42d1-a4c1-ede3252e64e5",
   "metadata": {},
   "source": [
    "import PEG1_models as PEGmodels\n",
    "importlib.reload(PEGmodels)\n",
    "input_indices = [[1],[3]] # (3, 5, 7) dim = (A,F)\n",
    "gain_matrix = [[5.]*2]#(np.eye(2)*5).tolist()\n",
    "\n",
    "##\n",
    "'''\n",
    "# TODO EFFICIENT SETUP\n",
    "if env_config['SA']['Dimension'] == 3:\n",
    "            if env_config['SA']['DOF'] == 2:\n",
    "'''\n",
    "##\n",
    "pretrained_policies['p0']['model'] = PEGmodels.BenchmarkTorch_StaticGainPN.init_alternative(ENV_CONFIG, input_indices = input_indices, gain_matrix = gain_matrix)\n",
    "input_indices, gain_matrix"
   ]
  },
  {
   "cell_type": "raw",
   "id": "8918754d-d341-4b50-8528-1102e7ede5f8",
   "metadata": {},
   "source": [
    "\n",
    "for n,p in pretrained_policies['p0']['model'].named_parameters():\n",
    "    print(f'\\n{n}: {p}')"
   ]
  },
  {
   "cell_type": "code",
   "execution_count": null,
   "id": "7a364481-d515-4b5c-820a-fea3ce404e44",
   "metadata": {},
   "outputs": [],
   "source": [
    "inputs['p0'].shape"
   ]
  },
  {
   "cell_type": "code",
   "execution_count": null,
   "id": "0eea9768-8ff1-4fe0-9a72-7b1f64103d10",
   "metadata": {},
   "outputs": [],
   "source": [
    "import PEG1_env as PEGenv\n",
    "importlib.reload(PEGenv)\n",
    "import numpy as np\n",
    "env = PEGenv.PursuitEvasionEnv(ENV_CONFIG)\n",
    "env.set_task(3)\n",
    "if pretrained_policies['p0']['model'].RNN_type:\n",
    "    env.agent_dims['p0'][3] = pretrained_policies['p0']['model'].timesteps_total\n",
    "    print('ATTENTION - RESET TIMESTEPS REQ')\n",
    "obs, infos = env.reset(\n",
    "    setting_eval = True,\n",
    ")\n",
    "i_max = 1000 # for additional control\n",
    "i = 0\n",
    "done = False\n",
    "while not done:\n",
    "    i += 1\n",
    "\n",
    "    action_dict = {} # wipe every iter to ensure no past actions used\n",
    "    inputs = env.get_next_input() # dict with (T,F), even if not RNN models\n",
    "    for aid in env.agent_id:\n",
    "        ## compute actions \n",
    "        action_dict[aid] = pretrained_policies[aid]['model'].predict(inputs[aid])\n",
    "        \n",
    "    obs, rws, terms, truncs, infos  = env.step(action_dict)\n",
    "    done = ((terms['__all__'] or truncs['__all__']) or (i == i_max))\n",
    "terminated = terms['__all__']\n",
    "print(f'env done at {env.t_idx}/{env.t_idx_limit}, interception = {terms[\"p0\"]} | escaped = {terms[\"e0\"]}')\n",
    "print(f'Input dim last iter: {list(inputs[aid].shape)} = (T,F)')"
   ]
  },
  {
   "cell_type": "code",
   "execution_count": null,
   "id": "f7c8a85b-931e-4d67-9c51-7fd4225b5129",
   "metadata": {},
   "outputs": [],
   "source": [
    "s, o, r, a , i , statics = env.get_histories()\n",
    "a['p0'].shape"
   ]
  },
  {
   "cell_type": "raw",
   "id": "93eaf5f3-73cc-451e-9972-5592aec2d896",
   "metadata": {},
   "source": [
    "dis = np.linalg.norm(s[:,1,0,:3]-s[:,0,0,:3], axis = -1)"
   ]
  },
  {
   "cell_type": "code",
   "execution_count": null,
   "id": "4780ff24-73e3-425d-b9e5-6fd55a7f39fe",
   "metadata": {},
   "outputs": [],
   "source": [
    "### import plotly.graph_objects as pgo\n",
    "import PEG1_analysis as PEGanalysis\n",
    "importlib.reload(PEGanalysis)\n",
    "import plotly.graph_objects as pgo\n",
    "\n",
    "NB_SETTINGS ={\n",
    "    'color':{'Z':'purple',\n",
    "             'R':'blue',\n",
    "            },\n",
    "             \n",
    "}\n",
    "\n",
    "state_p = s[:,0,0,:3]\n",
    "state_e = s[:,1,0,:3]\n",
    "\n",
    "#PEGanalysis.Visualization_trajectory_3d(state_e, state_p, 'Trajectory', interception_threshold = 0.25)\n",
    "fig = pgo.Figure()\n",
    "fig = PEGanalysis.Visualization.setup_3dplotly(fig, state_p, 'p',NB_SETTINGS['color']['Z'], 'Trajectories')\n",
    "fig = PEGanalysis.Visualization.setup_3dplotly(fig, state_p[[0],:], 'p0',NB_SETTINGS['color']['Z'], 'Trajectories', marker_size = 5, mode = 'markers')\n",
    "fig = PEGanalysis.Visualization.setup_3dplotly(fig, state_e, 'e',NB_SETTINGS['color']['R'], 'Trajectories')\n",
    "fig = PEGanalysis.Visualization.setup_3dplotly(fig, state_e[[0],:], 'e0',NB_SETTINGS['color']['R'], 'Trajectories', marker_size = 5, mode = 'markers')\n",
    "fig.show()"
   ]
  },
  {
   "cell_type": "code",
   "execution_count": null,
   "id": "37916f0e-9378-4f3e-9558-36946ddac2cf",
   "metadata": {},
   "outputs": [],
   "source": [
    "plt.plot(env.GAMMA_CONTAINER)\n",
    "plt.grid(True)"
   ]
  },
  {
   "cell_type": "code",
   "execution_count": null,
   "id": "85e6633b-d375-4870-be24-93b80d042de2",
   "metadata": {},
   "outputs": [],
   "source": [
    "import matplotlib.patches as pltpa\n",
    "\n",
    "def plot_state_history_3D(env, axis_max):\n",
    "    agent_ids = env.agent_id\n",
    "    state_space_history, _, reward_history, _, _, _ = env.get_histories() # sora\n",
    "    \n",
    "    \n",
    "    axis_lim = [-axis_max,axis_max]\n",
    "    fig, ax = plt.subplots()\n",
    "    plt.plot(state_space_history[:,0,0,0], state_space_history[:,0,0,1], label = 'p', marker = '^', color = 'blue')\n",
    "    plt.plot(state_space_history[:,1,0,0], state_space_history[:,1,0,1], label = 'e', marker = '^', color = 'orange')\n",
    "    plt.legend()\n",
    "    plt.scatter(state_space_history[0,0,0,0], state_space_history[0,0,0,1], label = '', marker = 'o', s= 50, color = 'blue')\n",
    "    plt.scatter(state_space_history[0,1,0,0], state_space_history[0,1,0,1], label = '', marker = 'o', s= 50, color = 'orange')\n",
    "    #plt.xlim(axis_lim)\n",
    "    #plt.ylim(axis_lim)\n",
    "\n",
    "    plt.title('Trajectory with initial position and INITIAL (not constant) escape circles')\n",
    "    #ax.set_aspect(1.) # uncomment keep true circle, \n",
    "    '''\n",
    "    r0 = env.r0_e0\n",
    "    r_espace = r0*env.reward_escape_c\n",
    "    ax.autoscale(False) # avoid circle affecting outscaling\n",
    "    ax.add_patch(pltpa.Circle((0,0), radius = r0, edgecolor='black', facecolor='none'))\n",
    "    ax.add_patch(pltpa.Circle((0,0), radius = r_espace, edgecolor='red', facecolor='none'))\n",
    "    '''\n",
    "    \n",
    "    for aid_idx, aid in enumerate(env.agent_id):\n",
    "        fig, ax = plt.subplots(1,3, figsize = (16,8))\n",
    "        ax[0].plot(state_space_history[:,aid_idx,1,3], label = f'{aid}-dphi-u')\n",
    "        ax[0].plot(state_space_history[:,aid_idx,0,3], label = f'{aid}-phi')\n",
    "        ax[1].plot(state_space_history[:,aid_idx,1,4], label = f'{aid}-dtheta-u')\n",
    "        ax[1].plot(state_space_history[:,aid_idx,0,4], label = f'{aid}-theta')\n",
    "        ax[2].plot(state_space_history[:,aid_idx,1,5], label = f'{aid}-dpsi-u')\n",
    "        ax[2].plot(state_space_history[:,aid_idx,0,5], label = f'{aid}-psi')\n",
    "        ax[0].set_xlabel('time step')\n",
    "        ax[0].set_title('Angular rate (omega-u) and heading anglge (theta-state)')\n",
    "        ax[0].legend()\n",
    "        ax[1].legend()\n",
    "        ax[2].legend()\n",
    "        ax[0].grid()\n",
    "        ax[1].grid()\n",
    "        ax[2].grid()\n",
    "\n",
    "    print('\\n=Rewards=')\n",
    "    plt.figure()\n",
    "    for aid in env.agent_id:\n",
    "        reward_aid = reward_history[aid]\n",
    "        reward_aid_sum = np.nansum(reward_aid)\n",
    "        reward_aid_cumsum = np.nancumsum(reward_aid)\n",
    "        plt.plot(reward_aid, label = f'r-{aid}')\n",
    "        plt.plot(reward_aid_cumsum, label = f'r-{aid} (cs)')\n",
    "        \n",
    "        print(f'R-{aid} = {reward_aid_sum:.2}' )\n",
    "    plt.xlabel('time step')\n",
    "    plt.title('Reward per agent')\n",
    "    plt.legend()\n",
    "    \n",
    "    '''\n",
    "    TOOD UPDATE HEADING OF THE AGENTS BASED ON VELOCITY STATE\n",
    "         MOVE TO PLOTLY!! inplace graphing look at MCDPG experiment\n",
    "    ALSO ONLY PLOT EVERY N'th marker\n",
    "    \n",
    "    ASK CHATGPT!\n",
    "    '''\n",
    "    return "
   ]
  },
  {
   "cell_type": "raw",
   "id": "57cbaebd-ee72-4caa-ab62-34d3c7eeb68e",
   "metadata": {},
   "source": [
    "o['p0']\n",
    "plt.figure()\n",
    "for i in range(4):\n",
    "    if True:#i in [3,5]:\n",
    "        plt.plot(o['p0'][:,i], label = i)\n",
    "plt.legend()"
   ]
  },
  {
   "cell_type": "code",
   "execution_count": null,
   "id": "46d8eabe-30d3-43eb-b1c6-e880d58a79f3",
   "metadata": {},
   "outputs": [],
   "source": [
    "## display\n",
    "import time\n",
    "import matplotlib.pyplot as plt\n",
    "from IPython.display import clear_output\n",
    "fig = plt.figure()\n",
    "\n",
    "ANIMATION = False\n",
    "if ANIMATION:\n",
    "    images_full = np.array(images).min(axis = 0).clip(min = 0., max = 1.) # full trace\n",
    "    for i in range(len(images)+1):\n",
    "        if i == len(images):\n",
    "            plt.imshow(images_full)\n",
    "        else:\n",
    "            plt.imshow(images[i])\n",
    "            plt.title(f'Step {i} - end = {(i == len(images)-1)}')\n",
    "        plt.legend(['pursuer','evader'])\n",
    "        plt.show()\n",
    "        clear_output(wait=True)\n",
    "        time.sleep(0.5)\n",
    "\n",
    "#axis_lim = [-len(images[0]),len(images[0])]\n",
    "axis_max = 15\n",
    "\n",
    "print(f\"terminated = {terminated}\")\n",
    "plot_state_history_3D(env, axis_max)\n",
    "'''\n",
    "TODO MOVE TO PLOTLY!\n",
    "'''"
   ]
  },
  {
   "cell_type": "raw",
   "id": "ae0e9911-3cac-4683-af12-306320bc1e83",
   "metadata": {
    "scrolled": true
   },
   "source": [
    "s[:,:,0,[0,1,5]]"
   ]
  },
  {
   "cell_type": "code",
   "execution_count": null,
   "id": "f1b6a615-ad0c-4d77-a236-7a1827dc91cf",
   "metadata": {},
   "outputs": [],
   "source": [
    "gamma = r['p0'][:-1]*-1/5*1/env.reward_MaxStepScaler\n",
    "plt.plot(gamma)\n",
    "print(np.sum(r['p0'][:-1]))"
   ]
  },
  {
   "cell_type": "code",
   "execution_count": null,
   "id": "2544469a-2c76-4c29-bf10-f2dbd789aebd",
   "metadata": {},
   "outputs": [],
   "source": [
    "plt.plot(r['p0'][:-1])"
   ]
  },
  {
   "cell_type": "raw",
   "id": "ca028329-523b-460c-a673-d0184e43d5a7",
   "metadata": {},
   "source": [
    "s[:10,0,0,:3], a['p0'][:10,:], s[:10,0,1,3:], \n",
    "o['p0'][100:150,2:]"
   ]
  },
  {
   "cell_type": "raw",
   "id": "955ecd2c-6bc3-42bc-8074-e47c433ab196",
   "metadata": {},
   "source": [
    "aid = 'p0'\n",
    "model = pretrained_policies[aid]['model']\n",
    "\n",
    "for layer in model.network_action:\n",
    "    print(layer._model[0].weight.round(decimals = 2))\n",
    "\n",
    "print(model.network_action)\n"
   ]
  },
  {
   "cell_type": "markdown",
   "id": "f0ef7bf1-9e99-4c51-9031-2d147b168f78",
   "metadata": {},
   "source": [
    "#### P3.4: Policy evaluation - multiple rollout summary"
   ]
  },
  {
   "cell_type": "code",
   "execution_count": null,
   "id": "1eea4349-51e3-4348-b54f-2ffc8a04db58",
   "metadata": {},
   "outputs": [],
   "source": [
    "from ray.rllib.models.torch.recurrent_net import RecurrentNetwork\n",
    "import copy \n",
    "import torch\n",
    "\n",
    "pretrained_policies = {}\n",
    "for aid in list(policy.keys()):\n",
    "    pretrained_policies[aid] = {}\n",
    "    policy_model_aid = policy[aid].model \n",
    "    policy_model_aid.to(torch.device('cpu')) # inplace operation, do before anything else!\n",
    "    # TODO best to do everything on CPU for inference, otherwise we switch so often?\n",
    "    policy_model_aid.eval() # inplace\n",
    "    pretrained_policies[aid]['model'] = policy_model_aid #.detach(), TODO copy/clone?\n",
    "    pretrained_policies[aid]['rnn_type'] = isinstance(policy[aid].model, RecurrentNetwork) # NOT USED\n",
    "pretrained_policies.keys(), # pretrained_policies"
   ]
  },
  {
   "cell_type": "raw",
   "id": "56cfabef-fc39-45ec-9a11-22cfb5ed7999",
   "metadata": {},
   "source": [
    "import PEG1_models as PEGmodels\n",
    "importlib.reload(PEGmodels)\n",
    "input_indices = [[1],[3]] # (3, 5, 7) dim = (A,F)\n",
    "gain_matrix = [[1.]*2]#(np.eye(2)*5).tolist()\n",
    "gain_matrix = (np.eye(2)*5).tolist()\n",
    "##\n",
    "'''\n",
    "# TODO EFFICIENT SETUP\n",
    "if env_config['SA']['Dimension'] == 3:\n",
    "            if env_config['SA']['DOF'] == 2:\n",
    "'''\n",
    "##\n",
    "pretrained_policies['p0']['model'] = PEGmodels.BenchmarkTorch_StaticGainPN.init_alternative(ENV_CONFIG, input_indices = input_indices, gain_matrix = gain_matrix)\n",
    "input_indices, gain_matrix"
   ]
  },
  {
   "cell_type": "raw",
   "id": "82ad403c-af64-42c6-a848-b52af674efae",
   "metadata": {},
   "source": [
    "import pandas as pd\n",
    "def run_summary(runs_dict):\n",
    "    \n",
    "    summary_dct = {}\n",
    "    summary_cols = ['INT','ESC','TRUN','DUR|int',\n",
    "                    'D_min/D0|esc','R_preT',\n",
    "                    #'a_total'\n",
    "                   #'Gamma_mean',\n",
    "                   ]\n",
    "    for run, (rKey, rValue) in enumerate(runs_dict.items()):\n",
    "        s, o, r, a , i , statics, intercepted, escaped, truncated, duration = rValue\n",
    "        ##\n",
    "        '''\n",
    "        INCLUSION IDEA - state/env\n",
    "        - timesteps 'blighsighted' i.e. howmany timesteps where you masked\n",
    "            due to gamma condition\n",
    "        \n",
    "        INCLUSION IDEA - Action\n",
    "        - action integral sum(abs(a)) a measure of control effort\n",
    "        - action variance as measure of control stability\n",
    "        - action amount in limits (counter?)\n",
    "\n",
    "        INCLUSION IDEA - reward\n",
    "        - split reward up in components (easy is r[-1] & r[:-1] terminal and before)\n",
    "        - gamma progression, amount of timesteps blindsighted other\n",
    "        - TODO when env.setting_eval save reward in components i.e. (N,R) not (N,1)\n",
    "        '''\n",
    "        r_preT = np.sum(r['p0'][:-1]) # if zero sum its fine\n",
    "        ## if loops for conditional stats\n",
    "        if truncated or escaped:\n",
    "            d = np.linalg.norm(s[:,1,0,:3]-s[:,0,0,:3], axis = -1) #(T,1)\n",
    "            d_min = np.min(d)/d[0] # scalar, /d0 as relative to initial position\n",
    "            duration = np.nan # only for intercepted runs duration is important\n",
    "        else:\n",
    "            # intercepted\n",
    "            d_min = np.nan # missing\n",
    "        \n",
    "        ## collect run statistics\n",
    "        summary_dct[rKey] = [intercepted, escaped, truncated, duration, d_min, r_preT]\n",
    "\n",
    "    ## summarize statistics and return\n",
    "    summary_df = pd.DataFrame(data = summary_dct).T\n",
    "    summary_df.columns = summary_cols\n",
    "    summary_df.replace({False: 0., True: 1.}, inplace=True)\n",
    "    summary_df = summary_df.apply(pd.to_numeric, errors='coerce')\n",
    "    return summary_df"
   ]
  },
  {
   "cell_type": "raw",
   "id": "a0685a62-963e-4877-8275-56e2d9d50fe3",
   "metadata": {},
   "source": [
    "import PEG1_env as PEGenv\n",
    "importlib.reload(PEGenv)\n",
    "import numpy as np\n",
    "\n",
    "import PEG1_analysis as PEGanalysis\n",
    "importlib.reload(PEGanalysis)\n",
    "import plotly.graph_objects as pgo\n",
    "\n",
    "NB_SETTINGS ={\n",
    "    'color':{'Z':'blue',\n",
    "             'R':'red',\n",
    "            },\n",
    "             \n",
    "}\n",
    "runs_N = 100\n",
    "runs_dict = {}\n",
    "runs_escaped, runs_intercepted = [], []\n",
    "##\n",
    "'''\n",
    "print('ENVIRONMENT OVERRIDE!')\n",
    "ENV_CONFIG = {\n",
    "            't_limit':100, \n",
    "            \n",
    "            'SA':{'Dimension':3, # 2d or 3d of state space\n",
    "                          'DOF':2, # [1,2,4] degrees of freedom of action space\n",
    "                          ## additional\n",
    "                          \n",
    "                         'r0_e_range':[10, 15.],\n",
    "                          },\n",
    "            'escape_c': 100.,\n",
    "             }\n",
    "'''\n",
    "##\n",
    "def PN_3d(inputs, gains = [1.]*2):\n",
    "    (dLoS_dtheta, dLoS_dpsi) = inputs\n",
    "    theta_c = gains[0]*dLoS_dtheta\n",
    "    psi_c = gains[1]*dLoS_dpsi\n",
    "    action = [theta_c, psi_c] # # list out!\n",
    "    return action\n",
    "    \n",
    "fig = pgo.Figure()\n",
    "PLOT = True\n",
    "print('CHECK IF WE SET THE LEVEL AND/OR BELOW AT ***')\n",
    "for run in tqdm(range(runs_N)): # trials loop, TODO TQDM\n",
    "    ##\n",
    "    env = PEGenv.PursuitEvasionEnv(ENV_CONFIG)\n",
    "\n",
    "    if pretrained_policies['p0']['model'].RNN_type:\n",
    "        env.agent_dims['p0'][3] = pretrained_policies['p0']['model'].timesteps_total\n",
    "        if run < 2:\n",
    "            print('ATTENTION - RESET TIMESTEPS REQ')\n",
    "    \n",
    "    #***\n",
    "    env.set_task(3)\n",
    "    #env.reward_intercept_distance = 0.25\n",
    "    #***\n",
    "    obs, _ = env.reset(setting_eval = True)\n",
    "    \n",
    "    p_adim = env.action_space['p0'].shape[0]\n",
    "    e_adim = env.action_space['e0'].shape[0]\n",
    "    ## Single run loop\n",
    "    runName = f'R{run}'\n",
    "    i, i_max, done = 0, 10000, False\n",
    "    while not done:\n",
    "        i += 1\n",
    "        \n",
    "        action_dict = {}\n",
    "        inputs = env.get_next_input() # dict with (T,F), even if not RNN models\n",
    "        for aid in env.agent_id:\n",
    "            ## compute actions \n",
    "            ''' \n",
    "            if aid == 'p0':\n",
    "                action_dict[aid] = PN_3d(inputs[aid].numpy()[0,[3,5]])\n",
    "            else:\n",
    "                action_dict[aid] = pretrained_policies[aid]['model'].predict(inputs[aid])\n",
    "            ''' \n",
    "            action_dict[aid] = pretrained_policies[aid]['model'].predict(inputs[aid])\n",
    "        obs, rws, terms, truncs, infos  = env.step(action_dict)\n",
    "        done = ((terms['__all__'] or truncs['__all__']) or (i == i_max))\n",
    "    ## \n",
    "    #print(f'i = {i}/{i_max}\\nterms; {terms}\\ntruncs: {truncs}')\n",
    "    s, o, r, a , i , statics = env.get_histories()\n",
    "    intercepted, escaped, truncated = terms['p0'], terms['e0'], truncs['__all__']\n",
    "    duration = env.t/env.t_limit\n",
    "\n",
    "    ##\n",
    "    outcome_label = ('_I' if intercepted else '_E')\n",
    "    runName_Fig = runName+ outcome_label\n",
    "    if PLOT:\n",
    "        state_p = s[:,0,0,:3]\n",
    "        state_e = s[:,1,0,:3]\n",
    "        fig = PEGanalysis.Visualization.setup_3dplotly(fig, state_p, 'p',NB_SETTINGS['color']['Z'], 'Trajectories', legendgroup = runName_Fig, BrowserFig = True)\n",
    "        fig = PEGanalysis.Visualization.setup_3dplotly(fig, state_p[[0],:], 'p0',NB_SETTINGS['color']['Z'], 'Trajectories', marker_size = 5, mode = 'markers', legendgroup = runName_Fig, BrowserFig = True)\n",
    "        fig = PEGanalysis.Visualization.setup_3dplotly(fig, state_e, 'e',NB_SETTINGS['color']['R'], 'Trajectories', legendgroup = runName_Fig, BrowserFig = True)\n",
    "        fig = PEGanalysis.Visualization.setup_3dplotly(fig, state_e[[0],:], 'e0',NB_SETTINGS['color']['R'], 'Trajectories', marker_size = 5, mode = 'markers', legendgroup = runName_Fig, BrowserFig = True)\n",
    "    '''\n",
    "    TODO EITHER SEPERATE FIGURES FOR THE ESCAPE AND INTERCEPT CASES, OR BUT IT IN THE LEGENDGROUP NAME\n",
    "    '''\n",
    "    ## runs summary\n",
    "    if intercepted:\n",
    "        runs_intercepted.append(runName)\n",
    "    elif escaped:\n",
    "        runs_escaped.append(runName)\n",
    "    runs_dict[runName] = (s, o, r, a , i , statics, intercepted, escaped, truncated, duration)\n",
    "\n",
    "if PLOT:\n",
    "    fig.show(renderer = 'browser')\n",
    "\n",
    "print(f'Intercepted runs = {len(runs_intercepted)}/{runs_N} = {runs_intercepted}')\n",
    "print(f'Escaped runs = {len(runs_escaped)}/{runs_N} = {runs_escaped}')\n",
    "summary_df = run_summary(runs_dict)"
   ]
  },
  {
   "cell_type": "raw",
   "id": "117b6042-1f69-44b5-8b39-5c7983ce9658",
   "metadata": {},
   "source": [
    "summary_df = run_summary(runs_dict)"
   ]
  },
  {
   "cell_type": "raw",
   "id": "442384b3-69b9-461b-89e6-b42ffca234c2",
   "metadata": {},
   "source": [
    "summary_df_describe = summary_df.describe()\n",
    "summary_df_describe.round(3)"
   ]
  },
  {
   "cell_type": "raw",
   "id": "19f50528-d767-49ee-8428-70d2ae610c40",
   "metadata": {},
   "source": [
    "import plotly\n",
    "fileName = 'phase319_22032024/3D2DOF_FNNtraces'\n",
    "plotly.offline.plot(fig, filename=f'results/{fileName}.html')"
   ]
  },
  {
   "cell_type": "markdown",
   "id": "a29ca2d3-bea7-4b77-aaac-3fd4ab56bc59",
   "metadata": {},
   "source": [
    "### P4: Behavioural cloning data collection"
   ]
  },
  {
   "cell_type": "code",
   "execution_count": null,
   "id": "8d7a286a-15bc-440f-b8a8-130d5dff49f8",
   "metadata": {},
   "outputs": [],
   "source": [
    "import PEG1_env as PEGenv\n",
    "importlib.reload(PEGenv)\n",
    "ENV_CONFIG = {\n",
    "            #'t_limit':100, \n",
    "            #\n",
    "            'SA':{'Dimension':3, # 2d or 3d of state space\n",
    "                          'DOF':2, # [1,2,4] degrees of freedom of action space\n",
    "                          ## additional\n",
    "                          \n",
    "                         #'r0_e_range':[10, 15.],\n",
    "                          },\n",
    "            #'escape_c': 100.,\n",
    "            'specs':{},\n",
    "             }\n"
   ]
  },
  {
   "cell_type": "code",
   "execution_count": null,
   "id": "ca1c7154-af42-465c-a3d6-a92129d062c3",
   "metadata": {},
   "outputs": [],
   "source": [
    "env = PEGenv.PursuitEvasionEnv(ENV_CONFIG)\n",
    "##\n",
    "env.r0_e_range0 = np.array([1.,6.])\n",
    "env.t_limit0 = 60\n",
    "env.set_task(0)\n",
    "print('BE AWARE OF THE CL LEVEL!')\n",
    "env.r0_e_range, env.t_limit, env.CL_taskLevel"
   ]
  },
  {
   "cell_type": "code",
   "execution_count": null,
   "id": "eb622f3d-39af-42ec-8e7c-1b92104614d7",
   "metadata": {},
   "outputs": [],
   "source": [
    "## INITIALIZE MODELS\n",
    "import PEG1_models as PEGmodels\n",
    "importlib.reload(PEGmodels)\n",
    "\n",
    "pretrained_policies = {'p0': {}, 'e0':{}}\n",
    "pretrained_policies['e0']['model'] = PEGmodels.CustomTorch_DummyNullModel(env.observation_space['e0'],\n",
    "                                                               env.action_space['e0'],\n",
    "                                                               env.action_space['e0'].sample().shape[0]*2,\n",
    "                                                               {}, 'dummyE0')\n",
    "\n",
    "\n",
    "#'''\n",
    "input_indices = [[1],[3]] # (3, 5, 7) dim = (A,F)\n",
    "gain_matrix = (3*np.eye(2)).tolist()\n",
    "'''\n",
    "input_indices = [[1],[3],[5]] # (3, 5, 7) dim = (A,F)\n",
    "gain_matrix = np.eye(3).tolist()\n",
    "#'''\n",
    "##\n",
    "'''\n",
    "# TODO EFFICIENT SETUP\n",
    "if env_config['SA']['Dimension'] == 3:\n",
    "            if env_config['SA']['DOF'] == 2:\n",
    "'''\n",
    "##\n",
    "pretrained_policies['p0']['model'] = PEGmodels.BenchmarkTorch_StaticGainPN.init_alternative(ENV_CONFIG, input_indices = input_indices)\n",
    "input_indices, gain_matrix"
   ]
  },
  {
   "cell_type": "raw",
   "id": "c6919e8c-b798-464a-9018-230e0a20a180",
   "metadata": {},
   "source": [
    "inputs[aid].shape"
   ]
  },
  {
   "cell_type": "code",
   "execution_count": null,
   "id": "8ebef5b9-9ad1-41f4-be19-165fcd2722da",
   "metadata": {},
   "outputs": [],
   "source": [
    "import PEG1_env as PEGenv\n",
    "importlib.reload(PEGenv)\n",
    "import numpy as np\n",
    "import torch\n",
    "\n",
    "runs_N = 1000\n",
    "runs_dict = {}\n",
    "runs_escaped, runs_intercepted = [], []\n",
    "##\n",
    "\n",
    "BC_data_dct = {'observations':{aid: [] for aid in env.agent_id},\n",
    "               'rewards':{aid: [] for aid in env.agent_id},\n",
    "               'actions':{aid: [] for aid in env.agent_id},\n",
    "               'shapes_ora':{aid: [] for aid in env.agent_id},\n",
    "}\n",
    "BC_success_dct = {aid:[] for aid in env.agent_id}\n",
    "\n",
    "BC_data_dct_keys = list(BC_data_dct.keys())\n",
    "dtype_torch = torch.float32\n",
    "\n",
    "runs_intercepted = []\n",
    "for run in tqdm(range(runs_N)):\n",
    "    ##\n",
    "    obs, _ = env.reset(setting_eval = True)\n",
    "    \n",
    "    p_adim = env.action_space['p0'].shape[0]\n",
    "    e_adim = env.action_space['e0'].shape[0]\n",
    "    ##\n",
    "    runName = f'R{run}'\n",
    "    i, i_max, done = 0, 10000, False\n",
    "    while not done:\n",
    "        i += 1\n",
    "        \n",
    "        action_dict = {}\n",
    "        inputs = env.get_next_input() # dict with (T,F), even if not RNN models\n",
    "        for aid in env.agent_id:\n",
    "            ## compute actions \n",
    "            action_dict[aid] = pretrained_policies[aid]['model'].predict(inputs[aid], unsquash = False)\n",
    "        obs, rws, terms, truncs, infos  = env.step(action_dict)\n",
    "        done = ((terms['__all__'] or truncs['__all__']) or (i == i_max))\n",
    "    \n",
    "    ##\n",
    "    #print(f'i = {i}/{i_max}\\nterms; {terms}\\ntruncs: {truncs}')\n",
    "    s, o, r, a , i , statics = env.get_histories()\n",
    "    intercepted, escaped, truncated = terms['p0'], terms['e0'], truncs['__all__']\n",
    "\n",
    "    '''\n",
    "    pop aid's in case certain conditions are met, e.g. not intercepted\n",
    "    '''\n",
    "    save_agent_id = env.agent_id.copy()\n",
    "    \n",
    "    if not intercepted: \n",
    "        save_agent_id.remove('p0')\n",
    "            \n",
    "        #print(f'Removed p0 in {run}/{runs_N-1}')\n",
    "    #save_agent_id.remove('e0')\n",
    "    \n",
    "    for aid in save_agent_id:\n",
    "        BC_success_dct[aid].append(runName)\n",
    "        BC_data_dct['observations'][aid].append(o[aid])  \n",
    "        BC_data_dct['rewards'][aid].append(r[aid])\n",
    "        BC_data_dct['actions'][aid].append(a[aid])\n",
    "\n",
    "\n",
    "## merge observations\n",
    "for aid in env.agent_id:\n",
    "    BC_data_dct['observations'][aid] = torch.as_tensor(np.concatenate(BC_data_dct['observations'][aid], axis = 0),\n",
    "                                                 dtype = dtype_torch)\n",
    "    BC_data_dct['rewards'][aid] = torch.as_tensor(np.concatenate(BC_data_dct['rewards'][aid], axis = 0),\n",
    "                                                 dtype = dtype_torch)\n",
    "    BC_data_dct['actions'][aid] = torch.as_tensor(np.concatenate(BC_data_dct['actions'][aid], axis = 0),\n",
    "                                                 dtype = dtype_torch)\n",
    "\n",
    "        \n",
    "## gather meta-info\n",
    "for aid in env.agent_id:\n",
    "    for k in list(BC_data_dct.keys())[:-1]:\n",
    "        BC_data_dct['shapes_ora'][aid].append(tuple(BC_data_dct[k][aid].shape))\n",
    "\n",
    "BC_data_dct['shapes_ora'], f'Success: p0 = {len(BC_success_dct[\"p0\"])}/{runs_N} | e0 = {len(BC_success_dct[\"e0\"])}/{runs_N}'"
   ]
  },
  {
   "cell_type": "code",
   "execution_count": null,
   "id": "c97b1399-8e63-44c9-9b6a-259bb77f0a26",
   "metadata": {},
   "outputs": [],
   "source": [
    "BC_dataName = '3D2DOF_PN3noise_AL2' # TEST_3D2DOF\n",
    "torch.save(BC_data_dct, f'BC/data/{BC_dataName}.pt')\n",
    "#BC_dataLOADED = torch.load(f'BC/data/{BC_dataName}.pt')"
   ]
  },
  {
   "cell_type": "markdown",
   "id": "b2109e21-2c79-4189-81fb-a07c7b1314e6",
   "metadata": {},
   "source": [
    "## ========== PLAYGROUND ===============\n",
    "### TEST ENVIRONMENT"
   ]
  },
  {
   "cell_type": "code",
   "execution_count": null,
   "id": "c628a615-3fee-4df0-8998-09a07e8ed36a",
   "metadata": {},
   "outputs": [],
   "source": [
    "raise"
   ]
  },
  {
   "cell_type": "code",
   "execution_count": null,
   "id": "95c2a931-f415-48de-b8b6-0c35e209cd74",
   "metadata": {},
   "outputs": [],
   "source": [
    "s[:10,0,0,2], a['p0'][:10,:]"
   ]
  },
  {
   "cell_type": "code",
   "execution_count": null,
   "id": "440c1208-859e-4d6c-a6c2-6bae2ed321f9",
   "metadata": {},
   "outputs": [],
   "source": [
    "s.shape"
   ]
  },
  {
   "cell_type": "code",
   "execution_count": null,
   "id": "a8b75004-7065-492f-b8e1-42a86c0686e1",
   "metadata": {
    "scrolled": true
   },
   "outputs": [],
   "source": [
    "import PEG1_env as PEGenv\n",
    "importlib.reload(PEGenv)\n",
    "import numpy as np\n",
    "SELFSPIEL =   False #['p0',0.8]\n",
    "env_config = {\n",
    "            #\n",
    "            'e_n': 1,\n",
    "            'SA':{'Dimension':3,\n",
    "                        'DOF':3,\n",
    "                  ##\n",
    "                  'a_control_3D3DOF':True,\n",
    "                  ##\n",
    "                  #'dummy_evader_3D4DOF':True,\n",
    "                  #'v_rel_control':False,\n",
    "                  #'a_control_noG':True,\n",
    "                  #'rate_limit':5.0,\n",
    "                  'SELFSPIEL':SELFSPIEL,\n",
    "                 },\n",
    "            'BS': {'do_bs':True, # KEEP ON!\n",
    "                    'bs_cl_active':4,#3,\n",
    "                    'bs_gamma_thres':0.9},\n",
    "            'NOISE': {'do_noise':True},\n",
    "            'specs':{'p0':{'Tdelay':3, 'tau':0.03,'rate_limit':10.*np.pi, #8.5*np.pi,\n",
    "                            },\n",
    "                    }\n",
    "             }\n",
    "\n",
    "warnings.filterwarnings(\"ignore\", module=\"scipy\")\n",
    "\n",
    "env = PEGenv.PursuitEvasionEnv(env_config)\n",
    "env.set_task(4)\n",
    "env.reset()\n",
    "\n",
    "\n",
    "env.agent_specs"
   ]
  },
  {
   "cell_type": "code",
   "execution_count": null,
   "id": "1ba3b464-6078-497e-b769-ac58725284de",
   "metadata": {},
   "outputs": [],
   "source": [
    "env.noise_dist_sigma"
   ]
  },
  {
   "cell_type": "code",
   "execution_count": null,
   "id": "138f2c37-7119-4317-9fa9-6a1adbdfdcfd",
   "metadata": {},
   "outputs": [],
   "source": [
    "import gymnasium as gym\n",
    "import numpy as np"
   ]
  },
  {
   "cell_type": "raw",
   "id": "a060b554-b7f2-47c3-bf39-022d90830f2e",
   "metadata": {
    "scrolled": true
   },
   "source": [
    "## checking BenchmarkTorch_StaticGainPN\n",
    "pol = algo.get_policy('p0').model\n",
    "\n",
    "a = pol.input_indices.numpy()\n",
    "g = pol.gain_matrix.numpy()/5\n",
    "pol.gain_matrix, pol.input_indices\n",
    "\n",
    "b = np.arange(18).reshape((-1,6))\n",
    "c = b[:,a]\n",
    "\n",
    "d = c[0,...]@g[0,...]\n",
    "b.shape, b, c.shape, c, d.shape, d"
   ]
  },
  {
   "cell_type": "code",
   "execution_count": null,
   "id": "672fa301-9024-411c-be54-cba2294979e4",
   "metadata": {},
   "outputs": [],
   "source": [
    "import PEG1_models as PEGmodels\n",
    "importlib.reload(PEGmodels)\n",
    "model = PEGmodels.BenchmarkTorch_StaticGainPN(env.observation_space['p0'], env.action_space['p0'], \n",
    "                                              env_config['SA']['DOF'], \n",
    "                                              {'custom_model_config':{**env_config, 'gain':5.}},'', \n",
    "                                             )\n",
    "model.gain_matrix\n",
    "\n",
    "def PN_3d3dof_MODEL(a,b,c):\n",
    "    x = {'obs_flat':torch.as_tensor([0,a,0,b,0,c])}\n",
    "    y, _ = model.forward(x, [], [])\n",
    "    y = y.numpy()[:4]\n",
    "    return y\n",
    "\n",
    "a = PN_3d3dof_MODEL(obs['p0'][1],obs['p0'][3],obs['p0'][5])\n",
    "a"
   ]
  },
  {
   "cell_type": "code",
   "execution_count": null,
   "id": "bb20f328-71a2-43c7-89ee-721982be649d",
   "metadata": {
    "scrolled": true
   },
   "outputs": [],
   "source": [
    "import importlib\n",
    "import PEG1_env as PEGenv\n",
    "importlib.reload(PEGenv)\n",
    "import numpy as np\n",
    "import matplotlib.pyplot as plt\n",
    "from time import time #as tic\n",
    "\n",
    "r = 1\n",
    "env_config = {\n",
    "            'SA':{'Dimension':3, # 2d or 3d of state space\n",
    "                          'DOF':3, # [1,2,4] degrees of freedom of action space\n",
    "                          ## additional\n",
    "                          'A_gain':{\n",
    "                                    #'p0':[0, 3.0],\n",
    "                                    #'e0':[0.]*2,\n",
    "                                   },\n",
    "                          ##\n",
    "                          'a_control_3D3DOF':False,\n",
    "                          ##\n",
    "                          #'dummy_evader_3D4DOF':True,\n",
    "                          #'dummy_point_3D4DOF':True,\n",
    "                          #'v_rel_control':False,\n",
    "                          #'a_control_noG':True,\n",
    "                          'rate_limit':8.5*np.pi,\n",
    "                          },\n",
    "            #'specs':{},#'p0':{'drag_C':[0.]*3}},\n",
    "            'BS': {'do_bs':True, # KEEP ON!\n",
    "                    'bs_cl_active':4,#3,\n",
    "                    'bs_gamma_thres':0.9},\n",
    "            'NOISE': {'do_noise':True},\n",
    "            'specs':{'p0':{'Tdelay':3, 'tau':0.03,'rate_limit':10.*np.pi, #8.5*np.pi,\n",
    "                            },\n",
    "                    },\n",
    "             't_limit':10.1,#0.6,\n",
    "             't_delta':0.01,\n",
    "             'r0_e_range':[r,r+0.01],\n",
    "            'intercept_distance':0.05,\n",
    "            #'BS':{'do_bs':True},\n",
    "             }\n",
    "env = PEGenv.PursuitEvasionEnv(env_config)\n",
    "\n",
    "'''\n",
    "env.DO_BS = False\n",
    "env.DO_NOISE = False\n",
    "env.VALUE_DIM = 7\n",
    "#'''\n",
    "\n",
    "#'''\n",
    "env.action_space['p0'].seed(0) # SET SEED FOR ACTION SPACES\n",
    "env.action_space['e0'].seed(0)\n",
    "#'''\n",
    "#env.r0_e_range0 = np.array([5,6.])\n",
    "#env.t_limit0 = 15\n",
    "env.set_task(0)\n",
    "env.agent_specs['p0']['a_g'] = 0\n",
    "#env.reward_escape_c = 100\n",
    "FORCESEED = 5\n",
    "obs, _ = env.reset(setting_eval = True, ForceSeed = FORCESEED) # NOTICE FORCESEED\n",
    "i_max = 10e3\n",
    "done = False\n",
    "i = 0\n",
    "def PN_3d2dof(dLoS_dtheta, dLoS_dpsi, gains = [3., 3.]):\n",
    "    theta_c = gains[0]*dLoS_dtheta\n",
    "    psi_c = gains[1]*dLoS_dpsi\n",
    "    action = [theta_c, psi_c] # # list out!\n",
    "    return action\n",
    "\n",
    "def PN_test(inputs, i, gains = [-3, 3.]):\n",
    "    #'''\n",
    "    if i > 150:\n",
    "        gains[0] = 0.\n",
    "    theta_c = np.sum(inputs[:2]*gains)\n",
    "    psi_c = np.sum(inputs[2:4]*gains)\n",
    "    '''\n",
    "    theta_c = np.sum(inputs[0]*gains[0])\n",
    "    psi_c = np.sum(inputs[2]*gains[0])\n",
    "    #'''\n",
    "    action = [theta_c, psi_c] # # list out!\n",
    "    return action\n",
    "    \n",
    "def PN_3d3dof_DLOS(dLoS_dphi, dLoS_dtheta, dLoS_dpsi, gains = [3.]*3):\n",
    "    phi_c = gains[0]*dLoS_dphi\n",
    "    theta_c = gains[1]*dLoS_dtheta\n",
    "    psi_c = gains[2]*dLoS_dpsi\n",
    "    action = [phi_c, theta_c, psi_c] # # list out!\n",
    "    return action\n",
    "    \n",
    "def PN_2d(dLoS_dpsi, gains = [1.]*1):\n",
    "    psi_c = gains[0]*dLoS_dpsi\n",
    "    action = [psi_c] # # list out!\n",
    "    return action\n",
    "\n",
    "def PN_3d3dof(inputs, gains_los = [0]*3, gains_dlos = [3]*3):\n",
    "    LoS_phi, dLoS_dphi, LoS_theta, dLoS_dtheta, LoS_psi, dLoS_dpsi = np.array(inputs)\n",
    "    \n",
    "    phi_c = gains_los[0]*LoS_phi + gains_dlos[0]*dLoS_dphi\n",
    "    theta_c = gains_los[1]*LoS_theta + gains_dlos[1]*dLoS_dtheta\n",
    "    psi_c = gains_los[2]*LoS_psi + gains_dlos[2]*dLoS_dpsi\n",
    "    \n",
    "    action = np.array([phi_c, theta_c, psi_c]) # # list out!\n",
    "    return action\n",
    "\n",
    "tic = time()\n",
    "while not done:\n",
    "    i += 1\n",
    "    #print(env.state_space[:,0,:])\n",
    "    action_dict = {}\n",
    "    #'''\n",
    "    action_dict['p0'] = np.zeros(env.action_space['p0'].shape)\n",
    "    #action_dict['p0'] += [-1, 0, 0, 0]\n",
    "    #action_dict['p0'][0] = -9.81\n",
    "    action_dict['e0'] = np.zeros(env.action_space['e0'].shape)\n",
    "    '''\n",
    "    action_dict['p0'] = env.action_space['p0'].sample()\n",
    "    action_dict['e0'] = env.action_space['e0'].sample()\n",
    "    #'''\n",
    "    #action_dict['p0'] = np.zeros(env.action_space['p0'].shape)\n",
    "    #action_dict['p0'] += [-1,0,0,0]\n",
    "    #action_dict['p0'] = PN_3d2dof(obs['p0'][1],obs['p0'][3])\n",
    "    #action_dict['p0'] = np.array([0.,0.])#[-3.,3. ]#PN_test(obs['p0'], i)\n",
    "    #action_dict['p0'] = PN_2d(obs['p0'][1], gains= [5.])\n",
    "    \n",
    "    #action_dict['p0'] = PN_3d3dof(obs['p0'][1],obs['p0'][3],obs['p0'][5], gains= [3.]*3)\n",
    "    #action_dict['p0'] = PN_3d3dof(obs['p0'][0],obs['p0'][2],obs['p0'][4], gains= [1.5]*3) \n",
    "    \n",
    "    #action_dict['p0'] += ([0.] + PN_3d3dof(obs['p0'][0],obs['p0'][2],obs['p0'][4], gains= [-0.3]*3)) \n",
    "    #action_dict['p0'] += ([1] + PN_3d3dof(obs['p0'][1],obs['p0'][3],obs['p0'][5], gains= [3.]*3))\n",
    "    #action_dict['p0'] += (PN_3d3dof(obs['p0'][1],obs['p0'][3],obs['p0'][5], gains= [3.]*3)) \n",
    "    action_dict['p0'] += PN_3d3dof(obs['p0'][0:6])\n",
    "    obs, rew, terms, truncs, infos = env.step(action_dict)\n",
    "    #print(terms)\n",
    "    #print(step)\n",
    "\n",
    "    done = ((terms['__all__'] or truncs['__all__']) or (i >= i_max))\n",
    "\n",
    "toc = time()-tic\n",
    "print(f'i = {i}/{i_max} - T{env.t_idx_limit}\\nterms; {terms}\\ntruncs: {truncs}')\n",
    "s, o, r, a , i , statics = env.get_histories()\n",
    "selected_histories = [(s,o,r,a,i,statics)]\n",
    "\n",
    "print(f'Time taken: {toc} s')\n",
    "intercepted = terms['__all__']"
   ]
  },
  {
   "cell_type": "code",
   "execution_count": null,
   "id": "35910a76-79b2-4dd1-9940-f87e26585236",
   "metadata": {
    "scrolled": true
   },
   "outputs": [],
   "source": [
    "plt.plot(np.cumsum(r['e0'][:,0]))\n",
    "np.cumsum(r['e0'][:,0]).shape"
   ]
  },
  {
   "cell_type": "code",
   "execution_count": null,
   "id": "d053cf46-853f-45e4-8075-ae9f1a2c139b",
   "metadata": {},
   "outputs": [],
   "source": [
    "T_c = action_dict['p0'][0]\n",
    "a_T_range = env.agent_specs['p0']['a_T_range']\n",
    "A_T_mag = (1+min(T_c,0.))*a_T_range[0] + max(T_c,0.)*a_T_range[1] \n",
    "thrust2weight = A_T_mag/9.81\n",
    "A_T_excess = A_T_mag-9.81\n",
    "A_T_mag, A_T_excess,  thrust2weight"
   ]
  },
  {
   "cell_type": "code",
   "execution_count": null,
   "id": "aae1a180-1207-4490-9ed2-ddaa91f02e5f",
   "metadata": {},
   "outputs": [],
   "source": [
    "env.agent_specs"
   ]
  },
  {
   "cell_type": "code",
   "execution_count": null,
   "id": "c5865f02-25a6-46a0-b9b2-9fa378738309",
   "metadata": {},
   "outputs": [],
   "source": [
    "### QUICK PLOT\n",
    "\n",
    "import PEG1_analysis as PEGanalysis\n",
    "importlib.reload(PEGanalysis)\n",
    "import plotly.graph_objects as pgo\n",
    "NB_SETTINGS ={\n",
    "    'color':{'p0':'blue',\n",
    "             'p0BS':'green',\n",
    "             'e0':'red',\n",
    "             'e0BS':'orange',\n",
    "            }}\n",
    "\n",
    "outcome_label = [k for k, v in statics['end'].items() if v][0] \n",
    "runName_Fig = 'PREV'\n",
    "\n",
    "SHOW_LOS = 0\n",
    "\n",
    "fig = pgo.Figure()\n",
    "for aid_idx, aid in enumerate(['p0','e0']):\n",
    "    fig = PEGanalysis.Visualization.setup_3dplotly(fig, s[:,aid_idx,0,:3], aid,NB_SETTINGS['color'][aid], 'Trajectories', \n",
    "                                              legendgroup = runName_Fig, BrowserFig = True)\n",
    "    fig = PEGanalysis.Visualization.setup_3dplotly(fig, s[[0],aid_idx,0,:3], aid+'ini',NB_SETTINGS['color'][aid], 'Trajectories', \n",
    "                                              marker_size = 5, showlegend = False,mode = 'markers', legendgroup = runName_Fig, BrowserFig = True)\n",
    "    if env.DO_BS:\n",
    "        # ADD BLINDSIGHTING LABELS\n",
    "        i_bs_aid = i[aid][:,[-(2+4+1)]]\n",
    "        i_bs_aid[i_bs_aid == 0] = np.nan\n",
    "        s_bs_aid = s[:,aid_idx,0,:3]*i_bs_aid\n",
    "        fig = PEGanalysis.Visualization.setup_3dplotly(fig, s_bs_aid, aid+'BS',NB_SETTINGS['color'][aid+'BS'], 'Trajectories', marker_size = 5, \n",
    "                                                  showlegend = False,mode = 'markers', legendgroup = runName_Fig, BrowserFig = True)\n",
    "\n",
    "if bool(SHOW_LOS):\n",
    "    # ADD LINES OF SIGHT\n",
    "    for idx in range(0,len(s), SHOW_LOS):\n",
    "\n",
    "        LOS = s[idx,:,0,:3]\n",
    "        fig = PEGanalysis.Visualization.setup_3dplotly(fig, LOS, 'LOS','black', 'Trajectories', #marker_size = 5, \n",
    "                                                  showlegend = False,mode = 'lines', legendgroup = runName_Fig, BrowserFig = False, width = 0.5)\n",
    "\n",
    "fig.show()"
   ]
  },
  {
   "cell_type": "code",
   "execution_count": null,
   "id": "f59051ed-fff0-418a-ad04-b26fbd429fc5",
   "metadata": {},
   "outputs": [],
   "source": [
    "plt.plot(s[:,0,2,:3], label = 'p')"
   ]
  },
  {
   "cell_type": "code",
   "execution_count": null,
   "id": "83a70e23-1808-4828-a77f-e1bb5d6fd7e7",
   "metadata": {},
   "outputs": [],
   "source": [
    "plt.plot(np.linalg.norm(s[:,0,1,:3], axis = -1), label = 'p')\n",
    "plt.plot(np.linalg.norm(s[:,1,1,:3], axis = -1), label = 'e')"
   ]
  },
  {
   "cell_type": "code",
   "execution_count": null,
   "id": "c278beaf-82e0-451b-a248-18831c5908f6",
   "metadata": {},
   "outputs": [],
   "source": [
    "env.t_idx"
   ]
  },
  {
   "cell_type": "code",
   "execution_count": null,
   "id": "c3d6bd4e-0ac1-4fc4-8d71-fff2f245c806",
   "metadata": {},
   "outputs": [],
   "source": [
    "env.agent_specs"
   ]
  },
  {
   "cell_type": "code",
   "execution_count": null,
   "id": "2ba71ff5-dad6-4a72-b649-40d255d2a5dd",
   "metadata": {},
   "outputs": [],
   "source": [
    "env_config"
   ]
  },
  {
   "cell_type": "code",
   "execution_count": null,
   "id": "4155bbfd-5aba-4f86-9733-0e5d839eb95e",
   "metadata": {},
   "outputs": [],
   "source": [
    "s[0,:,:,:]"
   ]
  },
  {
   "cell_type": "code",
   "execution_count": null,
   "id": "de979004-66dd-46ea-b9b3-d96b540a07e9",
   "metadata": {},
   "outputs": [],
   "source": [
    "o['p0'][:10,[6,7,8]].round(3)"
   ]
  },
  {
   "cell_type": "code",
   "execution_count": null,
   "id": "1794cf87-2384-4569-b780-a07413adeed7",
   "metadata": {},
   "outputs": [],
   "source": [
    "v_p = s[0,0,1,:3]\n",
    "v_p /= np.linalg.norm(v_p)\n",
    "v_e = s[0,1,0,:3]\n",
    "v_e /= np.linalg.norm(v_e)\n",
    "\n",
    "v_p, v_e"
   ]
  },
  {
   "cell_type": "code",
   "execution_count": null,
   "id": "885e00c5-65c1-496d-9e26-4f660231aa87",
   "metadata": {},
   "outputs": [],
   "source": [
    "plt.plot(a['p0_gain'])\n",
    "plt.legend(['los','dlos'])"
   ]
  },
  {
   "cell_type": "code",
   "execution_count": null,
   "id": "56525e71-705e-468c-a230-695a665f4c94",
   "metadata": {
    "scrolled": true
   },
   "outputs": [],
   "source": [
    "plt.plot(a['p0'])\n",
    "plt.legend(['a','phi','theta','psi'][-env.dim_a:])"
   ]
  },
  {
   "cell_type": "code",
   "execution_count": null,
   "id": "0f60d758-a032-421c-accf-05faa4284fbf",
   "metadata": {
    "scrolled": true
   },
   "outputs": [],
   "source": [
    "plt.plot(o['p0'][:,[0,2,4]])\n",
    "plt.legend(['phi','theta','psi'][-env.dim_a:])\n",
    "\n",
    "plt.figure()\n",
    "plt.plot(o['p0'][:,[1,3,5]])\n",
    "plt.legend(['dphi','dtheta','dpsi'][-env.dim_a:])\n"
   ]
  },
  {
   "cell_type": "code",
   "execution_count": null,
   "id": "1379c35d-06ce-4f36-a734-e5fd877aa3b9",
   "metadata": {},
   "outputs": [],
   "source": [
    "plt.figure()\n",
    "plt.plot(o['p0'][:,[6,7,8]])\n",
    "plt.legend(['1','2','3'])"
   ]
  },
  {
   "cell_type": "code",
   "execution_count": null,
   "id": "7cbc3044-e389-469f-9fc5-c41da1ec2a65",
   "metadata": {},
   "outputs": [],
   "source": []
  },
  {
   "cell_type": "code",
   "execution_count": null,
   "id": "54434c6c-17c0-422a-9601-37717298959b",
   "metadata": {},
   "outputs": [],
   "source": [
    "plt.plot(s[:,0,1,:3])\n",
    "plt.plot(np.linalg.norm(s[:,0,1,:3], axis = 1))\n",
    "plt.legend(['x','y','z','|v|'])"
   ]
  },
  {
   "cell_type": "code",
   "execution_count": null,
   "id": "1afd2666-08f2-4fb2-809c-0638f9927a36",
   "metadata": {},
   "outputs": [],
   "source": [
    "x = i['game'][:,0]\n",
    "t = np.linspace(0,1,len(x))\n",
    "\n",
    "plt.plot(t,x)"
   ]
  },
  {
   "cell_type": "code",
   "execution_count": null,
   "id": "c2b55b99-ce35-42d5-97c5-cd167f1cdf64",
   "metadata": {},
   "outputs": [],
   "source": [
    "x = s[:,0,0,3:]\n",
    "t = np.linspace(0,1,len(x))\n",
    "\n",
    "for f in range(x.shape[-1]):\n",
    "    plt.plot(t,x[:,f], label = f)\n",
    "plt.legend()"
   ]
  },
  {
   "cell_type": "code",
   "execution_count": null,
   "id": "89f4eb6b-5105-45f3-b308-ca2417fab177",
   "metadata": {},
   "outputs": [],
   "source": [
    "o['p0']"
   ]
  },
  {
   "cell_type": "code",
   "execution_count": null,
   "id": "e4b06ea0-94a0-49dd-9922-ce22593562c1",
   "metadata": {},
   "outputs": [],
   "source": [
    "len(env.observation_space_limitT)"
   ]
  },
  {
   "cell_type": "code",
   "execution_count": null,
   "id": "d4f052d4-9922-4362-a2ed-a52052cbebfd",
   "metadata": {},
   "outputs": [],
   "source": [
    "env.dim_a"
   ]
  },
  {
   "cell_type": "code",
   "execution_count": null,
   "id": "13f96df2-68a0-4314-b671-d996476c51b3",
   "metadata": {},
   "outputs": [],
   "source": [
    "len(env.value_idx)"
   ]
  },
  {
   "cell_type": "code",
   "execution_count": null,
   "id": "eebe964f-681d-485d-8f9e-90010ae6d336",
   "metadata": {},
   "outputs": [],
   "source": [
    "env.agent_specs"
   ]
  },
  {
   "cell_type": "code",
   "execution_count": null,
   "id": "4236b6cc-6f90-4881-b45d-06e3c18aecf2",
   "metadata": {},
   "outputs": [],
   "source": [
    "i['p0']"
   ]
  },
  {
   "cell_type": "code",
   "execution_count": null,
   "id": "7a6ceed6-c4a2-42dc-a07a-d59f722867a4",
   "metadata": {},
   "outputs": [],
   "source": [
    "plt.plot(o['p0'][:,1])\n",
    "\n",
    "plt.plot(i['game'][:,0])"
   ]
  },
  {
   "cell_type": "code",
   "execution_count": null,
   "id": "9ddf9127-ea23-4ad6-80a0-4bbef43db884",
   "metadata": {},
   "outputs": [],
   "source": [
    "plot_state_history_3D(env, 10)"
   ]
  },
  {
   "cell_type": "code",
   "execution_count": null,
   "id": "4dbfd364-8a84-448b-9ab9-d679e8d3fea5",
   "metadata": {},
   "outputs": [],
   "source": []
  },
  {
   "cell_type": "code",
   "execution_count": null,
   "id": "0f2da70f-25d8-494e-84f0-a9612be941e3",
   "metadata": {},
   "outputs": [],
   "source": []
  },
  {
   "cell_type": "code",
   "execution_count": null,
   "id": "1578eb37-8151-4535-8be9-ff826e35a2c8",
   "metadata": {},
   "outputs": [],
   "source": [
    "obs['p0']"
   ]
  },
  {
   "cell_type": "code",
   "execution_count": null,
   "id": "2002848c-6302-471c-9458-5f48b1884b2a",
   "metadata": {},
   "outputs": [],
   "source": [
    "statics"
   ]
  },
  {
   "cell_type": "code",
   "execution_count": null,
   "id": "0af7e40e-2dd0-4982-a02d-728e959764d0",
   "metadata": {
    "scrolled": true
   },
   "outputs": [],
   "source": [
    "env.reward_space_history"
   ]
  },
  {
   "cell_type": "code",
   "execution_count": null,
   "id": "1e3fd0fb-7b6d-44d8-8701-e0691b6e1fe2",
   "metadata": {
    "scrolled": true
   },
   "outputs": [],
   "source": [
    "env.info_space_history"
   ]
  },
  {
   "cell_type": "code",
   "execution_count": null,
   "id": "dcbbb9f9-3185-44e3-ab1f-cd38002569fb",
   "metadata": {},
   "outputs": [],
   "source": [
    "obs['p0']"
   ]
  },
  {
   "cell_type": "code",
   "execution_count": null,
   "id": "2d00eb43-14a5-43a2-979d-03a1f54a0562",
   "metadata": {},
   "outputs": [],
   "source": [
    "plt.plot(env.GAMMA_CONTAINER)"
   ]
  },
  {
   "cell_type": "code",
   "execution_count": null,
   "id": "a974a8bb-5e1d-403b-949e-c6c89fc3738b",
   "metadata": {},
   "outputs": [],
   "source": [
    "### import plotly.graph_objects as pgo\n",
    "import PEG1_analysis as PEGanalysis\n",
    "importlib.reload(PEGanalysis)\n",
    "import plotly.graph_objects as pgo\n",
    "\n",
    "NB_SETTINGS ={\n",
    "    'color':{'Z':'purple',\n",
    "             'R':'blue',\n",
    "            },\n",
    "             \n",
    "}\n",
    "\n",
    "state_p = s[:,0,0,:3]\n",
    "state_e = s[:,1,0,:3]\n",
    "\n",
    "#PEGanalysis.Visualization_trajectory_3d(state_e, state_p, 'Trajectory', interception_threshold = 0.25)\n",
    "fig = pgo.Figure()\n",
    "fig = PEGanalysis.Visualization.setup_3dplotly(fig, state_p, 'p',NB_SETTINGS['color']['Z'], 'Trajectories')\n",
    "fig = PEGanalysis.Visualization.setup_3dplotly(fig, state_p[[0],:], 'p0',NB_SETTINGS['color']['Z'], 'Trajectories', marker_size = 5, mode = 'markers')\n",
    "fig = PEGanalysis.Visualization.setup_3dplotly(fig, state_e, 'e',NB_SETTINGS['color']['R'], 'Trajectories')\n",
    "fig = PEGanalysis.Visualization.setup_3dplotly(fig, state_e[[0],:], 'e0',NB_SETTINGS['color']['R'], 'Trajectories', marker_size = 5, mode = 'markers')\n",
    "fig.show()"
   ]
  },
  {
   "cell_type": "code",
   "execution_count": null,
   "id": "19aa4e88-044b-4bea-b1ac-9a5137e361f3",
   "metadata": {},
   "outputs": [],
   "source": [
    "s, o, r, a , i , statics = env.get_histories()\n"
   ]
  },
  {
   "cell_type": "code",
   "execution_count": null,
   "id": "c4bd4ea6-8234-4698-94f0-5022f047eeb8",
   "metadata": {},
   "outputs": [],
   "source": [
    "plt.plot(o['p0'][:,[-2,-1]])\n",
    "plt.legend(['theta', 'dtheta', 'psi', 'dpsi'])"
   ]
  },
  {
   "cell_type": "code",
   "execution_count": null,
   "id": "24a5cbf6-e2c1-4a27-ac33-a171d08c2ebf",
   "metadata": {},
   "outputs": [],
   "source": []
  },
  {
   "cell_type": "raw",
   "id": "28760daa-0fda-46bb-8bbc-ed725fd96ec5",
   "metadata": {},
   "source": [
    "import ray.rllib.utils\n",
    "env_config = {\n",
    "            #\n",
    "            'e_n': 1,\n",
    "            'SA':{'Dimension':3,\n",
    "                        'DOF':2},\n",
    "            'specs':{},\n",
    "             }\n",
    "env = PEGenv.PursuitEvasionEnv(env_config)\n",
    "ray.rllib.utils.check_env(env)"
   ]
  },
  {
   "cell_type": "code",
   "execution_count": null,
   "id": "b0fbe774-6d42-4c22-be66-dd2a934c788e",
   "metadata": {},
   "outputs": [],
   "source": [
    "axis_max = 12\n",
    "state_space_history = env.state_space_history.copy()\n",
    "plot_state_history_3D(env, axis_max)"
   ]
  },
  {
   "cell_type": "code",
   "execution_count": null,
   "id": "96655a91-e863-4bc8-9745-6dff9e071e1c",
   "metadata": {},
   "outputs": [],
   "source": [
    "env.t_idx_limit, s.shape, o['p0'].shape, r['p0'].shape, a['p0'].shape"
   ]
  },
  {
   "cell_type": "code",
   "execution_count": null,
   "id": "c4fdb3c2-4be7-47ec-b38a-a7407bde446d",
   "metadata": {},
   "outputs": [],
   "source": [
    "hasattr(env,'state_space')"
   ]
  },
  {
   "cell_type": "raw",
   "id": "d60acc3c-3fa0-45da-8e30-6f660565db18",
   "metadata": {},
   "source": [
    "s[:5,0,0,:], s[:5,1,0,:]"
   ]
  },
  {
   "cell_type": "code",
   "execution_count": null,
   "id": "962ceb7d-1696-40f9-844e-eda12e60035b",
   "metadata": {},
   "outputs": [],
   "source": [
    "import matplotlib.pyplot as plt\n",
    "fig = plt.figure()\n",
    "ax = fig.add_subplot(111, projection='3d')\n",
    "\n",
    "\n",
    "ax.plot(s[:,0,0,0],s[:,0,0,1],s[:,0,0,2], color = 'blue')\n",
    "ax.plot(s[:,1,0,0],s[:,1,0,1],s[:,1,0,2], color = 'red')\n",
    "\n",
    "ax.legend(['p','e'])\n",
    "ax.scatter(s[0,0,0,0],s[0,0,0,1],s[0,0,0,2], s= 10, color = 'blue')\n",
    "ax.scatter(s[0,1,0,0],s[0,1,0,1],s[0,1,0,2], s= 10, color = 'red')\n",
    "#ax.plot(x[i, 0], x[i, 1], x[i, 2], s= 10, color = 'red')\n"
   ]
  },
  {
   "cell_type": "code",
   "execution_count": null,
   "id": "dfbc0e1f-feab-42f1-912e-f1ce2e63814e",
   "metadata": {},
   "outputs": [],
   "source": [
    "s[:,0,0,:3]\n",
    "plt.plot(s[:,0,0,0],s[:,0,0,1])\n",
    "\n",
    "plt.plot(s[:,0,0,1],s[:,0,0,2])\n",
    "\n",
    "plt.plot(s[:,0,0,2],s[:,0,0,0])\n",
    "plt.legend([1,2,3])"
   ]
  },
  {
   "cell_type": "code",
   "execution_count": null,
   "id": "710fb468-5af6-4c50-a433-f15f98c68994",
   "metadata": {},
   "outputs": [],
   "source": [
    "o['p0']"
   ]
  },
  {
   "cell_type": "code",
   "execution_count": null,
   "id": "ade4b420-b9fe-4bde-9654-9530ee759da0",
   "metadata": {},
   "outputs": [],
   "source": [
    "env.action_space['p0'].shape"
   ]
  },
  {
   "cell_type": "raw",
   "id": "a00f20ae-35e9-44c6-b6e6-02d7274d2e74",
   "metadata": {},
   "source": [
    "import PEG1_env as PEGenv\n",
    "importlib.reload(PEGenv)"
   ]
  },
  {
   "cell_type": "code",
   "execution_count": null,
   "id": "ee3af8c9-7e27-4dc2-95c4-57a1d64319b3",
   "metadata": {},
   "outputs": [],
   "source": [
    "import PEG1_env as PEGenv\n",
    "importlib.reload(PEGenv)\n",
    "import numpy as np\n",
    "env = PEGenv.PursuitEvasionEnv({})\n",
    "#env.e_v_rel = 1.\n",
    "obs, infos = env.reset(\n",
    "    setting_eval = True,\n",
    ")\n",
    "i_max = 1000 # for additional control\n",
    "i = 0\n",
    "done = False\n",
    "while not done:\n",
    "    i += 1\n",
    "    action_dict = {} # wipe every iter to ensure no past actions used\n",
    "    inputs = env.get_next_input() # dict with (T,F), even if not RNN models\n",
    "    for aid in env.agent_id:\n",
    "        ## compute actions \n",
    "        # (explore = False due to :aid_act_dim on output\n",
    "        # for = True, we need to use a normal distribution & sample from it\n",
    "        aid_act_dim = env.agent_dims[aid][2] \n",
    "        assert not pretrained_policies[aid]['model'].training\n",
    "        if pretrained_policies[aid]['rnn_type']:\n",
    "            rnn_state = pretrained_policies[aid]['model'].get_initial_state()\n",
    "            action_dist, rnn_state = pretrained_policies[aid]['model'].forward_rnn(inputs[aid], \n",
    "                                                                                   rnn_state, [])\n",
    "            action_dict[aid] = action_dist[0,:aid_act_dim].detach().numpy() # detach for grad graph, all is on CPU!\n",
    "        else:\n",
    "            action_dict[aid] = pretrained_policies[aid]['model'].forward(inputs[aid][0,:])[0,:aid_act_dim]\\\n",
    "                    .detach().numpy() # notice T is cutoff by [0,]\n",
    "        ## compute values\n",
    "        # TODO\n",
    "    obs, rws, terms, truncs, infos  = env.step(action_dict)\n",
    "\n",
    "    done = ((terms['__all__'] or truncs['__all__']) or i == i_max)\n",
    "print(f'env done at {env.t_idx}/{env.t_idx_limit}')\n",
    "    #print(step)"
   ]
  },
  {
   "cell_type": "code",
   "execution_count": null,
   "id": "4a431658-cfeb-4080-9d7c-6afb4e2910ea",
   "metadata": {},
   "outputs": [],
   "source": [
    "s, o, r, a , i , statics = env.get_histories()\n",
    "a.shape"
   ]
  },
  {
   "cell_type": "code",
   "execution_count": null,
   "id": "6c1ef8a5-fb5c-40be-b703-5a6fab8cf018",
   "metadata": {},
   "outputs": [],
   "source": [
    "from ray.rllib.models.torch.recurrent_net import RecurrentNetwork\n",
    "import copy \n",
    "import torch\n",
    "torch.device('cpu')\n",
    "\n",
    "pretrained_policies = {}\n",
    "aid = 'p0'\n",
    "pretrained_policies[aid] = {}\n",
    "policy_model_aid = policy[aid].model \n",
    "policy_model_aid.to(torch.device('cpu')) # inplace operation, do before anything else!\n",
    "# TODO best to do everything on CPU for inference, otherwise we switch so often?\n",
    "policy_model_aid.eval() # inplace\n",
    "pretrained_policies[aid]['model'] = policy_model_aid #.detach(), TODO copy/clone?\n",
    "pretrained_policies[aid]['rnn_type'] = isinstance(policy[aid].model, RecurrentNetwork)"
   ]
  },
  {
   "cell_type": "markdown",
   "id": "f4d5a3d8-4212-478e-a9ae-73a4d674f85f",
   "metadata": {},
   "source": [
    "### === TEST MODELS ==="
   ]
  },
  {
   "cell_type": "code",
   "execution_count": null,
   "id": "d18513da-e3f5-41d6-af2c-3a2e47efc353",
   "metadata": {},
   "outputs": [],
   "source": [
    "import PEG1_env as PEGenv\n",
    "importlib.reload(PEGenv)\n",
    "ENV_CONFIG = {\n",
    "            #'t_limit':100, \n",
    "            #\n",
    "            'SA':{'Dimension':3, # 2d or 3d of state space\n",
    "                          'DOF':4, # [1,2,4] degrees of freedom of action space\n",
    "                          ## additional\n",
    "                          \n",
    "                         #'r0_e_range':[10, 15.],\n",
    "                          },\n",
    "            #'escape_c': 100.,\n",
    "            'specs':{},\n",
    "             }\n",
    "\n",
    "env = PEGenv.PursuitEvasionEnv(ENV_CONFIG)\n",
    "obs, _ = env.reset()\n",
    "obs['p0'].shape"
   ]
  },
  {
   "cell_type": "code",
   "execution_count": null,
   "id": "c382f7eb-884e-40e3-9939-1d26da750e0c",
   "metadata": {},
   "outputs": [],
   "source": [
    "x"
   ]
  },
  {
   "cell_type": "code",
   "execution_count": null,
   "id": "3f858441-c353-45b6-a4e9-f4b51231a07e",
   "metadata": {
    "scrolled": true
   },
   "outputs": [],
   "source": [
    "import PEG1_models as PEGmodels\n",
    "importlib.reload(PEGmodels)\n",
    "model = PEGmodels.CustomTorchRNNTuneModel(env.observation_space['e0'],\n",
    "                                                               env.action_space['e0'],\n",
    "                                                               env.action_space['e0'].sample().shape[0]*2,\n",
    "                                                               {'custom_model':{}}, 'dummyE0')\n",
    "model.double()\n",
    "\n",
    "num_trainable_params = sum(p.numel() for p in model.parameters() if p.requires_grad)\n",
    "\n",
    "\n",
    "num_trainable_params, model.num_inputs, model.num_inputs_act, model.num_inputs_value, model.num_outputs, model"
   ]
  },
  {
   "cell_type": "code",
   "execution_count": null,
   "id": "9e4d8beb-47eb-4671-9995-096a3afa094d",
   "metadata": {
    "scrolled": true
   },
   "outputs": [],
   "source": [
    "x = torch.as_tensor(env.observation_space['e0'].sample()).unsqueeze(dim = 0)\n",
    "x = {\"obs\":x}\n",
    "y, _  = model.forward(x, [], [], add_time_dim = True)\n",
    "y.shape"
   ]
  },
  {
   "cell_type": "code",
   "execution_count": null,
   "id": "6e8ed08a-5c2f-4283-90e3-711cf77b5391",
   "metadata": {},
   "outputs": [],
   "source": [
    "policies ={}\n",
    "policies['e0'] = PEGmodels.CustomTorchLSTMModel(env.observation_space['e0'],\n",
    "                                                               env.action_space['e0'],\n",
    "                                                               env.action_space['e0'].sample().shape[0]*2,\n",
    "                                                               {}, 'dummyE0')\n",
    "policies['e0'].network_action._model[0].weight"
   ]
  },
  {
   "cell_type": "code",
   "execution_count": null,
   "id": "30d2ef41-e13f-4db7-850f-651295fec6a2",
   "metadata": {},
   "outputs": [],
   "source": [
    "import PEG1_models as PEGmodels\n",
    "importlib.reload(PEGmodels)\n",
    "policies ={}\n",
    "policies['e0'] = PEGmodels.CustomTorch_DummyNullModel(env.observation_space['e0'],\n",
    "                                                               env.action_space['e0'],\n",
    "                                                               env.action_space['e0'].sample().shape[0]*2,\n",
    "                                                               {}, 'dummyE0')\n",
    "policies['p0'] = PEGmodels.CustomTorch_FNN2b_PNpinn(env.observation_space['e0'],\n",
    "                                                               env.action_space['e0'],\n",
    "                                                               env.action_space['e0'].sample().shape[0]*2,\n",
    "                                                               {'custom_model_config':None}, 'dummyP0')\n",
    "\n"
   ]
  },
  {
   "cell_type": "code",
   "execution_count": null,
   "id": "b001bb90-85ac-427b-bdf0-c5c3527111da",
   "metadata": {},
   "outputs": [],
   "source": [
    "obs_p0 = {'obs_flat':torch.as_tensor(obs['p0'])}\n",
    "p0_out, _ = policies['p0'].forward(obs_p0, [], [])"
   ]
  },
  {
   "cell_type": "code",
   "execution_count": null,
   "id": "64456154-ff5e-467b-8761-10ce47db2cdb",
   "metadata": {},
   "outputs": [],
   "source": [
    "obs_e0 = {'obs_flat':torch.as_tensor(obs['e0'])}\n",
    "e0_out, _ = policies['e0'].forward(obs_e0, [], [])"
   ]
  },
  {
   "cell_type": "code",
   "execution_count": null,
   "id": "fa38632d-9ab9-4ccd-ac31-ef798e17f328",
   "metadata": {},
   "outputs": [],
   "source": [
    "e_mu, e_logstd = torch.chunk(e0_out, 2, dim = -1)\n",
    "action_dist_e = torch.distributions.normal.Normal(e_mu, torch.exp(e_logstd))\n",
    "samples = action_dist_e.rsample()  \n",
    "samples.round(decimals = 2)"
   ]
  },
  {
   "cell_type": "code",
   "execution_count": null,
   "id": "db84203b-f8af-4c50-8ff8-fd261cbeb76a",
   "metadata": {},
   "outputs": [],
   "source": []
  },
  {
   "cell_type": "markdown",
   "id": "b449054a-95cd-4257-9835-3e906cf8f339",
   "metadata": {},
   "source": [
    "### === BENCHMARKS ==="
   ]
  },
  {
   "cell_type": "code",
   "execution_count": null,
   "id": "4982ac1a-314f-4d24-9954-780cc485320b",
   "metadata": {},
   "outputs": [],
   "source": [
    "raise"
   ]
  },
  {
   "cell_type": "raw",
   "id": "94235a9b-56a5-4524-9ff4-5d2dc98ebb6d",
   "metadata": {},
   "source": [
    "def PN_2d(dLoS_dpsi, gains = [1.]):\n",
    "    psi_c = gains[0]*dLoS_dpsi\n",
    "    action = [psi_c] # # list out!\n",
    "    return action\n",
    "\n",
    "def PN_3d(dLoS_dtheta, dLoS_dpsi, gains = [1.]*2):\n",
    "    theta_c = gains[0]*dLoS_dtheta\n",
    "    psi_c = gains[1]*dLoS_dpsi\n",
    "    action = [theta_c, psi_c] # # list out!\n",
    "    return action\n",
    "\n",
    "def PN_3d3DOF(dLoS_dphi, dLoS_dtheta, dLoS_dpsi, gains = [1.]*3):\n",
    "    phi_c = gains[1]*dLoS_dphi\n",
    "    theta_c = gains[0]*dLoS_dtheta\n",
    "    psi_c = gains[2]*dLoS_dpsi\n",
    "    action = [phi_c, theta_c, psi_c] # # list out!\n",
    "    return action"
   ]
  },
  {
   "cell_type": "raw",
   "id": "891ad029-f8b6-4013-a43e-693d8825ed67",
   "metadata": {},
   "source": [
    "import PEG1_env as PEGenv\n",
    "importlib.reload(PEGenv)\n",
    "import numpy as np\n",
    "\n",
    "env_config = {\n",
    "            #'t_limit':30, \n",
    "            \n",
    "            'SA':{'Dimension':3, # 2d or 3d of state space\n",
    "                          'DOF':2, # [1,2,4] degrees of freedom of action space\n",
    "                          ## additional\n",
    "                          \n",
    "                         #'r0_e_range':[3, 6.],\n",
    "                          },\n",
    "            'escape_c': 100.,\n",
    "             }\n",
    "env = PEGenv.PursuitEvasionEnv(env_config)\n",
    "obs, _ = env.reset(setting_eval = True)\n",
    "\n",
    "p_adim = env.action_space['p0'].shape[0]\n",
    "e_adim = env.action_space['e0'].shape[0]\n",
    "\n",
    "i, i_max = 0, 1000\n",
    "done = False\n",
    "while not done:\n",
    "    i += 1\n",
    "    \n",
    "    action_dict = {}\n",
    "\n",
    "    if env_config['SA']['Dimension'] == 3:\n",
    "        if env_config['SA']['DOF'] == 2:\n",
    "            #action_dict['p0'] = PN_3d(obs['p0'][3], obs['p0'][5], gains = [1,1])\n",
    "            #'''\n",
    "            obs['p0'][[0,1,2,4]] = 0.\n",
    "            actions_p0, _ = BC_policy({'obs':torch.as_tensor(obs['p0']).cuda()})\n",
    "            action_dict['p0'] = actions_p0.cpu().detach().numpy()[:2]\n",
    "            #'''\n",
    "            #action_dict['e0'] = PN_3d(obs['e0'][3], obs['e0'][5], gains = [-1,-1])   \n",
    "        elif env_config['SA']['DOF'] == 3:\n",
    "            action_dict['p0'] = PN_3d3DOF(obs['p0'][3], obs['p0'][5], obs['p0'][7], gains = [1,1,1])\n",
    "            #action_dict['e0'] = PN_3d3DOF(obs['e0'][3], obs['e0'][5], obs['p0'][7], gains = [-1,-1,-1])   \n",
    "    else:\n",
    "        # 2D\n",
    "        action_dict['p0'] = PN_2d(obs['p0'][3], gains = [1])\n",
    "        #action_dict['p0'] = PN_2d(obs['p0'][3], gains = [-1])\n",
    "    \n",
    "    ## OVERRIDE\n",
    "    #action_dict['p0'] = np.random.uniform(low = [-1]*p_adim, high = [1]*p_adim, size = env.action_space['p0'].shape)\n",
    "    #action_dict['e0'] = np.random.uniform(low = [-1]*e_adim, high = [1]*e_adim,size = env.action_space['e0'].shape)\n",
    "    #action_dict['p0'] = np.zeros(env.action_space['p0'].shape)\n",
    "    action_dict['e0'] = np.zeros(env.action_space['e0'].shape)\n",
    "\n",
    "    obs, rew, terms, truncs, infos = env.step(action_dict)\n",
    "    #print(step)\n",
    "\n",
    "    done = ((terms['__all__'] or truncs['__all__']) or (i >= i_max))\n",
    "\n",
    "print(f'i = {i}/{i_max} or {env.t_idx_limit}\\nterms; {terms}\\ntruncs: {truncs}')\n",
    "s, o, r, a , i , statics = env.get_histories()\n",
    "intercepted = terms['__all__']"
   ]
  },
  {
   "cell_type": "raw",
   "id": "739a896b-7127-40da-87f0-eb7cf2ef1b99",
   "metadata": {},
   "source": [
    "s[:40,1,1,3:]"
   ]
  },
  {
   "cell_type": "code",
   "execution_count": null,
   "id": "46a253b2-0975-4fd4-a5d2-98a7dc2d771d",
   "metadata": {},
   "outputs": [],
   "source": [
    "import PEG1_analysis as PEGanalysis\n",
    "importlib.reload(PEGanalysis)\n",
    "import plotly.graph_objects as pgo\n",
    "\n",
    "NB_SETTINGS ={\n",
    "    'color':{'Z':'purple',\n",
    "             'R':'blue',\n",
    "            },\n",
    "             \n",
    "}\n",
    "\n",
    "state_p = s[:,0,0,:3]\n",
    "state_e = s[:,1,0,:3]\n",
    "\n",
    "#PEGanalysis.Visualization_trajectory_3d(state_e, state_p, 'Trajectory', interception_threshold = 0.25)\n",
    "fig = pgo.Figure()\n",
    "fig = PEGanalysis.Visualization.setup_3dplotly(fig, state_p, 'p',NB_SETTINGS['color']['Z'], 'Trajectories')\n",
    "fig = PEGanalysis.Visualization.setup_3dplotly(fig, state_p[[0],:], 'p0',NB_SETTINGS['color']['Z'], 'Trajectories', marker_size = 5, mode = 'markers')\n",
    "fig = PEGanalysis.Visualization.setup_3dplotly(fig, state_e, 'e',NB_SETTINGS['color']['R'], 'Trajectories')\n",
    "fig = PEGanalysis.Visualization.setup_3dplotly(fig, state_e[[0],:], 'e0',NB_SETTINGS['color']['R'], 'Trajectories', marker_size = 5, mode = 'markers')\n",
    "fig.show()"
   ]
  },
  {
   "cell_type": "code",
   "execution_count": null,
   "id": "24197151-d891-46c6-86cf-3543142b7e09",
   "metadata": {},
   "outputs": [],
   "source": [
    "axis_max = 15\n",
    "plot_state_history_3D(env, axis_max)"
   ]
  },
  {
   "cell_type": "markdown",
   "id": "3aad5711-346d-4a05-8e19-e8e850195021",
   "metadata": {},
   "source": [
    "### SAMPLE BATCH CODE"
   ]
  },
  {
   "cell_type": "code",
   "execution_count": null,
   "id": "69d80cb1-26f2-4f1e-b91f-6ffae8fd140a",
   "metadata": {},
   "outputs": [],
   "source": [
    "import torch\n",
    "from ray.rllib.policy.sample_batch import SampleBatch\n",
    "\n",
    "# Assume `obs` is your observation and `rnn_state` is the initial state of your RNN\n",
    "#obs = np.array([[1, 2, 3, 4], [5, 6, 7, 8], [9, 10, 11, 12], [13, 14, 15, 16]])\n",
    "obs = torch.zeros(16)\n",
    "rnn_state = [np.zeros(8), np.zeros(8)]  # Replace with your actual RNN state\n",
    "\n",
    "# Create a sample batch\n",
    "sample_batch = SampleBatch(obs = obs, seq_lens = torch.tensor([[4,4,4,4]]),  # (TENSOR OR CRASH)\n",
    "                           state_in_0 = rnn_state[0],\n",
    "                           state_in_1 = rnn_state[1],\n",
    "                           t = 4,\n",
    "                           eps_id = 0,\n",
    "                           env_id = 'PEG1_env',\n",
    "                          )\n",
    "\n",
    "# Convert to SampleBatch object\n",
    "# DOCS; https://docs.ray.io/en/latest/rllib/package_ref/doc/ray.rllib.policy.sample_batch.SampleBatch.__init__.html#ray.rllib.policy.sample_batch.SampleBatch.__init__\n",
    "# SOURCE CODE at link as well (in this code, look at the input arguments\n",
    "sample_batch = SampleBatch(sample_batch, _time_major = False, _max_seq_len = 4, _zero_padded = True, _is_training = False)\n",
    "#sample_batch.count = 4\n",
    "sample_batch.disable_slicing_by_batch_id()\n",
    "sample_batch"
   ]
  },
  {
   "cell_type": "code",
   "execution_count": null,
   "id": "c6bf7626-f339-4141-85ab-305789e19055",
   "metadata": {},
   "outputs": [],
   "source": [
    "A = policy_p.compute_single_action(input_dict = sample_batch, #state=rnn_state, \n",
    "                                   explore=False,\n",
    "                                  )\n",
    "A"
   ]
  },
  {
   "cell_type": "raw",
   "id": "729c3152-eecf-4ecd-866b-8329fb7cc6cc",
   "metadata": {},
   "source": [
    "\n",
    "# FOR MULTIPLE AGENTS APPARENTLY ITS LIKE THIS!!!\n",
    "from ray.rllib.policy.sample_batch import MultiAgentBatch\n",
    "policy_batches = {\"p0\": sample_batch}\n",
    "multi_agent_batch = MultiAgentBatch(policy_batches, env_steps=300)\n"
   ]
  },
  {
   "cell_type": "code",
   "execution_count": null,
   "id": "f63ce1eb-ff73-4a18-9d63-430d9665da1e",
   "metadata": {},
   "outputs": [],
   "source": [
    "np.random.seed(8)\n",
    "a = algo.get_policy(policy_id=\"p0\").compute_single_action(obs['p0'], rnn_state0, policy_id = 'p0', explore = False)\n",
    "b = algo.compute_single_action(obs['p0'], rnn_state0, policy_id = 'p0', explore = False)\n",
    "c = policy_p.compute_single_action(obs['p0'], rnn_state0, explore = False)\n",
    "a, b, c"
   ]
  },
  {
   "cell_type": "code",
   "execution_count": null,
   "id": "957fc4b3-15ae-44f8-b335-0d33f12f993f",
   "metadata": {},
   "outputs": [],
   "source": []
  },
  {
   "cell_type": "markdown",
   "id": "374cbe31-0f18-4c33-8a7b-8348f989a60d",
   "metadata": {},
   "source": [
    "### ROLLOUT WORKER EXAMPLES"
   ]
  },
  {
   "cell_type": "raw",
   "id": "6f21cdfc-87b8-4f46-a03f-075918c48701",
   "metadata": {},
   "source": [
    "# NONE OF THIS WORKED\n",
    "'''\n",
    "rollout_worker = RolloutWorker(\n",
    "    env_creator = lambda _: env1,\n",
    "    #policy_config=policy_p.config,\n",
    "    #policy_spec=policy_p.policy_class,\n",
    "    default_policy_class = policy_p,\n",
    ")\n",
    "\n",
    "worker.add_policy(\"p0\", policy=policy_p)\n",
    "''' \n",
    "\n",
    "'''\n",
    "rollout_worker.add_policy(\n",
    "    policy_id=\"p0\",\n",
    "    policy=policy_p,  # Provide your pretrained policy here\n",
    ")\n",
    "'''"
   ]
  },
  {
   "cell_type": "code",
   "execution_count": null,
   "id": "8321e582-981d-4a6d-bbd4-8523ad7735b6",
   "metadata": {},
   "outputs": [],
   "source": [
    "\n"
   ]
  },
  {
   "cell_type": "markdown",
   "id": "d0209a10-2397-46f3-b0c2-f0b0f1bbc510",
   "metadata": {},
   "source": [
    "### BEHAVIOURAL CLONING"
   ]
  },
  {
   "cell_type": "code",
   "execution_count": null,
   "id": "1db93a77-0959-4e61-883d-896a18437cfd",
   "metadata": {},
   "outputs": [],
   "source": [
    "import copy\n",
    "batch_size = 512\n",
    "learning_rate = 1e-3\n",
    "num_epochs = 10\n",
    "\n",
    "'''\n",
    "= Behavioural cloning = \n",
    "The following considers cloning of exper behaviour (imitation learning)\n",
    "to pre-train policies and speed up convergence. The following design\n",
    "steps have been incorporate:\n",
    "1) Initialize an algorithm rather than a network to get all policies such \n",
    "    that configuration settings are inferred from environment settings (e.g. output number)\n",
    "    - also, because future might require independent pre-training of specific\n",
    "    policies, the use of algorithm is preferred as it initializes all policies\n",
    "2) Save the algorithm & not the policy. Once again this should keep everything \n",
    "    ordered and structured\n",
    "    - note that when using algo.get_policy() not a copy is returned but the actual\n",
    "    model such that training it externally updates the weights held within the algo\n",
    "3) When restoring policy weights it is best to load policy from checkpoint not algo\n",
    "    because algo restoration takes longer and we only require the get_weights method.\n",
    "    which is accessible through policy[aid].get_weights()\n",
    "\n",
    "TODO\n",
    "- RNN pretraining; it might be fine just to pretrain RNN with (N,1,F) inputs\n",
    "    as we're only interesting in imitating to some extend and guidance laws are not\n",
    "    recurrent generally.\n",
    "    - this will require the use of .forward/.forward_rnn method & state initialization\n",
    "''' \n",
    "from ray.rllib.algorithms.ppo import PPO, PPOConfig\n",
    "\n",
    "ppo_config = PPOConfig.from_dict(config_ppo_dict)\n",
    "ppo = PPO(config=ppo_config)\n",
    "\n",
    "#BCenv = PEGenv.PursuitEvasionEnv(ENV_CONFIG)\n",
    "BCnetwork = ppo.get_policy('p0').model # returns actual model, i.e. no copy of model\n",
    "optim = torch.optim.Adam(BCnetwork.parameters(), lr=learning_rate)\n",
    "\n",
    "losses = []\n",
    "for epoch in range(num_epochs):\n",
    "    loss_running = 0.\n",
    "    for i, batch in enumerate([1]*10):\n",
    "        batch = {'obs':torch.zeros(batch_size,6).cuda()} # TODO consider obs, obs_flat & rnn input \n",
    "        expert_action = (torch.randn(batch_size,1)+4.).cuda()\n",
    "        #expert_action = batch[\"actions\"]\n",
    "        ##\n",
    "        actions, state = BCnetwork(batch) # TODO use forward & forward_rnn \n",
    "        action_mu, action_logstd = torch.chunk(actions, 2, dim=1)\n",
    "        \n",
    "        action_dist = torch.distributions.normal.Normal(action_mu, torch.exp(action_logstd))\n",
    "        loss = -torch.mean(action_dist.log_prob(expert_action)) # no *rewards here as we want to clone 1to1 i guess?\n",
    "        optim.zero_grad()\n",
    "        loss.backward()\n",
    "        optim.step()\n",
    "        '''\n",
    "        Since value output is not called the branch is not trained\n",
    "        '''\n",
    "        loss_detach = loss.detach().item() # might need .cpu\n",
    "        loss_running += loss_detach\n",
    "    ##\n",
    "    loss_running /= (i+1)\n",
    "    losses.append(loss_running)\n",
    "    print(f\"Epoch {epoch} loss: {loss_running}\")\n",
    "\n",
    "import matplotlib.pyplot as plt\n",
    "plt.plot(losses)\n",
    "\n",
    "#checkpoint_dir = tempfile.mkdtemp()\n",
    "#ppo.save_to_checkpoint('TEST_BC_NETWORK')\n",
    "#checkpoint_dir"
   ]
  },
  {
   "cell_type": "code",
   "execution_count": null,
   "id": "bcc3f38f-0933-4d76-a9cb-02219260de5d",
   "metadata": {},
   "outputs": [],
   "source": [
    "checkpoint_dir = 'TEST_BC_NETWORK'\n",
    "#ppo.get_weights() # weights have been updated, you can check\n",
    "save_result = ppo.save(checkpoint_dir) # cwd+checkpoint_dir \n",
    "\n",
    "# Print the path to the created checkpoint\n",
    "print(f\"Checkpoint has been created at: {os.getcwd()}+{save_result.checkpoint.path}\")"
   ]
  },
  {
   "cell_type": "code",
   "execution_count": null,
   "id": "f83c1f92-1c77-4975-9eeb-a9092533bf0b",
   "metadata": {
    "scrolled": true
   },
   "outputs": [],
   "source": [
    "from ray.rllib.policy.policy import Policy\n",
    "\n",
    "policy = Policy.from_checkpoint(checkpoint_dir) # restoring policy is quickest, does not have to initiate entire algorithm ecosystem\n",
    "policy['p0'].get_weights() # dict with keys and values from model.named_parameters(), note that matrices are in numpy float32"
   ]
  },
  {
   "cell_type": "raw",
   "id": "7fd51d87-0796-4502-b1bf-f209396ce2fa",
   "metadata": {},
   "source": [
    "from ray.rllib.core.rl_module.rl_module import SingleAgentRLModuleSpec\n",
    "from ray.rllib.algorithms.ppo.torch.ppo_torch_rl_module import PPOTorchRLModule\n",
    "from ray.rllib.algorithms.ppo.ppo_catalog import PPOCatalog\n",
    "\n",
    "\n",
    "module_spec = SingleAgentRLModuleSpec(\n",
    "        module_class=PPOTorchRLModule,\n",
    "        observation_space=GYM_ENV.observation_space,\n",
    "        action_space=GYM_ENV.action_space,\n",
    "        model_config_dict={'custom_model':'CustomTorchFNNModel_P'},\n",
    "        catalog_class=PPOCatalog,\n",
    ")\n",
    "module = ppo_module_spec.build()"
   ]
  },
  {
   "cell_type": "raw",
   "id": "c526bccf-f4a4-4dae-a911-01c4de3b26f6",
   "metadata": {},
   "source": [
    "\n",
    "\n",
    "batch_size = 512\n",
    "learning_rate = 1e-3\n",
    "num_epochs = 10\n",
    "\n",
    "#module = ppo_module_spec.build()\n",
    "# We want to pretrain the encoder and policy networks of the RLModule. We don't want\n",
    "# to pretrain the value network. The actor will use the Categorical distribution,\n",
    "# as its output distribution since we are training on the CartPole environment which\n",
    "# has a discrete action space.\n",
    "\n",
    "\n",
    "BCnetwork = module.model\n",
    "optim = torch.optim.Adam(BCnetwork.parameters(), lr=learning_rate)\n",
    "\n",
    "losses = []\n",
    "for epoch in range(num_epochs):\n",
    "    loss_running = 0.\n",
    "    for i, batch in enumerate(dataset.iter_torch_batches(\n",
    "        batch_size=batch_size, dtypes=torch.float32\n",
    "    )):\n",
    "        action_mu, action_logstd = BCnetwork(batch)\n",
    "        action_dist = torch.distributions.normal.Normal(action_mu, torch.exp(action_logstd))\n",
    "        loss = -torch.mean(action_dist.log_prob(batch[\"actions\"])) # no *rewards here as we cant to clone 1to1 i guess?\n",
    "        optim.zero_grad()\n",
    "        loss.backward()\n",
    "        optim.step()\n",
    "        '''\n",
    "        Since value output is not called the branch is not trained\n",
    "        '''\n",
    "        loss_detach = loss.detach().item() # might need .cpu\n",
    "        loss_running += loss_detach\n",
    "    ##\n",
    "    loss_running /= (i+1)\n",
    "    losses.append(loss_running)\n",
    "    print(f\"Epoch {epoch} loss: {loss_running}\")\n",
    "\n",
    "plt.plot(losses)\n",
    "\n",
    "checkpoint_dir = tempfile.mkdtemp()\n",
    "BCnetwork.save_to_checkpoint(checkpoint_dir)\n",
    "checkpoint_dir"
   ]
  },
  {
   "cell_type": "markdown",
   "id": "5cfbb4b7-f5c0-4fb7-bc73-1d717f61d415",
   "metadata": {},
   "source": [
    "#### sample batch setup"
   ]
  },
  {
   "cell_type": "raw",
   "id": "d5572fe6-19cf-40cf-ac67-729de0668da5",
   "metadata": {},
   "source": [
    "'''\n",
    "Setup\n",
    "- https://docs.ray.io/en/latest/rllib/rllib-offline.html\n",
    "- \n",
    "- \n",
    "'''\n",
    "\n",
    "import ray._private.utils\n",
    "\n",
    "from ray.rllib.models.preprocessors import get_preprocessor\n",
    "from ray.rllib.evaluation.sample_batch_builder import SampleBatchBuilder, MultiAgentSampleBatchBuilder\n",
    "from ray.rllib.offline.json_writer import JsonWriter\n",
    "\n",
    "env_config = {\n",
    "            't_limit':100, \n",
    "            \n",
    "            'SA':{'Dimension':3, # 2d or 3d of state space\n",
    "                          'DOF':2, # [1,2,4] degrees of freedom of action space\n",
    "                          ## additional\n",
    "                          \n",
    "                         'r0_e_range':[10, 15.],\n",
    "                          },\n",
    "            'escape_c': 100.,\n",
    "             }\n",
    "\n",
    "env = PEGenv.PursuitEvasionEnv(env_config)\n",
    "#obs, _ = env.reset(setting_eval = True, verbose = VERBOSE)\n",
    "\n",
    "if __name__ == \"__main__\":\n",
    "    #batch_builder = SampleBatchBuilder()  # or MultiAgentSampleBatchBuilder\n",
    "    batch_builder = MultiAgentSampleBatchBuilder(\n",
    "        policy_map = {aid: aid for aid in env.agent_id},\n",
    "        clip_rewards = False,\n",
    "        callbacks = None,\n",
    "    )\n",
    "    writer = JsonWriter(\n",
    "        #os.path.join(ray._private.utils.get_user_temp_dir(), \"demo-out\")\n",
    "        'BC/data/TEST'\n",
    "    )\n",
    "\n",
    "    # You normally wouldn't want to manually create sample batches if a\n",
    "    # simulator is available, but let's do it anyways for example purposes:\n",
    "    env = PEGenv.PursuitEvasionEnv(env_config)\n",
    "\n",
    "    # RLlib uses preprocessors to implement transforms such as one-hot encoding\n",
    "    # and flattening of tuple and dict observations. For CartPole a no-op\n",
    "    # preprocessor is used, but this may be relevant for more complex envs.\n",
    "    prep = get_preprocessor(env.observation_space)(env.observation_space)\n",
    "    print(\"The preprocessor is\", prep)\n",
    "\n",
    "    for eps_id in range(2):\n",
    "        obs, info = env.reset()\n",
    "        prev_action_dict = {aid: np.zeros_like(env.action_space[aid].sample()) for aid in env.agent_id}\n",
    "        prev_reward = {aid: 0. for aid in env.agent_id}\n",
    "        terminated = truncated = [False]\n",
    "        t = 0\n",
    "        while not any(terminated) and not any(truncated):\n",
    "            action_dict = env.action_space.sample()\n",
    "            for aid_idx, aid in enumerate(env.agent_id):\n",
    "                new_obs, rew, terminated, truncated, info = env.step(action_dict)\n",
    "                batch_builder.add_values(\n",
    "                    agent_id= aid, policy_id = aid,\n",
    "                    t=t,\n",
    "                    eps_id=eps_id,\n",
    "                    agent_index=aid_idx,\n",
    "                    obs=prep.transform(obs),\n",
    "                    actions=action_dict[aid],\n",
    "                    action_prob=1.0,  # put the true action probability here, if imitating its fine\n",
    "                    action_logp=0.0, # \n",
    "                    rewards=rew[aid],\n",
    "                    prev_actions=prev_action_dict[aid],\n",
    "                    prev_rewards=prev_reward[aid],\n",
    "                    terminateds=terminated[aid],\n",
    "                    truncateds=truncated[aid],\n",
    "                    infos=info[aid],\n",
    "                    new_obs=prep.transform(new_obs),\n",
    "                )\n",
    "                obs[aid] = new_obs[aid]\n",
    "                prev_action_dict[aid] = action_dict[aid]\n",
    "                prev_reward[aid] = rew[aid]\n",
    "            t += 1\n",
    "        writer.write(batch_builder.build_and_reset())"
   ]
  },
  {
   "cell_type": "raw",
   "id": "9d4e5c39-30cd-4065-900d-925a5ecc9437",
   "metadata": {},
   "source": [
    "'''\n",
    "Setup\n",
    "- https://docs.ray.io/en/latest/rllib/rllib-offline.html\n",
    "- \n",
    "- \n",
    "'''\n",
    "\n",
    "import ray._private.utils\n",
    "\n",
    "from ray.rllib.models.preprocessors import get_preprocessor\n",
    "from ray.rllib.evaluation.sample_batch_builder import SampleBatchBuilder, MultiAgentSampleBatchBuilder\n",
    "from ray.rllib.offline.json_writer import JsonWriter\n",
    "\n",
    "env_config = {\n",
    "            't_limit':100, \n",
    "            \n",
    "            'SA':{'Dimension':3, # 2d or 3d of state space\n",
    "                          'DOF':2, # [1,2,4] degrees of freedom of action space\n",
    "                          ## additional\n",
    "                          \n",
    "                         'r0_e_range':[10, 15.],\n",
    "                          },\n",
    "            'escape_c': 100.,\n",
    "             }\n",
    "\n",
    "env = PEGenv.PursuitEvasionEnv(env_config)\n",
    "#obs, _ = env.reset(setting_eval = True, verbose = VERBOSE)\n",
    "\n",
    "class WrapperPolicy:\n",
    "\n",
    "    def __init__(self):\n",
    "    \n",
    "        return\n",
    "\n",
    "    def postprocess_trajectory(x, *args, **kwargs):\n",
    "        return x\n",
    "\n",
    "    def on_postprocess_trajectory(x, *args, **kwargs):\n",
    "        return x\n",
    "\n",
    "if __name__ == \"__main__\":\n",
    "    #batch_builder = SampleBatchBuilder()  # or MultiAgentSampleBatchBuilder\n",
    "    batch_builder = MultiAgentSampleBatchBuilder(\n",
    "        policy_map = {aid: WrapperPolicy() for aid in env.agent_id}, #policies,#{aid: aid for aid in env.agent_id},\n",
    "        clip_rewards = False,\n",
    "        callbacks = WrapperPolicy(),\n",
    "    )\n",
    "    writer = JsonWriter(\n",
    "        #os.path.join(ray._private.utils.get_user_temp_dir(), \"demo-out\")\n",
    "        'BC/data/TEST'\n",
    "    )\n",
    "\n",
    "    # You normally wouldn't want to manually create sample batches if a\n",
    "    # simulator is available, but let's do it anyways for example purposes:\n",
    "    env = PEGenv.PursuitEvasionEnv(env_config)\n",
    "\n",
    "    # RLlib uses preprocessors to implement transforms such as one-hot encoding\n",
    "    # and flattening of tuple and dict observations. For CartPole a no-op\n",
    "    # preprocessor is used, but this may be relevant for more complex envs.\n",
    "    prep = get_preprocessor(env.observation_space)(env.observation_space)\n",
    "    print(\"The preprocessor is\", prep)\n",
    "\n",
    "    for eps_id in range(2):\n",
    "        obs, info = env.reset()\n",
    "        prev_action_dict = {aid: np.zeros_like(env.action_space[aid].sample()) for aid in env.agent_id}\n",
    "        prev_reward = {aid: 0. for aid in env.agent_id}\n",
    "        terminated = truncated = [False]\n",
    "        t = 0\n",
    "        while not any(terminated) and not any(truncated):\n",
    "            action_dict = env.action_space.sample()\n",
    "            for aid_idx, aid in enumerate(env.agent_id):\n",
    "                new_obs, rew, terminated, truncated, info = env.step(action_dict)\n",
    "                batch_builder.add_values(\n",
    "                    agent_id= aid, policy_id = aid,\n",
    "                    t=t,\n",
    "                    eps_id=eps_id,\n",
    "                    agent_index=aid_idx,\n",
    "                    obs=obs[aid], #prep.transform(obs),\n",
    "                    actions=action_dict[aid],\n",
    "                    action_prob=1.0,  # put the true action probability here, if imitating its fine\n",
    "                    action_logp=0.0, # \n",
    "                    rewards=rew[aid],\n",
    "                    prev_actions=prev_action_dict[aid],\n",
    "                    prev_rewards=prev_reward[aid],\n",
    "                    terminateds=terminated[aid],\n",
    "                    truncateds=truncated[aid],\n",
    "                    infos=info[aid],\n",
    "                    new_obs=new_obs[aid], #prep.transform(new_obs),\n",
    "                )\n",
    "                obs[aid] = new_obs[aid]\n",
    "                prev_action_dict[aid] = action_dict[aid]\n",
    "                prev_reward[aid] = rew[aid]\n",
    "            t += 1\n",
    "        writer.write(batch_builder.build_and_reset())"
   ]
  },
  {
   "cell_type": "markdown",
   "id": "35112515-b979-44c3-add9-8684c9b630dc",
   "metadata": {},
   "source": [
    "### === HELLO ==="
   ]
  },
  {
   "cell_type": "code",
   "execution_count": null,
   "id": "e1d51e0f-24b4-4525-a7e5-37feee8bb6e3",
   "metadata": {},
   "outputs": [],
   "source": []
  },
  {
   "cell_type": "code",
   "execution_count": null,
   "id": "42e86cab-93f9-4034-8678-15f66390c349",
   "metadata": {},
   "outputs": [],
   "source": []
  },
  {
   "cell_type": "code",
   "execution_count": null,
   "id": "82db491b-2406-469e-9e89-dc1b0d620089",
   "metadata": {
    "editable": true,
    "slideshow": {
     "slide_type": ""
    },
    "tags": []
   },
   "outputs": [],
   "source": []
  }
 ],
 "metadata": {
  "kernelspec": {
   "display_name": "pl210cd121",
   "language": "python",
   "name": "pl210cd121"
  },
  "language_info": {
   "codemirror_mode": {
    "name": "ipython",
    "version": 3
   },
   "file_extension": ".py",
   "mimetype": "text/x-python",
   "name": "python",
   "nbconvert_exporter": "python",
   "pygments_lexer": "ipython3",
   "version": "3.9.18"
  }
 },
 "nbformat": 4,
 "nbformat_minor": 5
}
